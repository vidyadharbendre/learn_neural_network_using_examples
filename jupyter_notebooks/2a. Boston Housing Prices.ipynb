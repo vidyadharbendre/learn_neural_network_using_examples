{
 "cells": [
  {
   "cell_type": "markdown",
   "metadata": {
    "id": "X_cdgs6Gtnsc"
   },
   "source": [
    "#### Load TensorFlow"
   ]
  },
  {
   "cell_type": "code",
   "execution_count": 1,
   "metadata": {
    "id": "5b_EywEw4MMe"
   },
   "outputs": [
    {
     "data": {
      "text/plain": [
       "'2.9.2'"
      ]
     },
     "execution_count": 1,
     "metadata": {},
     "output_type": "execute_result"
    }
   ],
   "source": [
    "import tensorflow as tf\n",
    "tf.__version__"
   ]
  },
  {
   "cell_type": "markdown",
   "metadata": {
    "id": "21W7saMGt1_F"
   },
   "source": [
    "#### Load Data"
   ]
  },
  {
   "cell_type": "code",
   "execution_count": 2,
   "metadata": {
    "id": "2F_QcYwH4u7I"
   },
   "outputs": [
    {
     "name": "stdout",
     "output_type": "stream",
     "text": [
      "Downloading data from https://storage.googleapis.com/tensorflow/tf-keras-datasets/boston_housing.npz\n",
      "57026/57026 [==============================] - 0s 3us/step\n"
     ]
    }
   ],
   "source": [
    "#Load Boston Housing dataset available within tensorflow\n",
    "(train_x, train_y),(test_X,test_Y) = tf.keras.datasets.boston_housing.load_data(test_split=0)"
   ]
  },
  {
   "cell_type": "code",
   "execution_count": 3,
   "metadata": {
    "id": "yUQ7MTryOJgP"
   },
   "outputs": [
    {
     "data": {
      "text/plain": [
       "numpy.ndarray"
      ]
     },
     "execution_count": 3,
     "metadata": {},
     "output_type": "execute_result"
    }
   ],
   "source": [
    "type(train_x)"
   ]
  },
  {
   "cell_type": "code",
   "execution_count": 4,
   "metadata": {
    "id": "Aq0UwZU0iZhV"
   },
   "outputs": [
    {
     "data": {
      "text/plain": [
       "(506, 13)"
      ]
     },
     "execution_count": 4,
     "metadata": {},
     "output_type": "execute_result"
    }
   ],
   "source": [
    "#Check how many training examples we have\n",
    "train_x.shape"
   ]
  },
  {
   "cell_type": "code",
   "execution_count": 5,
   "metadata": {
    "id": "oY-bDhDSid0f"
   },
   "outputs": [
    {
     "data": {
      "text/plain": [
       "(506,)"
      ]
     },
     "execution_count": 5,
     "metadata": {},
     "output_type": "execute_result"
    }
   ],
   "source": [
    "#Labels for our examples\n",
    "train_y.shape"
   ]
  },
  {
   "cell_type": "code",
   "execution_count": 6,
   "metadata": {
    "id": "N0WT1tssFfAr"
   },
   "outputs": [
    {
     "data": {
      "text/plain": [
       "array([[1.23247e+00, 0.00000e+00, 8.14000e+00, ..., 2.10000e+01,\n",
       "        3.96900e+02, 1.87200e+01],\n",
       "       [2.17700e-02, 8.25000e+01, 2.03000e+00, ..., 1.47000e+01,\n",
       "        3.95380e+02, 3.11000e+00],\n",
       "       [4.89822e+00, 0.00000e+00, 1.81000e+01, ..., 2.02000e+01,\n",
       "        3.75520e+02, 3.26000e+00],\n",
       "       ...,\n",
       "       [1.83377e+00, 0.00000e+00, 1.95800e+01, ..., 1.47000e+01,\n",
       "        3.89610e+02, 1.92000e+00],\n",
       "       [3.58090e-01, 0.00000e+00, 6.20000e+00, ..., 1.74000e+01,\n",
       "        3.91700e+02, 9.71000e+00],\n",
       "       [2.92400e+00, 0.00000e+00, 1.95800e+01, ..., 1.47000e+01,\n",
       "        2.40160e+02, 9.81000e+00]])"
      ]
     },
     "execution_count": 6,
     "metadata": {},
     "output_type": "execute_result"
    }
   ],
   "source": [
    "train_x"
   ]
  },
  {
   "cell_type": "code",
   "execution_count": 7,
   "metadata": {
    "id": "mOd3HiMFLX9j"
   },
   "outputs": [
    {
     "data": {
      "text/plain": [
       "dtype('float64')"
      ]
     },
     "execution_count": 7,
     "metadata": {},
     "output_type": "execute_result"
    }
   ],
   "source": [
    "#Data type of features\n",
    "train_x.dtype"
   ]
  },
  {
   "cell_type": "code",
   "execution_count": 8,
   "metadata": {
    "id": "lADXNbMKGH_g"
   },
   "outputs": [],
   "source": [
    "train_x = train_x.astype('float32')\n",
    "train_y = train_y.astype('float32')"
   ]
  },
  {
   "cell_type": "code",
   "execution_count": 9,
   "metadata": {
    "id": "Wr_8Ia6M7CZY"
   },
   "outputs": [
    {
     "data": {
      "text/plain": [
       "dtype('float32')"
      ]
     },
     "execution_count": 9,
     "metadata": {},
     "output_type": "execute_result"
    }
   ],
   "source": [
    "#Data type of features\n",
    "train_x.dtype"
   ]
  },
  {
   "cell_type": "code",
   "execution_count": 10,
   "metadata": {
    "id": "TKDsS4vKGl3E"
   },
   "outputs": [
    {
     "data": {
      "text/plain": [
       "array([[1.23247e+00, 0.00000e+00, 8.14000e+00, 0.00000e+00, 5.38000e-01,\n",
       "        6.14200e+00, 9.17000e+01, 3.97690e+00, 4.00000e+00, 3.07000e+02,\n",
       "        2.10000e+01, 3.96900e+02, 1.87200e+01],\n",
       "       [2.17700e-02, 8.25000e+01, 2.03000e+00, 0.00000e+00, 4.15000e-01,\n",
       "        7.61000e+00, 1.57000e+01, 6.27000e+00, 2.00000e+00, 3.48000e+02,\n",
       "        1.47000e+01, 3.95380e+02, 3.11000e+00],\n",
       "       [4.89822e+00, 0.00000e+00, 1.81000e+01, 0.00000e+00, 6.31000e-01,\n",
       "        4.97000e+00, 1.00000e+02, 1.33250e+00, 2.40000e+01, 6.66000e+02,\n",
       "        2.02000e+01, 3.75520e+02, 3.26000e+00],\n",
       "       [3.96100e-02, 0.00000e+00, 5.19000e+00, 0.00000e+00, 5.15000e-01,\n",
       "        6.03700e+00, 3.45000e+01, 5.98530e+00, 5.00000e+00, 2.24000e+02,\n",
       "        2.02000e+01, 3.96900e+02, 8.01000e+00],\n",
       "       [3.69311e+00, 0.00000e+00, 1.81000e+01, 0.00000e+00, 7.13000e-01,\n",
       "        6.37600e+00, 8.84000e+01, 2.56710e+00, 2.40000e+01, 6.66000e+02,\n",
       "        2.02000e+01, 3.91430e+02, 1.46500e+01]], dtype=float32)"
      ]
     },
     "execution_count": 10,
     "metadata": {},
     "output_type": "execute_result"
    }
   ],
   "source": [
    "train_x[0:5]"
   ]
  },
  {
   "cell_type": "markdown",
   "metadata": {
    "id": "fOIoE3qCt9Wp"
   },
   "source": [
    "#### Build Model"
   ]
  },
  {
   "cell_type": "markdown",
   "metadata": {
    "id": "uSMg5HDluCZG"
   },
   "source": [
    "Define Weights and Bias"
   ]
  },
  {
   "cell_type": "code",
   "execution_count": 11,
   "metadata": {
    "id": "1qHkc0mS_KZP"
   },
   "outputs": [
    {
     "name": "stdout",
     "output_type": "stream",
     "text": [
      "Metal device set to: Apple M1 Max\n"
     ]
    },
    {
     "name": "stderr",
     "output_type": "stream",
     "text": [
      "2024-02-21 23:40:49.268705: I tensorflow/core/common_runtime/pluggable_device/pluggable_device_factory.cc:305] Could not identify NUMA node of platform GPU ID 0, defaulting to 0. Your kernel may not have been built with NUMA support.\n",
      "2024-02-21 23:40:49.269204: I tensorflow/core/common_runtime/pluggable_device/pluggable_device_factory.cc:271] Created TensorFlow device (/job:localhost/replica:0/task:0/device:GPU:0 with 0 MB memory) -> physical PluggableDevice (device: 0, name: METAL, pci bus id: <undefined>)\n"
     ]
    }
   ],
   "source": [
    "#We are initializing weights and Bias with Zero\n",
    "w = tf.random.normal(shape=(13,1))\n",
    "b = tf.zeros(shape=(1))"
   ]
  },
  {
   "cell_type": "code",
   "execution_count": 12,
   "metadata": {
    "id": "CobfH5kGHILM"
   },
   "outputs": [
    {
     "name": "stdout",
     "output_type": "stream",
     "text": [
      "tf.Tensor(\n",
      "[[-1.3272711 ]\n",
      " [ 1.475364  ]\n",
      " [-0.56262136]\n",
      " [-1.0130478 ]\n",
      " [ 0.25053138]\n",
      " [-0.7000595 ]\n",
      " [ 1.1537246 ]\n",
      " [ 0.56306005]\n",
      " [-1.0826735 ]\n",
      " [-0.18666165]\n",
      " [ 1.2223868 ]\n",
      " [ 2.1132193 ]\n",
      " [-1.4552455 ]], shape=(13, 1), dtype=float32)\n"
     ]
    }
   ],
   "source": [
    "print(w)"
   ]
  },
  {
   "cell_type": "code",
   "execution_count": 13,
   "metadata": {
    "id": "mq9gQzcCRjlT"
   },
   "outputs": [
    {
     "data": {
      "text/plain": [
       "array([[-1.3272711 ],\n",
       "       [ 1.475364  ],\n",
       "       [-0.56262136],\n",
       "       [-1.0130478 ],\n",
       "       [ 0.25053138],\n",
       "       [-0.7000595 ],\n",
       "       [ 1.1537246 ],\n",
       "       [ 0.56306005],\n",
       "       [-1.0826735 ],\n",
       "       [-0.18666165],\n",
       "       [ 1.2223868 ],\n",
       "       [ 2.1132193 ],\n",
       "       [-1.4552455 ]], dtype=float32)"
      ]
     },
     "execution_count": 13,
     "metadata": {},
     "output_type": "execute_result"
    }
   ],
   "source": [
    "w.numpy()"
   ]
  },
  {
   "cell_type": "code",
   "execution_count": 14,
   "metadata": {
    "id": "j-aIWRjjHJ5D"
   },
   "outputs": [
    {
     "data": {
      "text/plain": [
       "<tf.Tensor: shape=(1,), dtype=float32, numpy=array([0.], dtype=float32)>"
      ]
     },
     "execution_count": 14,
     "metadata": {},
     "output_type": "execute_result"
    }
   ],
   "source": [
    "b"
   ]
  },
  {
   "cell_type": "markdown",
   "metadata": {
    "id": "MP8U92hduNeV"
   },
   "source": [
    "Define a function to calculate prediction"
   ]
  },
  {
   "cell_type": "code",
   "execution_count": 15,
   "metadata": {
    "id": "ARk9SVAb_jBA"
   },
   "outputs": [],
   "source": [
    "def prediction(x, w, b):\n",
    "    \n",
    "    xw_matmul = tf.matmul(x, w)\n",
    "    y = tf.add(xw_matmul, b)\n",
    "    \n",
    "    return y"
   ]
  },
  {
   "cell_type": "code",
   "execution_count": 16,
   "metadata": {
    "id": "DuKGKT9FSGGp"
   },
   "outputs": [],
   "source": [
    "y = prediction(train_x, w, b)"
   ]
  },
  {
   "cell_type": "code",
   "execution_count": 17,
   "metadata": {
    "id": "U-PxKFVhSLNW"
   },
   "outputs": [],
   "source": [
    "#y"
   ]
  },
  {
   "cell_type": "markdown",
   "metadata": {
    "id": "0QKcoDtbuhDl"
   },
   "source": [
    "Function to calculate Loss (Mean Squared Error)"
   ]
  },
  {
   "cell_type": "code",
   "execution_count": 18,
   "metadata": {
    "id": "zEkRNWEa_q45"
   },
   "outputs": [],
   "source": [
    "def loss(y_actual, y_predicted):\n",
    "    \n",
    "    diff = y_actual - y_predicted\n",
    "    sqr = tf.square(diff)\n",
    "    avg = tf.reduce_mean(sqr) #Average the loss\n",
    "    \n",
    "    return avg"
   ]
  },
  {
   "cell_type": "code",
   "execution_count": 19,
   "metadata": {
    "id": "HvRzdA4-SxWv"
   },
   "outputs": [],
   "source": [
    "cost = loss(train_y, y)"
   ]
  },
  {
   "cell_type": "code",
   "execution_count": 20,
   "metadata": {
    "id": "QrD6Q0NSS2sj"
   },
   "outputs": [
    {
     "data": {
      "text/plain": [
       "<tf.Tensor: shape=(), dtype=float32, numpy=585163.06>"
      ]
     },
     "execution_count": 20,
     "metadata": {},
     "output_type": "execute_result"
    }
   ],
   "source": [
    "cost"
   ]
  },
  {
   "cell_type": "markdown",
   "metadata": {
    "id": "2U2j7okPul9V"
   },
   "source": [
    "Function to train the Model\n",
    "\n",
    "1.   Record all the mathematical steps to calculate Loss. We will record the steps using GradientTape\n",
    "2.   Calculate Gradients of Loss w.r.t weights and bias\n",
    "3.   Update Weights and Bias based on gradients and learning rate\n",
    "\n"
   ]
  },
  {
   "cell_type": "code",
   "execution_count": 21,
   "metadata": {
    "id": "r_Zu3u8IARZu"
   },
   "outputs": [],
   "source": [
    "def train(x, y_actual, w, b, learning_rate=0.01):\n",
    "    \n",
    "    #Record mathematical operations on 'tape' to calculate loss\n",
    "    with tf.GradientTape() as t:\n",
    "        \n",
    "        t.watch([w,b])\n",
    "        \n",
    "        current_prediction = prediction(x, w, b)\n",
    "        current_loss = loss(y_actual, current_prediction)\n",
    "    \n",
    "    #Calculate Gradients for Loss with respect to Weights and Bias\n",
    "    dw, db = t.gradient(current_loss,[w, b])\n",
    "    \n",
    "    #Update Weights and Bias - Gradient Descent\n",
    "    w = w - learning_rate*dw\n",
    "    b = b - learning_rate*db\n",
    "    \n",
    "    return w, b"
   ]
  },
  {
   "cell_type": "code",
   "execution_count": 22,
   "metadata": {
    "id": "kYfWGXXgUsNt"
   },
   "outputs": [],
   "source": [
    "new_w, new_b = train(train_x, train_y, w, b)"
   ]
  },
  {
   "cell_type": "code",
   "execution_count": 23,
   "metadata": {
    "id": "OntQQV1YU3NC"
   },
   "outputs": [
    {
     "data": {
      "text/plain": [
       "<tf.Tensor: shape=(13, 1), dtype=float32, numpy=\n",
       "array([[-3.5090706e+01],\n",
       "       [-1.9773962e+02],\n",
       "       [-1.4855374e+02],\n",
       "       [-2.0865510e+00],\n",
       "       [-7.6134381e+00],\n",
       "       [-9.3308243e+01],\n",
       "       [-9.6099652e+02],\n",
       "       [-5.8693542e+01],\n",
       "       [-1.1757882e+02],\n",
       "       [-5.5213887e+03],\n",
       "       [-2.6598254e+02],\n",
       "       [-5.6119414e+03],\n",
       "       [-1.7170079e+02]], dtype=float32)>"
      ]
     },
     "execution_count": 23,
     "metadata": {},
     "output_type": "execute_result"
    }
   ],
   "source": [
    "new_w"
   ]
  },
  {
   "cell_type": "code",
   "execution_count": 24,
   "metadata": {
    "id": "7UN3qxD1VQC6"
   },
   "outputs": [
    {
     "data": {
      "text/plain": [
       "<tf.Tensor: shape=(1,), dtype=float32, numpy=array([-14.628584], dtype=float32)>"
      ]
     },
     "execution_count": 24,
     "metadata": {},
     "output_type": "execute_result"
    }
   ],
   "source": [
    "new_b"
   ]
  },
  {
   "cell_type": "markdown",
   "metadata": {
    "id": "zcXDZ6N5vNw-"
   },
   "source": [
    "#### Start Training"
   ]
  },
  {
   "cell_type": "code",
   "execution_count": 25,
   "metadata": {
    "id": "gOY134RfEpbq"
   },
   "outputs": [
    {
     "name": "stdout",
     "output_type": "stream",
     "text": [
      "Current Loss on iteration 0 19515228000000.0\n",
      "Current Loss on iteration 1 7.6386165e+20\n",
      "Current Loss on iteration 2 2.9927681e+28\n",
      "Current Loss on iteration 3 inf\n",
      "Current Loss on iteration 4 inf\n",
      "Current Loss on iteration 5 inf\n",
      "Current Loss on iteration 6 inf\n",
      "Current Loss on iteration 7 inf\n",
      "Current Loss on iteration 8 inf\n",
      "Current Loss on iteration 9 inf\n",
      "Current Loss on iteration 10 nan\n",
      "Current Loss on iteration 11 nan\n",
      "Current Loss on iteration 12 nan\n",
      "Current Loss on iteration 13 nan\n",
      "Current Loss on iteration 14 nan\n",
      "Current Loss on iteration 15 nan\n",
      "Current Loss on iteration 16 nan\n",
      "Current Loss on iteration 17 nan\n",
      "Current Loss on iteration 18 nan\n",
      "Current Loss on iteration 19 nan\n",
      "Current Loss on iteration 20 nan\n",
      "Current Loss on iteration 21 nan\n",
      "Current Loss on iteration 22 nan\n",
      "Current Loss on iteration 23 nan\n",
      "Current Loss on iteration 24 nan\n",
      "Current Loss on iteration 25 nan\n",
      "Current Loss on iteration 26 nan\n",
      "Current Loss on iteration 27 nan\n",
      "Current Loss on iteration 28 nan\n",
      "Current Loss on iteration 29 nan\n",
      "Current Loss on iteration 30 nan\n",
      "Current Loss on iteration 31 nan\n",
      "Current Loss on iteration 32 nan\n",
      "Current Loss on iteration 33 nan\n",
      "Current Loss on iteration 34 nan\n",
      "Current Loss on iteration 35 nan\n",
      "Current Loss on iteration 36 nan\n",
      "Current Loss on iteration 37 nan\n",
      "Current Loss on iteration 38 nan\n",
      "Current Loss on iteration 39 nan\n",
      "Current Loss on iteration 40 nan\n",
      "Current Loss on iteration 41 nan\n",
      "Current Loss on iteration 42 nan\n",
      "Current Loss on iteration 43 nan\n",
      "Current Loss on iteration 44 nan\n",
      "Current Loss on iteration 45 nan\n",
      "Current Loss on iteration 46 nan\n",
      "Current Loss on iteration 47 nan\n",
      "Current Loss on iteration 48 nan\n",
      "Current Loss on iteration 49 nan\n",
      "Current Loss on iteration 50 nan\n",
      "Current Loss on iteration 51 nan\n",
      "Current Loss on iteration 52 nan\n",
      "Current Loss on iteration 53 nan\n",
      "Current Loss on iteration 54 nan\n",
      "Current Loss on iteration 55 nan\n",
      "Current Loss on iteration 56 nan\n",
      "Current Loss on iteration 57 nan\n",
      "Current Loss on iteration 58 nan\n",
      "Current Loss on iteration 59 nan\n",
      "Current Loss on iteration 60 nan\n",
      "Current Loss on iteration 61 nan\n",
      "Current Loss on iteration 62 nan\n",
      "Current Loss on iteration 63 nan\n",
      "Current Loss on iteration 64 nan\n",
      "Current Loss on iteration 65 nan\n",
      "Current Loss on iteration 66 nan\n",
      "Current Loss on iteration 67 nan\n",
      "Current Loss on iteration 68 nan\n",
      "Current Loss on iteration 69 nan\n",
      "Current Loss on iteration 70 nan\n",
      "Current Loss on iteration 71 nan\n",
      "Current Loss on iteration 72 nan\n",
      "Current Loss on iteration 73 nan\n",
      "Current Loss on iteration 74 nan\n",
      "Current Loss on iteration 75 nan\n",
      "Current Loss on iteration 76 nan\n",
      "Current Loss on iteration 77 nan\n",
      "Current Loss on iteration 78 nan\n",
      "Current Loss on iteration 79 nan\n",
      "Current Loss on iteration 80 nan\n",
      "Current Loss on iteration 81 nan\n",
      "Current Loss on iteration 82 nan\n",
      "Current Loss on iteration 83 nan\n",
      "Current Loss on iteration 84 nan\n",
      "Current Loss on iteration 85 nan\n",
      "Current Loss on iteration 86 nan\n",
      "Current Loss on iteration 87 nan\n",
      "Current Loss on iteration 88 nan\n",
      "Current Loss on iteration 89 nan\n",
      "Current Loss on iteration 90 nan\n",
      "Current Loss on iteration 91 nan\n",
      "Current Loss on iteration 92 nan\n",
      "Current Loss on iteration 93 nan\n",
      "Current Loss on iteration 94 nan\n",
      "Current Loss on iteration 95 nan\n",
      "Current Loss on iteration 96 nan\n",
      "Current Loss on iteration 97 nan\n",
      "Current Loss on iteration 98 nan\n",
      "Current Loss on iteration 99 nan\n"
     ]
    }
   ],
   "source": [
    "#Train for 100 Steps\n",
    "for i in range(100):\n",
    "    \n",
    "    w, b = train(train_x, train_y, w, b, learning_rate=0.01)\n",
    "    print('Current Loss on iteration', i, \n",
    "          loss(train_y, prediction(train_x, w, b)).numpy())"
   ]
  },
  {
   "cell_type": "code",
   "execution_count": 26,
   "metadata": {
    "id": "DDcxSozRxyer"
   },
   "outputs": [
    {
     "name": "stdout",
     "output_type": "stream",
     "text": [
      "Weights:\n",
      " [[nan]\n",
      " [nan]\n",
      " [nan]\n",
      " [nan]\n",
      " [nan]\n",
      " [nan]\n",
      " [nan]\n",
      " [nan]\n",
      " [nan]\n",
      " [nan]\n",
      " [nan]\n",
      " [nan]\n",
      " [nan]]\n",
      "Bias:\n",
      " [nan]\n"
     ]
    }
   ],
   "source": [
    "#Check Weights and Bias\n",
    "print('Weights:\\n', w.numpy())\n",
    "print('Bias:\\n',b.numpy())"
   ]
  },
  {
   "cell_type": "code",
   "execution_count": 27,
   "metadata": {
    "id": "Feh6mpAXlUd9"
   },
   "outputs": [
    {
     "data": {
      "text/plain": [
       "array([  1.23247,   0.     ,   8.14   ,   0.     ,   0.538  ,   6.142  ,\n",
       "        91.7    ,   3.9769 ,   4.     , 307.     ,  21.     , 396.9    ,\n",
       "        18.72   ], dtype=float32)"
      ]
     },
     "execution_count": 27,
     "metadata": {},
     "output_type": "execute_result"
    }
   ],
   "source": [
    "train_x[0]"
   ]
  },
  {
   "cell_type": "code",
   "execution_count": null,
   "metadata": {},
   "outputs": [],
   "source": []
  },
  {
   "cell_type": "code",
   "execution_count": null,
   "metadata": {},
   "outputs": [],
   "source": []
  },
  {
   "cell_type": "code",
   "execution_count": null,
   "metadata": {},
   "outputs": [],
   "source": []
  },
  {
   "cell_type": "code",
   "execution_count": null,
   "metadata": {},
   "outputs": [],
   "source": []
  }
 ],
 "metadata": {
  "colab": {
   "name": "2a. Boston Housing Prices.ipynb",
   "private_outputs": true,
   "provenance": []
  },
  "kernelspec": {
   "display_name": "Python 3 (ipykernel)",
   "language": "python",
   "name": "python3"
  },
  "language_info": {
   "codemirror_mode": {
    "name": "ipython",
    "version": 3
   },
   "file_extension": ".py",
   "mimetype": "text/x-python",
   "name": "python",
   "nbconvert_exporter": "python",
   "pygments_lexer": "ipython3",
   "version": "3.9.13"
  }
 },
 "nbformat": 4,
 "nbformat_minor": 4
}
