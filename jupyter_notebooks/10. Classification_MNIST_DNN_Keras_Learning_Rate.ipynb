{
 "cells": [
  {
   "cell_type": "markdown",
   "metadata": {
    "id": "2FOkt_PVMd6h"
   },
   "source": [
    "#### Load tensorflow"
   ]
  },
  {
   "cell_type": "code",
   "execution_count": 1,
   "metadata": {
    "id": "QknvBKm3Md6j"
   },
   "outputs": [],
   "source": [
    "import tensorflow as tf\n",
    "import matplotlib.pyplot as plt\n",
    "import numpy as np"
   ]
  },
  {
   "cell_type": "markdown",
   "metadata": {
    "id": "QHbDtQQJMd6m"
   },
   "source": [
    "#### Collect Data\n",
    "\n",
    "We will use MNIST dataset for this exercise. This dataset contains images of hand written numbers with each image being a black & white picture of size 28x28. We will download the data using tensorflow API. The dataset has 60,000 training examples and 10,000 test examples. Please note that images have already been converted to numpy arrays."
   ]
  },
  {
   "cell_type": "code",
   "execution_count": 2,
   "metadata": {
    "id": "AJ6bJeCGMd6n"
   },
   "outputs": [],
   "source": [
    "#Download dataset\n",
    "(X_train, y_train),(X_test, y_test) = tf.keras.datasets.mnist.load_data()"
   ]
  },
  {
   "cell_type": "code",
   "execution_count": 3,
   "metadata": {
    "id": "OAv--_-Spq4F"
   },
   "outputs": [
    {
     "data": {
      "text/plain": [
       "(60000, 28, 28)"
      ]
     },
     "execution_count": 3,
     "metadata": {},
     "output_type": "execute_result"
    }
   ],
   "source": [
    "#Check number of training examples and size of each example\n",
    "X_train.shape"
   ]
  },
  {
   "cell_type": "code",
   "execution_count": 4,
   "metadata": {
    "id": "mWBOngBwpy2D"
   },
   "outputs": [
    {
     "data": {
      "text/plain": [
       "(10000, 28, 28)"
      ]
     },
     "execution_count": 4,
     "metadata": {},
     "output_type": "execute_result"
    }
   ],
   "source": [
    "#Check number of test examples and size of each example\n",
    "X_test.shape"
   ]
  },
  {
   "cell_type": "markdown",
   "metadata": {
    "id": "DeCvkynAMq0J"
   },
   "source": [
    "Visualize data"
   ]
  },
  {
   "cell_type": "code",
   "execution_count": 5,
   "metadata": {
    "id": "JcotzAiyMp1F"
   },
   "outputs": [
    {
     "data": {
      "image/png": "[encoded data removed]",
      "text/plain": [
       "<Figure size 640x480 with 1 Axes>"
      ]
     },
     "metadata": {},
     "output_type": "display_data"
    }
   ],
   "source": [
    "img_num = np.random.randint(0, X_test.shape[0]) #Get a random integer between 0 and number of examples in test dataset\n",
    "plt.imshow(X_test[img_num],cmap='gray') #Show the image from test dataset\n",
    "plt.suptitle('Number: ' + str(y_test[img_num]))\n",
    "plt.show()"
   ]
  },
  {
   "cell_type": "markdown",
   "metadata": {
    "id": "8rxmqpkpMd6r"
   },
   "source": [
    "#### Prepare Labels\n",
    "Convert Output label to multiple values"
   ]
  },
  {
   "cell_type": "code",
   "execution_count": 6,
   "metadata": {
    "id": "EijfLL3NqABx"
   },
   "outputs": [
    {
     "data": {
      "text/plain": [
       "7"
      ]
     },
     "execution_count": 6,
     "metadata": {},
     "output_type": "execute_result"
    }
   ],
   "source": [
    "#Label for an example\n",
    "y_test[0]"
   ]
  },
  {
   "cell_type": "code",
   "execution_count": 7,
   "metadata": {
    "id": "Jr8yucgyMd6s"
   },
   "outputs": [],
   "source": [
    "y_train = tf.keras.utils.to_categorical(y_train, num_classes=10)\n",
    "y_test = tf.keras.utils.to_categorical(y_test, num_classes=10)"
   ]
  },
  {
   "cell_type": "code",
   "execution_count": 8,
   "metadata": {
    "id": "RnY9Bqx0qHkM"
   },
   "outputs": [
    {
     "data": {
      "text/plain": [
       "array([0., 0., 0., 0., 0., 0., 0., 1., 0., 0.], dtype=float32)"
      ]
     },
     "execution_count": 8,
     "metadata": {},
     "output_type": "execute_result"
    }
   ],
   "source": [
    "#Label for same example after one hot encoding\n",
    "y_test[0]"
   ]
  },
  {
   "cell_type": "code",
   "execution_count": 9,
   "metadata": {
    "id": "N__oC9y3W3ye"
   },
   "outputs": [
    {
     "data": {
      "text/plain": [
       "(60000, 28, 28)"
      ]
     },
     "execution_count": 9,
     "metadata": {},
     "output_type": "execute_result"
    }
   ],
   "source": [
    "X_train.shape"
   ]
  },
  {
   "cell_type": "code",
   "execution_count": 10,
   "metadata": {
    "id": "9jkAMRm7XAPi"
   },
   "outputs": [],
   "source": [
    "small_X_train = X_train[0:1000]"
   ]
  },
  {
   "cell_type": "code",
   "execution_count": 11,
   "metadata": {
    "id": "Y4_6zabaXFpI"
   },
   "outputs": [
    {
     "data": {
      "text/plain": [
       "(1000, 28, 28)"
      ]
     },
     "execution_count": 11,
     "metadata": {},
     "output_type": "execute_result"
    }
   ],
   "source": [
    "small_X_train.shape"
   ]
  },
  {
   "cell_type": "code",
   "execution_count": 12,
   "metadata": {
    "id": "jkaTySIlXLvF"
   },
   "outputs": [],
   "source": [
    "small_y_train = y_train[0:1000]"
   ]
  },
  {
   "cell_type": "code",
   "execution_count": 13,
   "metadata": {
    "id": "DsE2sNHeXPSu"
   },
   "outputs": [
    {
     "data": {
      "text/plain": [
       "(1000, 10)"
      ]
     },
     "execution_count": 13,
     "metadata": {},
     "output_type": "execute_result"
    }
   ],
   "source": [
    "small_y_train.shape"
   ]
  },
  {
   "cell_type": "markdown",
   "metadata": {
    "id": "nACcpZ6oMd6z"
   },
   "source": [
    "#### Build the Graph"
   ]
  },
  {
   "cell_type": "code",
   "execution_count": 14,
   "metadata": {
    "id": "9h6GBSH6Md61"
   },
   "outputs": [
    {
     "name": "stdout",
     "output_type": "stream",
     "text": [
      "Metal device set to: Apple M1 Max\n"
     ]
    },
    {
     "name": "stderr",
     "output_type": "stream",
     "text": [
      "2024-03-16 06:02:14.338454: I tensorflow/core/common_runtime/pluggable_device/pluggable_device_factory.cc:305] Could not identify NUMA node of platform GPU ID 0, defaulting to 0. Your kernel may not have been built with NUMA support.\n",
      "2024-03-16 06:02:14.338770: I tensorflow/core/common_runtime/pluggable_device/pluggable_device_factory.cc:271] Created TensorFlow device (/job:localhost/replica:0/task:0/device:GPU:0 with 0 MB memory) -> physical PluggableDevice (device: 0, name: METAL, pci bus id: <undefined>)\n"
     ]
    }
   ],
   "source": [
    "#Initialize Sequential model\n",
    "tf.keras.backend.clear_session()\n",
    "\n",
    "model = tf.keras.models.Sequential()\n",
    "\n",
    "#Reshape data from 2D to 1D -> 28x28 to 784\n",
    "model.add(tf.keras.layers.Reshape((784,),input_shape=(28,28,)))\n",
    "\n",
    "#Normalize the data\n",
    "model.add(tf.keras.layers.BatchNormalization())"
   ]
  },
  {
   "cell_type": "code",
   "execution_count": 15,
   "metadata": {
    "id": "hLuGo9xeO_oE"
   },
   "outputs": [
    {
     "data": {
      "text/plain": [
       "<KerasTensor: shape=(None, 784) dtype=float32 (created by layer 'batch_normalization')>"
      ]
     },
     "execution_count": 15,
     "metadata": {},
     "output_type": "execute_result"
    }
   ],
   "source": [
    "model.output"
   ]
  },
  {
   "cell_type": "markdown",
   "metadata": {
    "id": "imGSX5XjMd66"
   },
   "source": [
    "Add Hidden Layers"
   ]
  },
  {
   "cell_type": "code",
   "execution_count": 16,
   "metadata": {
    "id": "Oj8TnaTxMd68"
   },
   "outputs": [],
   "source": [
    "#Add 1st hidden layer - check by changing the activation function to softmax\n",
    "model.add(tf.keras.layers.Dense(200, activation='relu'))"
   ]
  },
  {
   "cell_type": "code",
   "execution_count": 17,
   "metadata": {
    "id": "qPwtp7-yhEJK"
   },
   "outputs": [
    {
     "data": {
      "text/plain": [
       "<KerasTensor: shape=(None, 200) dtype=float32 (created by layer 'dense')>"
      ]
     },
     "execution_count": 17,
     "metadata": {},
     "output_type": "execute_result"
    }
   ],
   "source": [
    "model.output"
   ]
  },
  {
   "cell_type": "code",
   "execution_count": 18,
   "metadata": {},
   "outputs": [],
   "source": [
    "#Normalize the data\n",
    "model.add(tf.keras.layers.BatchNormalization())"
   ]
  },
  {
   "cell_type": "code",
   "execution_count": 19,
   "metadata": {
    "id": "BQvERJeKMd7A"
   },
   "outputs": [],
   "source": [
    "#Add 2nd hidden layer\n",
    "model.add(tf.keras.layers.Dense(100, activation='relu'))"
   ]
  },
  {
   "cell_type": "code",
   "execution_count": 20,
   "metadata": {},
   "outputs": [],
   "source": [
    "#model.add(tf.keras.layers.LeakyReLU(0.03))\n",
    "#change activation to sigmoid and use optimizer = 'adam'"
   ]
  },
  {
   "cell_type": "code",
   "execution_count": 21,
   "metadata": {
    "id": "9-P8w7fNe6_3"
   },
   "outputs": [],
   "source": [
    "#Normalize the data\n",
    "model.add(tf.keras.layers.BatchNormalization())"
   ]
  },
  {
   "cell_type": "code",
   "execution_count": 22,
   "metadata": {
    "id": "a_rnC2j2he-P"
   },
   "outputs": [
    {
     "data": {
      "text/plain": [
       "<KerasTensor: shape=(None, 100) dtype=float32 (created by layer 'batch_normalization_2')>"
      ]
     },
     "execution_count": 22,
     "metadata": {},
     "output_type": "execute_result"
    }
   ],
   "source": [
    "model.output"
   ]
  },
  {
   "cell_type": "code",
   "execution_count": 23,
   "metadata": {
    "id": "pwcz87-MMd7E"
   },
   "outputs": [],
   "source": [
    "#Add 3rd hidden layer\n",
    "model.add(tf.keras.layers.Dense(60, activation='relu'))"
   ]
  },
  {
   "cell_type": "code",
   "execution_count": 24,
   "metadata": {},
   "outputs": [],
   "source": [
    "#Normalize the data\n",
    "model.add(tf.keras.layers.BatchNormalization())"
   ]
  },
  {
   "cell_type": "code",
   "execution_count": 25,
   "metadata": {
    "id": "C4j9Cm1IMd7J"
   },
   "outputs": [],
   "source": [
    "#Add 4th hidden layer\n",
    "model.add(tf.keras.layers.Dense(30, activation='relu'))"
   ]
  },
  {
   "cell_type": "code",
   "execution_count": 26,
   "metadata": {
    "id": "GMkpspE8kqCn"
   },
   "outputs": [
    {
     "data": {
      "text/plain": [
       "<KerasTensor: shape=(None, 30) dtype=float32 (created by layer 'dense_3')>"
      ]
     },
     "execution_count": 26,
     "metadata": {},
     "output_type": "execute_result"
    }
   ],
   "source": [
    "model.output"
   ]
  },
  {
   "cell_type": "code",
   "execution_count": 27,
   "metadata": {},
   "outputs": [],
   "source": [
    "#Normalize the data\n",
    "model.add(tf.keras.layers.BatchNormalization())"
   ]
  },
  {
   "cell_type": "markdown",
   "metadata": {
    "id": "vdlnZCPIggCO"
   },
   "source": [
    "Add Output Layer"
   ]
  },
  {
   "cell_type": "code",
   "execution_count": 28,
   "metadata": {
    "id": "G05v_Zy9Md7Q"
   },
   "outputs": [],
   "source": [
    "#Add OUTPUT layer\n",
    "model.add(tf.keras.layers.Dense(10, activation='softmax'))"
   ]
  },
  {
   "cell_type": "markdown",
   "metadata": {
    "id": "pYNxSLydMd7U"
   },
   "source": [
    "Compile the Model"
   ]
  },
  {
   "cell_type": "code",
   "execution_count": 40,
   "metadata": {
    "id": "FJWmzZ2vMd7W"
   },
   "outputs": [],
   "source": [
    "#Compile the model\n",
    "# sgd_optimizer = tf.keras.optimizers.SGD(learning_rate=0.1, momentum=0.9, nesterov=True)\n",
    "\n",
    "# model.compile(optimizer='adam', loss='categorical_crossentropy', \n",
    "#               metrics=['accuracy'])\n",
    "\n",
    "#sgd_optimizer = tf.keras.optimizers.SGD(learning_rate=0.0001)\n",
    "#sgd_optimizer = tf.keras.optimizers.SGD(learning_rate=1)\n",
    "#sgd_optimizer = tf.keras.optimizers.SGD(learning_rate=10)\n",
    "#sgd_optimizer = tf.keras.optimizers.SGD(learning_rate=0.1)\n",
    "#sgd_optimizer = tf.keras.optimizers.SGD(learning_rate=0.01)\n",
    "#sgd_optimizer = tf.keras.optimizers.SGD(learning_rate=0.001)\n",
    "\n",
    "# Define the optimizer with decay\n",
    "#sgd_optimizer = tf.keras.optimizers.SGD(learning_rate=0.001, decay=1e-6)\n",
    "\n",
    "# Define the optimizer with decay + momentum\n",
    "#sgd_optimizer = tf.keras.optimizers.SGD(learning_rate=0.001, decay=1e-6)\n",
    "\n",
    "sgd_optimizer = tf.keras.optimizers.SGD(learning_rate=0.01, decay=1e-6, momentum=0.9)\n",
    "\n",
    "model.compile(optimizer=sgd_optimizer, loss='categorical_crossentropy', \n",
    "              metrics=['accuracy'])\n"
   ]
  },
  {
   "cell_type": "markdown",
   "metadata": {
    "id": "gW7j_VfVMd7a"
   },
   "source": [
    "Review model"
   ]
  },
  {
   "cell_type": "code",
   "execution_count": 30,
   "metadata": {},
   "outputs": [
    {
     "name": "stdout",
     "output_type": "stream",
     "text": [
      "Model: \"sequential\"\n",
      "_________________________________________________________________\n",
      " Layer (type)                Output Shape              Param #   \n",
      "=================================================================\n",
      " reshape (Reshape)           (None, 784)               0         \n",
      "                                                                 \n",
      " batch_normalization (BatchN  (None, 784)              3136      \n",
      " ormalization)                                                   \n",
      "                                                                 \n",
      " dense (Dense)               (None, 200)               157000    \n",
      "                                                                 \n",
      " batch_normalization_1 (Batc  (None, 200)              800       \n",
      " hNormalization)                                                 \n",
      "                                                                 \n",
      " dense_1 (Dense)             (None, 100)               20100     \n",
      "                                                                 \n",
      " batch_normalization_2 (Batc  (None, 100)              400       \n",
      " hNormalization)                                                 \n",
      "                                                                 \n",
      " dense_2 (Dense)             (None, 60)                6060      \n",
      "                                                                 \n",
      " batch_normalization_3 (Batc  (None, 60)               240       \n",
      " hNormalization)                                                 \n",
      "                                                                 \n",
      " dense_3 (Dense)             (None, 30)                1830      \n",
      "                                                                 \n",
      " batch_normalization_4 (Batc  (None, 30)               120       \n",
      " hNormalization)                                                 \n",
      "                                                                 \n",
      " dense_4 (Dense)             (None, 10)                310       \n",
      "                                                                 \n",
      "=================================================================\n",
      "Total params: 189,996\n",
      "Trainable params: 187,648\n",
      "Non-trainable params: 2,348\n",
      "_________________________________________________________________\n"
     ]
    }
   ],
   "source": [
    "model.summary()"
   ]
  },
  {
   "cell_type": "code",
   "execution_count": 31,
   "metadata": {
    "id": "-T-DO281ZgCo"
   },
   "outputs": [
    {
     "name": "stdout",
     "output_type": "stream",
     "text": [
      "Model: \"sequential\"\n",
      "_________________________________________________________________\n",
      " Layer (type)                Output Shape              Param #   \n",
      "=================================================================\n",
      " reshape (Reshape)           (None, 784)               0         \n",
      "                                                                 \n",
      " batch_normalization (BatchN  (None, 784)              3136      \n",
      " ormalization)                                                   \n",
      "                                                                 \n",
      " dense (Dense)               (None, 200)               157000    \n",
      "                                                                 \n",
      " batch_normalization_1 (Batc  (None, 200)              800       \n",
      " hNormalization)                                                 \n",
      "                                                                 \n",
      " dense_1 (Dense)             (None, 100)               20100     \n",
      "                                                                 \n",
      " batch_normalization_2 (Batc  (None, 100)              400       \n",
      " hNormalization)                                                 \n",
      "                                                                 \n",
      " dense_2 (Dense)             (None, 60)                6060      \n",
      "                                                                 \n",
      " batch_normalization_3 (Batc  (None, 60)               240       \n",
      " hNormalization)                                                 \n",
      "                                                                 \n",
      " dense_3 (Dense)             (None, 30)                1830      \n",
      "                                                                 \n",
      " batch_normalization_4 (Batc  (None, 30)               120       \n",
      " hNormalization)                                                 \n",
      "                                                                 \n",
      " dense_4 (Dense)             (None, 10)                310       \n",
      "                                                                 \n",
      "=================================================================\n",
      "Total params: 189,996\n",
      "Trainable params: 187,648\n",
      "Non-trainable params: 2,348\n",
      "_________________________________________________________________\n"
     ]
    }
   ],
   "source": [
    "model.summary()"
   ]
  },
  {
   "cell_type": "markdown",
   "metadata": {
    "id": "Lblu99B6Md7l"
   },
   "source": [
    "#### Train the model"
   ]
  },
  {
   "cell_type": "code",
   "execution_count": 33,
   "metadata": {},
   "outputs": [],
   "source": [
    "model_checkpoint = tf.keras.callbacks.ModelCheckpoint('mnist_learning_rate_v1.h5', save_best_only=True, monitor='val_accuracy', mode='max', verbose=1)"
   ]
  },
  {
   "cell_type": "code",
   "execution_count": 34,
   "metadata": {},
   "outputs": [
    {
     "name": "stdout",
     "output_type": "stream",
     "text": [
      "Epoch 1/3\n"
     ]
    },
    {
     "name": "stderr",
     "output_type": "stream",
     "text": [
      "2024-03-16 06:03:07.535629: W tensorflow/core/platform/profile_utils/cpu_utils.cc:128] Failed to get CPU frequency: 0 Hz\n",
      "2024-03-16 06:03:07.806480: I tensorflow/core/grappler/optimizers/custom_graph_optimizer_registry.cc:113] Plugin optimizer for device_type GPU is enabled.\n"
     ]
    },
    {
     "name": "stdout",
     "output_type": "stream",
     "text": [
      "1873/1875 [============================>.] - ETA: 0s - loss: 2.1790 - accuracy: 0.2448"
     ]
    },
    {
     "name": "stderr",
     "output_type": "stream",
     "text": [
      "2024-03-16 06:03:47.184843: I tensorflow/core/grappler/optimizers/custom_graph_optimizer_registry.cc:113] Plugin optimizer for device_type GPU is enabled.\n"
     ]
    },
    {
     "name": "stdout",
     "output_type": "stream",
     "text": [
      "\n",
      "Epoch 1: val_accuracy improved from -inf to 0.38720, saving model to mnist_learning_rate_v1.h5\n",
      "1875/1875 [==============================] - 43s 21ms/step - loss: 2.1787 - accuracy: 0.2448 - val_loss: 2.4321 - val_accuracy: 0.3872\n",
      "Epoch 2/3\n",
      "1873/1875 [============================>.] - ETA: 0s - loss: 1.6027 - accuracy: 0.4742\n",
      "Epoch 2: val_accuracy improved from 0.38720 to 0.56650, saving model to mnist_learning_rate_v1.h5\n",
      "1875/1875 [==============================] - 40s 21ms/step - loss: 1.6026 - accuracy: 0.4742 - val_loss: 1.7631 - val_accuracy: 0.5665\n",
      "Epoch 3/3\n",
      "1875/1875 [==============================] - ETA: 0s - loss: 1.3374 - accuracy: 0.5910\n",
      "Epoch 3: val_accuracy improved from 0.56650 to 0.64910, saving model to mnist_learning_rate_v1.h5\n",
      "1875/1875 [==============================] - 39s 21ms/step - loss: 1.3374 - accuracy: 0.5910 - val_loss: 1.5399 - val_accuracy: 0.6491\n"
     ]
    },
    {
     "data": {
      "text/plain": [
       "<keras.callbacks.History at 0x2c6db0d30>"
      ]
     },
     "execution_count": 34,
     "metadata": {},
     "output_type": "execute_result"
    }
   ],
   "source": [
    "model.fit(X_train,y_train,          \n",
    "          validation_data=(X_test,y_test),\n",
    "          epochs=3,\n",
    "          batch_size=32, \n",
    "          callbacks=[model_checkpoint])"
   ]
  },
  {
   "cell_type": "code",
   "execution_count": null,
   "metadata": {
    "id": "eoba1_UocJLO"
   },
   "outputs": [],
   "source": [
    "model_checkpoint = tf.keras.callbacks.ModelCheckpoint('mnist_batchnorm_v1.h5', save_best_only=True, monitor='val_accuracy', mode='max', verbose=1)"
   ]
  },
  {
   "cell_type": "code",
   "execution_count": null,
   "metadata": {
    "id": "cCx64aYq7SRJ"
   },
   "outputs": [],
   "source": [
    "model.fit(X_train,y_train,          \n",
    "          validation_data=(X_test,y_test),\n",
    "          epochs=15,\n",
    "          batch_size=32, \n",
    "          callbacks=[model_checkpoint])"
   ]
  },
  {
   "cell_type": "code",
   "execution_count": null,
   "metadata": {
    "id": "LsAgRyxxWT_T"
   },
   "outputs": [],
   "source": [
    "model.save('mnist_learning_rate_v1.h5')"
   ]
  },
  {
   "cell_type": "code",
   "execution_count": null,
   "metadata": {
    "id": "2GYh0wkyadQ7"
   },
   "outputs": [],
   "source": [
    "!ls -l"
   ]
  },
  {
   "cell_type": "markdown",
   "metadata": {
    "id": "Cjisqt59gp7l"
   },
   "source": [
    "Load a saved model"
   ]
  },
  {
   "cell_type": "code",
   "execution_count": null,
   "metadata": {
    "id": "rtEgk_5tay8e"
   },
   "outputs": [],
   "source": [
    "model = tf.keras.models.load_model('mnist_v1.h5')"
   ]
  },
  {
   "cell_type": "code",
   "execution_count": null,
   "metadata": {
    "id": "-zB1EYv9m_4e"
   },
   "outputs": [],
   "source": [
    "model.summary()"
   ]
  },
  {
   "cell_type": "markdown",
   "metadata": {
    "id": "Dzuw6nSOm69M"
   },
   "source": [
    "### Model Prediction"
   ]
  },
  {
   "cell_type": "code",
   "execution_count": null,
   "metadata": {
    "id": "1INbtmNwvJ-0"
   },
   "outputs": [],
   "source": [
    "model.predict(testX[0])"
   ]
  },
  {
   "cell_type": "code",
   "execution_count": null,
   "metadata": {
    "id": "ToXxgw8i-gcQ"
   },
   "outputs": [],
   "source": [
    "import numpy as np"
   ]
  },
  {
   "cell_type": "markdown",
   "metadata": {
    "id": "Za3sCZMrf1-g"
   },
   "source": [
    "What input shape model is expecting?"
   ]
  },
  {
   "cell_type": "code",
   "execution_count": null,
   "metadata": {
    "id": "FJyCuyBapHYJ"
   },
   "outputs": [],
   "source": [
    "model.input"
   ]
  },
  {
   "cell_type": "markdown",
   "metadata": {
    "id": "H5X0ikgMf56C"
   },
   "source": [
    "Predicting on first example"
   ]
  },
  {
   "cell_type": "code",
   "execution_count": null,
   "metadata": {
    "id": "ueHiCTJcse5p"
   },
   "outputs": [],
   "source": [
    "testX[0].shape"
   ]
  },
  {
   "cell_type": "code",
   "execution_count": null,
   "metadata": {
    "id": "CDuavBUJdPC2"
   },
   "outputs": [],
   "source": [
    "model.predict(testX[0])"
   ]
  },
  {
   "cell_type": "markdown",
   "metadata": {
    "id": "5b7hZms6f9Pc"
   },
   "source": [
    "Why are we getting the error?"
   ]
  },
  {
   "cell_type": "code",
   "execution_count": null,
   "metadata": {
    "id": "iIXUb0DSOj46"
   },
   "outputs": [],
   "source": [
    "testX[0].shape"
   ]
  },
  {
   "cell_type": "markdown",
   "metadata": {
    "id": "q8qJZrthgA2o"
   },
   "source": [
    "Building a Batch"
   ]
  },
  {
   "cell_type": "code",
   "execution_count": null,
   "metadata": {
    "id": "qTPk1-1-OnMN"
   },
   "outputs": [],
   "source": [
    "input_data = np.expand_dims(testX[0], axis=0)\n",
    "input_data.shape"
   ]
  },
  {
   "cell_type": "markdown",
   "metadata": {
    "id": "gtVUC5_XgDRU"
   },
   "source": [
    "Model Prediction"
   ]
  },
  {
   "cell_type": "code",
   "execution_count": null,
   "metadata": {
    "id": "kF2Pc1xZxmn_"
   },
   "outputs": [],
   "source": [
    "pred = model.predict(input_data)"
   ]
  },
  {
   "cell_type": "code",
   "execution_count": null,
   "metadata": {
    "id": "81RPh-28PQRE"
   },
   "outputs": [],
   "source": [
    "pred.shape"
   ]
  },
  {
   "cell_type": "code",
   "execution_count": null,
   "metadata": {
    "id": "tdS0QNtLwqPv"
   },
   "outputs": [],
   "source": [
    "pred"
   ]
  },
  {
   "cell_type": "code",
   "execution_count": null,
   "metadata": {
    "id": "ZHX4aemJzRRF"
   },
   "outputs": [],
   "source": [
    "pred[0]"
   ]
  },
  {
   "cell_type": "markdown",
   "metadata": {
    "id": "aKxckoKVgJAS"
   },
   "source": [
    "Predicted Class"
   ]
  },
  {
   "cell_type": "code",
   "execution_count": null,
   "metadata": {
    "id": "QXuDg_kTzoFS"
   },
   "outputs": [],
   "source": [
    "np.argmax(pred[0])"
   ]
  },
  {
   "cell_type": "code",
   "execution_count": null,
   "metadata": {
    "id": "_B3RtKmluI1G"
   },
   "outputs": [],
   "source": [
    "np.max(pred[0])"
   ]
  },
  {
   "cell_type": "markdown",
   "metadata": {
    "id": "_-dZh-NagLAl"
   },
   "source": [
    "Actual Class"
   ]
  },
  {
   "cell_type": "code",
   "execution_count": null,
   "metadata": {
    "id": "Oq28b6Q60bGm"
   },
   "outputs": [],
   "source": [
    "np.argmax(testY[0])"
   ]
  },
  {
   "cell_type": "markdown",
   "metadata": {
    "id": "h0pUXhEfgNXa"
   },
   "source": [
    "Visual confirmation"
   ]
  },
  {
   "cell_type": "code",
   "execution_count": null,
   "metadata": {
    "id": "C_dlOJjQzzPa"
   },
   "outputs": [],
   "source": [
    "#Lets print the image as well\n",
    "import matplotlib.pyplot as plt\n",
    "plt.imshow(testX[0],cmap='gray')\n",
    "plt.show()"
   ]
  }
 ],
 "metadata": {
  "accelerator": "GPU",
  "colab": {
   "collapsed_sections": [],
   "name": "7. Classification_MNIST_DNN_Keras - Practice.ipynb",
   "private_outputs": true,
   "provenance": []
  },
  "kernelspec": {
   "display_name": "Python 3 (ipykernel)",
   "language": "python",
   "name": "python3"
  },
  "language_info": {
   "codemirror_mode": {
    "name": "ipython",
    "version": 3
   },
   "file_extension": ".py",
   "mimetype": "text/x-python",
   "name": "python",
   "nbconvert_exporter": "python",
   "pygments_lexer": "ipython3",
   "version": "3.9.13"
  }
 },
 "nbformat": 4,
 "nbformat_minor": 4
}
