{
 "cells": [
  {
   "cell_type": "markdown",
   "metadata": {
    "id": "2FOkt_PVMd6h"
   },
   "source": [
    "#### Load tensorflow"
   ]
  },
  {
   "cell_type": "code",
   "execution_count": 1,
   "metadata": {
    "id": "QknvBKm3Md6j"
   },
   "outputs": [],
   "source": [
    "import tensorflow as tf\n",
    "import matplotlib.pyplot as plt\n",
    "import numpy as np"
   ]
  },
  {
   "cell_type": "markdown",
   "metadata": {
    "id": "QHbDtQQJMd6m"
   },
   "source": [
    "#### Collect Data\n",
    "\n",
    "We will use MNIST dataset for this exercise. This dataset contains images of hand written numbers with each image being a black & white picture of size 28x28. We will download the data using tensorflow API. The dataset has 60,000 training examples and 10,000 test examples. Please note that images have already been converted to numpy arrays."
   ]
  },
  {
   "cell_type": "code",
   "execution_count": 2,
   "metadata": {
    "id": "AJ6bJeCGMd6n"
   },
   "outputs": [
    {
     "name": "stdout",
     "output_type": "stream",
     "text": [
      "Downloading data from https://storage.googleapis.com/tensorflow/tf-keras-datasets/train-labels-idx1-ubyte.gz\n",
      "29515/29515 [==============================] - 0s 1us/step\n",
      "Downloading data from https://storage.googleapis.com/tensorflow/tf-keras-datasets/train-images-idx3-ubyte.gz\n",
      "26421880/26421880 [==============================] - 7s 0us/step\n",
      "Downloading data from https://storage.googleapis.com/tensorflow/tf-keras-datasets/t10k-labels-idx1-ubyte.gz\n",
      "5148/5148 [==============================] - 0s 0us/step\n",
      "Downloading data from https://storage.googleapis.com/tensorflow/tf-keras-datasets/t10k-images-idx3-ubyte.gz\n",
      "4422102/4422102 [==============================] - 1s 0us/step\n"
     ]
    }
   ],
   "source": [
    "#Download dataset\n",
    "(X_train, y_train),(X_test, y_test) = tf.keras.datasets.fashion_mnist.load_data()"
   ]
  },
  {
   "cell_type": "code",
   "execution_count": 3,
   "metadata": {
    "id": "OAv--_-Spq4F"
   },
   "outputs": [
    {
     "data": {
      "text/plain": [
       "(60000, 28, 28)"
      ]
     },
     "execution_count": 3,
     "metadata": {},
     "output_type": "execute_result"
    }
   ],
   "source": [
    "#Check number of training examples and size of each example\n",
    "X_train.shape"
   ]
  },
  {
   "cell_type": "code",
   "execution_count": 4,
   "metadata": {
    "id": "mWBOngBwpy2D"
   },
   "outputs": [
    {
     "data": {
      "text/plain": [
       "(10000, 28, 28)"
      ]
     },
     "execution_count": 4,
     "metadata": {},
     "output_type": "execute_result"
    }
   ],
   "source": [
    "#Check number of test examples and size of each example\n",
    "X_test.shape"
   ]
  },
  {
   "cell_type": "markdown",
   "metadata": {
    "id": "DeCvkynAMq0J"
   },
   "source": [
    "Visualize data"
   ]
  },
  {
   "cell_type": "code",
   "execution_count": 5,
   "metadata": {
    "id": "JcotzAiyMp1F"
   },
   "outputs": [
    {
     "data": {
      "image/png": "[encoded data removed]",
      "text/plain": [
       "<Figure size 640x480 with 1 Axes>"
      ]
     },
     "metadata": {},
     "output_type": "display_data"
    }
   ],
   "source": [
    "img_num = np.random.randint(0, X_test.shape[0]) #Get a random integer between 0 and number of examples in test dataset\n",
    "plt.imshow(X_test[img_num],cmap='gray') #Show the image from test dataset\n",
    "plt.suptitle('Number: ' + str(y_test[img_num]))\n",
    "plt.show()"
   ]
  },
  {
   "cell_type": "code",
   "execution_count": 61,
   "metadata": {},
   "outputs": [
    {
     "name": "stdout",
     "output_type": "stream",
     "text": [
      "Category Labels:\n",
      "0 -> T-shirt/top\n",
      "1 -> Trouser\n",
      "2 -> Pullover\n",
      "3 -> Dress\n",
      "4 -> Coat\n",
      "5 -> Sandal\n",
      "6 -> Shirt\n",
      "7 -> Sneaker\n",
      "8 -> Bag\n",
      "9 -> Ankle boot\n"
     ]
    }
   ],
   "source": [
    "import tensorflow as tf\n",
    "\n",
    "# Load the Fashion MNIST dataset\n",
    "fashion_mnist = tf.keras.datasets.fashion_mnist\n",
    "\n",
    "# Load the training and testing data\n",
    "(train_images, train_labels), (test_images, test_labels) = fashion_mnist.load_data()\n",
    "\n",
    "# Print the category labels\n",
    "class_names = ['T-shirt/top', 'Trouser', 'Pullover', 'Dress', 'Coat',\n",
    "               'Sandal', 'Shirt', 'Sneaker', 'Bag', 'Ankle boot']\n",
    "print(\"Category Labels:\")\n",
    "for label, class_name in enumerate(class_names):\n",
    "    print(label, \"->\", class_name)\n"
   ]
  },
  {
   "cell_type": "markdown",
   "metadata": {
    "id": "8rxmqpkpMd6r"
   },
   "source": [
    "#### Prepare Labels\n",
    "Convert Output label to multiple values"
   ]
  },
  {
   "cell_type": "code",
   "execution_count": 6,
   "metadata": {
    "id": "EijfLL3NqABx"
   },
   "outputs": [
    {
     "data": {
      "text/plain": [
       "9"
      ]
     },
     "execution_count": 6,
     "metadata": {},
     "output_type": "execute_result"
    }
   ],
   "source": [
    "#Label for an example\n",
    "y_test[0]"
   ]
  },
  {
   "cell_type": "code",
   "execution_count": 7,
   "metadata": {
    "id": "Jr8yucgyMd6s"
   },
   "outputs": [],
   "source": [
    "y_train = tf.keras.utils.to_categorical(y_train, num_classes=10)\n",
    "y_test = tf.keras.utils.to_categorical(y_test, num_classes=10)"
   ]
  },
  {
   "cell_type": "code",
   "execution_count": 8,
   "metadata": {
    "id": "RnY9Bqx0qHkM"
   },
   "outputs": [
    {
     "data": {
      "text/plain": [
       "array([0., 0., 0., 0., 0., 0., 0., 0., 0., 1.], dtype=float32)"
      ]
     },
     "execution_count": 8,
     "metadata": {},
     "output_type": "execute_result"
    }
   ],
   "source": [
    "#Label for same example after one hot encoding\n",
    "y_test[0]"
   ]
  },
  {
   "cell_type": "code",
   "execution_count": 9,
   "metadata": {
    "id": "N__oC9y3W3ye"
   },
   "outputs": [
    {
     "data": {
      "text/plain": [
       "(60000, 28, 28)"
      ]
     },
     "execution_count": 9,
     "metadata": {},
     "output_type": "execute_result"
    }
   ],
   "source": [
    "X_train.shape"
   ]
  },
  {
   "cell_type": "code",
   "execution_count": 10,
   "metadata": {
    "id": "9jkAMRm7XAPi"
   },
   "outputs": [],
   "source": [
    "small_X_train = X_train[0:1000]"
   ]
  },
  {
   "cell_type": "code",
   "execution_count": 11,
   "metadata": {
    "id": "Y4_6zabaXFpI"
   },
   "outputs": [
    {
     "data": {
      "text/plain": [
       "(1000, 28, 28)"
      ]
     },
     "execution_count": 11,
     "metadata": {},
     "output_type": "execute_result"
    }
   ],
   "source": [
    "small_X_train.shape"
   ]
  },
  {
   "cell_type": "code",
   "execution_count": 12,
   "metadata": {
    "id": "jkaTySIlXLvF"
   },
   "outputs": [],
   "source": [
    "small_y_train = y_train[0:1000]"
   ]
  },
  {
   "cell_type": "code",
   "execution_count": 13,
   "metadata": {
    "id": "DsE2sNHeXPSu"
   },
   "outputs": [
    {
     "data": {
      "text/plain": [
       "(1000, 10)"
      ]
     },
     "execution_count": 13,
     "metadata": {},
     "output_type": "execute_result"
    }
   ],
   "source": [
    "small_y_train.shape"
   ]
  },
  {
   "cell_type": "markdown",
   "metadata": {
    "id": "nACcpZ6oMd6z"
   },
   "source": [
    "#### Build the Graph"
   ]
  },
  {
   "cell_type": "code",
   "execution_count": 63,
   "metadata": {
    "id": "9h6GBSH6Md61"
   },
   "outputs": [],
   "source": [
    "#Initialize Sequential model\n",
    "tf.keras.backend.clear_session()\n",
    "\n",
    "model = tf.keras.models.Sequential()\n",
    "\n",
    "#Reshape data from 2D to 1D -> 28x28 to 784\n",
    "model.add(tf.keras.layers.Reshape((784,),input_shape=(28,28,)))\n",
    "\n",
    "#Normalize the data\n",
    "model.add(tf.keras.layers.BatchNormalization())"
   ]
  },
  {
   "cell_type": "code",
   "execution_count": 64,
   "metadata": {
    "id": "hLuGo9xeO_oE"
   },
   "outputs": [
    {
     "data": {
      "text/plain": [
       "<KerasTensor: shape=(None, 784) dtype=float32 (created by layer 'batch_normalization')>"
      ]
     },
     "execution_count": 64,
     "metadata": {},
     "output_type": "execute_result"
    }
   ],
   "source": [
    "model.output"
   ]
  },
  {
   "cell_type": "markdown",
   "metadata": {
    "id": "imGSX5XjMd66"
   },
   "source": [
    "Add Hidden Layers"
   ]
  },
  {
   "cell_type": "code",
   "execution_count": 65,
   "metadata": {
    "id": "Oj8TnaTxMd68"
   },
   "outputs": [],
   "source": [
    "#Add 1st hidden layer - check by changing the activation function to softmax\n",
    "model.add(tf.keras.layers.Dense(200, activation='sigmoid'))"
   ]
  },
  {
   "cell_type": "code",
   "execution_count": 66,
   "metadata": {},
   "outputs": [],
   "source": [
    "#model.add(tf.keras.layers.Dropout(0.4))"
   ]
  },
  {
   "cell_type": "code",
   "execution_count": 67,
   "metadata": {
    "id": "qPwtp7-yhEJK"
   },
   "outputs": [
    {
     "data": {
      "text/plain": [
       "<KerasTensor: shape=(None, 200) dtype=float32 (created by layer 'dense')>"
      ]
     },
     "execution_count": 67,
     "metadata": {},
     "output_type": "execute_result"
    }
   ],
   "source": [
    "model.output"
   ]
  },
  {
   "cell_type": "code",
   "execution_count": 68,
   "metadata": {
    "id": "ZOk_9OMRes8J"
   },
   "outputs": [],
   "source": [
    "model.add(tf.keras.layers.BatchNormalization())"
   ]
  },
  {
   "cell_type": "code",
   "execution_count": 69,
   "metadata": {
    "id": "kIGhSMC6ezKB"
   },
   "outputs": [
    {
     "data": {
      "text/plain": [
       "<KerasTensor: shape=(None, 200) dtype=float32 (created by layer 'batch_normalization_1')>"
      ]
     },
     "execution_count": 69,
     "metadata": {},
     "output_type": "execute_result"
    }
   ],
   "source": [
    "model.output"
   ]
  },
  {
   "cell_type": "code",
   "execution_count": 70,
   "metadata": {
    "id": "BQvERJeKMd7A"
   },
   "outputs": [],
   "source": [
    "#Add 2nd hidden layer\n",
    "model.add(tf.keras.layers.Dense(100, activation='relu'))"
   ]
  },
  {
   "cell_type": "code",
   "execution_count": 71,
   "metadata": {},
   "outputs": [],
   "source": [
    "#model.add(tf.keras.layers.LeakyReLU(0.03))\n",
    "#change activation to sigmoid and use optimizer = 'adam'"
   ]
  },
  {
   "cell_type": "code",
   "execution_count": 72,
   "metadata": {
    "id": "9-P8w7fNe6_3"
   },
   "outputs": [],
   "source": [
    "model.add(tf.keras.layers.BatchNormalization())"
   ]
  },
  {
   "cell_type": "code",
   "execution_count": 73,
   "metadata": {
    "id": "a_rnC2j2he-P"
   },
   "outputs": [
    {
     "data": {
      "text/plain": [
       "<KerasTensor: shape=(None, 100) dtype=float32 (created by layer 'batch_normalization_2')>"
      ]
     },
     "execution_count": 73,
     "metadata": {},
     "output_type": "execute_result"
    }
   ],
   "source": [
    "model.output"
   ]
  },
  {
   "cell_type": "code",
   "execution_count": 74,
   "metadata": {
    "id": "pwcz87-MMd7E"
   },
   "outputs": [],
   "source": [
    "#Add 3rd hidden layer\n",
    "model.add(tf.keras.layers.Dense(60, activation='relu'))"
   ]
  },
  {
   "cell_type": "code",
   "execution_count": 75,
   "metadata": {
    "id": "lCKbF6DxkzMn"
   },
   "outputs": [],
   "source": [
    "model.add(tf.keras.layers.BatchNormalization())"
   ]
  },
  {
   "cell_type": "code",
   "execution_count": 76,
   "metadata": {
    "id": "C4j9Cm1IMd7J"
   },
   "outputs": [],
   "source": [
    "#Add 4th hidden layer\n",
    "model.add(tf.keras.layers.Dense(30, activation='relu'))"
   ]
  },
  {
   "cell_type": "code",
   "execution_count": 77,
   "metadata": {
    "id": "5jn6mmV6e-3g"
   },
   "outputs": [],
   "source": [
    "model.add(tf.keras.layers.BatchNormalization())"
   ]
  },
  {
   "cell_type": "code",
   "execution_count": 78,
   "metadata": {
    "id": "GMkpspE8kqCn"
   },
   "outputs": [
    {
     "data": {
      "text/plain": [
       "<KerasTensor: shape=(None, 30) dtype=float32 (created by layer 'batch_normalization_4')>"
      ]
     },
     "execution_count": 78,
     "metadata": {},
     "output_type": "execute_result"
    }
   ],
   "source": [
    "model.output"
   ]
  },
  {
   "cell_type": "markdown",
   "metadata": {
    "id": "vdlnZCPIggCO"
   },
   "source": [
    "Add Output Layer"
   ]
  },
  {
   "cell_type": "code",
   "execution_count": 79,
   "metadata": {
    "id": "G05v_Zy9Md7Q"
   },
   "outputs": [],
   "source": [
    "#Add OUTPUT layer\n",
    "model.add(tf.keras.layers.Dense(10, activation='softmax'))"
   ]
  },
  {
   "cell_type": "markdown",
   "metadata": {
    "id": "pYNxSLydMd7U"
   },
   "source": [
    "Compile the Model"
   ]
  },
  {
   "cell_type": "code",
   "execution_count": 80,
   "metadata": {
    "id": "FJWmzZ2vMd7W"
   },
   "outputs": [],
   "source": [
    "#Compile the model\n",
    "# sgd_optimizer = tf.keras.optimizers.SGD(learning_rate=0.1, momentum=0.9, nesterov=True)\n",
    "\n",
    "# model.compile(optimizer='adam', loss='categorical_crossentropy', \n",
    "#               metrics=['accuracy'])\n",
    "\n",
    "sgd_optimizer = tf.keras.optimizers.SGD(learning_rate=0.001)\n",
    "model.compile(optimizer=sgd_optimizer, loss='categorical_crossentropy', \n",
    "              metrics=['accuracy'])\n"
   ]
  },
  {
   "cell_type": "markdown",
   "metadata": {
    "id": "gW7j_VfVMd7a"
   },
   "source": [
    "Review model"
   ]
  },
  {
   "cell_type": "code",
   "execution_count": 81,
   "metadata": {
    "id": "-T-DO281ZgCo"
   },
   "outputs": [
    {
     "name": "stdout",
     "output_type": "stream",
     "text": [
      "Model: \"sequential\"\n",
      "_________________________________________________________________\n",
      " Layer (type)                Output Shape              Param #   \n",
      "=================================================================\n",
      " reshape (Reshape)           (None, 784)               0         \n",
      "                                                                 \n",
      " batch_normalization (BatchN  (None, 784)              3136      \n",
      " ormalization)                                                   \n",
      "                                                                 \n",
      " dense (Dense)               (None, 200)               157000    \n",
      "                                                                 \n",
      " batch_normalization_1 (Batc  (None, 200)              800       \n",
      " hNormalization)                                                 \n",
      "                                                                 \n",
      " dense_1 (Dense)             (None, 100)               20100     \n",
      "                                                                 \n",
      " batch_normalization_2 (Batc  (None, 100)              400       \n",
      " hNormalization)                                                 \n",
      "                                                                 \n",
      " dense_2 (Dense)             (None, 60)                6060      \n",
      "                                                                 \n",
      " batch_normalization_3 (Batc  (None, 60)               240       \n",
      " hNormalization)                                                 \n",
      "                                                                 \n",
      " dense_3 (Dense)             (None, 30)                1830      \n",
      "                                                                 \n",
      " batch_normalization_4 (Batc  (None, 30)               120       \n",
      " hNormalization)                                                 \n",
      "                                                                 \n",
      " dense_4 (Dense)             (None, 10)                310       \n",
      "                                                                 \n",
      "=================================================================\n",
      "Total params: 189,996\n",
      "Trainable params: 187,648\n",
      "Non-trainable params: 2,348\n",
      "_________________________________________________________________\n"
     ]
    }
   ],
   "source": [
    "model.summary()"
   ]
  },
  {
   "cell_type": "markdown",
   "metadata": {
    "id": "Lblu99B6Md7l"
   },
   "source": [
    "#### Train the model"
   ]
  },
  {
   "cell_type": "code",
   "execution_count": 82,
   "metadata": {
    "id": "eoba1_UocJLO"
   },
   "outputs": [],
   "source": [
    "model_checkpoint = tf.keras.callbacks.ModelCheckpoint('mnist_fashon_v1.h5', save_best_only=True, monitor='val_accuracy', mode='max', verbose=1)"
   ]
  },
  {
   "cell_type": "code",
   "execution_count": 83,
   "metadata": {
    "id": "cCx64aYq7SRJ"
   },
   "outputs": [
    {
     "name": "stdout",
     "output_type": "stream",
     "text": [
      "Epoch 1/25\n"
     ]
    },
    {
     "name": "stderr",
     "output_type": "stream",
     "text": [
      "2024-03-15 20:50:48.968077: I tensorflow/core/grappler/optimizers/custom_graph_optimizer_registry.cc:113] Plugin optimizer for device_type GPU is enabled.\n"
     ]
    },
    {
     "name": "stdout",
     "output_type": "stream",
     "text": [
      "1875/1875 [==============================] - ETA: 0s - loss: 1.1357 - accuracy: 0.6557"
     ]
    },
    {
     "name": "stderr",
     "output_type": "stream",
     "text": [
      "2024-03-15 20:51:25.406120: I tensorflow/core/grappler/optimizers/custom_graph_optimizer_registry.cc:113] Plugin optimizer for device_type GPU is enabled.\n"
     ]
    },
    {
     "name": "stdout",
     "output_type": "stream",
     "text": [
      "\n",
      "Epoch 1: val_accuracy improved from -inf to 0.77580, saving model to mnist_fashon_v1.h5\n",
      "1875/1875 [==============================] - 40s 21ms/step - loss: 1.1357 - accuracy: 0.6557 - val_loss: 0.7368 - val_accuracy: 0.7758\n",
      "Epoch 2/25\n",
      "1875/1875 [==============================] - ETA: 0s - loss: 0.7293 - accuracy: 0.7743\n",
      "Epoch 2: val_accuracy improved from 0.77580 to 0.80920, saving model to mnist_fashon_v1.h5\n",
      "1875/1875 [==============================] - 39s 21ms/step - loss: 0.7293 - accuracy: 0.7743 - val_loss: 0.5988 - val_accuracy: 0.8092\n",
      "Epoch 3/25\n",
      "1874/1875 [============================>.] - ETA: 0s - loss: 0.6254 - accuracy: 0.7984\n",
      "Epoch 3: val_accuracy improved from 0.80920 to 0.82400, saving model to mnist_fashon_v1.h5\n",
      "1875/1875 [==============================] - 40s 21ms/step - loss: 0.6254 - accuracy: 0.7984 - val_loss: 0.5365 - val_accuracy: 0.8240\n",
      "Epoch 4/25\n",
      "1875/1875 [==============================] - ETA: 0s - loss: 0.5732 - accuracy: 0.8093\n",
      "Epoch 4: val_accuracy improved from 0.82400 to 0.83650, saving model to mnist_fashon_v1.h5\n",
      "1875/1875 [==============================] - 41s 22ms/step - loss: 0.5732 - accuracy: 0.8093 - val_loss: 0.4983 - val_accuracy: 0.8365\n",
      "Epoch 5/25\n",
      "1875/1875 [==============================] - ETA: 0s - loss: 0.5348 - accuracy: 0.8214\n",
      "Epoch 5: val_accuracy improved from 0.83650 to 0.83930, saving model to mnist_fashon_v1.h5\n",
      "1875/1875 [==============================] - 41s 22ms/step - loss: 0.5348 - accuracy: 0.8214 - val_loss: 0.4769 - val_accuracy: 0.8393\n",
      "Epoch 6/25\n",
      "1873/1875 [============================>.] - ETA: 0s - loss: 0.5140 - accuracy: 0.8260\n",
      "Epoch 6: val_accuracy improved from 0.83930 to 0.84270, saving model to mnist_fashon_v1.h5\n",
      "1875/1875 [==============================] - 41s 22ms/step - loss: 0.5139 - accuracy: 0.8261 - val_loss: 0.4598 - val_accuracy: 0.8427\n",
      "Epoch 7/25\n",
      "1874/1875 [============================>.] - ETA: 0s - loss: 0.4894 - accuracy: 0.8339\n",
      "Epoch 7: val_accuracy improved from 0.84270 to 0.84690, saving model to mnist_fashon_v1.h5\n",
      "1875/1875 [==============================] - 41s 22ms/step - loss: 0.4893 - accuracy: 0.8339 - val_loss: 0.4461 - val_accuracy: 0.8469\n",
      "Epoch 8/25\n",
      "1873/1875 [============================>.] - ETA: 0s - loss: 0.4783 - accuracy: 0.8369\n",
      "Epoch 8: val_accuracy improved from 0.84690 to 0.84820, saving model to mnist_fashon_v1.h5\n",
      "1875/1875 [==============================] - 41s 22ms/step - loss: 0.4782 - accuracy: 0.8370 - val_loss: 0.4363 - val_accuracy: 0.8482\n",
      "Epoch 9/25\n",
      "1875/1875 [==============================] - ETA: 0s - loss: 0.4619 - accuracy: 0.8421\n",
      "Epoch 9: val_accuracy improved from 0.84820 to 0.85200, saving model to mnist_fashon_v1.h5\n",
      "1875/1875 [==============================] - 41s 22ms/step - loss: 0.4619 - accuracy: 0.8421 - val_loss: 0.4275 - val_accuracy: 0.8520\n",
      "Epoch 10/25\n",
      "1874/1875 [============================>.] - ETA: 0s - loss: 0.4494 - accuracy: 0.8458\n",
      "Epoch 10: val_accuracy improved from 0.85200 to 0.85480, saving model to mnist_fashon_v1.h5\n",
      "1875/1875 [==============================] - 41s 22ms/step - loss: 0.4493 - accuracy: 0.8457 - val_loss: 0.4185 - val_accuracy: 0.8548\n",
      "Epoch 11/25\n",
      "1873/1875 [============================>.] - ETA: 0s - loss: 0.4404 - accuracy: 0.8464\n",
      "Epoch 11: val_accuracy did not improve from 0.85480\n",
      "1875/1875 [==============================] - 41s 22ms/step - loss: 0.4404 - accuracy: 0.8464 - val_loss: 0.4149 - val_accuracy: 0.8548\n",
      "Epoch 12/25\n",
      "1874/1875 [============================>.] - ETA: 0s - loss: 0.4335 - accuracy: 0.8509\n",
      "Epoch 12: val_accuracy improved from 0.85480 to 0.85620, saving model to mnist_fashon_v1.h5\n",
      "1875/1875 [==============================] - 42s 22ms/step - loss: 0.4337 - accuracy: 0.8508 - val_loss: 0.4066 - val_accuracy: 0.8562\n",
      "Epoch 13/25\n",
      "1875/1875 [==============================] - ETA: 0s - loss: 0.4218 - accuracy: 0.8536\n",
      "Epoch 13: val_accuracy improved from 0.85620 to 0.85820, saving model to mnist_fashon_v1.h5\n",
      "1875/1875 [==============================] - 41s 22ms/step - loss: 0.4218 - accuracy: 0.8536 - val_loss: 0.4028 - val_accuracy: 0.8582\n",
      "Epoch 14/25\n",
      "1874/1875 [============================>.] - ETA: 0s - loss: 0.4125 - accuracy: 0.8569\n",
      "Epoch 14: val_accuracy improved from 0.85820 to 0.85920, saving model to mnist_fashon_v1.h5\n",
      "1875/1875 [==============================] - 41s 22ms/step - loss: 0.4124 - accuracy: 0.8569 - val_loss: 0.3957 - val_accuracy: 0.8592\n",
      "Epoch 15/25\n",
      "1875/1875 [==============================] - ETA: 0s - loss: 0.4106 - accuracy: 0.8576\n",
      "Epoch 15: val_accuracy improved from 0.85920 to 0.86040, saving model to mnist_fashon_v1.h5\n",
      "1875/1875 [==============================] - 41s 22ms/step - loss: 0.4106 - accuracy: 0.8576 - val_loss: 0.3952 - val_accuracy: 0.8604\n",
      "Epoch 16/25\n",
      "1875/1875 [==============================] - ETA: 0s - loss: 0.4029 - accuracy: 0.8600\n",
      "Epoch 16: val_accuracy did not improve from 0.86040\n",
      "1875/1875 [==============================] - 41s 22ms/step - loss: 0.4029 - accuracy: 0.8600 - val_loss: 0.3941 - val_accuracy: 0.8597\n",
      "Epoch 17/25\n",
      "1873/1875 [============================>.] - ETA: 0s - loss: 0.3962 - accuracy: 0.8608\n",
      "Epoch 17: val_accuracy improved from 0.86040 to 0.86360, saving model to mnist_fashon_v1.h5\n",
      "1875/1875 [==============================] - 41s 22ms/step - loss: 0.3963 - accuracy: 0.8608 - val_loss: 0.3869 - val_accuracy: 0.8636\n",
      "Epoch 18/25\n",
      "1874/1875 [============================>.] - ETA: 0s - loss: 0.3918 - accuracy: 0.8626\n",
      "Epoch 18: val_accuracy did not improve from 0.86360\n",
      "1875/1875 [==============================] - 42s 22ms/step - loss: 0.3918 - accuracy: 0.8626 - val_loss: 0.3856 - val_accuracy: 0.8605\n",
      "Epoch 19/25\n",
      "1873/1875 [============================>.] - ETA: 0s - loss: 0.3876 - accuracy: 0.8641\n",
      "Epoch 19: val_accuracy did not improve from 0.86360\n",
      "1875/1875 [==============================] - 42s 22ms/step - loss: 0.3875 - accuracy: 0.8642 - val_loss: 0.3804 - val_accuracy: 0.8616\n",
      "Epoch 20/25\n",
      "1874/1875 [============================>.] - ETA: 0s - loss: 0.3833 - accuracy: 0.8642\n",
      "Epoch 20: val_accuracy improved from 0.86360 to 0.86470, saving model to mnist_fashon_v1.h5\n",
      "1875/1875 [==============================] - 42s 22ms/step - loss: 0.3833 - accuracy: 0.8642 - val_loss: 0.3776 - val_accuracy: 0.8647\n",
      "Epoch 21/25\n",
      "1875/1875 [==============================] - ETA: 0s - loss: 0.3756 - accuracy: 0.8675\n",
      "Epoch 21: val_accuracy did not improve from 0.86470\n",
      "1875/1875 [==============================] - 41s 22ms/step - loss: 0.3756 - accuracy: 0.8675 - val_loss: 0.3756 - val_accuracy: 0.8640\n",
      "Epoch 22/25\n",
      "1873/1875 [============================>.] - ETA: 0s - loss: 0.3691 - accuracy: 0.8683\n",
      "Epoch 22: val_accuracy improved from 0.86470 to 0.86680, saving model to mnist_fashon_v1.h5\n",
      "1875/1875 [==============================] - 41s 22ms/step - loss: 0.3690 - accuracy: 0.8684 - val_loss: 0.3742 - val_accuracy: 0.8668\n",
      "Epoch 23/25\n",
      "1873/1875 [============================>.] - ETA: 0s - loss: 0.3669 - accuracy: 0.8692\n",
      "Epoch 23: val_accuracy improved from 0.86680 to 0.86690, saving model to mnist_fashon_v1.h5\n",
      "1875/1875 [==============================] - 40s 22ms/step - loss: 0.3670 - accuracy: 0.8692 - val_loss: 0.3719 - val_accuracy: 0.8669\n",
      "Epoch 24/25\n",
      "1874/1875 [============================>.] - ETA: 0s - loss: 0.3649 - accuracy: 0.8696\n",
      "Epoch 24: val_accuracy improved from 0.86690 to 0.86840, saving model to mnist_fashon_v1.h5\n",
      "1875/1875 [==============================] - 40s 21ms/step - loss: 0.3649 - accuracy: 0.8696 - val_loss: 0.3694 - val_accuracy: 0.8684\n",
      "Epoch 25/25\n",
      "1875/1875 [==============================] - ETA: 0s - loss: 0.3604 - accuracy: 0.8724\n",
      "Epoch 25: val_accuracy improved from 0.86840 to 0.86960, saving model to mnist_fashon_v1.h5\n",
      "1875/1875 [==============================] - 40s 22ms/step - loss: 0.3604 - accuracy: 0.8724 - val_loss: 0.3666 - val_accuracy: 0.8696\n"
     ]
    },
    {
     "data": {
      "text/plain": [
       "<keras.callbacks.History at 0x2e0d20a60>"
      ]
     },
     "execution_count": 83,
     "metadata": {},
     "output_type": "execute_result"
    }
   ],
   "source": [
    "model.fit(X_train,y_train,          \n",
    "          validation_data=(X_test,y_test),\n",
    "          epochs=25,\n",
    "          batch_size=32, \n",
    "          callbacks=[model_checkpoint])"
   ]
  },
  {
   "cell_type": "code",
   "execution_count": 84,
   "metadata": {
    "id": "LsAgRyxxWT_T"
   },
   "outputs": [],
   "source": [
    "model.save('mnist_fashon_v1.h5')"
   ]
  },
  {
   "cell_type": "code",
   "execution_count": 86,
   "metadata": {},
   "outputs": [
    {
     "name": "stdout",
     "output_type": "stream",
     "text": [
      "Epoch 26/100\n",
      "1873/1875 [============================>.] - ETA: 0s - loss: 0.3577 - accuracy: 0.8730\n",
      "Epoch 26: val_accuracy improved from 0.86960 to 0.86990, saving model to mnist_fashon_v1.h5\n",
      "1875/1875 [==============================] - 41s 22ms/step - loss: 0.3578 - accuracy: 0.8730 - val_loss: 0.3652 - val_accuracy: 0.8699\n",
      "Epoch 27/100\n",
      "1875/1875 [==============================] - ETA: 0s - loss: 0.3534 - accuracy: 0.8744\n",
      "Epoch 27: val_accuracy did not improve from 0.86990\n",
      "1875/1875 [==============================] - 41s 22ms/step - loss: 0.3534 - accuracy: 0.8744 - val_loss: 0.3627 - val_accuracy: 0.8696\n",
      "Epoch 28/100\n",
      "1873/1875 [============================>.] - ETA: 0s - loss: 0.3482 - accuracy: 0.8768\n",
      "Epoch 28: val_accuracy improved from 0.86990 to 0.87060, saving model to mnist_fashon_v1.h5\n",
      "1875/1875 [==============================] - 41s 22ms/step - loss: 0.3481 - accuracy: 0.8768 - val_loss: 0.3618 - val_accuracy: 0.8706\n",
      "Epoch 29/100\n",
      "1873/1875 [============================>.] - ETA: 0s - loss: 0.3470 - accuracy: 0.8753\n",
      "Epoch 29: val_accuracy improved from 0.87060 to 0.87240, saving model to mnist_fashon_v1.h5\n",
      "1875/1875 [==============================] - 41s 22ms/step - loss: 0.3470 - accuracy: 0.8753 - val_loss: 0.3576 - val_accuracy: 0.8724\n",
      "Epoch 30/100\n",
      "1874/1875 [============================>.] - ETA: 0s - loss: 0.3451 - accuracy: 0.8779\n",
      "Epoch 30: val_accuracy improved from 0.87240 to 0.87370, saving model to mnist_fashon_v1.h5\n",
      "1875/1875 [==============================] - 42s 22ms/step - loss: 0.3451 - accuracy: 0.8779 - val_loss: 0.3576 - val_accuracy: 0.8737\n",
      "Epoch 31/100\n",
      "1874/1875 [============================>.] - ETA: 0s - loss: 0.3397 - accuracy: 0.8785\n",
      "Epoch 31: val_accuracy did not improve from 0.87370\n",
      "1875/1875 [==============================] - 41s 22ms/step - loss: 0.3397 - accuracy: 0.8784 - val_loss: 0.3604 - val_accuracy: 0.8724\n",
      "Epoch 32/100\n",
      "1875/1875 [==============================] - ETA: 0s - loss: 0.3376 - accuracy: 0.8793\n",
      "Epoch 32: val_accuracy improved from 0.87370 to 0.87450, saving model to mnist_fashon_v1.h5\n",
      "1875/1875 [==============================] - 42s 22ms/step - loss: 0.3376 - accuracy: 0.8793 - val_loss: 0.3570 - val_accuracy: 0.8745\n",
      "Epoch 33/100\n",
      "1874/1875 [============================>.] - ETA: 0s - loss: 0.3341 - accuracy: 0.8813\n",
      "Epoch 33: val_accuracy did not improve from 0.87450\n",
      "1875/1875 [==============================] - 41s 22ms/step - loss: 0.3341 - accuracy: 0.8813 - val_loss: 0.3578 - val_accuracy: 0.8725\n",
      "Epoch 34/100\n",
      "1874/1875 [============================>.] - ETA: 0s - loss: 0.3320 - accuracy: 0.8809\n",
      "Epoch 34: val_accuracy did not improve from 0.87450\n",
      "1875/1875 [==============================] - 41s 22ms/step - loss: 0.3320 - accuracy: 0.8809 - val_loss: 0.3552 - val_accuracy: 0.8731\n",
      "Epoch 35/100\n",
      "1874/1875 [============================>.] - ETA: 0s - loss: 0.3291 - accuracy: 0.8816\n",
      "Epoch 35: val_accuracy did not improve from 0.87450\n",
      "1875/1875 [==============================] - 42s 22ms/step - loss: 0.3289 - accuracy: 0.8816 - val_loss: 0.3526 - val_accuracy: 0.8741\n",
      "Epoch 36/100\n",
      "1875/1875 [==============================] - ETA: 0s - loss: 0.3281 - accuracy: 0.8828\n",
      "Epoch 36: val_accuracy did not improve from 0.87450\n",
      "1875/1875 [==============================] - 42s 22ms/step - loss: 0.3281 - accuracy: 0.8828 - val_loss: 0.3538 - val_accuracy: 0.8742\n",
      "Epoch 37/100\n",
      "1873/1875 [============================>.] - ETA: 0s - loss: 0.3253 - accuracy: 0.8835\n",
      "Epoch 37: val_accuracy did not improve from 0.87450\n",
      "1875/1875 [==============================] - 42s 22ms/step - loss: 0.3253 - accuracy: 0.8835 - val_loss: 0.3538 - val_accuracy: 0.8741\n",
      "Epoch 38/100\n",
      "1873/1875 [============================>.] - ETA: 0s - loss: 0.3227 - accuracy: 0.8839\n",
      "Epoch 38: val_accuracy did not improve from 0.87450\n",
      "1875/1875 [==============================] - 41s 22ms/step - loss: 0.3225 - accuracy: 0.8840 - val_loss: 0.3516 - val_accuracy: 0.8734\n",
      "Epoch 39/100\n",
      "1874/1875 [============================>.] - ETA: 0s - loss: 0.3221 - accuracy: 0.8845\n",
      "Epoch 39: val_accuracy did not improve from 0.87450\n",
      "1875/1875 [==============================] - 41s 22ms/step - loss: 0.3220 - accuracy: 0.8845 - val_loss: 0.3506 - val_accuracy: 0.8737\n",
      "Epoch 40/100\n",
      "1873/1875 [============================>.] - ETA: 0s - loss: 0.3166 - accuracy: 0.8861\n",
      "Epoch 40: val_accuracy improved from 0.87450 to 0.87700, saving model to mnist_fashon_v1.h5\n",
      "1875/1875 [==============================] - 42s 22ms/step - loss: 0.3165 - accuracy: 0.8862 - val_loss: 0.3498 - val_accuracy: 0.8770\n",
      "Epoch 41/100\n",
      "1874/1875 [============================>.] - ETA: 0s - loss: 0.3125 - accuracy: 0.8878\n",
      "Epoch 41: val_accuracy did not improve from 0.87700\n",
      "1875/1875 [==============================] - 42s 22ms/step - loss: 0.3125 - accuracy: 0.8877 - val_loss: 0.3513 - val_accuracy: 0.8756\n",
      "Epoch 42/100\n",
      "1873/1875 [============================>.] - ETA: 0s - loss: 0.3138 - accuracy: 0.8876\n",
      "Epoch 42: val_accuracy did not improve from 0.87700\n",
      "1875/1875 [==============================] - 40s 21ms/step - loss: 0.3137 - accuracy: 0.8877 - val_loss: 0.3498 - val_accuracy: 0.8748\n",
      "Epoch 43/100\n",
      "1875/1875 [==============================] - ETA: 0s - loss: 0.3088 - accuracy: 0.8893\n",
      "Epoch 43: val_accuracy did not improve from 0.87700\n",
      "1875/1875 [==============================] - 41s 22ms/step - loss: 0.3088 - accuracy: 0.8893 - val_loss: 0.3490 - val_accuracy: 0.8747\n",
      "Epoch 44/100\n",
      "1875/1875 [==============================] - ETA: 0s - loss: 0.3071 - accuracy: 0.8896\n",
      "Epoch 44: val_accuracy did not improve from 0.87700\n",
      "1875/1875 [==============================] - 41s 22ms/step - loss: 0.3071 - accuracy: 0.8896 - val_loss: 0.3459 - val_accuracy: 0.8748\n",
      "Epoch 45/100\n",
      "1873/1875 [============================>.] - ETA: 0s - loss: 0.3057 - accuracy: 0.8909\n",
      "Epoch 45: val_accuracy did not improve from 0.87700\n",
      "1875/1875 [==============================] - 42s 22ms/step - loss: 0.3057 - accuracy: 0.8909 - val_loss: 0.3490 - val_accuracy: 0.8742\n",
      "Epoch 46/100\n",
      "1873/1875 [============================>.] - ETA: 0s - loss: 0.3043 - accuracy: 0.8906\n",
      "Epoch 46: val_accuracy did not improve from 0.87700\n",
      "1875/1875 [==============================] - 42s 22ms/step - loss: 0.3044 - accuracy: 0.8906 - val_loss: 0.3454 - val_accuracy: 0.8768\n",
      "Epoch 47/100\n",
      "1874/1875 [============================>.] - ETA: 0s - loss: 0.3001 - accuracy: 0.8910\n",
      "Epoch 47: val_accuracy did not improve from 0.87700\n",
      "1875/1875 [==============================] - 41s 22ms/step - loss: 0.3001 - accuracy: 0.8910 - val_loss: 0.3466 - val_accuracy: 0.8749\n",
      "Epoch 48/100\n",
      "1875/1875 [==============================] - ETA: 0s - loss: 0.3002 - accuracy: 0.8923\n",
      "Epoch 48: val_accuracy improved from 0.87700 to 0.87720, saving model to mnist_fashon_v1.h5\n",
      "1875/1875 [==============================] - 40s 22ms/step - loss: 0.3002 - accuracy: 0.8923 - val_loss: 0.3442 - val_accuracy: 0.8772\n",
      "Epoch 49/100\n",
      "1873/1875 [============================>.] - ETA: 0s - loss: 0.2959 - accuracy: 0.8931\n",
      "Epoch 49: val_accuracy did not improve from 0.87720\n",
      "1875/1875 [==============================] - 40s 21ms/step - loss: 0.2960 - accuracy: 0.8931 - val_loss: 0.3431 - val_accuracy: 0.8771\n",
      "Epoch 50/100\n",
      "1874/1875 [============================>.] - ETA: 0s - loss: 0.2955 - accuracy: 0.8941\n",
      "Epoch 50: val_accuracy did not improve from 0.87720\n",
      "1875/1875 [==============================] - 40s 22ms/step - loss: 0.2955 - accuracy: 0.8941 - val_loss: 0.3408 - val_accuracy: 0.8768\n",
      "Epoch 51/100\n",
      "1874/1875 [============================>.] - ETA: 0s - loss: 0.2925 - accuracy: 0.8950\n",
      "Epoch 51: val_accuracy did not improve from 0.87720\n",
      "1875/1875 [==============================] - 40s 22ms/step - loss: 0.2924 - accuracy: 0.8950 - val_loss: 0.3447 - val_accuracy: 0.8768\n",
      "Epoch 52/100\n",
      "1875/1875 [==============================] - ETA: 0s - loss: 0.2902 - accuracy: 0.8953\n",
      "Epoch 52: val_accuracy improved from 0.87720 to 0.87780, saving model to mnist_fashon_v1.h5\n",
      "1875/1875 [==============================] - 40s 21ms/step - loss: 0.2902 - accuracy: 0.8953 - val_loss: 0.3425 - val_accuracy: 0.8778\n",
      "Epoch 53/100\n",
      "1874/1875 [============================>.] - ETA: 0s - loss: 0.2890 - accuracy: 0.8958\n",
      "Epoch 53: val_accuracy improved from 0.87780 to 0.87820, saving model to mnist_fashon_v1.h5\n",
      "1875/1875 [==============================] - 40s 22ms/step - loss: 0.2890 - accuracy: 0.8958 - val_loss: 0.3395 - val_accuracy: 0.8782\n",
      "Epoch 54/100\n",
      "1875/1875 [==============================] - ETA: 0s - loss: 0.2868 - accuracy: 0.8961\n",
      "Epoch 54: val_accuracy improved from 0.87820 to 0.87890, saving model to mnist_fashon_v1.h5\n",
      "1875/1875 [==============================] - 40s 21ms/step - loss: 0.2868 - accuracy: 0.8961 - val_loss: 0.3419 - val_accuracy: 0.8789\n",
      "Epoch 55/100\n",
      "1875/1875 [==============================] - ETA: 0s - loss: 0.2853 - accuracy: 0.8980\n",
      "Epoch 55: val_accuracy did not improve from 0.87890\n",
      "1875/1875 [==============================] - 40s 21ms/step - loss: 0.2853 - accuracy: 0.8980 - val_loss: 0.3413 - val_accuracy: 0.8776\n",
      "Epoch 56/100\n",
      "1874/1875 [============================>.] - ETA: 0s - loss: 0.2825 - accuracy: 0.8982\n",
      "Epoch 56: val_accuracy did not improve from 0.87890\n",
      "1875/1875 [==============================] - 40s 21ms/step - loss: 0.2827 - accuracy: 0.8982 - val_loss: 0.3415 - val_accuracy: 0.8784\n",
      "Epoch 57/100\n",
      "1874/1875 [============================>.] - ETA: 0s - loss: 0.2818 - accuracy: 0.8979\n",
      "Epoch 57: val_accuracy did not improve from 0.87890\n",
      "1875/1875 [==============================] - 40s 21ms/step - loss: 0.2817 - accuracy: 0.8979 - val_loss: 0.3413 - val_accuracy: 0.8775\n",
      "Epoch 58/100\n",
      "1873/1875 [============================>.] - ETA: 0s - loss: 0.2782 - accuracy: 0.8993\n",
      "Epoch 58: val_accuracy did not improve from 0.87890\n",
      "1875/1875 [==============================] - 40s 22ms/step - loss: 0.2782 - accuracy: 0.8993 - val_loss: 0.3412 - val_accuracy: 0.8780\n",
      "Epoch 59/100\n",
      "1875/1875 [==============================] - ETA: 0s - loss: 0.2800 - accuracy: 0.8988\n",
      "Epoch 59: val_accuracy did not improve from 0.87890\n",
      "1875/1875 [==============================] - 40s 21ms/step - loss: 0.2800 - accuracy: 0.8988 - val_loss: 0.3393 - val_accuracy: 0.8789\n",
      "Epoch 60/100\n",
      "1874/1875 [============================>.] - ETA: 0s - loss: 0.2772 - accuracy: 0.9000\n",
      "Epoch 60: val_accuracy did not improve from 0.87890\n",
      "1875/1875 [==============================] - 41s 22ms/step - loss: 0.2773 - accuracy: 0.8999 - val_loss: 0.3381 - val_accuracy: 0.8784\n",
      "Epoch 61/100\n",
      "1874/1875 [============================>.] - ETA: 0s - loss: 0.2746 - accuracy: 0.9005\n",
      "Epoch 61: val_accuracy did not improve from 0.87890\n",
      "1875/1875 [==============================] - 40s 21ms/step - loss: 0.2745 - accuracy: 0.9006 - val_loss: 0.3408 - val_accuracy: 0.8786\n",
      "Epoch 62/100\n",
      "1875/1875 [==============================] - ETA: 0s - loss: 0.2738 - accuracy: 0.9014\n",
      "Epoch 62: val_accuracy improved from 0.87890 to 0.87940, saving model to mnist_fashon_v1.h5\n",
      "1875/1875 [==============================] - 40s 21ms/step - loss: 0.2738 - accuracy: 0.9014 - val_loss: 0.3397 - val_accuracy: 0.8794\n",
      "Epoch 63/100\n",
      "1875/1875 [==============================] - ETA: 0s - loss: 0.2728 - accuracy: 0.9021\n",
      "Epoch 63: val_accuracy did not improve from 0.87940\n",
      "1875/1875 [==============================] - 40s 21ms/step - loss: 0.2728 - accuracy: 0.9021 - val_loss: 0.3415 - val_accuracy: 0.8794\n",
      "Epoch 64/100\n",
      "1874/1875 [============================>.] - ETA: 0s - loss: 0.2706 - accuracy: 0.9032\n",
      "Epoch 64: val_accuracy improved from 0.87940 to 0.88180, saving model to mnist_fashon_v1.h5\n",
      "1875/1875 [==============================] - 38s 20ms/step - loss: 0.2705 - accuracy: 0.9032 - val_loss: 0.3377 - val_accuracy: 0.8818\n",
      "Epoch 65/100\n",
      "1873/1875 [============================>.] - ETA: 0s - loss: 0.2662 - accuracy: 0.9038\n",
      "Epoch 65: val_accuracy did not improve from 0.88180\n",
      "1875/1875 [==============================] - 38s 20ms/step - loss: 0.2662 - accuracy: 0.9038 - val_loss: 0.3400 - val_accuracy: 0.8805\n",
      "Epoch 66/100\n",
      "1873/1875 [============================>.] - ETA: 0s - loss: 0.2678 - accuracy: 0.9029\n",
      "Epoch 66: val_accuracy did not improve from 0.88180\n",
      "1875/1875 [==============================] - 38s 20ms/step - loss: 0.2678 - accuracy: 0.9029 - val_loss: 0.3383 - val_accuracy: 0.8793\n",
      "Epoch 67/100\n",
      "1874/1875 [============================>.] - ETA: 0s - loss: 0.2647 - accuracy: 0.9033\n",
      "Epoch 67: val_accuracy did not improve from 0.88180\n",
      "1875/1875 [==============================] - 38s 21ms/step - loss: 0.2648 - accuracy: 0.9033 - val_loss: 0.3413 - val_accuracy: 0.8801\n",
      "Epoch 68/100\n",
      "1874/1875 [============================>.] - ETA: 0s - loss: 0.2643 - accuracy: 0.9040\n",
      "Epoch 68: val_accuracy improved from 0.88180 to 0.88250, saving model to mnist_fashon_v1.h5\n",
      "1875/1875 [==============================] - 38s 20ms/step - loss: 0.2643 - accuracy: 0.9039 - val_loss: 0.3356 - val_accuracy: 0.8825\n",
      "Epoch 69/100\n",
      "1875/1875 [==============================] - ETA: 0s - loss: 0.2623 - accuracy: 0.9057\n",
      "Epoch 69: val_accuracy did not improve from 0.88250\n",
      "1875/1875 [==============================] - 38s 20ms/step - loss: 0.2623 - accuracy: 0.9057 - val_loss: 0.3364 - val_accuracy: 0.8804\n",
      "Epoch 70/100\n",
      "1873/1875 [============================>.] - ETA: 0s - loss: 0.2580 - accuracy: 0.9067\n",
      "Epoch 70: val_accuracy did not improve from 0.88250\n",
      "1875/1875 [==============================] - 38s 20ms/step - loss: 0.2582 - accuracy: 0.9065 - val_loss: 0.3372 - val_accuracy: 0.8794\n",
      "Epoch 71/100\n",
      "1874/1875 [============================>.] - ETA: 0s - loss: 0.2593 - accuracy: 0.9058\n",
      "Epoch 71: val_accuracy did not improve from 0.88250\n",
      "1875/1875 [==============================] - 38s 20ms/step - loss: 0.2594 - accuracy: 0.9058 - val_loss: 0.3381 - val_accuracy: 0.8816\n",
      "Epoch 72/100\n",
      "1873/1875 [============================>.] - ETA: 0s - loss: 0.2589 - accuracy: 0.9056\n",
      "Epoch 72: val_accuracy did not improve from 0.88250\n",
      "1875/1875 [==============================] - 38s 20ms/step - loss: 0.2588 - accuracy: 0.9057 - val_loss: 0.3367 - val_accuracy: 0.8792\n",
      "Epoch 73/100\n",
      "1874/1875 [============================>.] - ETA: 0s - loss: 0.2546 - accuracy: 0.9073\n",
      "Epoch 73: val_accuracy improved from 0.88250 to 0.88450, saving model to mnist_fashon_v1.h5\n",
      "1875/1875 [==============================] - 38s 20ms/step - loss: 0.2546 - accuracy: 0.9073 - val_loss: 0.3320 - val_accuracy: 0.8845\n",
      "Epoch 74/100\n",
      "1873/1875 [============================>.] - ETA: 0s - loss: 0.2548 - accuracy: 0.9083\n",
      "Epoch 74: val_accuracy did not improve from 0.88450\n",
      "1875/1875 [==============================] - 38s 21ms/step - loss: 0.2549 - accuracy: 0.9083 - val_loss: 0.3390 - val_accuracy: 0.8788\n",
      "Epoch 75/100\n",
      "1875/1875 [==============================] - ETA: 0s - loss: 0.2542 - accuracy: 0.9079\n",
      "Epoch 75: val_accuracy did not improve from 0.88450\n",
      "1875/1875 [==============================] - 38s 20ms/step - loss: 0.2542 - accuracy: 0.9079 - val_loss: 0.3366 - val_accuracy: 0.8809\n",
      "Epoch 76/100\n",
      "1875/1875 [==============================] - ETA: 0s - loss: 0.2526 - accuracy: 0.9091\n",
      "Epoch 76: val_accuracy did not improve from 0.88450\n",
      "1875/1875 [==============================] - 39s 21ms/step - loss: 0.2526 - accuracy: 0.9091 - val_loss: 0.3365 - val_accuracy: 0.8810\n",
      "Epoch 77/100\n",
      "1873/1875 [============================>.] - ETA: 0s - loss: 0.2513 - accuracy: 0.9085\n",
      "Epoch 77: val_accuracy did not improve from 0.88450\n",
      "1875/1875 [==============================] - 38s 20ms/step - loss: 0.2514 - accuracy: 0.9084 - val_loss: 0.3356 - val_accuracy: 0.8818\n",
      "Epoch 78/100\n",
      "1875/1875 [==============================] - ETA: 0s - loss: 0.2488 - accuracy: 0.9093\n",
      "Epoch 78: val_accuracy did not improve from 0.88450\n",
      "1875/1875 [==============================] - 39s 21ms/step - loss: 0.2488 - accuracy: 0.9093 - val_loss: 0.3369 - val_accuracy: 0.8821\n",
      "Epoch 79/100\n",
      "1875/1875 [==============================] - ETA: 0s - loss: 0.2497 - accuracy: 0.9089\n",
      "Epoch 79: val_accuracy did not improve from 0.88450\n",
      "1875/1875 [==============================] - 38s 20ms/step - loss: 0.2497 - accuracy: 0.9089 - val_loss: 0.3357 - val_accuracy: 0.8827\n",
      "Epoch 80/100\n",
      "1874/1875 [============================>.] - ETA: 0s - loss: 0.2472 - accuracy: 0.9105\n",
      "Epoch 80: val_accuracy did not improve from 0.88450\n",
      "1875/1875 [==============================] - 38s 21ms/step - loss: 0.2472 - accuracy: 0.9105 - val_loss: 0.3369 - val_accuracy: 0.8818\n",
      "Epoch 81/100\n",
      "1873/1875 [============================>.] - ETA: 0s - loss: 0.2463 - accuracy: 0.9110\n",
      "Epoch 81: val_accuracy did not improve from 0.88450\n",
      "1875/1875 [==============================] - 38s 20ms/step - loss: 0.2463 - accuracy: 0.9110 - val_loss: 0.3360 - val_accuracy: 0.8840\n",
      "Epoch 82/100\n",
      "1875/1875 [==============================] - ETA: 0s - loss: 0.2447 - accuracy: 0.9118\n",
      "Epoch 82: val_accuracy did not improve from 0.88450\n",
      "1875/1875 [==============================] - 38s 20ms/step - loss: 0.2447 - accuracy: 0.9118 - val_loss: 0.3341 - val_accuracy: 0.8835\n",
      "Epoch 83/100\n",
      "1874/1875 [============================>.] - ETA: 0s - loss: 0.2424 - accuracy: 0.9125\n",
      "Epoch 83: val_accuracy did not improve from 0.88450\n",
      "1875/1875 [==============================] - 39s 21ms/step - loss: 0.2423 - accuracy: 0.9125 - val_loss: 0.3332 - val_accuracy: 0.8816\n",
      "Epoch 84/100\n",
      "1875/1875 [==============================] - ETA: 0s - loss: 0.2392 - accuracy: 0.9125\n",
      "Epoch 84: val_accuracy did not improve from 0.88450\n",
      "1875/1875 [==============================] - 39s 21ms/step - loss: 0.2392 - accuracy: 0.9125 - val_loss: 0.3347 - val_accuracy: 0.8830\n",
      "Epoch 85/100\n",
      "1875/1875 [==============================] - ETA: 0s - loss: 0.2413 - accuracy: 0.9124\n",
      "Epoch 85: val_accuracy did not improve from 0.88450\n",
      "1875/1875 [==============================] - 39s 21ms/step - loss: 0.2413 - accuracy: 0.9124 - val_loss: 0.3389 - val_accuracy: 0.8828\n",
      "Epoch 86/100\n",
      "1875/1875 [==============================] - ETA: 0s - loss: 0.2388 - accuracy: 0.9140\n",
      "Epoch 86: val_accuracy did not improve from 0.88450\n",
      "1875/1875 [==============================] - 39s 21ms/step - loss: 0.2388 - accuracy: 0.9140 - val_loss: 0.3352 - val_accuracy: 0.8843\n",
      "Epoch 87/100\n",
      "1875/1875 [==============================] - ETA: 0s - loss: 0.2359 - accuracy: 0.9151\n",
      "Epoch 87: val_accuracy improved from 0.88450 to 0.88520, saving model to mnist_fashon_v1.h5\n",
      "1875/1875 [==============================] - 39s 21ms/step - loss: 0.2359 - accuracy: 0.9151 - val_loss: 0.3346 - val_accuracy: 0.8852\n",
      "Epoch 88/100\n",
      "1874/1875 [============================>.] - ETA: 0s - loss: 0.2342 - accuracy: 0.9147\n",
      "Epoch 88: val_accuracy did not improve from 0.88520\n",
      "1875/1875 [==============================] - 40s 21ms/step - loss: 0.2342 - accuracy: 0.9147 - val_loss: 0.3342 - val_accuracy: 0.8850\n",
      "Epoch 89/100\n",
      "1873/1875 [============================>.] - ETA: 0s - loss: 0.2347 - accuracy: 0.9158\n",
      "Epoch 89: val_accuracy did not improve from 0.88520\n",
      "1875/1875 [==============================] - 40s 21ms/step - loss: 0.2346 - accuracy: 0.9158 - val_loss: 0.3340 - val_accuracy: 0.8834\n",
      "Epoch 90/100\n",
      "1873/1875 [============================>.] - ETA: 0s - loss: 0.2337 - accuracy: 0.9158\n",
      "Epoch 90: val_accuracy did not improve from 0.88520\n",
      "1875/1875 [==============================] - 40s 22ms/step - loss: 0.2337 - accuracy: 0.9158 - val_loss: 0.3344 - val_accuracy: 0.8830\n",
      "Epoch 91/100\n",
      "1874/1875 [============================>.] - ETA: 0s - loss: 0.2337 - accuracy: 0.9158\n",
      "Epoch 91: val_accuracy did not improve from 0.88520\n",
      "1875/1875 [==============================] - 42s 22ms/step - loss: 0.2338 - accuracy: 0.9158 - val_loss: 0.3360 - val_accuracy: 0.8845\n",
      "Epoch 92/100\n",
      "1873/1875 [============================>.] - ETA: 0s - loss: 0.2303 - accuracy: 0.9165\n",
      "Epoch 92: val_accuracy improved from 0.88520 to 0.88580, saving model to mnist_fashon_v1.h5\n",
      "1875/1875 [==============================] - 41s 22ms/step - loss: 0.2303 - accuracy: 0.9165 - val_loss: 0.3394 - val_accuracy: 0.8858\n",
      "Epoch 93/100\n",
      "1873/1875 [============================>.] - ETA: 0s - loss: 0.2289 - accuracy: 0.9170\n",
      "Epoch 93: val_accuracy did not improve from 0.88580\n",
      "1875/1875 [==============================] - 41s 22ms/step - loss: 0.2289 - accuracy: 0.9170 - val_loss: 0.3336 - val_accuracy: 0.8838\n",
      "Epoch 94/100\n",
      "1873/1875 [============================>.] - ETA: 0s - loss: 0.2282 - accuracy: 0.9167\n",
      "Epoch 94: val_accuracy did not improve from 0.88580\n",
      "1875/1875 [==============================] - 41s 22ms/step - loss: 0.2282 - accuracy: 0.9168 - val_loss: 0.3388 - val_accuracy: 0.8847\n",
      "Epoch 95/100\n",
      "1873/1875 [============================>.] - ETA: 0s - loss: 0.2272 - accuracy: 0.9171\n",
      "Epoch 95: val_accuracy did not improve from 0.88580\n",
      "1875/1875 [==============================] - 42s 22ms/step - loss: 0.2272 - accuracy: 0.9171 - val_loss: 0.3363 - val_accuracy: 0.8833\n",
      "Epoch 96/100\n",
      "1874/1875 [============================>.] - ETA: 0s - loss: 0.2249 - accuracy: 0.9180\n",
      "Epoch 96: val_accuracy did not improve from 0.88580\n",
      "1875/1875 [==============================] - 42s 22ms/step - loss: 0.2248 - accuracy: 0.9180 - val_loss: 0.3370 - val_accuracy: 0.8849\n",
      "Epoch 97/100\n",
      "1875/1875 [==============================] - ETA: 0s - loss: 0.2239 - accuracy: 0.9189\n",
      "Epoch 97: val_accuracy improved from 0.88580 to 0.88610, saving model to mnist_fashon_v1.h5\n",
      "1875/1875 [==============================] - 41s 22ms/step - loss: 0.2239 - accuracy: 0.9189 - val_loss: 0.3373 - val_accuracy: 0.8861\n",
      "Epoch 98/100\n",
      "1873/1875 [============================>.] - ETA: 0s - loss: 0.2223 - accuracy: 0.9191\n",
      "Epoch 98: val_accuracy did not improve from 0.88610\n",
      "1875/1875 [==============================] - 42s 22ms/step - loss: 0.2223 - accuracy: 0.9191 - val_loss: 0.3380 - val_accuracy: 0.8843\n",
      "Epoch 99/100\n",
      "1874/1875 [============================>.] - ETA: 0s - loss: 0.2239 - accuracy: 0.9192\n",
      "Epoch 99: val_accuracy did not improve from 0.88610\n",
      "1875/1875 [==============================] - 42s 22ms/step - loss: 0.2239 - accuracy: 0.9193 - val_loss: 0.3363 - val_accuracy: 0.8852\n",
      "Epoch 100/100\n",
      "1874/1875 [============================>.] - ETA: 0s - loss: 0.2201 - accuracy: 0.9193\n",
      "Epoch 100: val_accuracy did not improve from 0.88610\n",
      "1875/1875 [==============================] - 42s 22ms/step - loss: 0.2201 - accuracy: 0.9194 - val_loss: 0.3379 - val_accuracy: 0.8845\n"
     ]
    },
    {
     "data": {
      "text/plain": [
       "<keras.callbacks.History at 0x2f1ce5e50>"
      ]
     },
     "execution_count": 86,
     "metadata": {},
     "output_type": "execute_result"
    }
   ],
   "source": [
    "model.fit(X_train,y_train,          \n",
    "          validation_data=(X_test,y_test),\n",
    "          epochs=100,\n",
    "          initial_epoch=25,\n",
    "          batch_size=32, \n",
    "          callbacks=[model_checkpoint])"
   ]
  },
  {
   "cell_type": "code",
   "execution_count": null,
   "metadata": {},
   "outputs": [],
   "source": [
    "model.save('mnist_fashon_v1.h5')"
   ]
  },
  {
   "cell_type": "code",
   "execution_count": 38,
   "metadata": {
    "id": "2GYh0wkyadQ7"
   },
   "outputs": [
    {
     "name": "stdout",
     "output_type": "stream",
     "text": [
      "total 7480\n",
      "-rw-r--r--@ 1 vidyadharbendre  staff  529649 Feb 22 00:34 01_linear_vs_non_linear.ipynb\n",
      "-rw-------@ 1 vidyadharbendre  staff    2821 Feb 25  2022 1. Tensorflow_Hello_World_tf2.ipynb\n",
      "-rw-r--r--@ 1 vidyadharbendre  staff   90243 Mar  8 10:02 1_Tensorflow_basics.ipynb\n",
      "-rw-r--r--@ 1 vidyadharbendre  staff    3004 Feb 17 20:50 1_tensorflow.ipynb\n",
      "-rw-------@ 1 vidyadharbendre  staff   20788 Feb 21 23:41 2a. Boston Housing Prices.ipynb\n",
      "-rw-------@ 1 vidyadharbendre  staff   16977 Feb 21 23:43 2b. Boston Housing Prices_Normalization.ipynb\n",
      "-rw-------@ 1 vidyadharbendre  staff   30691 Mar  8 23:35 3. Boston_Housing_Prices_KERAS.ipynb\n",
      "-rw-------@ 1 vidyadharbendre  staff  123794 Mar  9 10:40 4. Classification_MNIST_Logistic_Keras.ipynb\n",
      "-rw-------@ 1 vidyadharbendre  staff  125969 Mar  9 07:46 5. Classification_MNIST_Logistic_Keras_Batch.ipynb\n",
      "-rw-------@ 1 vidyadharbendre  staff    4507 Mar  9 07:07 5. Classification_MNIST_Logistic_Keras_batching.ipynb\n",
      "-rw-------@ 1 vidyadharbendre  staff   12431 Feb 21 21:00 6. Classification_MNIST_DNN_Keras.ipynb\n",
      "-rw-------@ 1 vidyadharbendre  staff   34457 Mar 15 11:02 7. Classification_MNIST_DNN_Keras - Practice.ipynb\n",
      "-rw-------@ 1 vidyadharbendre  staff    5110 Feb 21 21:00 7. MNIST_Prediction.ipynb\n",
      "-rw-r--r--@ 1 vidyadharbendre  staff   36451 Mar 15 20:41 8. Classification_MNIST_DNN_Fashon_Keras.ipynb\n",
      "-rw-r--r--@ 1 vidyadharbendre  staff  366737 Feb 22 16:54 Gradient_Descent_step_by_step.ipynb\n",
      "-rw-rw-r--@ 1 vidyadharbendre  staff  547145 Mar 12 07:43 NN-Classification.ipynb\n",
      "-rw-------@ 1 vidyadharbendre  staff   26413 Feb 23 19:48 Regression+-+Boston+housing+prices+-TF2.ipynb\n",
      "-rw-------@ 1 vidyadharbendre  staff   59126 Feb 23 19:38 Regression_with_tensorflow.ipynb\n",
      "-rw-r--r--@ 1 vidyadharbendre  staff   15064 Mar  8 23:33 boston_housing_lr.h5\n",
      "drwxr-xr-x  4 vidyadharbendre  staff     128 Mar 10 10:32 \u001b[34mconcepts\u001b[m\u001b[m\n",
      "-rw-r--r--@ 1 vidyadharbendre  staff    3878 Feb 22 00:16 iris.csv\n",
      "-rw-r--r--@ 1 vidyadharbendre  staff  808184 Mar 15 20:42 mnist_fashon_v1.h5\n",
      "-rw-r--r--@ 1 vidyadharbendre  staff   63208 Mar  9 07:03 mnist_lc.h5\n",
      "-rw-r--r--@ 1 vidyadharbendre  staff  808184 Mar 15 06:42 mnist_v1.h5\n"
     ]
    }
   ],
   "source": [
    "!ls -l"
   ]
  },
  {
   "cell_type": "markdown",
   "metadata": {
    "id": "Cjisqt59gp7l"
   },
   "source": [
    "Load a saved model"
   ]
  },
  {
   "cell_type": "code",
   "execution_count": 39,
   "metadata": {
    "id": "rtEgk_5tay8e"
   },
   "outputs": [],
   "source": [
    "model = tf.keras.models.load_model('mnist_fashon_v1.h5')"
   ]
  },
  {
   "cell_type": "code",
   "execution_count": 40,
   "metadata": {
    "id": "-zB1EYv9m_4e"
   },
   "outputs": [
    {
     "name": "stdout",
     "output_type": "stream",
     "text": [
      "Model: \"sequential\"\n",
      "_________________________________________________________________\n",
      " Layer (type)                Output Shape              Param #   \n",
      "=================================================================\n",
      " reshape (Reshape)           (None, 784)               0         \n",
      "                                                                 \n",
      " batch_normalization (BatchN  (None, 784)              3136      \n",
      " ormalization)                                                   \n",
      "                                                                 \n",
      " dense (Dense)               (None, 200)               157000    \n",
      "                                                                 \n",
      " batch_normalization_1 (Batc  (None, 200)              800       \n",
      " hNormalization)                                                 \n",
      "                                                                 \n",
      " dense_1 (Dense)             (None, 100)               20100     \n",
      "                                                                 \n",
      " batch_normalization_2 (Batc  (None, 100)              400       \n",
      " hNormalization)                                                 \n",
      "                                                                 \n",
      " dense_2 (Dense)             (None, 60)                6060      \n",
      "                                                                 \n",
      " batch_normalization_3 (Batc  (None, 60)               240       \n",
      " hNormalization)                                                 \n",
      "                                                                 \n",
      " dense_3 (Dense)             (None, 30)                1830      \n",
      "                                                                 \n",
      " batch_normalization_4 (Batc  (None, 30)               120       \n",
      " hNormalization)                                                 \n",
      "                                                                 \n",
      " dense_4 (Dense)             (None, 10)                310       \n",
      "                                                                 \n",
      "=================================================================\n",
      "Total params: 189,996\n",
      "Trainable params: 187,648\n",
      "Non-trainable params: 2,348\n",
      "_________________________________________________________________\n"
     ]
    }
   ],
   "source": [
    "model.summary()"
   ]
  },
  {
   "cell_type": "markdown",
   "metadata": {
    "id": "Dzuw6nSOm69M"
   },
   "source": [
    "### Model Prediction"
   ]
  },
  {
   "cell_type": "code",
   "execution_count": 87,
   "metadata": {
    "id": "1INbtmNwvJ-0"
   },
   "outputs": [
    {
     "name": "stdout",
     "output_type": "stream",
     "text": [
      "WARNING:tensorflow:Model was constructed with shape (None, 28, 28) for input KerasTensor(type_spec=TensorSpec(shape=(None, 28, 28), dtype=tf.float32, name='reshape_input'), name='reshape_input', description=\"created by layer 'reshape_input'\"), but it was called on an input with incompatible shape (None, 28).\n"
     ]
    },
    {
     "ename": "ValueError",
     "evalue": "in user code:\n\n    File \"/Users/vidyadharbendre/miniforge3/lib/python3.9/site-packages/keras/engine/training.py\", line 1845, in predict_function  *\n        return step_function(self, iterator)\n    File \"/Users/vidyadharbendre/miniforge3/lib/python3.9/site-packages/keras/engine/training.py\", line 1834, in step_function  **\n        outputs = model.distribute_strategy.run(run_step, args=(data,))\n    File \"/Users/vidyadharbendre/miniforge3/lib/python3.9/site-packages/keras/engine/training.py\", line 1823, in run_step  **\n        outputs = model.predict_step(data)\n    File \"/Users/vidyadharbendre/miniforge3/lib/python3.9/site-packages/keras/engine/training.py\", line 1791, in predict_step\n        return self(x, training=False)\n    File \"/Users/vidyadharbendre/miniforge3/lib/python3.9/site-packages/keras/utils/traceback_utils.py\", line 67, in error_handler\n        raise e.with_traceback(filtered_tb) from None\n    File \"/Users/vidyadharbendre/miniforge3/lib/python3.9/site-packages/keras/layers/reshaping/reshape.py\", line 111, in _fix_unknown_dimension\n        raise ValueError(msg)\n\n    ValueError: Exception encountered when calling layer \"reshape\" (type Reshape).\n    \n    total size of new array must be unchanged, input_shape = [28], output_shape = [784]\n    \n    Call arguments received by layer \"reshape\" (type Reshape):\n      • inputs=tf.Tensor(shape=(None, 28), dtype=float32)\n",
     "output_type": "error",
     "traceback": [
      "\u001b[0;31m---------------------------------------------------------------------------\u001b[0m",
      "\u001b[0;31mValueError\u001b[0m                                Traceback (most recent call last)",
      "Cell \u001b[0;32mIn[87], line 1\u001b[0m\n\u001b[0;32m----> 1\u001b[0m \u001b[43mmodel\u001b[49m\u001b[38;5;241;43m.\u001b[39;49m\u001b[43mpredict\u001b[49m\u001b[43m(\u001b[49m\u001b[43mX_test\u001b[49m\u001b[43m[\u001b[49m\u001b[38;5;241;43m0\u001b[39;49m\u001b[43m]\u001b[49m\u001b[43m)\u001b[49m\n",
      "File \u001b[0;32m~/miniforge3/lib/python3.9/site-packages/keras/utils/traceback_utils.py:67\u001b[0m, in \u001b[0;36mfilter_traceback.<locals>.error_handler\u001b[0;34m(*args, **kwargs)\u001b[0m\n\u001b[1;32m     65\u001b[0m \u001b[38;5;28;01mexcept\u001b[39;00m \u001b[38;5;167;01mException\u001b[39;00m \u001b[38;5;28;01mas\u001b[39;00m e:  \u001b[38;5;66;03m# pylint: disable=broad-except\u001b[39;00m\n\u001b[1;32m     66\u001b[0m   filtered_tb \u001b[38;5;241m=\u001b[39m _process_traceback_frames(e\u001b[38;5;241m.\u001b[39m__traceback__)\n\u001b[0;32m---> 67\u001b[0m   \u001b[38;5;28;01mraise\u001b[39;00m e\u001b[38;5;241m.\u001b[39mwith_traceback(filtered_tb) \u001b[38;5;28;01mfrom\u001b[39;00m \u001b[38;5;28;01mNone\u001b[39;00m\n\u001b[1;32m     68\u001b[0m \u001b[38;5;28;01mfinally\u001b[39;00m:\n\u001b[1;32m     69\u001b[0m   \u001b[38;5;28;01mdel\u001b[39;00m filtered_tb\n",
      "File \u001b[0;32m/var/folders/kd/yddgdhm92qxgkw2js4t89ksr0000gn/T/__autograph_generated_filekto26jv1.py:15\u001b[0m, in \u001b[0;36mouter_factory.<locals>.inner_factory.<locals>.tf__predict_function\u001b[0;34m(iterator)\u001b[0m\n\u001b[1;32m     13\u001b[0m \u001b[38;5;28;01mtry\u001b[39;00m:\n\u001b[1;32m     14\u001b[0m     do_return \u001b[38;5;241m=\u001b[39m \u001b[38;5;28;01mTrue\u001b[39;00m\n\u001b[0;32m---> 15\u001b[0m     retval_ \u001b[38;5;241m=\u001b[39m ag__\u001b[38;5;241m.\u001b[39mconverted_call(ag__\u001b[38;5;241m.\u001b[39mld(step_function), (ag__\u001b[38;5;241m.\u001b[39mld(\u001b[38;5;28mself\u001b[39m), ag__\u001b[38;5;241m.\u001b[39mld(iterator)), \u001b[38;5;28;01mNone\u001b[39;00m, fscope)\n\u001b[1;32m     16\u001b[0m \u001b[38;5;28;01mexcept\u001b[39;00m:\n\u001b[1;32m     17\u001b[0m     do_return \u001b[38;5;241m=\u001b[39m \u001b[38;5;28;01mFalse\u001b[39;00m\n",
      "\u001b[0;31mValueError\u001b[0m: in user code:\n\n    File \"/Users/vidyadharbendre/miniforge3/lib/python3.9/site-packages/keras/engine/training.py\", line 1845, in predict_function  *\n        return step_function(self, iterator)\n    File \"/Users/vidyadharbendre/miniforge3/lib/python3.9/site-packages/keras/engine/training.py\", line 1834, in step_function  **\n        outputs = model.distribute_strategy.run(run_step, args=(data,))\n    File \"/Users/vidyadharbendre/miniforge3/lib/python3.9/site-packages/keras/engine/training.py\", line 1823, in run_step  **\n        outputs = model.predict_step(data)\n    File \"/Users/vidyadharbendre/miniforge3/lib/python3.9/site-packages/keras/engine/training.py\", line 1791, in predict_step\n        return self(x, training=False)\n    File \"/Users/vidyadharbendre/miniforge3/lib/python3.9/site-packages/keras/utils/traceback_utils.py\", line 67, in error_handler\n        raise e.with_traceback(filtered_tb) from None\n    File \"/Users/vidyadharbendre/miniforge3/lib/python3.9/site-packages/keras/layers/reshaping/reshape.py\", line 111, in _fix_unknown_dimension\n        raise ValueError(msg)\n\n    ValueError: Exception encountered when calling layer \"reshape\" (type Reshape).\n    \n    total size of new array must be unchanged, input_shape = [28], output_shape = [784]\n    \n    Call arguments received by layer \"reshape\" (type Reshape):\n      • inputs=tf.Tensor(shape=(None, 28), dtype=float32)\n"
     ]
    }
   ],
   "source": [
    "model.predict(X_test[0])"
   ]
  },
  {
   "cell_type": "code",
   "execution_count": 88,
   "metadata": {
    "id": "ToXxgw8i-gcQ"
   },
   "outputs": [],
   "source": [
    "import numpy as np"
   ]
  },
  {
   "cell_type": "markdown",
   "metadata": {
    "id": "Za3sCZMrf1-g"
   },
   "source": [
    "What input shape model is expecting?"
   ]
  },
  {
   "cell_type": "code",
   "execution_count": 89,
   "metadata": {
    "id": "FJyCuyBapHYJ"
   },
   "outputs": [
    {
     "data": {
      "text/plain": [
       "<KerasTensor: shape=(None, 28, 28) dtype=float32 (created by layer 'reshape_input')>"
      ]
     },
     "execution_count": 89,
     "metadata": {},
     "output_type": "execute_result"
    }
   ],
   "source": [
    "model.input"
   ]
  },
  {
   "cell_type": "markdown",
   "metadata": {
    "id": "H5X0ikgMf56C"
   },
   "source": [
    "Predicting on first example"
   ]
  },
  {
   "cell_type": "code",
   "execution_count": 90,
   "metadata": {
    "id": "ueHiCTJcse5p"
   },
   "outputs": [
    {
     "data": {
      "text/plain": [
       "(28, 28)"
      ]
     },
     "execution_count": 90,
     "metadata": {},
     "output_type": "execute_result"
    }
   ],
   "source": [
    "X_test[0].shape"
   ]
  },
  {
   "cell_type": "code",
   "execution_count": 91,
   "metadata": {
    "id": "CDuavBUJdPC2"
   },
   "outputs": [
    {
     "name": "stdout",
     "output_type": "stream",
     "text": [
      "WARNING:tensorflow:Model was constructed with shape (None, 28, 28) for input KerasTensor(type_spec=TensorSpec(shape=(None, 28, 28), dtype=tf.float32, name='reshape_input'), name='reshape_input', description=\"created by layer 'reshape_input'\"), but it was called on an input with incompatible shape (None, 28).\n"
     ]
    },
    {
     "ename": "ValueError",
     "evalue": "in user code:\n\n    File \"/Users/vidyadharbendre/miniforge3/lib/python3.9/site-packages/keras/engine/training.py\", line 1845, in predict_function  *\n        return step_function(self, iterator)\n    File \"/Users/vidyadharbendre/miniforge3/lib/python3.9/site-packages/keras/engine/training.py\", line 1834, in step_function  **\n        outputs = model.distribute_strategy.run(run_step, args=(data,))\n    File \"/Users/vidyadharbendre/miniforge3/lib/python3.9/site-packages/keras/engine/training.py\", line 1823, in run_step  **\n        outputs = model.predict_step(data)\n    File \"/Users/vidyadharbendre/miniforge3/lib/python3.9/site-packages/keras/engine/training.py\", line 1791, in predict_step\n        return self(x, training=False)\n    File \"/Users/vidyadharbendre/miniforge3/lib/python3.9/site-packages/keras/utils/traceback_utils.py\", line 67, in error_handler\n        raise e.with_traceback(filtered_tb) from None\n    File \"/Users/vidyadharbendre/miniforge3/lib/python3.9/site-packages/keras/layers/reshaping/reshape.py\", line 111, in _fix_unknown_dimension\n        raise ValueError(msg)\n\n    ValueError: Exception encountered when calling layer \"reshape\" (type Reshape).\n    \n    total size of new array must be unchanged, input_shape = [28], output_shape = [784]\n    \n    Call arguments received by layer \"reshape\" (type Reshape):\n      • inputs=tf.Tensor(shape=(None, 28), dtype=float32)\n",
     "output_type": "error",
     "traceback": [
      "\u001b[0;31m---------------------------------------------------------------------------\u001b[0m",
      "\u001b[0;31mValueError\u001b[0m                                Traceback (most recent call last)",
      "Cell \u001b[0;32mIn[91], line 1\u001b[0m\n\u001b[0;32m----> 1\u001b[0m \u001b[43mmodel\u001b[49m\u001b[38;5;241;43m.\u001b[39;49m\u001b[43mpredict\u001b[49m\u001b[43m(\u001b[49m\u001b[43mX_test\u001b[49m\u001b[43m[\u001b[49m\u001b[38;5;241;43m0\u001b[39;49m\u001b[43m]\u001b[49m\u001b[43m)\u001b[49m\n",
      "File \u001b[0;32m~/miniforge3/lib/python3.9/site-packages/keras/utils/traceback_utils.py:67\u001b[0m, in \u001b[0;36mfilter_traceback.<locals>.error_handler\u001b[0;34m(*args, **kwargs)\u001b[0m\n\u001b[1;32m     65\u001b[0m \u001b[38;5;28;01mexcept\u001b[39;00m \u001b[38;5;167;01mException\u001b[39;00m \u001b[38;5;28;01mas\u001b[39;00m e:  \u001b[38;5;66;03m# pylint: disable=broad-except\u001b[39;00m\n\u001b[1;32m     66\u001b[0m   filtered_tb \u001b[38;5;241m=\u001b[39m _process_traceback_frames(e\u001b[38;5;241m.\u001b[39m__traceback__)\n\u001b[0;32m---> 67\u001b[0m   \u001b[38;5;28;01mraise\u001b[39;00m e\u001b[38;5;241m.\u001b[39mwith_traceback(filtered_tb) \u001b[38;5;28;01mfrom\u001b[39;00m \u001b[38;5;28;01mNone\u001b[39;00m\n\u001b[1;32m     68\u001b[0m \u001b[38;5;28;01mfinally\u001b[39;00m:\n\u001b[1;32m     69\u001b[0m   \u001b[38;5;28;01mdel\u001b[39;00m filtered_tb\n",
      "File \u001b[0;32m/var/folders/kd/yddgdhm92qxgkw2js4t89ksr0000gn/T/__autograph_generated_filekto26jv1.py:15\u001b[0m, in \u001b[0;36mouter_factory.<locals>.inner_factory.<locals>.tf__predict_function\u001b[0;34m(iterator)\u001b[0m\n\u001b[1;32m     13\u001b[0m \u001b[38;5;28;01mtry\u001b[39;00m:\n\u001b[1;32m     14\u001b[0m     do_return \u001b[38;5;241m=\u001b[39m \u001b[38;5;28;01mTrue\u001b[39;00m\n\u001b[0;32m---> 15\u001b[0m     retval_ \u001b[38;5;241m=\u001b[39m ag__\u001b[38;5;241m.\u001b[39mconverted_call(ag__\u001b[38;5;241m.\u001b[39mld(step_function), (ag__\u001b[38;5;241m.\u001b[39mld(\u001b[38;5;28mself\u001b[39m), ag__\u001b[38;5;241m.\u001b[39mld(iterator)), \u001b[38;5;28;01mNone\u001b[39;00m, fscope)\n\u001b[1;32m     16\u001b[0m \u001b[38;5;28;01mexcept\u001b[39;00m:\n\u001b[1;32m     17\u001b[0m     do_return \u001b[38;5;241m=\u001b[39m \u001b[38;5;28;01mFalse\u001b[39;00m\n",
      "\u001b[0;31mValueError\u001b[0m: in user code:\n\n    File \"/Users/vidyadharbendre/miniforge3/lib/python3.9/site-packages/keras/engine/training.py\", line 1845, in predict_function  *\n        return step_function(self, iterator)\n    File \"/Users/vidyadharbendre/miniforge3/lib/python3.9/site-packages/keras/engine/training.py\", line 1834, in step_function  **\n        outputs = model.distribute_strategy.run(run_step, args=(data,))\n    File \"/Users/vidyadharbendre/miniforge3/lib/python3.9/site-packages/keras/engine/training.py\", line 1823, in run_step  **\n        outputs = model.predict_step(data)\n    File \"/Users/vidyadharbendre/miniforge3/lib/python3.9/site-packages/keras/engine/training.py\", line 1791, in predict_step\n        return self(x, training=False)\n    File \"/Users/vidyadharbendre/miniforge3/lib/python3.9/site-packages/keras/utils/traceback_utils.py\", line 67, in error_handler\n        raise e.with_traceback(filtered_tb) from None\n    File \"/Users/vidyadharbendre/miniforge3/lib/python3.9/site-packages/keras/layers/reshaping/reshape.py\", line 111, in _fix_unknown_dimension\n        raise ValueError(msg)\n\n    ValueError: Exception encountered when calling layer \"reshape\" (type Reshape).\n    \n    total size of new array must be unchanged, input_shape = [28], output_shape = [784]\n    \n    Call arguments received by layer \"reshape\" (type Reshape):\n      • inputs=tf.Tensor(shape=(None, 28), dtype=float32)\n"
     ]
    }
   ],
   "source": [
    "model.predict(X_test[0])"
   ]
  },
  {
   "cell_type": "markdown",
   "metadata": {
    "id": "5b7hZms6f9Pc"
   },
   "source": [
    "Why are we getting the error?"
   ]
  },
  {
   "cell_type": "code",
   "execution_count": 92,
   "metadata": {
    "id": "iIXUb0DSOj46"
   },
   "outputs": [
    {
     "data": {
      "text/plain": [
       "(28, 28)"
      ]
     },
     "execution_count": 92,
     "metadata": {},
     "output_type": "execute_result"
    }
   ],
   "source": [
    "X_test[0].shape"
   ]
  },
  {
   "cell_type": "markdown",
   "metadata": {
    "id": "q8qJZrthgA2o"
   },
   "source": [
    "Building a Batch"
   ]
  },
  {
   "cell_type": "code",
   "execution_count": 93,
   "metadata": {
    "id": "qTPk1-1-OnMN"
   },
   "outputs": [
    {
     "data": {
      "text/plain": [
       "(1, 28, 28)"
      ]
     },
     "execution_count": 93,
     "metadata": {},
     "output_type": "execute_result"
    }
   ],
   "source": [
    "input_data = np.expand_dims(X_test[0], axis=0)\n",
    "input_data.shape"
   ]
  },
  {
   "cell_type": "markdown",
   "metadata": {
    "id": "gtVUC5_XgDRU"
   },
   "source": [
    "Model Prediction"
   ]
  },
  {
   "cell_type": "code",
   "execution_count": 94,
   "metadata": {
    "id": "kF2Pc1xZxmn_"
   },
   "outputs": [
    {
     "name": "stdout",
     "output_type": "stream",
     "text": [
      "1/1 [==============================] - 0s 229ms/step\n"
     ]
    },
    {
     "name": "stderr",
     "output_type": "stream",
     "text": [
      "2024-03-15 22:03:40.736536: I tensorflow/core/grappler/optimizers/custom_graph_optimizer_registry.cc:113] Plugin optimizer for device_type GPU is enabled.\n"
     ]
    }
   ],
   "source": [
    "pred = model.predict(input_data)"
   ]
  },
  {
   "cell_type": "code",
   "execution_count": 95,
   "metadata": {
    "id": "81RPh-28PQRE"
   },
   "outputs": [
    {
     "data": {
      "text/plain": [
       "(1, 10)"
      ]
     },
     "execution_count": 95,
     "metadata": {},
     "output_type": "execute_result"
    }
   ],
   "source": [
    "pred.shape"
   ]
  },
  {
   "cell_type": "code",
   "execution_count": 96,
   "metadata": {
    "id": "tdS0QNtLwqPv"
   },
   "outputs": [
    {
     "data": {
      "text/plain": [
       "array([[1.7298369e-06, 4.3138622e-05, 6.1152950e-06, 9.5457408e-06,\n",
       "        5.0716149e-06, 2.7939477e-03, 3.8203889e-06, 1.6347362e-02,\n",
       "        4.3589744e-06, 9.8078489e-01]], dtype=float32)"
      ]
     },
     "execution_count": 96,
     "metadata": {},
     "output_type": "execute_result"
    }
   ],
   "source": [
    "pred"
   ]
  },
  {
   "cell_type": "code",
   "execution_count": 97,
   "metadata": {
    "id": "ZHX4aemJzRRF"
   },
   "outputs": [
    {
     "data": {
      "text/plain": [
       "array([1.7298369e-06, 4.3138622e-05, 6.1152950e-06, 9.5457408e-06,\n",
       "       5.0716149e-06, 2.7939477e-03, 3.8203889e-06, 1.6347362e-02,\n",
       "       4.3589744e-06, 9.8078489e-01], dtype=float32)"
      ]
     },
     "execution_count": 97,
     "metadata": {},
     "output_type": "execute_result"
    }
   ],
   "source": [
    "pred[0]"
   ]
  },
  {
   "cell_type": "markdown",
   "metadata": {
    "id": "aKxckoKVgJAS"
   },
   "source": [
    "Predicted Class"
   ]
  },
  {
   "cell_type": "code",
   "execution_count": 98,
   "metadata": {
    "id": "QXuDg_kTzoFS"
   },
   "outputs": [
    {
     "data": {
      "text/plain": [
       "9"
      ]
     },
     "execution_count": 98,
     "metadata": {},
     "output_type": "execute_result"
    }
   ],
   "source": [
    "np.argmax(pred[0])"
   ]
  },
  {
   "cell_type": "code",
   "execution_count": 99,
   "metadata": {
    "id": "_B3RtKmluI1G"
   },
   "outputs": [
    {
     "data": {
      "text/plain": [
       "0.9807849"
      ]
     },
     "execution_count": 99,
     "metadata": {},
     "output_type": "execute_result"
    }
   ],
   "source": [
    "np.max(pred[0])"
   ]
  },
  {
   "cell_type": "markdown",
   "metadata": {
    "id": "_-dZh-NagLAl"
   },
   "source": [
    "Actual Class"
   ]
  },
  {
   "cell_type": "code",
   "execution_count": 100,
   "metadata": {
    "id": "Oq28b6Q60bGm"
   },
   "outputs": [
    {
     "data": {
      "text/plain": [
       "9"
      ]
     },
     "execution_count": 100,
     "metadata": {},
     "output_type": "execute_result"
    }
   ],
   "source": [
    "np.argmax(y_test[0])"
   ]
  },
  {
   "cell_type": "markdown",
   "metadata": {
    "id": "h0pUXhEfgNXa"
   },
   "source": [
    "Visual confirmation"
   ]
  },
  {
   "cell_type": "code",
   "execution_count": 101,
   "metadata": {
    "id": "C_dlOJjQzzPa"
   },
   "outputs": [
    {
     "data": {
      "image/png": "[encoded data removed]",
      "text/plain": [
       "<Figure size 640x480 with 1 Axes>"
      ]
     },
     "metadata": {},
     "output_type": "display_data"
    }
   ],
   "source": [
    "#Lets print the image as well\n",
    "import matplotlib.pyplot as plt\n",
    "plt.imshow(X_test[0],cmap='gray')\n",
    "plt.show()"
   ]
  },
  {
   "cell_type": "code",
   "execution_count": 102,
   "metadata": {},
   "outputs": [
    {
     "name": "stdout",
     "output_type": "stream",
     "text": [
      "Category Labels:\n",
      "0 -> T-shirt/top\n",
      "1 -> Trouser\n",
      "2 -> Pullover\n",
      "3 -> Dress\n",
      "4 -> Coat\n",
      "5 -> Sandal\n",
      "6 -> Shirt\n",
      "7 -> Sneaker\n",
      "8 -> Bag\n",
      "9 -> Ankle boot\n"
     ]
    }
   ],
   "source": [
    "import tensorflow as tf\n",
    "\n",
    "# Load the Fashion MNIST dataset\n",
    "fashion_mnist = tf.keras.datasets.fashion_mnist\n",
    "\n",
    "# Load the training and testing data\n",
    "(train_images, train_labels), (test_images, test_labels) = fashion_mnist.load_data()\n",
    "\n",
    "# Print the category labels\n",
    "class_names = ['T-shirt/top', 'Trouser', 'Pullover', 'Dress', 'Coat',\n",
    "               'Sandal', 'Shirt', 'Sneaker', 'Bag', 'Ankle boot']\n",
    "print(\"Category Labels:\")\n",
    "for label, class_name in enumerate(class_names):\n",
    "    print(label, \"->\", class_name)"
   ]
  },
  {
   "cell_type": "code",
   "execution_count": null,
   "metadata": {},
   "outputs": [],
   "source": []
  }
 ],
 "metadata": {
  "accelerator": "GPU",
  "colab": {
   "collapsed_sections": [],
   "name": "7. Classification_MNIST_DNN_Keras - Practice.ipynb",
   "private_outputs": true,
   "provenance": []
  },
  "kernelspec": {
   "display_name": "Python 3 (ipykernel)",
   "language": "python",
   "name": "python3"
  },
  "language_info": {
   "codemirror_mode": {
    "name": "ipython",
    "version": 3
   },
   "file_extension": ".py",
   "mimetype": "text/x-python",
   "name": "python",
   "nbconvert_exporter": "python",
   "pygments_lexer": "ipython3",
   "version": "3.9.13"
  }
 },
 "nbformat": 4,
 "nbformat_minor": 4
}
