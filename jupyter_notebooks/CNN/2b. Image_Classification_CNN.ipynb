{
 "cells": [
  {
   "cell_type": "markdown",
   "metadata": {
    "id": "x182yUaaGOIx"
   },
   "source": [
    "### Download Flowers dataset"
   ]
  },
  {
   "cell_type": "code",
   "execution_count": 17,
   "metadata": {},
   "outputs": [],
   "source": [
    "#!pip install wget"
   ]
  },
  {
   "cell_type": "code",
   "execution_count": 18,
   "metadata": {},
   "outputs": [
    {
     "name": "stdout",
     "output_type": "stream",
     "text": [
      "Removing: /Users/vb/Library/Caches/Homebrew/rubberband--2.0.2... (412.9KB)\n",
      "Removing: /Users/vb/Library/Caches/Homebrew/fontconfig_bottle_manifest--2.13.1... (11KB)\n",
      "Removing: /Users/vb/Library/Caches/Homebrew/unbound_bottle_manifest--1.15.0... (10.4KB)\n",
      "Removing: /Users/vb/Library/Caches/Homebrew/p11-kit--0.24.1... (874.6KB)\n",
      "Removing: /Users/vb/Library/Caches/Homebrew/libvidstab--1.1.0... (46.9KB)\n",
      "Removing: /Users/vb/Library/Caches/Homebrew/libb2_bottle_manifest--0.98.1... (8.2KB)\n",
      "Removing: /Users/vb/Library/Caches/Homebrew/fribidi_bottle_manifest--1.0.11... (7.2KB)\n",
      "Removing: /Users/vb/Library/Caches/Homebrew/libvmaf_bottle_manifest--2.3.0_1... (6.4KB)\n",
      "Removing: /Users/vb/Library/Caches/Homebrew/nettle_bottle_manifest--3.7.3... (7.9KB)\n",
      "Removing: /Users/vb/Library/Caches/Homebrew/libtasn1_bottle_manifest--4.18.0... (6.3KB)\n",
      "Removing: /Users/vb/Library/Caches/Homebrew/libxrender_bottle_manifest--0.9.10... (11.3KB)\n",
      "Removing: /Users/vb/Library/Caches/Homebrew/harfbuzz_bottle_manifest--4.0.0... (21.4KB)\n",
      "Removing: /Users/vb/Library/Caches/Homebrew/snappy_bottle_manifest--1.1.9... (7KB)\n",
      "Removing: /Users/vb/Library/Caches/Homebrew/zimg_bottle_manifest--3.0.3... (7.2KB)\n",
      "Removing: /Users/vb/Library/Caches/Homebrew/xvid_bottle_manifest--1.3.7... (7.3KB)\n",
      "Removing: /Users/vb/Library/Caches/Homebrew/libidn2_bottle_manifest--2.3.2... (8.7KB)\n",
      "Removing: /Users/vb/Library/Caches/Homebrew/libtasn1--4.18.0... (158.7KB)\n",
      "Removing: /Users/vb/Library/Caches/Homebrew/mbedtls--3.1.0... (2.7MB)\n",
      "Removing: /Users/vb/Library/Caches/Homebrew/libevent--2.1.12... (681.3KB)\n",
      "Removing: /Users/vb/Library/Caches/Homebrew/libass_bottle_manifest--0.15.2... (24.6KB)\n",
      "Removing: /Users/vb/Library/Caches/Homebrew/pixman_bottle_manifest--0.40.0... (7.5KB)\n",
      "Removing: /Users/vb/Library/Caches/Homebrew/gnutls_bottle_manifest--3.7.3... (15.9KB)\n",
      "Removing: /Users/vb/Library/Caches/Homebrew/giflib_bottle_manifest--5.2.1... (7.2KB)\n",
      "Removing: /Users/vb/Library/Caches/Homebrew/openjpeg--2.4.0... (2MB)\n",
      "Removing: /Users/vb/Library/Caches/Homebrew/flac--1.3.4... (630.7KB)\n",
      "Removing: /Users/vb/Library/Caches/Homebrew/lame--3.100... (774KB)\n",
      "Removing: /Users/vb/Library/Caches/Homebrew/sdl2--2.0.20... (1.5MB)\n",
      "Removing: /Users/vb/Library/Caches/Homebrew/libpng_bottle_manifest--1.6.37... (8.5KB)\n",
      "Removing: /Users/vb/Library/Caches/Homebrew/guile--3.0.8... (13.8MB)\n",
      "Removing: /Users/vb/Library/Caches/Homebrew/libtiff_bottle_manifest--4.3.0... (7.8KB)\n",
      "Removing: /Users/vb/Library/Caches/Homebrew/libxdmcp_bottle_manifest--1.1.3... (8.3KB)\n",
      "Removing: /Users/vb/Library/Caches/Homebrew/openexr_bottle_manifest--3.1.4... (6.8KB)\n",
      "Removing: /Users/vb/Library/Caches/Homebrew/libnghttp2--1.47.0... (201.5KB)\n",
      "Removing: /Users/vb/Library/Caches/Homebrew/libsoxr_bottle_manifest--0.1.3-1... (8.0KB)\n",
      "Removing: /Users/vb/Library/Caches/Homebrew/theora--1.1.1... (718.5KB)\n",
      "Removing: /Users/vb/Library/Caches/Homebrew/x265--3.5... (5MB)\n",
      "Removing: /Users/vb/Library/Caches/Homebrew/libsodium--1.0.18_1... (359KB)\n",
      "Removing: /Users/vb/Library/Caches/Homebrew/libvorbis_bottle_manifest--1.3.7... (8.4KB)\n",
      "Removing: /Users/vb/Library/Caches/Homebrew/libbluray_bottle_manifest--1.3.0... (9.2KB)\n",
      "Removing: /Users/vb/Library/Caches/Homebrew/lzo_bottle_manifest--2.10... (9.6KB)\n",
      "Removing: /Users/vb/Library/Caches/Homebrew/jpeg_bottle_manifest--9e... (6.2KB)\n",
      "Removing: /Users/vb/Library/Caches/Homebrew/libogg--1.3.5... (221KB)\n",
      "Removing: /Users/vb/Library/Caches/Homebrew/python@3.9_bottle_manifest--3.9.10... (18.1KB)\n",
      "Removing: /Users/vb/Library/Caches/Homebrew/flac_bottle_manifest--1.3.4... (6.8KB)\n",
      "Removing: /Users/vb/Library/Caches/Homebrew/mpdecimal_bottle_manifest--2.5.1... (6.9KB)\n",
      "Removing: /Users/vb/Library/Caches/Homebrew/nettle--3.7.3... (941.3KB)\n",
      "Removing: /Users/vb/Library/Caches/Homebrew/zstd_bottle_manifest--1.5.2... (6.4KB)\n",
      "Removing: /Users/vb/Library/Caches/Homebrew/freetype_bottle_manifest--2.11.1... (7KB)\n",
      "Removing: /Users/vb/Library/Caches/Homebrew/libsodium_bottle_manifest--1.0.18_1... (7.5KB)\n",
      "Removing: /Users/vb/Library/Caches/Homebrew/imath_bottle_manifest--3.1.4... (6.3KB)\n",
      "Removing: /Users/vb/Library/Caches/Homebrew/zeromq--4.3.4... (1.6MB)\n",
      "Removing: /Users/vb/Library/Caches/Homebrew/gettext_bottle_manifest--0.21... (10.5KB)\n",
      "Removing: /Users/vb/Library/Caches/Homebrew/libsamplerate--0.1.9_1... (2.6MB)\n",
      "Removing: /Users/vb/Library/Caches/Homebrew/x264_bottle_manifest--r3060... (7.7KB)\n",
      "Removing: /Users/vb/Library/Caches/Homebrew/readline_bottle_manifest--8.1.2... (6.6KB)\n",
      "Removing: /Users/vb/Library/Caches/Homebrew/libevent_bottle_manifest--2.1.12... (9.3KB)\n",
      "Removing: /Users/vb/Library/Caches/Homebrew/libpthread-stubs_bottle_manifest--0.4... (8.4KB)\n",
      "Removing: /Users/vb/Library/Caches/Homebrew/zeromq_bottle_manifest--4.3.4... (7.6KB)\n",
      "Removing: /Users/vb/Library/Caches/Homebrew/libarchive_bottle_manifest--3.6.0... (8.3KB)\n",
      "Removing: /Users/vb/Library/Caches/Homebrew/libx11_bottle_manifest--1.7.3.1... (12.5KB)\n",
      "Removing: /Users/vb/Library/Caches/Homebrew/webp_bottle_manifest--1.2.2... (8.8KB)\n",
      "Removing: /Users/vb/Library/Caches/Homebrew/little-cms2_bottle_manifest--2.13.1... (7.2KB)\n",
      "Removing: /Users/vb/Library/Caches/Homebrew/libffi_bottle_manifest--3.4.2... (7.2KB)\n",
      "Removing: /Users/vb/Library/Caches/Homebrew/libunistring_bottle_manifest--1.0... (6.2KB)\n",
      "Removing: /Users/vb/Library/Caches/Homebrew/icu4c_bottle_manifest--70.1... (7.1KB)\n",
      "Removing: /Users/vb/Library/Caches/Homebrew/pkg-config_bottle_manifest--0.29.2_3... (7.4KB)\n",
      "Removing: /Users/vb/Library/Caches/Homebrew/theora_bottle_manifest--1.1.1-4... (8.3KB)\n",
      "Removing: /Users/vb/Library/Caches/Homebrew/frei0r_bottle_manifest--1.7.0... (7.7KB)\n",
      "Removing: /Users/vb/Library/Caches/Homebrew/opus_bottle_manifest--1.3.1-1... (7.5KB)\n",
      "Removing: /Users/vb/Library/Caches/Homebrew/opencore-amr--0.1.5... (307.7KB)\n",
      "Removing: /Users/vb/Library/Caches/Homebrew/gobject-introspection_bottle_manifest--1.70.0_3... (21.3KB)\n",
      "Removing: /Users/vb/Library/Caches/Homebrew/libass--0.15.2... (218.8KB)\n",
      "Removing: /Users/vb/Library/Logs/Homebrew/pkg-config... (64B)\n",
      "Removing: /Users/vb/Library/Logs/Homebrew/libtool... (64B)\n",
      "Removing: /Users/vb/Library/Logs/Homebrew/xorgproto... (64B)\n",
      "Removing: /Users/vb/Library/Logs/Homebrew/libxau... (64B)\n",
      "Removing: /Users/vb/Library/Logs/Homebrew/pixman... (64B)\n",
      "Removing: /Users/vb/Library/Logs/Homebrew/gdbm... (64B)\n",
      "Removing: /Users/vb/Library/Logs/Homebrew/mpdecimal... (64B)\n",
      "Removing: /Users/vb/Library/Logs/Homebrew/libxdmcp... (64B)\n",
      "Removing: /Users/vb/Library/Logs/Homebrew/libavif... (64B)\n",
      "Removing: /Users/vb/Library/Logs/Homebrew/gts... (64B)\n",
      "Removing: /Users/vb/Library/Logs/Homebrew/pango... (64B)\n",
      "Removing: /Users/vb/Library/Logs/Homebrew/gdk-pixbuf... (204B)\n",
      "Removing: /Users/vb/Library/Logs/Homebrew/icu4c... (64B)\n",
      "Removing: /Users/vb/Library/Logs/Homebrew/harfbuzz... (64B)\n",
      "Removing: /Users/vb/Library/Logs/Homebrew/glib... (64B)\n",
      "Removing: /Users/vb/Library/Logs/Homebrew/libxcb... (64B)\n",
      "Removing: /Users/vb/Library/Logs/Homebrew/readline... (64B)\n",
      "Removing: /Users/vb/Library/Logs/Homebrew/netpbm... (64B)\n",
      "Removing: /Users/vb/Library/Logs/Homebrew/graphite2... (64B)\n",
      "Removing: /Users/vb/Library/Logs/Homebrew/cairo... (64B)\n",
      "Removing: /Users/vb/Library/Logs/Homebrew/sqlite... (64B)\n",
      "Removing: /Users/vb/Library/Logs/Homebrew/gobject-introspection... (64B)\n",
      "Removing: /Users/vb/Library/Logs/Homebrew/fribidi... (64B)\n",
      "Removing: /Users/vb/Library/Logs/Homebrew/libpthread-stubs... (64B)\n",
      "Removing: /Users/vb/Library/Logs/Homebrew/xz... (64B)\n",
      "Removing: /Users/vb/Library/Logs/Homebrew/libxrender... (64B)\n",
      "Removing: /Users/vb/Library/Logs/Homebrew/gettext... (64B)\n",
      "Removing: /Users/vb/Library/Logs/Homebrew/librsvg... (194B)\n",
      "Removing: /Users/vb/Library/Logs/Homebrew/graphviz... (64B)\n",
      "Removing: /Users/vb/Library/Logs/Homebrew/libxext... (64B)\n",
      "Removing: /Users/vb/Library/Logs/Homebrew/m4... (64B)\n",
      "Removing: /Users/vb/Library/Logs/Homebrew/gd... (64B)\n",
      "Removing: /Users/vb/Library/Logs/Homebrew/openssl@1.1... (64B)\n",
      "Removing: /Users/vb/Library/Logs/Homebrew/pcre... (64B)\n",
      "Removing: /Users/vb/Library/Logs/Homebrew/jasper... (64B)\n",
      "Removing: /Users/vb/Library/Logs/Homebrew/libx11... (64B)\n",
      "Removing: /Users/vb/Library/Logs/Homebrew/lzo... (64B)\n",
      "Removing: /Users/vb/Library/Logs/Homebrew/python@3.9... (2 files, 2.4KB)\n",
      "Pruned 0 symbolic links and 8 directories from /usr/local\n"
     ]
    },
    {
     "name": "stdout",
     "output_type": "stream",
     "text": [
      "\u001b[34m==>\u001b[0m \u001b[1mUpgrading 5 dependents of upgraded formulae:\u001b[0m\n",
      "Disable this behaviour by setting HOMEBREW_NO_INSTALLED_DEPENDENTS_CHECK.\n",
      "Hide these hints with HOMEBREW_NO_ENV_HINTS (see `man brew`).\n",
      "python@3.9 3.9.12 -> 3.9.13_1, glib 2.72.0 -> 2.72.2, harfbuzz 4.2.0 -> 4.3.0, librsvg 2.52.8 -> 2.54.4, pango 1.50.6 -> 1.50.8\n",
      "\u001b[34m==>\u001b[0m \u001b[1mDownloading https://ghcr.io/v2/homebrew/core/sqlite/manifests/3.38.5\u001b[0m\n",
      "######################################################################## 100.0%\n",
      "\u001b[34m==>\u001b[0m \u001b[1mDownloading https://ghcr.io/v2/homebrew/core/sqlite/blobs/sha256:b3814e42288\u001b[0m\n",
      "\u001b[34m==>\u001b[0m \u001b[1mDownloading from https://pkg-containers.githubusercontent.com/ghcr1/blobs/sh\u001b[0m\n",
      "######################################################################## 100.0%\n",
      "\u001b[34m==>\u001b[0m \u001b[1mDownloading https://ghcr.io/v2/homebrew/core/python/3.9/manifests/3.9.13_1\u001b[0m\n",
      "######################################################################## 100.0%\n",
      "\u001b[34m==>\u001b[0m \u001b[1mDownloading https://ghcr.io/v2/homebrew/core/python/3.9/blobs/sha256:4cb2b93\u001b[0m\n",
      "\u001b[34m==>\u001b[0m \u001b[1mDownloading from https://pkg-containers.githubusercontent.com/ghcr1/blobs/sh\u001b[0m\n",
      "######################################################################## 100.0%\n",
      "\u001b[34m==>\u001b[0m \u001b[1mDownloading https://ghcr.io/v2/homebrew/core/glib/manifests/2.72.2\u001b[0m\n",
      "######################################################################## 100.0%\n",
      "\u001b[34m==>\u001b[0m \u001b[1mDownloading https://ghcr.io/v2/homebrew/core/glib/blobs/sha256:b98e6592d4b92\u001b[0m\n",
      "\u001b[34m==>\u001b[0m \u001b[1mDownloading from https://pkg-containers.githubusercontent.com/ghcr1/blobs/sh\u001b[0m\n",
      "######################################################################## 100.0%\n",
      "\u001b[34m==>\u001b[0m \u001b[1mDownloading https://ghcr.io/v2/homebrew/core/freetype/manifests/2.12.1\u001b[0m\n",
      "######################################################################## 100.0%\n",
      "\u001b[34m==>\u001b[0m \u001b[1mDownloading https://ghcr.io/v2/homebrew/core/freetype/blobs/sha256:cafa6fee3\u001b[0m\n",
      "\u001b[34m==>\u001b[0m \u001b[1mDownloading from https://pkg-containers.githubusercontent.com/ghcr1/blobs/sh\u001b[0m\n",
      "######################################################################## 100.0%\n",
      "\u001b[34m==>\u001b[0m \u001b[1mDownloading https://ghcr.io/v2/homebrew/core/xorgproto/manifests/2022.1\u001b[0m\n",
      "######################################################################## 100.0%\n",
      "\u001b[34m==>\u001b[0m \u001b[1mDownloading https://ghcr.io/v2/homebrew/core/xorgproto/blobs/sha256:59bc0ef6\u001b[0m\n",
      "\u001b[34m==>\u001b[0m \u001b[1mDownloading from https://pkg-containers.githubusercontent.com/ghcr1/blobs/sh\u001b[0m\n",
      "######################################################################## 100.0%\n",
      "\u001b[34m==>\u001b[0m \u001b[1mDownloading https://ghcr.io/v2/homebrew/core/libxcb/manifests/1.15\u001b[0m\n",
      "######################################################################## 100.0%\n",
      "\u001b[34m==>\u001b[0m \u001b[1mDownloading https://ghcr.io/v2/homebrew/core/libxcb/blobs/sha256:78f6cd5fce9\u001b[0m\n",
      "\u001b[34m==>\u001b[0m \u001b[1mDownloading from https://pkg-containers.githubusercontent.com/ghcr1/blobs/sh\u001b[0m\n",
      "######################################################################## 100.0%\n",
      "\u001b[34m==>\u001b[0m \u001b[1mDownloading https://ghcr.io/v2/homebrew/core/libx11/manifests/1.8.1\u001b[0m\n",
      "######################################################################## 100.0%\n",
      "\u001b[34m==>\u001b[0m \u001b[1mDownloading https://ghcr.io/v2/homebrew/core/libx11/blobs/sha256:898dd6a7238\u001b[0m\n",
      "\u001b[34m==>\u001b[0m \u001b[1mDownloading from https://pkg-containers.githubusercontent.com/ghcr1/blobs/sh\u001b[0m\n",
      "######################################################################## 100.0%\n",
      "\u001b[34m==>\u001b[0m \u001b[1mDownloading https://ghcr.io/v2/homebrew/core/harfbuzz/manifests/4.3.0\u001b[0m\n",
      "######################################################################## 100.0%\n",
      "\u001b[34m==>\u001b[0m \u001b[1mDownloading https://ghcr.io/v2/homebrew/core/harfbuzz/blobs/sha256:a9da619ad\u001b[0m\n",
      "\u001b[34m==>\u001b[0m \u001b[1mDownloading from https://pkg-containers.githubusercontent.com/ghcr1/blobs/sh\u001b[0m\n",
      "######################################################################## 100.0%\n",
      "\u001b[34m==>\u001b[0m \u001b[1mDownloading https://ghcr.io/v2/homebrew/core/fribidi/manifests/1.0.12\u001b[0m\n",
      "######################################################################## 100.0%\n",
      "\u001b[34m==>\u001b[0m \u001b[1mDownloading https://ghcr.io/v2/homebrew/core/fribidi/blobs/sha256:65bb28b6d2\u001b[0m\n",
      "\u001b[34m==>\u001b[0m \u001b[1mDownloading from https://pkg-containers.githubusercontent.com/ghcr1/blobs/sh\u001b[0m\n",
      "######################################################################## 100.0%\n",
      "\u001b[34m==>\u001b[0m \u001b[1mDownloading https://ghcr.io/v2/homebrew/core/pango/manifests/1.50.8\u001b[0m\n",
      "######################################################################## 100.0%\n",
      "\u001b[34m==>\u001b[0m \u001b[1mDownloading https://ghcr.io/v2/homebrew/core/pango/blobs/sha256:31bcb260b961\u001b[0m\n",
      "\u001b[34m==>\u001b[0m \u001b[1mDownloading from https://pkg-containers.githubusercontent.com/ghcr1/blobs/sh\u001b[0m\n",
      "######################################################################## 100.0%\n",
      "\u001b[34m==>\u001b[0m \u001b[1mDownloading https://ghcr.io/v2/homebrew/core/libtiff/manifests/4.4.0\u001b[0m\n",
      "######################################################################## 100.0%\n",
      "\u001b[34m==>\u001b[0m \u001b[1mDownloading https://ghcr.io/v2/homebrew/core/libtiff/blobs/sha256:cda7e1362b\u001b[0m\n",
      "\u001b[34m==>\u001b[0m \u001b[1mDownloading from https://pkg-containers.githubusercontent.com/ghcr1/blobs/sh\u001b[0m\n",
      "######################################################################## 100.0%\n",
      "\u001b[34m==>\u001b[0m \u001b[1mDownloading https://ghcr.io/v2/homebrew/core/librsvg/manifests/2.54.4\u001b[0m\n",
      "######################################################################## 100.0%\n",
      "\u001b[34m==>\u001b[0m \u001b[1mDownloading https://ghcr.io/v2/homebrew/core/librsvg/blobs/sha256:5166095551\u001b[0m\n",
      "\u001b[34m==>\u001b[0m \u001b[1mDownloading from https://pkg-containers.githubusercontent.com/ghcr1/blobs/sh\u001b[0m\n",
      "######################################################################## 100.0%\n",
      "\u001b[32m==>\u001b[0m \u001b[1mUpgrading \u001b[32mpython@3.9\u001b[39m\n",
      "  3.9.12 -> 3.9.13_1 \n",
      "\u001b[0m\n",
      "\u001b[32m==>\u001b[0m \u001b[1mInstalling dependencies for python@3.9: \u001b[32msqlite\u001b[39m\u001b[0m\n",
      "\u001b[32m==>\u001b[0m \u001b[1mInstalling python@3.9 dependency: \u001b[32msqlite\u001b[39m\u001b[0m\n",
      "\u001b[34m==>\u001b[0m \u001b[1mPouring sqlite--3.38.5.catalina.bottle.tar.gz\u001b[0m\n",
      "🍺  /usr/local/Cellar/sqlite/3.38.5: 11 files, 4.3MB\n",
      "\u001b[32m==>\u001b[0m \u001b[1mInstalling \u001b[32mpython@3.9\u001b[39m\u001b[0m\n",
      "\u001b[34m==>\u001b[0m \u001b[1mPouring python@3.9--3.9.13_1.catalina.bottle.tar.gz\u001b[0m\n",
      "\u001b[34m==>\u001b[0m \u001b[1m/usr/local/Cellar/python@3.9/3.9.13_1/bin/python3 -m ensurepip\u001b[0m\n",
      "\u001b[34m==>\u001b[0m \u001b[1m/usr/local/Cellar/python@3.9/3.9.13_1/bin/python3 -m pip install -v --no-dep\u001b[0m\n",
      "🍺  /usr/local/Cellar/python@3.9/3.9.13_1: 3,086 files, 55.8MB\n",
      "\u001b[34m==>\u001b[0m \u001b[1mRunning `brew cleanup python@3.9`...\u001b[0m\n",
      "Removing: /usr/local/Cellar/python@3.9/3.9.12... (3,088 files, 55.6MB)\n",
      "\u001b[32m==>\u001b[0m \u001b[1mUpgrading \u001b[32mglib\u001b[39m\n",
      "  2.72.0 -> 2.72.2 \n",
      "\u001b[0m\n",
      "\u001b[34m==>\u001b[0m \u001b[1mPouring glib--2.72.2.catalina.bottle.tar.gz\u001b[0m\n",
      "🍺  /usr/local/Cellar/glib/2.72.2: 449 files, 20.6MB\n",
      "\u001b[34m==>\u001b[0m \u001b[1mRunning `brew cleanup glib`...\u001b[0m\n",
      "Removing: /usr/local/Cellar/glib/2.72.0... (449 files, 20.5MB)\n",
      "\u001b[32m==>\u001b[0m \u001b[1mUpgrading \u001b[32mharfbuzz\u001b[39m\n",
      "  4.2.0 -> 4.3.0 \n",
      "\u001b[0m\n",
      "\u001b[32m==>\u001b[0m \u001b[1mInstalling dependencies for harfbuzz: \u001b[32mfreetype\u001b[39m, \u001b[32mxorgproto\u001b[39m, \u001b[32mlibxcb\u001b[39m and \u001b[32mlibx11\u001b[39m\u001b[0m\n",
      "\u001b[32m==>\u001b[0m \u001b[1mInstalling harfbuzz dependency: \u001b[32mfreetype\u001b[39m\u001b[0m\n",
      "\u001b[34m==>\u001b[0m \u001b[1mPouring freetype--2.12.1.catalina.bottle.tar.gz\u001b[0m\n",
      "🍺  /usr/local/Cellar/freetype/2.12.1: 67 files, 2.4MB\n",
      "\u001b[32m==>\u001b[0m \u001b[1mInstalling harfbuzz dependency: \u001b[32mxorgproto\u001b[39m\u001b[0m\n",
      "\u001b[34m==>\u001b[0m \u001b[1mPouring xorgproto--2022.1.catalina.bottle.tar.gz\u001b[0m\n",
      "🍺  /usr/local/Cellar/xorgproto/2022.1: 264 files, 3.9MB\n",
      "\u001b[32m==>\u001b[0m \u001b[1mInstalling harfbuzz dependency: \u001b[32mlibxcb\u001b[39m\u001b[0m\n",
      "\u001b[34m==>\u001b[0m \u001b[1mPouring libxcb--1.15.catalina.bottle.tar.gz\u001b[0m\n",
      "🍺  /usr/local/Cellar/libxcb/1.15: 2,459 files, 6.9MB\n",
      "\u001b[32m==>\u001b[0m \u001b[1mInstalling harfbuzz dependency: \u001b[32mlibx11\u001b[39m\u001b[0m\n",
      "\u001b[34m==>\u001b[0m \u001b[1mPouring libx11--1.8.1.catalina.bottle.tar.gz\u001b[0m\n",
      "🍺  /usr/local/Cellar/libx11/1.8.1: 1,055 files, 7MB\n",
      "\u001b[32m==>\u001b[0m \u001b[1mInstalling \u001b[32mharfbuzz\u001b[39m\u001b[0m\n",
      "\u001b[34m==>\u001b[0m \u001b[1mPouring harfbuzz--4.3.0.catalina.bottle.tar.gz\u001b[0m\n",
      "🍺  /usr/local/Cellar/harfbuzz/4.3.0: 68 files, 7.7MB\n",
      "\u001b[34m==>\u001b[0m \u001b[1mRunning `brew cleanup harfbuzz`...\u001b[0m\n",
      "Removing: /usr/local/Cellar/harfbuzz/4.2.0... (68 files, 7.8MB)\n",
      "\u001b[32m==>\u001b[0m \u001b[1mUpgrading \u001b[32mpango\u001b[39m\n",
      "  1.50.6 -> 1.50.8 \n",
      "\u001b[0m\n",
      "\u001b[32m==>\u001b[0m \u001b[1mInstalling dependencies for pango: \u001b[32mfribidi\u001b[39m\u001b[0m\n",
      "\u001b[32m==>\u001b[0m \u001b[1mInstalling pango dependency: \u001b[32mfribidi\u001b[39m\u001b[0m\n"
     ]
    },
    {
     "name": "stdout",
     "output_type": "stream",
     "text": [
      "\u001b[34m==>\u001b[0m \u001b[1mPouring fribidi--1.0.12.catalina.bottle.tar.gz\u001b[0m\n",
      "🍺  /usr/local/Cellar/fribidi/1.0.12: 67 files, 625.4KB\n",
      "\u001b[32m==>\u001b[0m \u001b[1mInstalling \u001b[32mpango\u001b[39m\u001b[0m\n",
      "\u001b[34m==>\u001b[0m \u001b[1mPouring pango--1.50.8.catalina.bottle.tar.gz\u001b[0m\n",
      "🍺  /usr/local/Cellar/pango/1.50.8: 68 files, 3.2MB\n",
      "\u001b[34m==>\u001b[0m \u001b[1mRunning `brew cleanup pango`...\u001b[0m\n",
      "Removing: /usr/local/Cellar/pango/1.50.6... (68 files, 3.2MB)\n",
      "\u001b[32m==>\u001b[0m \u001b[1mUpgrading \u001b[32mlibrsvg\u001b[39m\n",
      "  2.52.8 -> 2.54.4 \n",
      "\u001b[0m\n",
      "\u001b[32m==>\u001b[0m \u001b[1mInstalling dependencies for librsvg: \u001b[32mlibtiff\u001b[39m\u001b[0m\n",
      "\u001b[32m==>\u001b[0m \u001b[1mInstalling librsvg dependency: \u001b[32mlibtiff\u001b[39m\u001b[0m\n",
      "\u001b[34m==>\u001b[0m \u001b[1mPouring libtiff--4.4.0.catalina.bottle.tar.gz\u001b[0m\n",
      "🍺  /usr/local/Cellar/libtiff/4.4.0: 249 files, 4.5MB\n",
      "\u001b[32m==>\u001b[0m \u001b[1mInstalling \u001b[32mlibrsvg\u001b[39m\u001b[0m\n",
      "\u001b[34m==>\u001b[0m \u001b[1mPouring librsvg--2.54.4.catalina.bottle.tar.gz\u001b[0m\n",
      "\u001b[34m==>\u001b[0m \u001b[1m/usr/local/opt/gdk-pixbuf/bin/gdk-pixbuf-query-loaders --update-cache\u001b[0m\n",
      "🍺  /usr/local/Cellar/librsvg/2.54.4: 24 files, 56.1MB\n",
      "\u001b[34m==>\u001b[0m \u001b[1mRunning `brew cleanup librsvg`...\u001b[0m\n",
      "Removing: /usr/local/Cellar/librsvg/2.52.8... (53 files, 55MB)\n",
      "\u001b[32m==>\u001b[0m \u001b[1mChecking for dependents of upgraded formulae...\u001b[0m\n",
      "\u001b[34m==>\u001b[0m \u001b[1mNo broken dependents found!\u001b[0m\n"
     ]
    }
   ],
   "source": [
    "#!brew install wget"
   ]
  },
  {
   "cell_type": "code",
   "execution_count": 19,
   "metadata": {
    "id": "USgEKN9GGf60"
   },
   "outputs": [],
   "source": [
    "#You can download the data manually as well instead of using 'wget'\n",
    "#!wget http://download.tensorflow.org/example_images/flower_photos.tgz --quiet"
   ]
  },
  {
   "cell_type": "code",
   "execution_count": 20,
   "metadata": {
    "id": "3cCPVwdxpDvR"
   },
   "outputs": [
    {
     "name": "stdout",
     "output_type": "stream",
     "text": [
      "total 643176\n",
      "-rw-rw-r--@ 1 vidyadharbendre  staff      32125 Mar 22 20:05 1a. Classification_MNIST_CNN_Keras.ipynb\n",
      "-rw-r--r--@ 1 vidyadharbendre  staff      80277 Mar 22 22:09 1b. Classification_MNIST_CNN_Keras_Functional.ipynb\n",
      "-rw-rw-r--@ 1 vidyadharbendre  staff    1269188 Mar 22 21:07 2a. Visualize an Image.ipynb\n",
      "-rw-------@ 1 vidyadharbendre  staff      49154 Mar 23 10:43 2b. Image_Classification_CNN.ipynb\n",
      "-rw-rw-r--@ 1 vidyadharbendre  staff      39149 Mar 23 10:15 2c. Image Classification - Flowers.ipynb\n",
      "drwxr-xr-x@ 5 vidyadharbendre  staff        160 Mar 22 20:54 \u001b[34mcheck_point_folder\u001b[m\u001b[m\n",
      "drwxr-x---@ 8 vidyadharbendre  staff        256 Feb 11  2016 \u001b[34mflower_photos\u001b[m\u001b[m\n",
      "-rw-r--r--@ 1 vidyadharbendre  staff  228813984 Feb 11  2016 flower_photos.tgz\n",
      "-rw-r--r--@ 1 vidyadharbendre  staff   77390704 Mar 23 10:15 flowers.h5\n",
      "-rw-r--r--@ 1 vidyadharbendre  staff    4842280 Mar 22 22:06 mnist_functional_template_v3.h5\n",
      "drwxr-xr-x@ 6 vidyadharbendre  staff        192 Mar 22 20:54 \u001b[34msave_mode_folder\u001b[m\u001b[m\n"
     ]
    }
   ],
   "source": [
    "#Check if file is downloaded\n",
    "!ls -l"
   ]
  },
  {
   "cell_type": "code",
   "execution_count": 21,
   "metadata": {},
   "outputs": [
    {
     "data": {
      "text/plain": [
       "'/Users/vidyadharbendre/nn_workspace/learn_neural_network_using_examples/jupyter_notebooks/CNN'"
      ]
     },
     "execution_count": 21,
     "metadata": {},
     "output_type": "execute_result"
    }
   ],
   "source": [
    "import os\n",
    "os.getcwd()"
   ]
  },
  {
   "cell_type": "code",
   "execution_count": 22,
   "metadata": {},
   "outputs": [
    {
     "data": {
      "text/plain": [
       "'/Users/vidyadharbendre/nn_workspace/learn_neural_network_using_examples/jupyter_notebooks/CNN/flower_photos'"
      ]
     },
     "execution_count": 22,
     "metadata": {},
     "output_type": "execute_result"
    }
   ],
   "source": [
    "path = os.getcwd()+'/flower_photos'\n",
    "path"
   ]
  },
  {
   "cell_type": "code",
   "execution_count": 23,
   "metadata": {
    "id": "r9NeLYrOpIc0"
   },
   "outputs": [],
   "source": [
    "#Unzip the data\n",
    "#!tar -xf flower_photos.tgz"
   ]
  },
  {
   "cell_type": "code",
   "execution_count": 24,
   "metadata": {
    "id": "fd2Zz_mYrU7N"
   },
   "outputs": [
    {
     "name": "stdout",
     "output_type": "stream",
     "text": [
      "total 824\n",
      "-rw-r-----@   1 vidyadharbendre  staff  418049 Feb  9  2016 LICENSE.txt\n",
      "drwx------@ 635 vidyadharbendre  staff   20320 Feb 11  2016 \u001b[34mdaisy\u001b[m\u001b[m\n",
      "drwx------@ 900 vidyadharbendre  staff   28800 Feb 11  2016 \u001b[34mdandelion\u001b[m\u001b[m\n",
      "drwx------@ 643 vidyadharbendre  staff   20576 Feb 11  2016 \u001b[34mroses\u001b[m\u001b[m\n",
      "drwx------@ 701 vidyadharbendre  staff   22432 Feb 11  2016 \u001b[34msunflowers\u001b[m\u001b[m\n",
      "drwx------@ 801 vidyadharbendre  staff   25632 Feb 11  2016 \u001b[34mtulips\u001b[m\u001b[m\n"
     ]
    }
   ],
   "source": [
    "#Check how data is organized\n",
    "!ls -l flower_photos"
   ]
  },
  {
   "cell_type": "markdown",
   "metadata": {
    "id": "Lz0v83zDhs2y"
   },
   "source": [
    "### Build batch generator"
   ]
  },
  {
   "cell_type": "code",
   "execution_count": 25,
   "metadata": {},
   "outputs": [
    {
     "data": {
      "text/plain": [
       "'/Users/vidyadharbendre/nn_workspace/learn_neural_network_using_examples/jupyter_notebooks/CNN/flower_photos'"
      ]
     },
     "execution_count": 25,
     "metadata": {},
     "output_type": "execute_result"
    }
   ],
   "source": [
    "path"
   ]
  },
  {
   "cell_type": "code",
   "execution_count": 26,
   "metadata": {
    "id": "-da8Sz_BpnpI"
   },
   "outputs": [],
   "source": [
    "import tensorflow as tf"
   ]
  },
  {
   "cell_type": "code",
   "execution_count": 27,
   "metadata": {
    "id": "dQQ7Oksaq7tI"
   },
   "outputs": [],
   "source": [
    "#Define some parameters\n",
    "img_size = 60\n",
    "img_depth = 3"
   ]
  },
  {
   "cell_type": "markdown",
   "metadata": {
    "id": "FBkyCTo1qWMy"
   },
   "source": [
    "Create an ImageDataGenerator object, it can also split data between train and test."
   ]
  },
  {
   "cell_type": "code",
   "execution_count": 28,
   "metadata": {
    "id": "bkUsCc6zp7Kp"
   },
   "outputs": [],
   "source": [
    "#ImageDataGenerator declaration with 20% data as test (80% for training)\n",
    "img_generator= tf.keras.preprocessing.image.ImageDataGenerator(validation_split=0.2)"
   ]
  },
  {
   "cell_type": "markdown",
   "metadata": {
    "id": "q3BVmtXdrHyh"
   },
   "source": [
    "ImageDataGenerator can read images directory and also resize them if needed"
   ]
  },
  {
   "cell_type": "code",
   "execution_count": 29,
   "metadata": {
    "id": "IkCVDrPOqDjE"
   },
   "outputs": [
    {
     "name": "stdout",
     "output_type": "stream",
     "text": [
      "Found 2939 images belonging to 5 classes.\n"
     ]
    }
   ],
   "source": [
    "#Build training generator. \n",
    "train_generator = img_generator.flow_from_directory('flower_photos',\n",
    "                                                    batch_size=64,\n",
    "                                                    target_size=(img_size, img_size),\n",
    "                                                    subset='training')"
   ]
  },
  {
   "cell_type": "code",
   "execution_count": 30,
   "metadata": {
    "id": "8Z7_0KoJGRDM"
   },
   "outputs": [
    {
     "name": "stdout",
     "output_type": "stream",
     "text": [
      "Found 731 images belonging to 5 classes.\n"
     ]
    }
   ],
   "source": [
    "#Build test generator\n",
    "test_generator = img_generator.flow_from_directory('flower_photos',\n",
    "                                                   target_size=(img_size, img_size),                                                   \n",
    "                                                   subset='validation',\n",
    "                                                   batch_size=64)"
   ]
  },
  {
   "cell_type": "code",
   "execution_count": 31,
   "metadata": {
    "id": "ZnOY195Pt7mn"
   },
   "outputs": [
    {
     "data": {
      "text/plain": [
       "keras.preprocessing.image.DirectoryIterator"
      ]
     },
     "execution_count": 31,
     "metadata": {},
     "output_type": "execute_result"
    }
   ],
   "source": [
    "type(train_generator)"
   ]
  },
  {
   "cell_type": "markdown",
   "metadata": {
    "id": "dCpXm9s4rjM1"
   },
   "source": [
    "ImageDataGenerator returns 64 images and their labels"
   ]
  },
  {
   "cell_type": "code",
   "execution_count": 32,
   "metadata": {
    "id": "aUhNi9Krrpq7"
   },
   "outputs": [],
   "source": [
    "#Lets check the features (images) and Labels (flower class) returned by ImageDataGenerator\n",
    "X, y = next(train_generator)"
   ]
  },
  {
   "cell_type": "code",
   "execution_count": 33,
   "metadata": {
    "id": "g_QIPMTvsZZV"
   },
   "outputs": [
    {
     "name": "stdout",
     "output_type": "stream",
     "text": [
      "Input features shape (64, 60, 60, 3)\n",
      "Actual labels shape (64, 5)\n"
     ]
    }
   ],
   "source": [
    "print('Input features shape', X.shape)\n",
    "print('Actual labels shape', y.shape)"
   ]
  },
  {
   "cell_type": "code",
   "execution_count": 34,
   "metadata": {},
   "outputs": [
    {
     "data": {
      "text/plain": [
       "{'daisy': 0, 'dandelion': 1, 'roses': 2, 'sunflowers': 3, 'tulips': 4}"
      ]
     },
     "execution_count": 34,
     "metadata": {},
     "output_type": "execute_result"
    }
   ],
   "source": [
    "train_generator.class_indices"
   ]
  },
  {
   "cell_type": "code",
   "execution_count": 35,
   "metadata": {
    "id": "1NUb1CcQx_Zo"
   },
   "outputs": [
    {
     "data": {
      "text/plain": [
       "array([0., 1., 0., 0., 0.], dtype=float32)"
      ]
     },
     "execution_count": 35,
     "metadata": {},
     "output_type": "execute_result"
    }
   ],
   "source": [
    "y[0]"
   ]
  },
  {
   "cell_type": "code",
   "execution_count": 36,
   "metadata": {
    "id": "_iJgvxvh32gt"
   },
   "outputs": [
    {
     "data": {
      "text/plain": [
       "array([  0.,   1.,   2.,   3.,   4.,   5.,   6.,   7.,   8.,   9.,  10.,\n",
       "        11.,  12.,  13.,  14.,  15.,  16.,  17.,  18.,  19.,  20.,  21.,\n",
       "        22.,  23.,  24.,  25.,  26.,  27.,  28.,  29.,  30.,  31.,  32.,\n",
       "        33.,  34.,  35.,  36.,  37.,  38.,  39.,  40.,  41.,  42.,  43.,\n",
       "        44.,  45.,  46.,  47.,  48.,  49.,  50.,  51.,  52.,  53.,  54.,\n",
       "        55.,  56.,  57.,  58.,  59.,  60.,  61.,  62.,  63.,  64.,  65.,\n",
       "        66.,  67.,  68.,  69.,  70.,  71.,  72.,  73.,  74.,  75.,  76.,\n",
       "        77.,  78.,  79.,  80.,  81.,  82.,  83.,  84.,  85.,  86.,  87.,\n",
       "        88.,  89.,  90.,  91.,  92.,  93.,  94.,  95.,  96.,  97.,  98.,\n",
       "        99., 100., 101., 102., 103., 104., 105., 106., 107., 108., 109.,\n",
       "       110., 111., 112., 113., 114., 115., 116., 117., 118., 119., 120.,\n",
       "       121., 122., 123., 124., 125., 126., 127., 128., 129., 130., 131.,\n",
       "       132., 133., 134., 135., 136., 137., 138., 139., 140., 141., 142.,\n",
       "       143., 144., 145., 146., 147., 148., 149., 150., 151., 152., 153.,\n",
       "       154., 155., 156., 157., 158., 159., 160., 161., 162., 163., 164.,\n",
       "       165., 166., 167., 168., 169., 170., 171., 172., 173., 174., 175.,\n",
       "       176., 177., 178., 179., 180., 181., 182., 183., 184., 185., 186.,\n",
       "       187., 188., 189., 190., 191., 192., 193., 194., 195., 196., 197.,\n",
       "       198., 199., 200., 201., 202., 203., 204., 205., 206., 207., 208.,\n",
       "       209., 210., 211., 212., 213., 214., 215., 216., 217., 218., 219.,\n",
       "       220., 221., 222., 223., 224., 225., 226., 227., 228., 229., 230.,\n",
       "       231., 232., 233., 234., 235., 236., 237., 238., 239., 240., 241.,\n",
       "       242., 243., 244., 245., 246., 247., 248., 249., 250., 251., 252.,\n",
       "       253., 254., 255.], dtype=float32)"
      ]
     },
     "execution_count": 36,
     "metadata": {},
     "output_type": "execute_result"
    }
   ],
   "source": [
    "import numpy as np\n",
    "np.unique(X[0])"
   ]
  },
  {
   "cell_type": "code",
   "execution_count": 37,
   "metadata": {
    "id": "es0UPokXxIKM"
   },
   "outputs": [
    {
     "data": {
      "text/plain": [
       "{'daisy': 0, 'dandelion': 1, 'roses': 2, 'sunflowers': 3, 'tulips': 4}"
      ]
     },
     "execution_count": 37,
     "metadata": {},
     "output_type": "execute_result"
    }
   ],
   "source": [
    "train_generator.class_indices"
   ]
  },
  {
   "cell_type": "code",
   "execution_count": 38,
   "metadata": {
    "id": "xDV8kVGpOi_w"
   },
   "outputs": [
    {
     "data": {
      "text/plain": [
       "array([[[ 6., 13.,  5.],\n",
       "        [10., 17.,  9.],\n",
       "        [11., 22.,  8.],\n",
       "        ...,\n",
       "        [18., 24., 14.],\n",
       "        [13., 21., 10.],\n",
       "        [10., 17.,  9.]],\n",
       "\n",
       "       [[ 8., 15.,  7.],\n",
       "        [ 8., 18.,  9.],\n",
       "        [13., 24., 10.],\n",
       "        ...,\n",
       "        [14., 22.,  7.],\n",
       "        [11., 19.,  6.],\n",
       "        [ 9., 14.,  7.]],\n",
       "\n",
       "       [[ 8., 16.,  5.],\n",
       "        [10., 20., 11.],\n",
       "        [11., 22.,  8.],\n",
       "        ...,\n",
       "        [12., 18.,  8.],\n",
       "        [ 9., 16.,  8.],\n",
       "        [ 7., 14.,  6.]],\n",
       "\n",
       "       ...,\n",
       "\n",
       "       [[27., 26., 22.],\n",
       "        [32., 35., 28.],\n",
       "        [38., 39., 33.],\n",
       "        ...,\n",
       "        [ 4.,  4.,  4.],\n",
       "        [ 4.,  4.,  4.],\n",
       "        [ 6.,  7.,  2.]],\n",
       "\n",
       "       [[28., 29., 24.],\n",
       "        [30., 31., 26.],\n",
       "        [36., 39., 32.],\n",
       "        ...,\n",
       "        [ 2.,  2.,  2.],\n",
       "        [ 5.,  3.,  4.],\n",
       "        [ 8.,  7.,  3.]],\n",
       "\n",
       "       [[24., 27., 20.],\n",
       "        [28., 31., 24.],\n",
       "        [31., 34., 27.],\n",
       "        ...,\n",
       "        [ 3.,  1.,  4.],\n",
       "        [ 4.,  2.,  3.],\n",
       "        [ 7.,  6.,  2.]]], dtype=float32)"
      ]
     },
     "execution_count": 38,
     "metadata": {},
     "output_type": "execute_result"
    }
   ],
   "source": [
    "X[0]"
   ]
  },
  {
   "cell_type": "markdown",
   "metadata": {
    "id": "p1DOwu8Bhs29"
   },
   "source": [
    "### Build CNN Model"
   ]
  },
  {
   "cell_type": "code",
   "execution_count": 39,
   "metadata": {},
   "outputs": [
    {
     "data": {
      "text/plain": [
       "(60, 60)"
      ]
     },
     "execution_count": 39,
     "metadata": {},
     "output_type": "execute_result"
    }
   ],
   "source": [
    "img_size,img_size"
   ]
  },
  {
   "cell_type": "code",
   "execution_count": 49,
   "metadata": {},
   "outputs": [
    {
     "data": {
      "text/plain": [
       "<KerasTensor: shape=(None, 58, 58, 32) dtype=float32 (created by layer 'conv2d')>"
      ]
     },
     "execution_count": 49,
     "metadata": {},
     "output_type": "execute_result"
    }
   ],
   "source": [
    "#Clear any previous model from memory\n",
    "tf.keras.backend.clear_session()\n",
    "\n",
    "#Initialize model\n",
    "model = tf.keras.models.Sequential()\n",
    "\n",
    "#normalize data\n",
    "model.add(tf.keras.layers.BatchNormalization(input_shape=(img_size,img_size,3,)))\n",
    "\n",
    "#Add Conv Layer\n",
    "model.add(tf.keras.layers.Conv2D(32, kernel_size=(3,3), activation='relu'))\n",
    "model.output"
   ]
  },
  {
   "cell_type": "code",
   "execution_count": 50,
   "metadata": {
    "id": "tWQJ4SzZhs2-"
   },
   "outputs": [],
   "source": [
    "#Clear any previous model from memory\n",
    "tf.keras.backend.clear_session()\n",
    "\n",
    "#Initialize model\n",
    "model = tf.keras.models.Sequential()\n",
    "\n",
    "#normalize data\n",
    "model.add(tf.keras.layers.BatchNormalization(input_shape=(img_size,img_size,3,)))\n",
    "\n",
    "#Add Conv Layer\n",
    "model.add(tf.keras.layers.Conv2D(32, kernel_size=(3,3), activation='relu'))\n",
    "\n",
    "#normalize data\n",
    "model.add(tf.keras.layers.BatchNormalization())\n",
    "\n",
    "#Add Conv Layer\n",
    "model.add(tf.keras.layers.Conv2D(64, kernel_size=(3,3), activation='relu'))\n",
    "\n",
    "#normalize data\n",
    "model.add(tf.keras.layers.BatchNormalization())\n",
    "\n",
    "#Add Max Pool layer\n",
    "model.add(tf.keras.layers.MaxPool2D(pool_size=(2,2)))\n",
    "\n",
    "#Add Dense Layers after flattening the data\n",
    "model.add(tf.keras.layers.Flatten())\n",
    "model.add(tf.keras.layers.Dense(128, activation='relu'))\n",
    "\n",
    "#Add Dropout\n",
    "model.add(tf.keras.layers.Dropout(0.25))\n",
    "\n",
    "#Add Output Layer\n",
    "model.add(tf.keras.layers.Dense(5, activation='softmax'))"
   ]
  },
  {
   "cell_type": "code",
   "execution_count": 51,
   "metadata": {
    "id": "GsuEXbofhs3D"
   },
   "outputs": [],
   "source": [
    "#Specify Loass and Optimizer\n",
    "model.compile(optimizer='adam', loss='categorical_crossentropy', metrics=['accuracy'])"
   ]
  },
  {
   "cell_type": "code",
   "execution_count": 52,
   "metadata": {
    "id": "KCB11Qm44ynY"
   },
   "outputs": [
    {
     "name": "stdout",
     "output_type": "stream",
     "text": [
      "Model: \"sequential\"\n",
      "_________________________________________________________________\n",
      " Layer (type)                Output Shape              Param #   \n",
      "=================================================================\n",
      " batch_normalization (BatchN  (None, 60, 60, 3)        12        \n",
      " ormalization)                                                   \n",
      "                                                                 \n",
      " conv2d (Conv2D)             (None, 58, 58, 32)        896       \n",
      "                                                                 \n",
      " batch_normalization_1 (Batc  (None, 58, 58, 32)       128       \n",
      " hNormalization)                                                 \n",
      "                                                                 \n",
      " conv2d_1 (Conv2D)           (None, 56, 56, 64)        18496     \n",
      "                                                                 \n",
      " batch_normalization_2 (Batc  (None, 56, 56, 64)       256       \n",
      " hNormalization)                                                 \n",
      "                                                                 \n",
      " max_pooling2d (MaxPooling2D  (None, 28, 28, 64)       0         \n",
      " )                                                               \n",
      "                                                                 \n",
      " flatten (Flatten)           (None, 50176)             0         \n",
      "                                                                 \n",
      " dense (Dense)               (None, 128)               6422656   \n",
      "                                                                 \n",
      " dropout (Dropout)           (None, 128)               0         \n",
      "                                                                 \n",
      " dense_1 (Dense)             (None, 5)                 645       \n",
      "                                                                 \n",
      "=================================================================\n",
      "Total params: 6,443,089\n",
      "Trainable params: 6,442,891\n",
      "Non-trainable params: 198\n",
      "_________________________________________________________________\n"
     ]
    }
   ],
   "source": [
    "#Model Summary\n",
    "model.summary()"
   ]
  },
  {
   "cell_type": "code",
   "execution_count": 53,
   "metadata": {
    "id": "0V1E9Ua1tUPP"
   },
   "outputs": [
    {
     "name": "stdout",
     "output_type": "stream",
     "text": [
      "Model: \"sequential\"\n",
      "_________________________________________________________________\n",
      " Layer (type)                Output Shape              Param #   \n",
      "=================================================================\n",
      " batch_normalization (BatchN  (None, 60, 60, 3)        12        \n",
      " ormalization)                                                   \n",
      "                                                                 \n",
      " conv2d (Conv2D)             (None, 58, 58, 32)        896       \n",
      "                                                                 \n",
      " batch_normalization_1 (Batc  (None, 58, 58, 32)       128       \n",
      " hNormalization)                                                 \n",
      "                                                                 \n",
      " conv2d_1 (Conv2D)           (None, 56, 56, 64)        18496     \n",
      "                                                                 \n",
      " batch_normalization_2 (Batc  (None, 56, 56, 64)       256       \n",
      " hNormalization)                                                 \n",
      "                                                                 \n",
      " max_pooling2d (MaxPooling2D  (None, 28, 28, 64)       0         \n",
      " )                                                               \n",
      "                                                                 \n",
      " flatten (Flatten)           (None, 50176)             0         \n",
      "                                                                 \n",
      " dense (Dense)               (None, 128)               6422656   \n",
      "                                                                 \n",
      " dropout (Dropout)           (None, 128)               0         \n",
      "                                                                 \n",
      " dense_1 (Dense)             (None, 5)                 645       \n",
      "                                                                 \n",
      "=================================================================\n",
      "Total params: 6,443,089\n",
      "Trainable params: 6,442,891\n",
      "Non-trainable params: 198\n",
      "_________________________________________________________________\n"
     ]
    }
   ],
   "source": [
    "#Model Summary\n",
    "model.summary()"
   ]
  },
  {
   "cell_type": "markdown",
   "metadata": {
    "id": "0v7UlgC5hs3g"
   },
   "source": [
    "### Train the model"
   ]
  },
  {
   "cell_type": "code",
   "execution_count": 54,
   "metadata": {
    "id": "cklB73X8yCvt"
   },
   "outputs": [],
   "source": [
    "model_checkpoint = tf.keras.callbacks.ModelCheckpoint('flowers.h5', save_best_only=True, monitor='val_accuracy', mode='max', verbose=1)"
   ]
  },
  {
   "cell_type": "code",
   "execution_count": 55,
   "metadata": {
    "id": "ldJt7GHB5dtQ"
   },
   "outputs": [
    {
     "data": {
      "text/plain": [
       "45"
      ]
     },
     "execution_count": 55,
     "metadata": {},
     "output_type": "execute_result"
    }
   ],
   "source": [
    "2939//64"
   ]
  },
  {
   "cell_type": "code",
   "execution_count": 56,
   "metadata": {},
   "outputs": [
    {
     "name": "stderr",
     "output_type": "stream",
     "text": [
      "2024-03-23 11:06:22.476146: I tensorflow/core/grappler/optimizers/custom_graph_optimizer_registry.cc:113] Plugin optimizer for device_type GPU is enabled.\n"
     ]
    },
    {
     "name": "stdout",
     "output_type": "stream",
     "text": [
      "45/45 [==============================] - ETA: 0s - loss: 5.9062 - accuracy: 0.3558"
     ]
    },
    {
     "name": "stderr",
     "output_type": "stream",
     "text": [
      "2024-03-23 11:06:25.876967: I tensorflow/core/grappler/optimizers/custom_graph_optimizer_registry.cc:113] Plugin optimizer for device_type GPU is enabled.\n"
     ]
    },
    {
     "name": "stdout",
     "output_type": "stream",
     "text": [
      "\n",
      "Epoch 1: val_accuracy improved from -inf to 0.22159, saving model to flowers.h5\n",
      "45/45 [==============================] - 4s 90ms/step - loss: 5.9062 - accuracy: 0.3558 - val_loss: 1.7402 - val_accuracy: 0.2216\n"
     ]
    },
    {
     "data": {
      "text/plain": [
       "<keras.callbacks.History at 0x29cdef610>"
      ]
     },
     "execution_count": 56,
     "metadata": {},
     "output_type": "execute_result"
    }
   ],
   "source": [
    "model.fit(train_generator,\n",
    "          epochs=1,\n",
    "          steps_per_epoch= 2939//64,  #Number of batches per epoch\n",
    "          validation_data=test_generator,\n",
    "          validation_steps = 731//64, \n",
    "          callbacks=[model_checkpoint]) #Number of test images//batch_size"
   ]
  },
  {
   "cell_type": "code",
   "execution_count": 77,
   "metadata": {},
   "outputs": [
    {
     "name": "stdout",
     "output_type": "stream",
     "text": [
      "Epoch 1/5\n",
      "45/45 [==============================] - ETA: 0s - loss: 1.7780 - accuracy: 0.3757\n",
      "Epoch 1: val_accuracy improved from -inf to 0.35369, saving model to flowers.h5\n",
      "45/45 [==============================] - 74s 2s/step - loss: 1.7780 - accuracy: 0.3757 - val_loss: 2.4258 - val_accuracy: 0.3537\n",
      "Epoch 2/5\n",
      "45/45 [==============================] - ETA: 0s - loss: 1.3275 - accuracy: 0.4821\n",
      "Epoch 2: val_accuracy improved from 0.35369 to 0.38636, saving model to flowers.h5\n",
      "45/45 [==============================] - 78s 2s/step - loss: 1.3275 - accuracy: 0.4821 - val_loss: 12.4659 - val_accuracy: 0.3864\n",
      "Epoch 3/5\n",
      "45/45 [==============================] - ETA: 0s - loss: 1.2077 - accuracy: 0.4970\n",
      "Epoch 3: val_accuracy did not improve from 0.38636\n",
      "45/45 [==============================] - 71s 2s/step - loss: 1.2077 - accuracy: 0.4970 - val_loss: 20.0318 - val_accuracy: 0.3693\n",
      "Epoch 4/5\n",
      "45/45 [==============================] - ETA: 0s - loss: 1.1470 - accuracy: 0.5391\n",
      "Epoch 4: val_accuracy did not improve from 0.38636\n",
      "45/45 [==============================] - 84s 2s/step - loss: 1.1470 - accuracy: 0.5391 - val_loss: 19.3826 - val_accuracy: 0.3651\n",
      "Epoch 5/5\n",
      "45/45 [==============================] - ETA: 0s - loss: 1.1351 - accuracy: 0.5537\n",
      "Epoch 5: val_accuracy improved from 0.38636 to 0.43750, saving model to flowers.h5\n",
      "45/45 [==============================] - 76s 2s/step - loss: 1.1351 - accuracy: 0.5537 - val_loss: 11.5743 - val_accuracy: 0.4375\n"
     ]
    },
    {
     "data": {
      "text/plain": [
       "<keras.callbacks.History at 0x7fa413f4b640>"
      ]
     },
     "execution_count": 77,
     "metadata": {},
     "output_type": "execute_result"
    }
   ],
   "source": [
    "model.fit(train_generator,\n",
    "          epochs=5,\n",
    "          steps_per_epoch= 2939//64,  #Number of batches per epoch\n",
    "          validation_data=test_generator,\n",
    "          validation_steps = 731//64, \n",
    "          callbacks=[model_checkpoint]) #Number of test images//batch_size"
   ]
  },
  {
   "cell_type": "code",
   "execution_count": 48,
   "metadata": {},
   "outputs": [
    {
     "name": "stdout",
     "output_type": "stream",
     "text": [
      "Epoch 6/15\n",
      "45/45 [==============================] - ETA: 0s - loss: 1.4446 - accuracy: 0.3997\n",
      "Epoch 6: val_accuracy improved from 0.25426 to 0.27273, saving model to flowers.h5\n",
      "45/45 [==============================] - 3s 76ms/step - loss: 1.4446 - accuracy: 0.3997 - val_loss: 10.5824 - val_accuracy: 0.2727\n",
      "Epoch 7/15\n",
      "45/45 [==============================] - ETA: 0s - loss: 1.2422 - accuracy: 0.4706\n",
      "Epoch 7: val_accuracy did not improve from 0.27273\n",
      "45/45 [==============================] - 3s 69ms/step - loss: 1.2422 - accuracy: 0.4706 - val_loss: 25.3246 - val_accuracy: 0.2528\n",
      "Epoch 8/15\n",
      "45/45 [==============================] - ETA: 0s - loss: 1.1531 - accuracy: 0.5214\n",
      "Epoch 8: val_accuracy did not improve from 0.27273\n",
      "45/45 [==============================] - 3s 67ms/step - loss: 1.1531 - accuracy: 0.5214 - val_loss: 32.6258 - val_accuracy: 0.2230\n",
      "Epoch 9/15\n",
      "44/45 [============================>.] - ETA: 0s - loss: 1.0891 - accuracy: 0.5582\n",
      "Epoch 9: val_accuracy improved from 0.27273 to 0.31960, saving model to flowers.h5\n",
      "45/45 [==============================] - 3s 69ms/step - loss: 1.0898 - accuracy: 0.5579 - val_loss: 20.7797 - val_accuracy: 0.3196\n",
      "Epoch 10/15\n",
      "45/45 [==============================] - ETA: 0s - loss: 0.9766 - accuracy: 0.5958\n",
      "Epoch 10: val_accuracy improved from 0.31960 to 0.37216, saving model to flowers.h5\n",
      "45/45 [==============================] - 3s 69ms/step - loss: 0.9766 - accuracy: 0.5958 - val_loss: 15.3414 - val_accuracy: 0.3722\n",
      "Epoch 11/15\n",
      "45/45 [==============================] - ETA: 0s - loss: 0.8455 - accuracy: 0.6403\n",
      "Epoch 11: val_accuracy improved from 0.37216 to 0.47443, saving model to flowers.h5\n",
      "45/45 [==============================] - 3s 68ms/step - loss: 0.8455 - accuracy: 0.6403 - val_loss: 7.8055 - val_accuracy: 0.4744\n",
      "Epoch 12/15\n",
      "45/45 [==============================] - ETA: 0s - loss: 0.8385 - accuracy: 0.6386\n",
      "Epoch 12: val_accuracy improved from 0.47443 to 0.53977, saving model to flowers.h5\n",
      "45/45 [==============================] - 3s 68ms/step - loss: 0.8385 - accuracy: 0.6386 - val_loss: 4.3740 - val_accuracy: 0.5398\n",
      "Epoch 13/15\n",
      "45/45 [==============================] - ETA: 0s - loss: 0.7355 - accuracy: 0.6831\n",
      "Epoch 13: val_accuracy improved from 0.53977 to 0.54688, saving model to flowers.h5\n",
      "45/45 [==============================] - 3s 70ms/step - loss: 0.7355 - accuracy: 0.6831 - val_loss: 2.9977 - val_accuracy: 0.5469\n",
      "Epoch 14/15\n",
      "45/45 [==============================] - ETA: 0s - loss: 0.7190 - accuracy: 0.7047\n",
      "Epoch 14: val_accuracy improved from 0.54688 to 0.56108, saving model to flowers.h5\n",
      "45/45 [==============================] - 3s 68ms/step - loss: 0.7190 - accuracy: 0.7047 - val_loss: 2.2108 - val_accuracy: 0.5611\n",
      "Epoch 15/15\n",
      "45/45 [==============================] - ETA: 0s - loss: 0.6785 - accuracy: 0.7137\n",
      "Epoch 15: val_accuracy did not improve from 0.56108\n",
      "45/45 [==============================] - 3s 68ms/step - loss: 0.6785 - accuracy: 0.7137 - val_loss: 1.9091 - val_accuracy: 0.5526\n"
     ]
    },
    {
     "data": {
      "text/plain": [
       "<keras.callbacks.History at 0x17ff69c70>"
      ]
     },
     "execution_count": 48,
     "metadata": {},
     "output_type": "execute_result"
    }
   ],
   "source": [
    "model.fit(train_generator,\n",
    "          epochs=15,\n",
    "          steps_per_epoch= 2939//64,  #Number of batches per epoch\n",
    "          validation_data=test_generator,\n",
    "          validation_steps = 731//64, \n",
    "          initial_epoch=5,\n",
    "          callbacks=[model_checkpoint]) #Number of test images//batch_size"
   ]
  },
  {
   "cell_type": "code",
   "execution_count": null,
   "metadata": {},
   "outputs": [],
   "source": []
  }
 ],
 "metadata": {
  "accelerator": "GPU",
  "colab": {
   "collapsed_sections": [],
   "name": "2b. Image Classification - Flowers.ipynb",
   "private_outputs": true,
   "provenance": []
  },
  "kernelspec": {
   "display_name": "Python 3 (ipykernel)",
   "language": "python",
   "name": "python3"
  },
  "language_info": {
   "codemirror_mode": {
    "name": "ipython",
    "version": 3
   },
   "file_extension": ".py",
   "mimetype": "text/x-python",
   "name": "python",
   "nbconvert_exporter": "python",
   "pygments_lexer": "ipython3",
   "version": "3.9.13"
  }
 },
 "nbformat": 4,
 "nbformat_minor": 4
}
