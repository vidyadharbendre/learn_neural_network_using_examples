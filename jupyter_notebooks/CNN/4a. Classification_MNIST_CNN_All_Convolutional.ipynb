{
 "cells": [
  {
   "cell_type": "markdown",
   "metadata": {
    "colab_type": "text",
    "id": "zzxDzUlzlaTC"
   },
   "source": [
    "### Load tensorflow"
   ]
  },
  {
   "cell_type": "code",
   "execution_count": 2,
   "metadata": {
    "colab": {
     "base_uri": "https://localhost:8080/",
     "height": 62
    },
    "colab_type": "code",
    "executionInfo": {
     "elapsed": 2361,
     "status": "ok",
     "timestamp": 1579365718990,
     "user": {
      "displayName": "Rajeev Kumar",
      "photoUrl": "https://lh3.googleusercontent.com/a-/AAuE7mBC_Jt2baS4Hv7JJvLmgAJFGZpvIs0sh5ggT7ZM9hw=s64",
      "userId": "10567937244174773728"
     },
     "user_tz": -330
    },
    "id": "QRSjlO8YlaTD",
    "outputId": "b12fb358-3292-43cd-d896-248589b23f00"
   },
   "outputs": [],
   "source": [
    "import tensorflow as tf\n",
    "tf.random.set_seed(42)"
   ]
  },
  {
   "cell_type": "code",
   "execution_count": 3,
   "metadata": {
    "colab": {
     "base_uri": "https://localhost:8080/",
     "height": 34
    },
    "colab_type": "code",
    "executionInfo": {
     "elapsed": 2354,
     "status": "ok",
     "timestamp": 1579365718990,
     "user": {
      "displayName": "Rajeev Kumar",
      "photoUrl": "https://lh3.googleusercontent.com/a-/AAuE7mBC_Jt2baS4Hv7JJvLmgAJFGZpvIs0sh5ggT7ZM9hw=s64",
      "userId": "10567937244174773728"
     },
     "user_tz": -330
    },
    "id": "oxuiwMf9Dg27",
    "outputId": "13f7f523-0b92-4a88-f89b-4c745812624a"
   },
   "outputs": [
    {
     "data": {
      "text/plain": [
       "'2.9.1'"
      ]
     },
     "execution_count": 3,
     "metadata": {},
     "output_type": "execute_result"
    }
   ],
   "source": [
    "tf.__version__"
   ]
  },
  {
   "cell_type": "markdown",
   "metadata": {
    "colab_type": "text",
    "id": "Q1Z5_xYClaTH"
   },
   "source": [
    "### Collect Data\n",
    "We will use MNIST dataset for this exercise. This dataset contains images of hand written numbers with each image being a black & white picture of size 28x28. We will download the data using tensorflow API. The dataset has 60,000 training examples and 10,000 test examples. Please note that images have already been converted to numpy arrays."
   ]
  },
  {
   "cell_type": "code",
   "execution_count": 4,
   "metadata": {
    "colab": {
     "base_uri": "https://localhost:8080/",
     "height": 50
    },
    "colab_type": "code",
    "executionInfo": {
     "elapsed": 2348,
     "status": "ok",
     "timestamp": 1579365718991,
     "user": {
      "displayName": "Rajeev Kumar",
      "photoUrl": "https://lh3.googleusercontent.com/a-/AAuE7mBC_Jt2baS4Hv7JJvLmgAJFGZpvIs0sh5ggT7ZM9hw=s64",
      "userId": "10567937244174773728"
     },
     "user_tz": -330
    },
    "id": "6AOgxO3AlaTI",
    "outputId": "844e4cd8-846e-4315-f515-03c940579304"
   },
   "outputs": [],
   "source": [
    "#Download dataset\n",
    "(trainX, trainY),(testX, testY) = tf.keras.datasets.mnist.load_data()"
   ]
  },
  {
   "cell_type": "code",
   "execution_count": 5,
   "metadata": {
    "colab": {
     "base_uri": "https://localhost:8080/",
     "height": 34
    },
    "colab_type": "code",
    "executionInfo": {
     "elapsed": 2342,
     "status": "ok",
     "timestamp": 1579365718992,
     "user": {
      "displayName": "Rajeev Kumar",
      "photoUrl": "https://lh3.googleusercontent.com/a-/AAuE7mBC_Jt2baS4Hv7JJvLmgAJFGZpvIs0sh5ggT7ZM9hw=s64",
      "userId": "10567937244174773728"
     },
     "user_tz": -330
    },
    "id": "RkKWEr9ZlaTN",
    "outputId": "e5114d9c-aff3-4852-93ea-c650d8329ac6"
   },
   "outputs": [
    {
     "data": {
      "text/plain": [
       "(60000, 28, 28)"
      ]
     },
     "execution_count": 5,
     "metadata": {},
     "output_type": "execute_result"
    }
   ],
   "source": [
    "#Check number of training examples and size of each example\n",
    "trainX.shape"
   ]
  },
  {
   "cell_type": "code",
   "execution_count": 6,
   "metadata": {
    "colab": {
     "base_uri": "https://localhost:8080/",
     "height": 34
    },
    "colab_type": "code",
    "executionInfo": {
     "elapsed": 2335,
     "status": "ok",
     "timestamp": 1579365718992,
     "user": {
      "displayName": "Rajeev Kumar",
      "photoUrl": "https://lh3.googleusercontent.com/a-/AAuE7mBC_Jt2baS4Hv7JJvLmgAJFGZpvIs0sh5ggT7ZM9hw=s64",
      "userId": "10567937244174773728"
     },
     "user_tz": -330
    },
    "id": "R6Bv0W9Af4q0",
    "outputId": "6dbc317a-d184-4a35-9592-a5b135753c6d"
   },
   "outputs": [
    {
     "data": {
      "text/plain": [
       "(10000, 28, 28)"
      ]
     },
     "execution_count": 6,
     "metadata": {},
     "output_type": "execute_result"
    }
   ],
   "source": [
    "#Check number of test examples and size of each example\n",
    "testX.shape"
   ]
  },
  {
   "cell_type": "code",
   "execution_count": 7,
   "metadata": {
    "colab": {
     "base_uri": "https://localhost:8080/",
     "height": 294
    },
    "colab_type": "code",
    "executionInfo": {
     "elapsed": 2874,
     "status": "ok",
     "timestamp": 1579365719537,
     "user": {
      "displayName": "Rajeev Kumar",
      "photoUrl": "https://lh3.googleusercontent.com/a-/AAuE7mBC_Jt2baS4Hv7JJvLmgAJFGZpvIs0sh5ggT7ZM9hw=s64",
      "userId": "10567937244174773728"
     },
     "user_tz": -330
    },
    "id": "FKJO-tnngA5_",
    "outputId": "1dd36421-c712-4441-9593-33dfc2c51f7f"
   },
   "outputs": [
    {
     "data": {
      "image/png": "[encoded data removed]",
      "text/plain": [
       "<Figure size 432x288 with 1 Axes>"
      ]
     },
     "metadata": {
      "needs_background": "light"
     },
     "output_type": "display_data"
    }
   ],
   "source": [
    "#Let's review the data\n",
    "import matplotlib.pyplot as plt\n",
    "import numpy as np\n",
    "img_num = np.random.randint(0, testX.shape[0]) #Get a random integer between 0 and number of examples in test dataset\n",
    "plt.imshow(testX[img_num],cmap='gray') #Show the image from test dataset\n",
    "plt.suptitle('Number: ' + str(testY[img_num]))\n",
    "plt.show()"
   ]
  },
  {
   "cell_type": "markdown",
   "metadata": {
    "colab_type": "text",
    "id": "BZtz_GoBlaTQ"
   },
   "source": [
    "### Convert Output label to multiple values"
   ]
  },
  {
   "cell_type": "code",
   "execution_count": 8,
   "metadata": {
    "colab": {
     "base_uri": "https://localhost:8080/",
     "height": 34
    },
    "colab_type": "code",
    "executionInfo": {
     "elapsed": 2869,
     "status": "ok",
     "timestamp": 1579365719538,
     "user": {
      "displayName": "Rajeev Kumar",
      "photoUrl": "https://lh3.googleusercontent.com/a-/AAuE7mBC_Jt2baS4Hv7JJvLmgAJFGZpvIs0sh5ggT7ZM9hw=s64",
      "userId": "10567937244174773728"
     },
     "user_tz": -330
    },
    "id": "fJabOdEvEBj8",
    "outputId": "feb51f1c-25d7-4b3d-fbe2-f40a1c130d39"
   },
   "outputs": [
    {
     "data": {
      "text/plain": [
       "7"
      ]
     },
     "execution_count": 8,
     "metadata": {},
     "output_type": "execute_result"
    }
   ],
   "source": [
    "#Check current label size\n",
    "testY[0]"
   ]
  },
  {
   "cell_type": "code",
   "execution_count": 9,
   "metadata": {
    "colab": {},
    "colab_type": "code",
    "id": "fltHpNSTlaTR"
   },
   "outputs": [],
   "source": [
    "#Convert labels to one hot encoding\n",
    "trainY = tf.keras.utils.to_categorical(trainY, num_classes=10)\n",
    "testY = tf.keras.utils.to_categorical(testY, num_classes=10)"
   ]
  },
  {
   "cell_type": "code",
   "execution_count": 10,
   "metadata": {
    "colab": {
     "base_uri": "https://localhost:8080/",
     "height": 34
    },
    "colab_type": "code",
    "executionInfo": {
     "elapsed": 2127,
     "status": "ok",
     "timestamp": 1579365719539,
     "user": {
      "displayName": "Rajeev Kumar",
      "photoUrl": "https://lh3.googleusercontent.com/a-/AAuE7mBC_Jt2baS4Hv7JJvLmgAJFGZpvIs0sh5ggT7ZM9hw=s64",
      "userId": "10567937244174773728"
     },
     "user_tz": -330
    },
    "id": "-Qz-suxVE9XE",
    "outputId": "82f8f2ce-8f9d-4522-849b-4b9c0045b60a"
   },
   "outputs": [
    {
     "data": {
      "text/plain": [
       "array([0., 0., 0., 0., 0., 1., 0., 0., 0., 0.], dtype=float32)"
      ]
     },
     "execution_count": 10,
     "metadata": {},
     "output_type": "execute_result"
    }
   ],
   "source": [
    "#Now check the label size\n",
    "trainY[0]"
   ]
  },
  {
   "cell_type": "markdown",
   "metadata": {
    "colab_type": "text",
    "id": "zyLCiNu2laTT"
   },
   "source": [
    "## Build the Graph"
   ]
  },
  {
   "cell_type": "code",
   "execution_count": 11,
   "metadata": {
    "colab": {},
    "colab_type": "code",
    "id": "oyFnCvrDlaTV"
   },
   "outputs": [],
   "source": [
    "#Clear any existing model in memory\n",
    "tf.keras.backend.clear_session()\n",
    "\n",
    "#Initialize model, reshape & normalize data\n",
    "model = tf.keras.models.Sequential()\n",
    "\n",
    "#Reshape data from 2D (28,28) to 3D (28, 28, 1)\n",
    "model.add(tf.keras.layers.Reshape((28,28,1),input_shape=(28,28,)))\n",
    "\n",
    "#normalize data\n",
    "model.add(tf.keras.layers.BatchNormalization())"
   ]
  },
  {
   "cell_type": "markdown",
   "metadata": {
    "colab_type": "text",
    "id": "ty3W8cr2laTX"
   },
   "source": [
    "### Apply Convolutional Layers, MaxPooling"
   ]
  },
  {
   "cell_type": "code",
   "execution_count": 12,
   "metadata": {
    "colab": {},
    "colab_type": "code",
    "id": "lGBw31K3laTY"
   },
   "outputs": [],
   "source": [
    "#Add first convolutional layer\n",
    "model.add(tf.keras.layers.Conv2D(32, #Number of filters \n",
    "                                 kernel_size=(3,3), #Size of the filter\n",
    "                                 activation='relu'))\n",
    "\n",
    "#normalize data\n",
    "model.add(tf.keras.layers.BatchNormalization())\n",
    "\n",
    "#Add second convolutional layer\n",
    "model.add(tf.keras.layers.Conv2D(64, kernel_size=(3,3), activation='relu', strides=(2,2), padding='same'))\n",
    "\n",
    "#normalize data\n",
    "model.add(tf.keras.layers.BatchNormalization())"
   ]
  },
  {
   "cell_type": "code",
   "execution_count": 13,
   "metadata": {
    "colab": {
     "base_uri": "https://localhost:8080/",
     "height": 34
    },
    "colab_type": "code",
    "executionInfo": {
     "elapsed": 907,
     "status": "ok",
     "timestamp": 1579366892195,
     "user": {
      "displayName": "Rajeev Kumar",
      "photoUrl": "https://lh3.googleusercontent.com/a-/AAuE7mBC_Jt2baS4Hv7JJvLmgAJFGZpvIs0sh5ggT7ZM9hw=s64",
      "userId": "10567937244174773728"
     },
     "user_tz": -330
    },
    "id": "kuLFbM2Tiale",
    "outputId": "109481f7-7c97-4e2e-b5d0-6274dad7ac27"
   },
   "outputs": [
    {
     "data": {
      "text/plain": [
       "<KerasTensor: shape=(None, 13, 13, 64) dtype=float32 (created by layer 'batch_normalization_2')>"
      ]
     },
     "execution_count": 13,
     "metadata": {},
     "output_type": "execute_result"
    }
   ],
   "source": [
    "#Check model output at current stage\n",
    "model.output"
   ]
  },
  {
   "cell_type": "markdown",
   "metadata": {
    "colab_type": "text",
    "id": "I2R3PieRlaTb"
   },
   "source": [
    "### Add layers for Classification"
   ]
  },
  {
   "cell_type": "code",
   "execution_count": 14,
   "metadata": {
    "colab": {},
    "colab_type": "code",
    "id": "yxDnATnrihgW"
   },
   "outputs": [],
   "source": [
    "#Add layer with 10 filters\n",
    "model.add(tf.keras.layers.Conv2D(10, kernel_size=(1,1), activation='relu'))"
   ]
  },
  {
   "cell_type": "code",
   "execution_count": 15,
   "metadata": {
    "colab": {
     "base_uri": "https://localhost:8080/",
     "height": 34
    },
    "colab_type": "code",
    "executionInfo": {
     "elapsed": 636,
     "status": "ok",
     "timestamp": 1579366893093,
     "user": {
      "displayName": "Rajeev Kumar",
      "photoUrl": "https://lh3.googleusercontent.com/a-/AAuE7mBC_Jt2baS4Hv7JJvLmgAJFGZpvIs0sh5ggT7ZM9hw=s64",
      "userId": "10567937244174773728"
     },
     "user_tz": -330
    },
    "id": "kPdWpzy3BUPl",
    "outputId": "402aa08f-032f-4fbf-b9f1-5c854c37268b"
   },
   "outputs": [
    {
     "data": {
      "text/plain": [
       "<KerasTensor: shape=(None, 13, 13, 10) dtype=float32 (created by layer 'conv2d_2')>"
      ]
     },
     "execution_count": 15,
     "metadata": {},
     "output_type": "execute_result"
    }
   ],
   "source": [
    "#Check model output at current stage\n",
    "model.output"
   ]
  },
  {
   "cell_type": "code",
   "execution_count": 16,
   "metadata": {
    "colab": {},
    "colab_type": "code",
    "id": "mN05mk8hlaTc"
   },
   "outputs": [],
   "source": [
    "#Use Global Average pooling layer to reduce number of outputs to 10\n",
    "model.add(tf.keras.layers.GlobalAveragePooling2D())"
   ]
  },
  {
   "cell_type": "code",
   "execution_count": 17,
   "metadata": {
    "colab": {
     "base_uri": "https://localhost:8080/",
     "height": 34
    },
    "colab_type": "code",
    "executionInfo": {
     "elapsed": 1049,
     "status": "ok",
     "timestamp": 1579366895207,
     "user": {
      "displayName": "Rajeev Kumar",
      "photoUrl": "https://lh3.googleusercontent.com/a-/AAuE7mBC_Jt2baS4Hv7JJvLmgAJFGZpvIs0sh5ggT7ZM9hw=s64",
      "userId": "10567937244174773728"
     },
     "user_tz": -330
    },
    "id": "LfAt0yztjMpr",
    "outputId": "2ef3cc40-33bb-4f56-f578-14325fbf4fe3"
   },
   "outputs": [
    {
     "data": {
      "text/plain": [
       "<KerasTensor: shape=(None, 10) dtype=float32 (created by layer 'global_average_pooling2d')>"
      ]
     },
     "execution_count": 17,
     "metadata": {},
     "output_type": "execute_result"
    }
   ],
   "source": [
    "#Check model output at current stage\n",
    "model.output"
   ]
  },
  {
   "cell_type": "code",
   "execution_count": 18,
   "metadata": {
    "colab": {},
    "colab_type": "code",
    "id": "yLY3ZT5GjJyp"
   },
   "outputs": [],
   "source": [
    "#Output layer\n",
    "model.add(tf.keras.layers.Activation('softmax'))"
   ]
  },
  {
   "cell_type": "code",
   "execution_count": 19,
   "metadata": {
    "colab": {},
    "colab_type": "code",
    "id": "mm1fHVpklaTf"
   },
   "outputs": [],
   "source": [
    "model.compile(optimizer='adam', \n",
    "              loss='categorical_crossentropy', \n",
    "              metrics=['accuracy'])"
   ]
  },
  {
   "cell_type": "code",
   "execution_count": 20,
   "metadata": {
    "colab": {
     "base_uri": "https://localhost:8080/",
     "height": 454
    },
    "colab_type": "code",
    "executionInfo": {
     "elapsed": 674,
     "status": "ok",
     "timestamp": 1579366896813,
     "user": {
      "displayName": "Rajeev Kumar",
      "photoUrl": "https://lh3.googleusercontent.com/a-/AAuE7mBC_Jt2baS4Hv7JJvLmgAJFGZpvIs0sh5ggT7ZM9hw=s64",
      "userId": "10567937244174773728"
     },
     "user_tz": -330
    },
    "id": "TlREpRGWlaTi",
    "outputId": "a2f8de51-e7bd-4803-ad8a-fca55e590f18"
   },
   "outputs": [
    {
     "name": "stdout",
     "output_type": "stream",
     "text": [
      "Model: \"sequential\"\n",
      "_________________________________________________________________\n",
      " Layer (type)                Output Shape              Param #   \n",
      "=================================================================\n",
      " reshape (Reshape)           (None, 28, 28, 1)         0         \n",
      "                                                                 \n",
      " batch_normalization (BatchN  (None, 28, 28, 1)        4         \n",
      " ormalization)                                                   \n",
      "                                                                 \n",
      " conv2d (Conv2D)             (None, 26, 26, 32)        320       \n",
      "                                                                 \n",
      " batch_normalization_1 (Batc  (None, 26, 26, 32)       128       \n",
      " hNormalization)                                                 \n",
      "                                                                 \n",
      " conv2d_1 (Conv2D)           (None, 13, 13, 64)        18496     \n",
      "                                                                 \n",
      " batch_normalization_2 (Batc  (None, 13, 13, 64)       256       \n",
      " hNormalization)                                                 \n",
      "                                                                 \n",
      " conv2d_2 (Conv2D)           (None, 13, 13, 10)        650       \n",
      "                                                                 \n",
      " global_average_pooling2d (G  (None, 10)               0         \n",
      " lobalAveragePooling2D)                                          \n",
      "                                                                 \n",
      " activation (Activation)     (None, 10)                0         \n",
      "                                                                 \n",
      "=================================================================\n",
      "Total params: 19,854\n",
      "Trainable params: 19,660\n",
      "Non-trainable params: 194\n",
      "_________________________________________________________________\n"
     ]
    }
   ],
   "source": [
    "model.summary()"
   ]
  },
  {
   "cell_type": "markdown",
   "metadata": {
    "colab_type": "text",
    "id": "4kIsqrNElaTl"
   },
   "source": [
    "## Train the model"
   ]
  },
  {
   "cell_type": "code",
   "execution_count": 21,
   "metadata": {
    "colab": {
     "base_uri": "https://localhost:8080/",
     "height": 1000
    },
    "colab_type": "code",
    "executionInfo": {
     "elapsed": 252311,
     "status": "ok",
     "timestamp": 1579367155758,
     "user": {
      "displayName": "Rajeev Kumar",
      "photoUrl": "https://lh3.googleusercontent.com/a-/AAuE7mBC_Jt2baS4Hv7JJvLmgAJFGZpvIs0sh5ggT7ZM9hw=s64",
      "userId": "10567937244174773728"
     },
     "user_tz": -330
    },
    "id": "FsJI729klaTo",
    "outputId": "41e8c394-6371-4d68-d6e0-bc52620bc551"
   },
   "outputs": [
    {
     "name": "stdout",
     "output_type": "stream",
     "text": [
      "Epoch 1/30\n",
      "1875/1875 [==============================] - 97s 51ms/step - loss: 1.1401 - accuracy: 0.6956 - val_loss: 0.6020 - val_accuracy: 0.8082\n",
      "Epoch 2/30\n",
      "1875/1875 [==============================] - 96s 51ms/step - loss: 0.3448 - accuracy: 0.9196 - val_loss: 0.2917 - val_accuracy: 0.9212\n",
      "Epoch 3/30\n",
      "1875/1875 [==============================] - 100s 53ms/step - loss: 0.2310 - accuracy: 0.9406 - val_loss: 0.1897 - val_accuracy: 0.9484\n",
      "Epoch 4/30\n",
      "1875/1875 [==============================] - 98s 52ms/step - loss: 0.1897 - accuracy: 0.9489 - val_loss: 0.1644 - val_accuracy: 0.9533\n",
      "Epoch 5/30\n",
      "1875/1875 [==============================] - 98s 52ms/step - loss: 0.1665 - accuracy: 0.9540 - val_loss: 0.1861 - val_accuracy: 0.9498\n",
      "Epoch 6/30\n",
      "1875/1875 [==============================] - 104s 55ms/step - loss: 0.1493 - accuracy: 0.9578 - val_loss: 0.1547 - val_accuracy: 0.9565\n",
      "Epoch 7/30\n",
      "1875/1875 [==============================] - 98s 52ms/step - loss: 0.1364 - accuracy: 0.9613 - val_loss: 0.1919 - val_accuracy: 0.9422\n",
      "Epoch 8/30\n",
      "1875/1875 [==============================] - 91s 49ms/step - loss: 0.1281 - accuracy: 0.9634 - val_loss: 0.1469 - val_accuracy: 0.9586\n",
      "Epoch 9/30\n",
      "1875/1875 [==============================] - 106s 57ms/step - loss: 0.1201 - accuracy: 0.9652 - val_loss: 0.1696 - val_accuracy: 0.9480\n",
      "Epoch 10/30\n",
      "1875/1875 [==============================] - 100s 53ms/step - loss: 0.1136 - accuracy: 0.9674 - val_loss: 0.1244 - val_accuracy: 0.9635\n",
      "Epoch 11/30\n",
      "1875/1875 [==============================] - 89s 47ms/step - loss: 0.1084 - accuracy: 0.9679 - val_loss: 0.1617 - val_accuracy: 0.9509\n",
      "Epoch 12/30\n",
      "1875/1875 [==============================] - 91s 48ms/step - loss: 0.1049 - accuracy: 0.9688 - val_loss: 0.1438 - val_accuracy: 0.9544\n",
      "Epoch 13/30\n",
      "1875/1875 [==============================] - 100s 53ms/step - loss: 0.0981 - accuracy: 0.9708 - val_loss: 0.1614 - val_accuracy: 0.9527\n",
      "Epoch 14/30\n",
      "1875/1875 [==============================] - 91s 49ms/step - loss: 0.0953 - accuracy: 0.9718 - val_loss: 0.1148 - val_accuracy: 0.9651\n",
      "Epoch 15/30\n",
      "1875/1875 [==============================] - 88s 47ms/step - loss: 0.0918 - accuracy: 0.9721 - val_loss: 0.1493 - val_accuracy: 0.9583\n",
      "Epoch 16/30\n",
      "1875/1875 [==============================] - 89s 47ms/step - loss: 0.0889 - accuracy: 0.9734 - val_loss: 0.1643 - val_accuracy: 0.9548\n",
      "Epoch 17/30\n",
      "1875/1875 [==============================] - 4994s 3s/step - loss: 0.0845 - accuracy: 0.9750 - val_loss: 0.1476 - val_accuracy: 0.9561\n",
      "Epoch 18/30\n",
      "1875/1875 [==============================] - 111s 59ms/step - loss: 0.0807 - accuracy: 0.9758 - val_loss: 0.1222 - val_accuracy: 0.9647\n",
      "Epoch 19/30\n",
      "1875/1875 [==============================] - 110s 59ms/step - loss: 0.0796 - accuracy: 0.9754 - val_loss: 0.1258 - val_accuracy: 0.9594\n",
      "Epoch 20/30\n",
      "1875/1875 [==============================] - 112s 60ms/step - loss: 0.0779 - accuracy: 0.9761 - val_loss: 0.1238 - val_accuracy: 0.9612\n",
      "Epoch 21/30\n",
      "1875/1875 [==============================] - 111s 59ms/step - loss: 0.0760 - accuracy: 0.9771 - val_loss: 0.0968 - val_accuracy: 0.9703\n",
      "Epoch 22/30\n",
      "1875/1875 [==============================] - 111s 59ms/step - loss: 0.0729 - accuracy: 0.9776 - val_loss: 0.1268 - val_accuracy: 0.9663\n",
      "Epoch 23/30\n",
      "1875/1875 [==============================] - 110s 59ms/step - loss: 0.0711 - accuracy: 0.9782 - val_loss: 0.1128 - val_accuracy: 0.9648\n",
      "Epoch 24/30\n",
      "1875/1875 [==============================] - 109s 58ms/step - loss: 0.0693 - accuracy: 0.9789 - val_loss: 0.1100 - val_accuracy: 0.9680\n",
      "Epoch 25/30\n",
      "1875/1875 [==============================] - 110s 59ms/step - loss: 0.0677 - accuracy: 0.9790 - val_loss: 0.1019 - val_accuracy: 0.9702\n",
      "Epoch 26/30\n",
      "1875/1875 [==============================] - 111s 59ms/step - loss: 0.0657 - accuracy: 0.9800 - val_loss: 0.1293 - val_accuracy: 0.9605\n",
      "Epoch 27/30\n",
      "1875/1875 [==============================] - 110s 59ms/step - loss: 0.0638 - accuracy: 0.9801 - val_loss: 0.0984 - val_accuracy: 0.9680\n",
      "Epoch 28/30\n",
      "1875/1875 [==============================] - 106s 56ms/step - loss: 0.0619 - accuracy: 0.9812 - val_loss: 0.1328 - val_accuracy: 0.9627\n",
      "Epoch 29/30\n",
      "1875/1875 [==============================] - 7063s 4s/step - loss: 0.0612 - accuracy: 0.9812 - val_loss: 0.1156 - val_accuracy: 0.9632\n",
      "Epoch 30/30\n",
      "1875/1875 [==============================] - 110s 59ms/step - loss: 0.0597 - accuracy: 0.9809 - val_loss: 0.1193 - val_accuracy: 0.9656\n"
     ]
    },
    {
     "data": {
      "text/plain": [
       "<keras.callbacks.History at 0x7ff23def0160>"
      ]
     },
     "execution_count": 21,
     "metadata": {},
     "output_type": "execute_result"
    }
   ],
   "source": [
    "#Train the model\n",
    "model.fit(trainX,trainY,          \n",
    "          validation_data=(testX,testY),\n",
    "          epochs=30,\n",
    "          batch_size=32)"
   ]
  },
  {
   "cell_type": "code",
   "execution_count": null,
   "metadata": {
    "colab": {},
    "colab_type": "code",
    "id": "0M4vxcI2IJtC"
   },
   "outputs": [],
   "source": [
    "model.save('mnist_cnn_v1.h5')"
   ]
  },
  {
   "cell_type": "code",
   "execution_count": null,
   "metadata": {
    "colab": {},
    "colab_type": "code",
    "id": "IneGEel6IPqO"
   },
   "outputs": [],
   "source": [
    "!ls -l"
   ]
  }
 ],
 "metadata": {
  "accelerator": "GPU",
  "colab": {
   "name": "3a. Classification_MNIST_CNN_All_Convolutional.ipynb",
   "provenance": []
  },
  "kernelspec": {
   "display_name": "Python 3 (ipykernel)",
   "language": "python",
   "name": "python3"
  },
  "language_info": {
   "codemirror_mode": {
    "name": "ipython",
    "version": 3
   },
   "file_extension": ".py",
   "mimetype": "text/x-python",
   "name": "python",
   "nbconvert_exporter": "python",
   "pygments_lexer": "ipython3",
   "version": "3.9.13"
  }
 },
 "nbformat": 4,
 "nbformat_minor": 4
}
