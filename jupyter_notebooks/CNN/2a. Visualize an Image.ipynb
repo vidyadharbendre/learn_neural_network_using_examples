{
 "cells": [
  {
   "cell_type": "markdown",
   "metadata": {
    "id": "zfE5j9Wc_YqD"
   },
   "source": [
    "### Download Flowers dataset"
   ]
  },
  {
   "cell_type": "code",
   "execution_count": 26,
   "metadata": {
    "id": "m3eCR4iPiel5"
   },
   "outputs": [],
   "source": [
    "#You can download the data manually as well instead of using 'wget'\n",
    "!wget http://download.tensorflow.org/example_images/flower_photos.tgz --quiet"
   ]
  },
  {
   "cell_type": "code",
   "execution_count": 27,
   "metadata": {
    "id": "k3CwKe6AinGD"
   },
   "outputs": [
    {
     "name": "stdout",
     "output_type": "stream",
     "text": [
      "total 489376\n",
      "-rw-rw-r--@ 1 vidyadharbendre  staff      32125 Mar 22 20:05 1a. Classification_MNIST_CNN_Keras.ipynb\n",
      "-rw-r--r--@ 1 vidyadharbendre  staff      75528 Mar 22 20:55 1b. Classification_MNIST_CNN_Keras_Functional.ipynb\n",
      "-rw-rw-r--@ 1 vidyadharbendre  staff       6961 Mar 22 21:03 2a. Visualize an Image.ipynb\n",
      "drwxr-xr-x@ 5 vidyadharbendre  staff        160 Mar 22 20:54 \u001b[34mcheck_point_folder\u001b[m\u001b[m\n",
      "-rw-r--r--@ 1 vidyadharbendre  staff  228813984 Feb 11  2016 flower_photos.tgz\n",
      "-rw-r--r--@ 1 vidyadharbendre  staff   14479800 Mar 22 20:51 mnist_functional_template_v3.h5\n",
      "drwxr-xr-x@ 6 vidyadharbendre  staff        192 Mar 22 20:54 \u001b[34msave_mode_folder\u001b[m\u001b[m\n"
     ]
    }
   ],
   "source": [
    "#Check if dataset has been downloaded\n",
    "!ls -l"
   ]
  },
  {
   "cell_type": "code",
   "execution_count": 28,
   "metadata": {
    "id": "MAHy9YbNnJjJ"
   },
   "outputs": [],
   "source": [
    "#Extract images\n",
    "!tar -xf flower_photos.tgz"
   ]
  },
  {
   "cell_type": "code",
   "execution_count": 29,
   "metadata": {
    "id": "oO5VbO_Iei6x"
   },
   "outputs": [
    {
     "name": "stdout",
     "output_type": "stream",
     "text": [
      "total 489376\n",
      "-rw-rw-r--@ 1 vidyadharbendre  staff      32125 Mar 22 20:05 1a. Classification_MNIST_CNN_Keras.ipynb\n",
      "-rw-r--r--@ 1 vidyadharbendre  staff      75528 Mar 22 20:55 1b. Classification_MNIST_CNN_Keras_Functional.ipynb\n",
      "-rw-rw-r--@ 1 vidyadharbendre  staff       6961 Mar 22 21:03 2a. Visualize an Image.ipynb\n",
      "drwxr-xr-x@ 5 vidyadharbendre  staff        160 Mar 22 20:54 \u001b[34mcheck_point_folder\u001b[m\u001b[m\n",
      "drwxr-x---@ 8 vidyadharbendre  staff        256 Feb 11  2016 \u001b[34mflower_photos\u001b[m\u001b[m\n",
      "-rw-r--r--@ 1 vidyadharbendre  staff  228813984 Feb 11  2016 flower_photos.tgz\n",
      "-rw-r--r--@ 1 vidyadharbendre  staff   14479800 Mar 22 20:51 mnist_functional_template_v3.h5\n",
      "drwxr-xr-x@ 6 vidyadharbendre  staff        192 Mar 22 20:54 \u001b[34msave_mode_folder\u001b[m\u001b[m\n"
     ]
    }
   ],
   "source": [
    "!ls -l"
   ]
  },
  {
   "cell_type": "code",
   "execution_count": null,
   "metadata": {
    "id": "1kS4D3xiemr3"
   },
   "outputs": [],
   "source": [
    "!ls -l flower_photos"
   ]
  },
  {
   "cell_type": "code",
   "execution_count": null,
   "metadata": {
    "id": "wg8jPbtI786y"
   },
   "outputs": [],
   "source": [
    "!ls -l flower_photos/daisy"
   ]
  },
  {
   "cell_type": "code",
   "execution_count": null,
   "metadata": {
    "id": "p4rkUVGg9PT1"
   },
   "outputs": [],
   "source": [
    "#Check out few file names for the photos - \n",
    "\n",
    "#for Linux uncomment the following line\n",
    "!ls flower_photos/daisy | head -3\n",
    "\n",
    "#For windows, uncomment the following line\n",
    "#!dir data\\flower_photos\\daisy /a-d"
   ]
  },
  {
   "cell_type": "markdown",
   "metadata": {
    "id": "TAIJDBsC_dR3"
   },
   "source": [
    "### Load image from the disk"
   ]
  },
  {
   "cell_type": "code",
   "execution_count": null,
   "metadata": {
    "id": "hpGKo1-i7kBt"
   },
   "outputs": [],
   "source": [
    "import tensorflow as tf\n",
    "import numpy as np"
   ]
  },
  {
   "cell_type": "code",
   "execution_count": null,
   "metadata": {
    "id": "v7k4FqtxpVpm"
   },
   "outputs": [],
   "source": [
    "#Load an image using Keras image class\n",
    "image_file = 'flower_photos/daisy/100080576_f52e8ee070_n.jpg'\n",
    "flower_image = tf.keras.preprocessing.image.load_img(image_file)"
   ]
  },
  {
   "cell_type": "code",
   "execution_count": null,
   "metadata": {
    "id": "yp8C8M_AgB66"
   },
   "outputs": [],
   "source": [
    "type(flower_image)"
   ]
  },
  {
   "cell_type": "code",
   "execution_count": null,
   "metadata": {
    "id": "1avYYPQggUuA"
   },
   "outputs": [],
   "source": [
    "#Inspect image\n",
    "flower_image"
   ]
  },
  {
   "cell_type": "code",
   "execution_count": null,
   "metadata": {
    "id": "ZF6YfdiBpVpt"
   },
   "outputs": [],
   "source": [
    "#Load another photograph\n",
    "flower_image2 = tf.keras.preprocessing.image.load_img('flower_photos/daisy/10172379554_b296050f82_n.jpg')"
   ]
  },
  {
   "cell_type": "code",
   "execution_count": null,
   "metadata": {
    "id": "8tyCE3be2BQk"
   },
   "outputs": [],
   "source": [
    "flower_image2"
   ]
  },
  {
   "cell_type": "markdown",
   "metadata": {
    "id": "Fdy66pFkpVpw"
   },
   "source": [
    "### Image Size"
   ]
  },
  {
   "cell_type": "code",
   "execution_count": null,
   "metadata": {
    "id": "EqxsOlNC_Mvw"
   },
   "outputs": [],
   "source": [
    "#Size of the image\n",
    "flower_image.size"
   ]
  },
  {
   "cell_type": "code",
   "execution_count": null,
   "metadata": {
    "id": "KsVOUgmUpVp0"
   },
   "outputs": [],
   "source": [
    "#Size of 2nd image\n",
    "flower_image2.size"
   ]
  },
  {
   "cell_type": "code",
   "execution_count": null,
   "metadata": {
    "id": "joC3wkVyyBOa"
   },
   "outputs": [],
   "source": [
    "#Resizing image\n",
    "flower_image3 = flower_image2.resize([200,200])"
   ]
  },
  {
   "cell_type": "code",
   "execution_count": null,
   "metadata": {
    "id": "bwkbTLNfppqa"
   },
   "outputs": [],
   "source": [
    "flower_image3"
   ]
  },
  {
   "cell_type": "markdown",
   "metadata": {
    "id": "CmDub8E_Djnu"
   },
   "source": [
    "### Converting image to numpy array for ML"
   ]
  },
  {
   "cell_type": "code",
   "execution_count": null,
   "metadata": {
    "id": "5xIilM4kxgKI"
   },
   "outputs": [],
   "source": [
    "#1st image size - width, height\n",
    "flower_image2.size"
   ]
  },
  {
   "cell_type": "code",
   "execution_count": null,
   "metadata": {
    "id": "AvuQ45RRDiqp"
   },
   "outputs": [],
   "source": [
    "#Convert an image to numpy array\n",
    "flower_array = tf.keras.preprocessing.image.img_to_array(flower_image2)\n",
    "print('Shape of numpy array', flower_array.shape)"
   ]
  },
  {
   "cell_type": "code",
   "execution_count": null,
   "metadata": {
    "id": "6G6ruWkMsUd6"
   },
   "outputs": [],
   "source": [
    "type(flower_array)"
   ]
  },
  {
   "cell_type": "code",
   "execution_count": null,
   "metadata": {
    "id": "tw8U-eozU-Dg"
   },
   "outputs": [],
   "source": [
    "#Check the contents of numpy array\n",
    "flower_array[0,0,:]"
   ]
  },
  {
   "cell_type": "code",
   "execution_count": null,
   "metadata": {
    "id": "LZvlxLC_D6Nu"
   },
   "outputs": [],
   "source": [
    "#Unique values in the numpy array - will be between 0-255\n",
    "np.unique(flower_array)"
   ]
  },
  {
   "cell_type": "markdown",
   "metadata": {
    "id": "8voW4suWHbwL"
   },
   "source": [
    "### Converting numpy array to image"
   ]
  },
  {
   "cell_type": "code",
   "execution_count": null,
   "metadata": {
    "id": "ZicvkdwAEcFg"
   },
   "outputs": [],
   "source": [
    "#Use array_to_img function to convert numpy array to image\n",
    "new_image = tf.keras.preprocessing.image.array_to_img(flower_array)\n",
    "\n",
    "#Show image\n",
    "new_image"
   ]
  },
  {
   "cell_type": "code",
   "execution_count": null,
   "metadata": {
    "id": "Wh8DhTdPkn4m"
   },
   "outputs": [],
   "source": [
    "from matplotlib import pyplot as plt"
   ]
  },
  {
   "cell_type": "code",
   "execution_count": null,
   "metadata": {
    "id": "9mlyfDR2krXv"
   },
   "outputs": [],
   "source": [
    "plt.imshow(flower_array.astype('uint8'))"
   ]
  }
 ],
 "metadata": {
  "colab": {
   "name": "2a. Visualize an Image.ipynb",
   "private_outputs": true,
   "provenance": []
  },
  "kernelspec": {
   "display_name": "Python 3 (ipykernel)",
   "language": "python",
   "name": "python3"
  },
  "language_info": {
   "codemirror_mode": {
    "name": "ipython",
    "version": 3
   },
   "file_extension": ".py",
   "mimetype": "text/x-python",
   "name": "python",
   "nbconvert_exporter": "python",
   "pygments_lexer": "ipython3",
   "version": "3.9.13"
  }
 },
 "nbformat": 4,
 "nbformat_minor": 4
}
