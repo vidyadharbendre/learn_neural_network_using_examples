{
 "cells": [
  {
   "cell_type": "code",
   "execution_count": 27,
   "id": "484d8695-cec3-41d0-9a9a-c28d849c3596",
   "metadata": {},
   "outputs": [],
   "source": [
    "# Import the TensorFlow library, commonly aliased as 'tf', for building and training neural networks.\n",
    "import tensorflow as tf\n",
    "\n",
    "# Import the NumPy library, commonly aliased as 'np', for numerical computations and array operations.\n",
    "import numpy as np\n",
    "\n",
    "# Import the Pandas library, commonly aliased as 'pd', for data manipulation and analysis.\n",
    "import pandas as pd\n",
    "\n",
    "# Import the Matplotlib library, specifically the pyplot module, for data visualization.\n",
    "import matplotlib.pyplot as plt\n",
    "\n",
    "# Import necessary libraries and functions from TensorFlow.\n",
    "from tensorflow.keras.models import Model\n",
    "from tensorflow.keras.layers import Input, Flatten, Dense, Conv2D, MaxPool2D, BatchNormalization"
   ]
  },
  {
   "cell_type": "code",
   "execution_count": 28,
   "id": "2baf7efc-9438-4571-8fea-826da0d39d49",
   "metadata": {},
   "outputs": [],
   "source": [
    "# Import the MNIST dataset from the TensorFlow Keras datasets module.\n",
    "from tensorflow.keras.datasets import mnist\n",
    "\n",
    "# Import the to_categorical function from the TensorFlow Keras utils module.\n",
    "# This function is used for one-hot encoding of categorical labels.\n",
    "from tensorflow.keras.utils import to_categorical\n",
    "\n",
    "# Import the clear_session function from the TensorFlow Keras backend module.\n",
    "# This function is used to clear the Keras session and reset the TensorFlow graph.\n",
    "from tensorflow.keras.backend import clear_session\n",
    "\n",
    "# Import the Sequential and Model classes from the TensorFlow Keras models module.\n",
    "# These classes are used to create sequential and functional API models, respectively.\n",
    "from tensorflow.keras.models import Sequential, Model, load_model\n",
    "\n",
    "# Import various layer classes (Reshape, Dense, BatchNormalization, LeakyReLU, Input)\n",
    "# from the TensorFlow Keras layers module.\n",
    "# These classes are used to define the architecture of neural network models.\n",
    "from tensorflow.keras.layers import Reshape, Dense, BatchNormalization, LeakyReLU, Input\n",
    "\n",
    "# Import callback classes (ModelCheckpoint, EarlyStopping) from the TensorFlow Keras callbacks module.\n",
    "# These classes are used to define callbacks for monitoring and controlling the training process.\n",
    "from tensorflow.keras.callbacks import ModelCheckpoint, EarlyStopping"
   ]
  },
  {
   "cell_type": "code",
   "execution_count": 29,
   "id": "b91d1831-f6d0-488d-b94f-3b0ad651c439",
   "metadata": {},
   "outputs": [],
   "source": [
    "# Download the MNIST dataset using the load_data() function from the mnist module.\n",
    "# The dataset consists of handwritten digits (0 to 9) and is commonly used for image classification tasks.\n",
    "# It returns training and testing data as tuples (X_train, y_train) and (X_test, y_test) respectively,\n",
    "# where X_train and X_test are the input images and y_train and y_test are the corresponding labels.\n",
    "(X_train, y_train), (X_test, y_test) = mnist.load_data()"
   ]
  },
  {
   "cell_type": "code",
   "execution_count": 30,
   "id": "471cb0e9-b7fe-4127-8de0-461c02bca6b9",
   "metadata": {},
   "outputs": [
    {
     "name": "stdout",
     "output_type": "stream",
     "text": [
      "Image Number: 5837\n"
     ]
    },
    {
     "data": {
      "image/png": "[encoded data removed]",
      "text/plain": [
       "<Figure size 640x480 with 1 Axes>"
      ]
     },
     "metadata": {},
     "output_type": "display_data"
    }
   ],
   "source": [
    "# Generate a random integer between 0 and the number of examples in the test dataset\n",
    "img_num = np.random.randint(0, X_test.shape[0])\n",
    "\n",
    "# Print the randomly selected image number\n",
    "print(\"Image Number:\", img_num)\n",
    "\n",
    "# Display the randomly selected image from the test dataset in grayscale\n",
    "plt.imshow(X_test[img_num], cmap='gray')\n",
    "\n",
    "# Add a title to the plot indicating the corresponding label of the image\n",
    "plt.suptitle('Number: ' + str(y_test[img_num]))\n",
    "\n",
    "# Show the plot with the image\n",
    "plt.show()"
   ]
  },
  {
   "cell_type": "code",
   "execution_count": 31,
   "id": "e6ad17d6-e14f-4f61-8bb0-4a6f9a7b78bb",
   "metadata": {},
   "outputs": [],
   "source": [
    "# Reshape the training and testing input images (X_train and X_test) from 2D arrays (28x28 pixels)\n",
    "# to 1D arrays (784 pixels) using the reshape() method. This flattens each image into a single vector.\n",
    "# The argument (-1, 28*28) specifies the new shape, where -1 indicates that the number of rows (samples)\n",
    "# is inferred based on the size of the original array, and 28*28 is the total number of pixels in each image.\n",
    "X_train = X_train.reshape(-1, 28*28).astype(\"float32\") / 255.0\n",
    "X_test = X_test.reshape(-1, 28*28).astype(\"float32\") / 255.0\n",
    "\n",
    "# Convert pixel values of training and testing input images to floating-point numbers and normalize them\n",
    "# by dividing by 255.0. This scales the pixel values to the range [0, 1], which helps improve the convergence\n",
    "# and stability of the training process when using neural networks.\n",
    "# The astype(\"float32\") method converts the pixel values to 32-bit floating-point numbers."
   ]
  },
  {
   "cell_type": "code",
   "execution_count": 32,
   "id": "88ccb6da-40c3-4c4e-9840-1a7bdd50d497",
   "metadata": {},
   "outputs": [
    {
     "data": {
      "text/plain": [
       "((60000, 784), (60000,), (10000, 784), (10000,))"
      ]
     },
     "execution_count": 32,
     "metadata": {},
     "output_type": "execute_result"
    }
   ],
   "source": [
    "X_train.shape, y_train.shape, X_test.shape, y_test.shape"
   ]
  },
  {
   "cell_type": "code",
   "execution_count": 33,
   "id": "fa98de6f-a663-442d-8fe9-43d439bb7cfc",
   "metadata": {},
   "outputs": [
    {
     "name": "stdout",
     "output_type": "stream",
     "text": [
      "Training Data - Input Shape: (60000, 784)\n",
      "Training Data - Label Shape: (60000,)\n",
      "Testing Data - Input Shape: (10000, 784)\n",
      "Testing Data - Label Shape: (10000,)\n"
     ]
    }
   ],
   "source": [
    "# Print the shapes of the training and testing datasets to understand their dimensions.\n",
    "# X_train.shape: Shape of the training input data (X_train).\n",
    "# y_train.shape: Shape of the training labels (y_train).\n",
    "# X_test.shape: Shape of the testing input data (X_test).\n",
    "# y_test.shape: Shape of the testing labels (y_test).\n",
    "print(\"Training Data - Input Shape:\", X_train.shape)\n",
    "print(\"Training Data - Label Shape:\", y_train.shape)\n",
    "print(\"Testing Data - Input Shape:\", X_test.shape)\n",
    "print(\"Testing Data - Label Shape:\", y_test.shape)"
   ]
  },
  {
   "cell_type": "code",
   "execution_count": 34,
   "id": "5027de04-078a-42ab-a9a4-a5b4d1706f26",
   "metadata": {},
   "outputs": [
    {
     "data": {
      "image/png": "[encoded data removed]",
      "text/plain": [
       "<Figure size 640x480 with 1 Axes>"
      ]
     },
     "metadata": {},
     "output_type": "display_data"
    }
   ],
   "source": [
    "# Reshape the image data back to its original shape (28x28)\n",
    "image = X_train[3707].reshape(28, 28)\n",
    "\n",
    "# Display the image using plt.imshow()\n",
    "plt.imshow(image, cmap='gray')\n",
    "plt.show()"
   ]
  },
  {
   "cell_type": "code",
   "execution_count": 35,
   "id": "04837982-111a-45f2-a7ee-4738946cd699",
   "metadata": {},
   "outputs": [
    {
     "name": "stdout",
     "output_type": "stream",
     "text": [
      "Label for example at index 3707 in the test set: 3\n"
     ]
    }
   ],
   "source": [
    "# Obtain the label for a specific example in the test set.\n",
    "# Here, y_train[3707] retrieves the label corresponding to the example at index 3707 in the test set.\n",
    "example_label = y_train[3707]\n",
    "\n",
    "# Print the label of the example.\n",
    "print(\"Label for example at index 3707 in the test set:\", example_label)"
   ]
  },
  {
   "cell_type": "code",
   "execution_count": 36,
   "id": "555ffd1e-0971-4c0b-a74e-6ec0e2fd6522",
   "metadata": {},
   "outputs": [
    {
     "data": {
      "image/png": "[encoded data removed]",
      "text/plain": [
       "<Figure size 640x480 with 1 Axes>"
      ]
     },
     "metadata": {},
     "output_type": "display_data"
    }
   ],
   "source": [
    "# Reshape the image data back to its original shape (28x28)\n",
    "image = X_test[3707].reshape(28, 28)\n",
    "\n",
    "# Display the image using plt.imshow()\n",
    "plt.imshow(image, cmap='gray')\n",
    "plt.show()"
   ]
  },
  {
   "cell_type": "code",
   "execution_count": 37,
   "id": "1baec0ae-d1e3-4f00-b0c6-203b978ed078",
   "metadata": {},
   "outputs": [
    {
     "name": "stdout",
     "output_type": "stream",
     "text": [
      "Label for example at index 3707 in the test set: 8\n"
     ]
    }
   ],
   "source": [
    "# Obtain the label for a specific example in the test set.\n",
    "# Here, y_test[3707] retrieves the label corresponding to the example at index 3707 in the test set.\n",
    "example_label = y_test[3707]\n",
    "\n",
    "# Print the label of the example.\n",
    "print(\"Label for example at index 3707 in the test set:\", example_label)"
   ]
  },
  {
   "cell_type": "code",
   "execution_count": 38,
   "id": "b8ef7a62-7f53-460b-a5d0-35f864054e04",
   "metadata": {},
   "outputs": [],
   "source": [
    "# Convert the training and testing labels (y_train and y_test) to one-hot encoded format using the to_categorical function\n",
    "# from the TensorFlow Keras utils module. One-hot encoding converts categorical integer labels (0 to 9) into binary vectors\n",
    "# with a length equal to the number of classes (10 in this case), where a 1 is placed in the index corresponding to the class label,\n",
    "# and 0s elsewhere.\n",
    "y_train = tf.keras.utils.to_categorical(y_train, num_classes=10)\n",
    "y_test = tf.keras.utils.to_categorical(y_test, num_classes=10)\n",
    "\n",
    "# The num_classes parameter specifies the total number of classes for one-hot encoding, which is set to 10 for the MNIST dataset."
   ]
  },
  {
   "cell_type": "code",
   "execution_count": 39,
   "id": "bcf19560-8792-44e4-9abc-36d6563a9d55",
   "metadata": {},
   "outputs": [
    {
     "name": "stdout",
     "output_type": "stream",
     "text": [
      "One-hot encoded label for example at index 3707 in the test set: [0. 0. 0. 0. 0. 0. 0. 0. 1. 0.]\n"
     ]
    }
   ],
   "source": [
    "# Obtain the one-hot encoded label for a specific example in the test set.\n",
    "# Here, y_test[3707] retrieves the one-hot encoded label corresponding to the example at index 3707 in the test set.\n",
    "example_label_one_hot = y_test[3707]\n",
    "\n",
    "# Print the one-hot encoded label of the example.\n",
    "print(\"One-hot encoded label for example at index 3707 in the test set:\", example_label_one_hot)"
   ]
  },
  {
   "cell_type": "code",
   "execution_count": 40,
   "id": "a3b04720-77ad-46b1-ba2a-a14764894f36",
   "metadata": {},
   "outputs": [],
   "source": [
    "### version -3 ###\n",
    "# Clear any existing TensorFlow graph/session.\n",
    "clear_session()\n",
    "\n",
    "# Define the input layer with a shape of (28, 28, 1), representing 28x28 images with 1 channel.\n",
    "inputs = Input(shape=(28, 28, 1))\n",
    "\n",
    "# Add a Conv2D layer with 32 filters, a kernel size of 3x3, ReLU activation function, and batch normalization.\n",
    "conv_layer_1 = Conv2D(32, kernel_size=(3, 3), activation=\"relu\", strides=(1,1), kernel_initializer='he_normal', name=\"conv_layer_1\")(inputs)\n",
    "conv_batch_norm_1 = BatchNormalization()(conv_layer_1)\n",
    "\n",
    "# Add a Conv2D layer with 64 filters, a kernel size of 3x3, ReLU activation function, and batch normalization.\n",
    "conv_layer_2 = Conv2D(64, kernel_size=(3, 3), activation=\"relu\", name=\"conv_layer_2\")(conv_batch_norm_1)\n",
    "conv_batch_norm_2 = BatchNormalization()(conv_layer_2)\n",
    "\n",
    "# Add MaxPooling layer\n",
    "max_pooling_1 = MaxPool2D(pool_size=(2,2), strides=2)(conv_batch_norm_2)\n",
    "\n",
    "# Flatten the output of the convolutional layer.\n",
    "flattened = Flatten()(max_pooling_1)\n",
    "\n",
    "# Define the architecture of the neural network using fully connected (Dense) layers.\n",
    "# Reshape data from 2D to 1D -> 28x28 to 784\n",
    "\n",
    "# Add the first hidden layer with 128 neurons, ReLU activation function, and batch normalization.\n",
    "first_hidden_layer = Dense(128, activation=\"relu\", name=\"first_hidden_layer\")(flattened)\n",
    "first_batch_norm = BatchNormalization()(first_hidden_layer)\n",
    "\n",
    "# Add the output layer with 10 neurons (for 10 classes) and softmax activation function.\n",
    "outputs = Dense(10, activation='softmax')(first_batch_norm)\n",
    "\n",
    "# Define the model with input and output layers.\n",
    "model = Model(inputs=inputs, outputs=outputs)\n",
    "\n",
    "\n"
   ]
  },
  {
   "cell_type": "code",
   "execution_count": null,
   "id": "b7582619-9eae-45a6-80b9-f7a69692cd54",
   "metadata": {},
   "outputs": [],
   "source": [
    "# Compile the model with stochastic gradient descent (SGD) optimizer, categorical crossentropy loss,\n",
    "# and accuracy metric for evaluation during training.\n",
    "model.compile(optimizer='adam', loss='categorical_crossentropy', metrics=['accuracy'])"
   ]
  },
  {
   "cell_type": "code",
   "execution_count": 41,
   "id": "e0d3967a-56e4-4277-9c2d-6a01a067e74b",
   "metadata": {},
   "outputs": [
    {
     "name": "stdout",
     "output_type": "stream",
     "text": [
      "Model: \"model\"\n",
      "_________________________________________________________________\n",
      " Layer (type)                Output Shape              Param #   \n",
      "=================================================================\n",
      " input_1 (InputLayer)        [(None, 28, 28, 1)]       0         \n",
      "                                                                 \n",
      " conv_layer_1 (Conv2D)       (None, 26, 26, 32)        320       \n",
      "                                                                 \n",
      " batch_normalization (BatchN  (None, 26, 26, 32)       128       \n",
      " ormalization)                                                   \n",
      "                                                                 \n",
      " conv_layer_2 (Conv2D)       (None, 24, 24, 64)        18496     \n",
      "                                                                 \n",
      " batch_normalization_1 (Batc  (None, 24, 24, 64)       256       \n",
      " hNormalization)                                                 \n",
      "                                                                 \n",
      " max_pooling2d (MaxPooling2D  (None, 12, 12, 64)       0         \n",
      " )                                                               \n",
      "                                                                 \n",
      " flatten (Flatten)           (None, 9216)              0         \n",
      "                                                                 \n",
      " first_hidden_layer (Dense)  (None, 128)               1179776   \n",
      "                                                                 \n",
      " batch_normalization_2 (Batc  (None, 128)              512       \n",
      " hNormalization)                                                 \n",
      "                                                                 \n",
      " dense (Dense)               (None, 10)                1290      \n",
      "                                                                 \n",
      "=================================================================\n",
      "Total params: 1,200,778\n",
      "Trainable params: 1,200,330\n",
      "Non-trainable params: 448\n",
      "_________________________________________________________________\n"
     ]
    }
   ],
   "source": [
    "# Review the summary of the model, which provides a concise representation\n",
    "# of the model architecture, including the type and shape of each layer,\n",
    "# as well as the number of parameters in each layer.\n",
    "model.summary()"
   ]
  },
  {
   "cell_type": "markdown",
   "id": "128941e0-81df-49a1-b020-1771924ed4b3",
   "metadata": {},
   "source": [
    "In the context of machine learning, both model checkpoints and callbacks are tools used to improve the training process of neural networks, particularly in deep learning frameworks like TensorFlow and PyTorch. However, they serve different purposes:\n",
    "\n",
    "Model Checkpoint:\n",
    "\n",
    "A model checkpoint is a feature used to save the model's current weights or entire state at certain intervals during training.\n",
    "The primary purpose of a model checkpoint is to save the model's progress periodically so that it can be restored or used later for inference or further training.\n",
    "Model checkpoints are typically used to save the best-performing model based on a specified metric, such as validation accuracy or loss. This ensures that you retain the best version of the model throughout the training process.\n",
    "Checkpoints are especially useful for long training processes where interruptions or failures may occur, allowing you to resume training from the last saved checkpoint rather than starting from scratch.\n",
    "Callback:\n",
    "\n",
    "A callback is a function or set of functions that are executed at specific points during the training process, such as at the beginning or end of an epoch or after a batch of data is processed.\n",
    "Callbacks are more versatile and can perform various tasks during training, such as logging training metrics, adjusting learning rates dynamically, implementing early stopping, or saving model checkpoints.\n",
    "While model checkpoints are a specific type of callback used for saving model weights, callbacks can perform a wide range of additional functions to customize the training process according to your specific needs.\n",
    "Callbacks can be defined by the user or provided by the deep learning framework as pre-defined functions. Users can also create custom callbacks to implement specific behaviors not covered by built-in callbacks.\n",
    "In summary, a model checkpoint is a type of callback used specifically for saving model weights or state during training, while callbacks encompass a broader range of functions that can be executed at various stages of the training process to customize and enhance the training procedure."
   ]
  },
  {
   "cell_type": "code",
   "execution_count": 42,
   "id": "1c15c4b0-c8f5-4c4b-8641-d763c3095da5",
   "metadata": {},
   "outputs": [],
   "source": [
    "# ModelCheckpoint callback to save the best model based on validation accuracy\n",
    "model_checkpoint = ModelCheckpoint(\n",
    "    'mnist_functional_template_v3.h5',  # File path to save the model\n",
    "    save_best_only=True,       # Save only the best model based on monitored metric\n",
    "    monitor='val_accuracy',    # Metric to monitor for determining the best model\n",
    "    mode='max',                # Mode for determining the best model ('max' or 'min')\n",
    "    verbose=1                  # Verbosity mode (0 or 1)\n",
    ")\n",
    "\n",
    "# EarlyStopping callback to stop training when the monitored metric stops improving\n",
    "early_stopping = EarlyStopping(\n",
    "    monitor='val_loss',        # Metric to monitor for early stopping\n",
    "    patience=5,                # Number of epochs with no improvement after which training will be stopped\n",
    "    verbose=1,                 # Verbosity mode (0 or 1)\n",
    "    restore_best_weights=True  # Whether to restore model weights from the epoch with the best value of the monitored quantity\n",
    ")"
   ]
  },
  {
   "cell_type": "markdown",
   "id": "4c2db5a9-573f-4053-9f4b-38aee40c4a76",
   "metadata": {},
   "source": [
    "Using both callbacks allows you to save the best model based on a monitored metric while also stopping the training process if the model's performance on a validation set stops improving, thereby preventing overfitting. This combination can help you find the best-performing model while avoiding unnecessary training epochs. It's a recommended practice for many training scenarios."
   ]
  },
  {
   "cell_type": "code",
   "execution_count": 43,
   "id": "c8fc2425-ebc7-443f-ab6f-28ba14f0a65d",
   "metadata": {},
   "outputs": [],
   "source": [
    "# Update X_train and X_test by reshaping them\n",
    "X_train = X_train.reshape(-1, 28, 28, 1)\n",
    "X_test = X_test.reshape(-1, 28, 28, 1)\n",
    "\n",
    "# Now, X_train and X_test have the shape (num_samples, 28, 28, 1)"
   ]
  },
  {
   "cell_type": "code",
   "execution_count": 44,
   "id": "034681c2-b161-44a9-918a-223a831c970f",
   "metadata": {},
   "outputs": [
    {
     "name": "stdout",
     "output_type": "stream",
     "text": [
      "Epoch 1/2\n"
     ]
    },
    {
     "name": "stderr",
     "output_type": "stream",
     "text": [
      "2024-03-22 20:48:51.665364: I tensorflow/core/grappler/optimizers/custom_graph_optimizer_registry.cc:113] Plugin optimizer for device_type GPU is enabled.\n"
     ]
    },
    {
     "name": "stdout",
     "output_type": "stream",
     "text": [
      "1873/1875 [============================>.] - ETA: 0s - loss: 0.0956 - accuracy: 0.9713"
     ]
    },
    {
     "name": "stderr",
     "output_type": "stream",
     "text": [
      "2024-03-22 20:49:19.136751: I tensorflow/core/grappler/optimizers/custom_graph_optimizer_registry.cc:113] Plugin optimizer for device_type GPU is enabled.\n"
     ]
    },
    {
     "name": "stdout",
     "output_type": "stream",
     "text": [
      "\n",
      "Epoch 1: val_accuracy improved from -inf to 0.98270, saving model to mnist_functional_template_v3.h5\n",
      "1875/1875 [==============================] - 31s 16ms/step - loss: 0.0955 - accuracy: 0.9713 - val_loss: 0.0563 - val_accuracy: 0.9827\n",
      "Epoch 2/2\n",
      "1875/1875 [==============================] - ETA: 0s - loss: 0.0398 - accuracy: 0.9880\n",
      "Epoch 2: val_accuracy improved from 0.98270 to 0.98650, saving model to mnist_functional_template_v3.h5\n",
      "1875/1875 [==============================] - 30s 16ms/step - loss: 0.0398 - accuracy: 0.9880 - val_loss: 0.0418 - val_accuracy: 0.9865\n"
     ]
    },
    {
     "data": {
      "text/plain": [
       "<keras.callbacks.History at 0x2c54103a0>"
      ]
     },
     "execution_count": 44,
     "metadata": {},
     "output_type": "execute_result"
    }
   ],
   "source": [
    "# Train the model on the training data (X_train and y_train) with the following configurations:\n",
    "# - Validation data: (X_test, y_test), used to evaluate the model after each epoch.\n",
    "# - Number of epochs: 2, specifying how many times the entire training dataset is passed through the model.\n",
    "# - Batch size: 32, indicating the number of samples per gradient update during training.\n",
    "# - Callbacks: ModelCheckpoint and EarlyStopping, used for saving the best model and stopping early to prevent overfitting.\n",
    "model.fit(X_train, y_train,\n",
    "          validation_data=(X_test, y_test),\n",
    "          epochs=2,\n",
    "          batch_size=32,\n",
    "          callbacks=[model_checkpoint, early_stopping])"
   ]
  },
  {
   "cell_type": "code",
   "execution_count": 45,
   "id": "acd9b7df-e55b-4682-a799-135e58381e30",
   "metadata": {},
   "outputs": [
    {
     "name": "stdout",
     "output_type": "stream",
     "text": [
      "Epoch 3/5\n",
      "1875/1875 [==============================] - ETA: 0s - loss: 0.0273 - accuracy: 0.9912\n",
      "Epoch 3: val_accuracy improved from 0.98650 to 0.98910, saving model to mnist_functional_template_v3.h5\n",
      "1875/1875 [==============================] - 30s 16ms/step - loss: 0.0273 - accuracy: 0.9912 - val_loss: 0.0344 - val_accuracy: 0.9891\n",
      "Epoch 4/5\n",
      "1872/1875 [============================>.] - ETA: 0s - loss: 0.0199 - accuracy: 0.9937\n",
      "Epoch 4: val_accuracy did not improve from 0.98910\n",
      "1875/1875 [==============================] - 30s 16ms/step - loss: 0.0199 - accuracy: 0.9937 - val_loss: 0.0388 - val_accuracy: 0.9887\n",
      "Epoch 5/5\n",
      "1874/1875 [============================>.] - ETA: 0s - loss: 0.0126 - accuracy: 0.9961\n",
      "Epoch 5: val_accuracy improved from 0.98910 to 0.98960, saving model to mnist_functional_template_v3.h5\n",
      "1875/1875 [==============================] - 30s 16ms/step - loss: 0.0126 - accuracy: 0.9961 - val_loss: 0.0350 - val_accuracy: 0.9896\n"
     ]
    },
    {
     "data": {
      "text/plain": [
       "<keras.callbacks.History at 0x29fe2b310>"
      ]
     },
     "execution_count": 45,
     "metadata": {},
     "output_type": "execute_result"
    }
   ],
   "source": [
    "model.fit(X_train, y_train,\n",
    "          validation_data=(X_test, y_test),  # Validation data to evaluate model performance\n",
    "          epochs=5,  # Total number of epochs to train the model for\n",
    "          initial_epoch=2,  # Start training from the 3th epoch (indexing starts from 0)\n",
    "          batch_size=32,  # Number of samples per gradient update\n",
    "          callbacks=[model_checkpoint, early_stopping])  # List of callbacks to apply during training\n"
   ]
  },
  {
   "cell_type": "code",
   "execution_count": 46,
   "id": "57cbd4af-6e24-4387-bb8e-762b4d592599",
   "metadata": {},
   "outputs": [
    {
     "name": "stdout",
     "output_type": "stream",
     "text": [
      "1a. Classification_MNIST_CNN_Keras.ipynb\n",
      "1b. Classification_MNIST_CNN_Keras_Functional.ipynb\n",
      "2a. Visualize an Image.ipynb\n",
      "mnist_functional_template_v3.h5\n"
     ]
    }
   ],
   "source": [
    "!ls"
   ]
  },
  {
   "cell_type": "code",
   "execution_count": 47,
   "id": "582e4a09-bc12-429a-b0db-50700d4e7cfc",
   "metadata": {},
   "outputs": [
    {
     "name": "stdout",
     "output_type": "stream",
     "text": [
      "313/313 [==============================] - 3s 10ms/step - loss: 0.0350 - accuracy: 0.9896\n"
     ]
    },
    {
     "data": {
      "text/plain": [
       "[0.034988198429346085, 0.9896000027656555]"
      ]
     },
     "execution_count": 47,
     "metadata": {},
     "output_type": "execute_result"
    }
   ],
   "source": [
    "model.evaluate(X_test, y_test, batch_size=32, verbose=1)"
   ]
  },
  {
   "cell_type": "code",
   "execution_count": 48,
   "id": "11fe2820-73cb-489e-ba9f-68da5ba3ded8",
   "metadata": {},
   "outputs": [],
   "source": [
    "model.save_weights('check_point_folder/')"
   ]
  },
  {
   "cell_type": "code",
   "execution_count": 49,
   "id": "2828d0ab-28c4-477b-827e-58ac86df421d",
   "metadata": {},
   "outputs": [
    {
     "name": "stderr",
     "output_type": "stream",
     "text": [
      "WARNING:absl:Found untraced functions such as _jit_compiled_convolution_op, _jit_compiled_convolution_op while saving (showing 2 of 2). These functions will not be directly callable after loading.\n"
     ]
    },
    {
     "name": "stdout",
     "output_type": "stream",
     "text": [
      "INFO:tensorflow:Assets written to: save_mode_folder/assets\n"
     ]
    },
    {
     "name": "stderr",
     "output_type": "stream",
     "text": [
      "INFO:tensorflow:Assets written to: save_mode_folder/assets\n"
     ]
    }
   ],
   "source": [
    "model.save('save_mode_folder/')"
   ]
  },
  {
   "cell_type": "code",
   "execution_count": 50,
   "id": "fd9ba460-f6b5-47f6-8639-ba63421af33b",
   "metadata": {},
   "outputs": [],
   "source": [
    "# Define the input layer with a shape of (28, 28, 1), representing 28x28 images with 1 channel.\n",
    "inputs = Input(shape=(28, 28, 1))\n",
    "\n",
    "# Add a Conv2D layer with 32 filters, a kernel size of 3x3, ReLU activation function, and batch normalization.\n",
    "conv_layer_1 = Conv2D(32, kernel_size=(3, 3), activation=\"relu\", strides=(1,1), kernel_initializer='he_normal', name=\"conv_layer_1\")(inputs)\n",
    "conv_batch_norm_1 = BatchNormalization()(conv_layer_1)\n",
    "\n",
    "# Add a Conv2D layer with 64 filters, a kernel size of 3x3, ReLU activation function, and batch normalization.\n",
    "conv_layer_2 = Conv2D(64, kernel_size=(3, 3), activation=\"relu\", name=\"conv_layer_2\")(conv_batch_norm_1)\n",
    "conv_batch_norm_2 = BatchNormalization()(conv_layer_2)\n",
    "\n",
    "# Add MaxPooling layer\n",
    "max_pooling_1 = MaxPool2D(pool_size=(2,2), strides=2)(conv_batch_norm_2)\n",
    "\n",
    "# Flatten the output of the convolutional layer.\n",
    "flattened = Flatten()(max_pooling_1)\n",
    "\n",
    "# Define the architecture of the neural network using fully connected (Dense) layers.\n",
    "# Reshape data from 2D to 1D -> 28x28 to 784\n",
    "\n",
    "# Add the first hidden layer with 128 neurons, ReLU activation function, and batch normalization.\n",
    "first_hidden_layer = Dense(128, activation=\"relu\", name=\"first_hidden_layer\")(flattened)\n",
    "first_batch_norm = BatchNormalization()(first_hidden_layer)\n",
    "\n",
    "# Add the output layer with 10 neurons (for 10 classes) and softmax activation function.\n",
    "outputs = Dense(10, activation='softmax')(first_batch_norm)\n",
    "\n",
    "# Define the model with input and output layers.\n",
    "model = Model(inputs=inputs, outputs=outputs)"
   ]
  },
  {
   "cell_type": "code",
   "execution_count": 51,
   "id": "4239300a-49ba-49db-bb7d-daf1506be5cb",
   "metadata": {},
   "outputs": [
    {
     "data": {
      "text/plain": [
       "<tensorflow.python.training.tracking.util.CheckpointLoadStatus at 0x1772425b0>"
      ]
     },
     "execution_count": 51,
     "metadata": {},
     "output_type": "execute_result"
    }
   ],
   "source": [
    "model.load_weights('check_point_folder/')"
   ]
  },
  {
   "cell_type": "code",
   "execution_count": 52,
   "id": "a80cd7ae-fd2e-49b9-8618-53215a77bac4",
   "metadata": {},
   "outputs": [],
   "source": [
    "# Compile the model with stochastic gradient descent (SGD) optimizer, categorical crossentropy loss,\n",
    "# and accuracy metric for evaluation during training.\n",
    "model.compile(optimizer='sgd', loss='categorical_crossentropy', metrics=['accuracy'])"
   ]
  },
  {
   "cell_type": "code",
   "execution_count": 53,
   "id": "f5ead7e7-b845-42c5-9ded-98007d82d362",
   "metadata": {},
   "outputs": [
    {
     "name": "stdout",
     "output_type": "stream",
     "text": [
      "  6/313 [..............................] - ETA: 3s - loss: 0.0223 - accuracy: 0.9844 "
     ]
    },
    {
     "name": "stderr",
     "output_type": "stream",
     "text": [
      "2024-03-22 20:54:49.699394: I tensorflow/core/grappler/optimizers/custom_graph_optimizer_registry.cc:113] Plugin optimizer for device_type GPU is enabled.\n"
     ]
    },
    {
     "name": "stdout",
     "output_type": "stream",
     "text": [
      "313/313 [==============================] - 3s 10ms/step - loss: 0.0350 - accuracy: 0.9896\n"
     ]
    },
    {
     "data": {
      "text/plain": [
       "[0.034988198429346085, 0.9896000027656555]"
      ]
     },
     "execution_count": 53,
     "metadata": {},
     "output_type": "execute_result"
    }
   ],
   "source": [
    "model.evaluate(X_test, y_test, batch_size=32, verbose=1)"
   ]
  },
  {
   "cell_type": "code",
   "execution_count": 54,
   "id": "e80acae3-82a7-4e4a-8407-c94361b246cf",
   "metadata": {},
   "outputs": [
    {
     "data": {
      "text/plain": [
       "(28, 28, 1)"
      ]
     },
     "execution_count": 54,
     "metadata": {},
     "output_type": "execute_result"
    }
   ],
   "source": [
    "X_test[3707].shape"
   ]
  },
  {
   "cell_type": "code",
   "execution_count": 55,
   "id": "cdef9aaa-fb1f-48b1-917c-9b3d33ac104c",
   "metadata": {},
   "outputs": [
    {
     "data": {
      "text/plain": [
       "(1, 28, 28, 1)"
      ]
     },
     "execution_count": 55,
     "metadata": {},
     "output_type": "execute_result"
    }
   ],
   "source": [
    "input_data = np.expand_dims(X_test[3707], axis=0)\n",
    "input_data.shape"
   ]
  },
  {
   "cell_type": "code",
   "execution_count": 56,
   "id": "16298a86-47bb-424b-a26b-2d1ee0e32c4e",
   "metadata": {},
   "outputs": [
    {
     "name": "stderr",
     "output_type": "stream",
     "text": [
      "2024-03-22 20:55:08.440044: I tensorflow/core/grappler/optimizers/custom_graph_optimizer_registry.cc:113] Plugin optimizer for device_type GPU is enabled.\n"
     ]
    },
    {
     "name": "stdout",
     "output_type": "stream",
     "text": [
      "1/1 [==============================] - 1s 1s/step\n"
     ]
    },
    {
     "data": {
      "text/plain": [
       "(1, 10)"
      ]
     },
     "execution_count": 56,
     "metadata": {},
     "output_type": "execute_result"
    }
   ],
   "source": [
    "pred = model.predict(input_data)\n",
    "pred.shape"
   ]
  },
  {
   "cell_type": "code",
   "execution_count": 57,
   "id": "24ac315c-1bad-4fb5-a40a-1e4b347b4567",
   "metadata": {},
   "outputs": [
    {
     "data": {
      "text/plain": [
       "array([4.6151376e-09, 2.0387745e-11, 1.9969784e-07, 2.8627471e-07,\n",
       "       4.1199993e-08, 3.6734429e-09, 4.2808028e-09, 3.1580818e-08,\n",
       "       9.9999797e-01, 1.4110798e-06], dtype=float32)"
      ]
     },
     "execution_count": 57,
     "metadata": {},
     "output_type": "execute_result"
    }
   ],
   "source": [
    "pred[0]"
   ]
  },
  {
   "cell_type": "code",
   "execution_count": 58,
   "id": "627d30c7-8644-45b6-875a-f6b6c51c07d1",
   "metadata": {},
   "outputs": [
    {
     "data": {
      "text/plain": [
       "8"
      ]
     },
     "execution_count": 58,
     "metadata": {},
     "output_type": "execute_result"
    }
   ],
   "source": [
    "np.argmax(pred[0])"
   ]
  },
  {
   "cell_type": "code",
   "execution_count": 59,
   "id": "354eecaa-eb72-4819-a823-da311727f02d",
   "metadata": {},
   "outputs": [
    {
     "data": {
      "text/plain": [
       "0.999998"
      ]
     },
     "execution_count": 59,
     "metadata": {},
     "output_type": "execute_result"
    }
   ],
   "source": [
    "np.max(pred[0])"
   ]
  },
  {
   "cell_type": "code",
   "execution_count": 60,
   "id": "1bd9d166-dfc1-4e29-8e5b-c061a10366ee",
   "metadata": {},
   "outputs": [
    {
     "data": {
      "text/plain": [
       "8"
      ]
     },
     "execution_count": 60,
     "metadata": {},
     "output_type": "execute_result"
    }
   ],
   "source": [
    "np.argmax(y_test[3707])"
   ]
  },
  {
   "cell_type": "code",
   "execution_count": 61,
   "id": "e21e3ec7-995b-4b4d-906e-4995656a0b05",
   "metadata": {},
   "outputs": [
    {
     "data": {
      "image/png": "[encoded data removed]",
      "text/plain": [
       "<Figure size 640x480 with 1 Axes>"
      ]
     },
     "metadata": {},
     "output_type": "display_data"
    }
   ],
   "source": [
    "# Reshape the image data back to its original shape (28x28)\n",
    "image = X_test[3707].reshape(28, 28)\n",
    "\n",
    "# Display the image using plt.imshow()\n",
    "plt.imshow(image, cmap='gray')\n",
    "plt.show()"
   ]
  },
  {
   "cell_type": "code",
   "execution_count": null,
   "id": "592d3ec3-ca18-4c12-a50c-e001cf014bf8",
   "metadata": {},
   "outputs": [],
   "source": []
  },
  {
   "cell_type": "code",
   "execution_count": null,
   "id": "9c6999e5-69a7-4380-860c-30325d776c80",
   "metadata": {},
   "outputs": [],
   "source": []
  },
  {
   "cell_type": "code",
   "execution_count": null,
   "id": "129256d8-d105-4614-a71e-c15536a2e169",
   "metadata": {},
   "outputs": [],
   "source": []
  }
 ],
 "metadata": {
  "kernelspec": {
   "display_name": "Python 3 (ipykernel)",
   "language": "python",
   "name": "python3"
  },
  "language_info": {
   "codemirror_mode": {
    "name": "ipython",
    "version": 3
   },
   "file_extension": ".py",
   "mimetype": "text/x-python",
   "name": "python",
   "nbconvert_exporter": "python",
   "pygments_lexer": "ipython3",
   "version": "3.9.13"
  }
 },
 "nbformat": 4,
 "nbformat_minor": 5
}
