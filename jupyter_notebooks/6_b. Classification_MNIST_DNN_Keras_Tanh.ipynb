{
 "cells": [
  {
   "cell_type": "markdown",
   "metadata": {
    "id": "2FOkt_PVMd6h"
   },
   "source": [
    "#### Load tensorflow"
   ]
  },
  {
   "cell_type": "code",
   "execution_count": 1,
   "metadata": {
    "id": "QknvBKm3Md6j"
   },
   "outputs": [],
   "source": [
    "import tensorflow as tf"
   ]
  },
  {
   "cell_type": "markdown",
   "metadata": {
    "id": "QHbDtQQJMd6m"
   },
   "source": [
    "#### Collect Data\n",
    "\n",
    "We will use MNIST dataset for this exercise. This dataset contains images of hand written numbers with each image being a black & white picture of size 28x28. We will download the data using tensorflow API. The dataset has 60,000 training examples and 10,000 test examples. Please note that images have already been converted to numpy arrays."
   ]
  },
  {
   "cell_type": "code",
   "execution_count": 2,
   "metadata": {
    "id": "AJ6bJeCGMd6n"
   },
   "outputs": [],
   "source": [
    "#Download dataset\n",
    "(X_train, y_train),(X_test, y_test) = tf.keras.datasets.mnist.load_data()"
   ]
  },
  {
   "cell_type": "code",
   "execution_count": 3,
   "metadata": {
    "id": "OAv--_-Spq4F"
   },
   "outputs": [
    {
     "data": {
      "text/plain": [
       "(60000, 28, 28)"
      ]
     },
     "execution_count": 3,
     "metadata": {},
     "output_type": "execute_result"
    }
   ],
   "source": [
    "#Check number of training examples and size of each example\n",
    "X_train.shape"
   ]
  },
  {
   "cell_type": "code",
   "execution_count": 4,
   "metadata": {
    "id": "mWBOngBwpy2D"
   },
   "outputs": [
    {
     "data": {
      "text/plain": [
       "(10000, 28, 28)"
      ]
     },
     "execution_count": 4,
     "metadata": {},
     "output_type": "execute_result"
    }
   ],
   "source": [
    "#Check number of test examples and size of each example\n",
    "X_test.shape"
   ]
  },
  {
   "cell_type": "markdown",
   "metadata": {
    "id": "DeCvkynAMq0J"
   },
   "source": [
    "Visualize data"
   ]
  },
  {
   "cell_type": "code",
   "execution_count": 5,
   "metadata": {
    "id": "Htwd0ODmMt5d"
   },
   "outputs": [],
   "source": [
    "import matplotlib.pyplot as plt\n",
    "import numpy as np"
   ]
  },
  {
   "cell_type": "code",
   "execution_count": 6,
   "metadata": {
    "id": "JcotzAiyMp1F"
   },
   "outputs": [
    {
     "data": {
      "image/png": "[encoded data removed]",
      "text/plain": [
       "<Figure size 640x480 with 1 Axes>"
      ]
     },
     "metadata": {},
     "output_type": "display_data"
    }
   ],
   "source": [
    "img_num = np.random.randint(0, X_test.shape[0]) #Get a random integer between 0 and number of examples in test dataset\n",
    "plt.imshow(X_test[img_num],cmap='gray') #Show the image from test dataset\n",
    "plt.suptitle('Number: ' + str(y_test[img_num]))\n",
    "plt.show()"
   ]
  },
  {
   "cell_type": "markdown",
   "metadata": {
    "id": "8rxmqpkpMd6r"
   },
   "source": [
    "#### Prepare Labels\n",
    "Convert Output label to multiple values"
   ]
  },
  {
   "cell_type": "code",
   "execution_count": 7,
   "metadata": {
    "id": "EijfLL3NqABx"
   },
   "outputs": [
    {
     "data": {
      "text/plain": [
       "7"
      ]
     },
     "execution_count": 7,
     "metadata": {},
     "output_type": "execute_result"
    }
   ],
   "source": [
    "#Label for an example\n",
    "y_test[0]"
   ]
  },
  {
   "cell_type": "code",
   "execution_count": 8,
   "metadata": {
    "id": "Jr8yucgyMd6s"
   },
   "outputs": [],
   "source": [
    "y_train = tf.keras.utils.to_categorical(y_train, num_classes=10)\n",
    "y_test = tf.keras.utils.to_categorical(y_test, num_classes=10)"
   ]
  },
  {
   "cell_type": "code",
   "execution_count": 9,
   "metadata": {
    "id": "RnY9Bqx0qHkM"
   },
   "outputs": [
    {
     "data": {
      "text/plain": [
       "array([0., 0., 0., 0., 0., 0., 0., 1., 0., 0.], dtype=float32)"
      ]
     },
     "execution_count": 9,
     "metadata": {},
     "output_type": "execute_result"
    }
   ],
   "source": [
    "#Label for same example after one hot encoding\n",
    "y_test[0]"
   ]
  },
  {
   "cell_type": "markdown",
   "metadata": {
    "id": "nACcpZ6oMd6z"
   },
   "source": [
    "#### Build the Graph"
   ]
  },
  {
   "cell_type": "code",
   "execution_count": 10,
   "metadata": {
    "id": "9h6GBSH6Md61"
   },
   "outputs": [
    {
     "name": "stdout",
     "output_type": "stream",
     "text": [
      "Metal device set to: Apple M1 Max\n"
     ]
    },
    {
     "name": "stderr",
     "output_type": "stream",
     "text": [
      "2024-03-15 22:59:18.565108: I tensorflow/core/common_runtime/pluggable_device/pluggable_device_factory.cc:305] Could not identify NUMA node of platform GPU ID 0, defaulting to 0. Your kernel may not have been built with NUMA support.\n",
      "2024-03-15 22:59:18.565703: I tensorflow/core/common_runtime/pluggable_device/pluggable_device_factory.cc:271] Created TensorFlow device (/job:localhost/replica:0/task:0/device:GPU:0 with 0 MB memory) -> physical PluggableDevice (device: 0, name: METAL, pci bus id: <undefined>)\n"
     ]
    }
   ],
   "source": [
    "tf.keras.backend.clear_session()\n",
    "#Initialize Sequential model\n",
    "model = tf.keras.models.Sequential()\n",
    "\n",
    "#Reshape data from 2D to 1D -> 28x28 to 784\n",
    "model.add(tf.keras.layers.Reshape((784,),input_shape=(28,28,)))\n",
    "\n",
    "#Normalize the data\n",
    "model.add(tf.keras.layers.BatchNormalization())"
   ]
  },
  {
   "cell_type": "code",
   "execution_count": 11,
   "metadata": {
    "id": "hLuGo9xeO_oE"
   },
   "outputs": [
    {
     "data": {
      "text/plain": [
       "<KerasTensor: shape=(None, 784) dtype=float32 (created by layer 'batch_normalization')>"
      ]
     },
     "execution_count": 11,
     "metadata": {},
     "output_type": "execute_result"
    }
   ],
   "source": [
    "model.output"
   ]
  },
  {
   "cell_type": "markdown",
   "metadata": {
    "id": "imGSX5XjMd66"
   },
   "source": [
    "Add Hidden Layers"
   ]
  },
  {
   "cell_type": "code",
   "execution_count": 12,
   "metadata": {
    "id": "Oj8TnaTxMd68"
   },
   "outputs": [],
   "source": [
    "#Add 1st hidden layer\n",
    "model.add(tf.keras.layers.Dense(200, activation='tanh'))"
   ]
  },
  {
   "cell_type": "code",
   "execution_count": 13,
   "metadata": {
    "id": "qPwtp7-yhEJK"
   },
   "outputs": [
    {
     "data": {
      "text/plain": [
       "<KerasTensor: shape=(None, 200) dtype=float32 (created by layer 'dense')>"
      ]
     },
     "execution_count": 13,
     "metadata": {},
     "output_type": "execute_result"
    }
   ],
   "source": [
    "model.output"
   ]
  },
  {
   "cell_type": "code",
   "execution_count": 14,
   "metadata": {
    "id": "BQvERJeKMd7A"
   },
   "outputs": [],
   "source": [
    "#Add 2nd hidden layer\n",
    "model.add(tf.keras.layers.Dense(100, activation='tanh'))"
   ]
  },
  {
   "cell_type": "code",
   "execution_count": 15,
   "metadata": {
    "id": "a_rnC2j2he-P"
   },
   "outputs": [
    {
     "data": {
      "text/plain": [
       "<KerasTensor: shape=(None, 100) dtype=float32 (created by layer 'dense_1')>"
      ]
     },
     "execution_count": 15,
     "metadata": {},
     "output_type": "execute_result"
    }
   ],
   "source": [
    "model.output"
   ]
  },
  {
   "cell_type": "code",
   "execution_count": 16,
   "metadata": {
    "id": "pwcz87-MMd7E"
   },
   "outputs": [],
   "source": [
    "#Add 3rd hidden layer\n",
    "model.add(tf.keras.layers.Dense(60, activation='tanh'))"
   ]
  },
  {
   "cell_type": "code",
   "execution_count": 17,
   "metadata": {
    "id": "C4j9Cm1IMd7J"
   },
   "outputs": [],
   "source": [
    "#Add 4th hidden layer\n",
    "model.add(tf.keras.layers.Dense(30, activation='tanh'))"
   ]
  },
  {
   "cell_type": "code",
   "execution_count": 18,
   "metadata": {
    "id": "GMkpspE8kqCn"
   },
   "outputs": [
    {
     "data": {
      "text/plain": [
       "<KerasTensor: shape=(None, 30) dtype=float32 (created by layer 'dense_3')>"
      ]
     },
     "execution_count": 18,
     "metadata": {},
     "output_type": "execute_result"
    }
   ],
   "source": [
    "model.output"
   ]
  },
  {
   "cell_type": "markdown",
   "metadata": {
    "id": "vdlnZCPIggCO"
   },
   "source": [
    "Add Output Layer"
   ]
  },
  {
   "cell_type": "code",
   "execution_count": 19,
   "metadata": {
    "id": "G05v_Zy9Md7Q"
   },
   "outputs": [],
   "source": [
    "#Add OUTPUT layer\n",
    "model.add(tf.keras.layers.Dense(10, activation='softmax'))"
   ]
  },
  {
   "cell_type": "markdown",
   "metadata": {
    "id": "pYNxSLydMd7U"
   },
   "source": [
    "Compile the Model"
   ]
  },
  {
   "cell_type": "code",
   "execution_count": 20,
   "metadata": {
    "id": "FJWmzZ2vMd7W"
   },
   "outputs": [],
   "source": [
    "#Compile the model\n",
    "model.compile(optimizer='sgd', loss='categorical_crossentropy', \n",
    "              metrics=['accuracy'])"
   ]
  },
  {
   "cell_type": "markdown",
   "metadata": {
    "id": "gW7j_VfVMd7a"
   },
   "source": [
    "Review model"
   ]
  },
  {
   "cell_type": "code",
   "execution_count": 21,
   "metadata": {
    "id": "ghrWVH2ZMd7b"
   },
   "outputs": [
    {
     "name": "stdout",
     "output_type": "stream",
     "text": [
      "Model: \"sequential\"\n",
      "_________________________________________________________________\n",
      " Layer (type)                Output Shape              Param #   \n",
      "=================================================================\n",
      " reshape (Reshape)           (None, 784)               0         \n",
      "                                                                 \n",
      " batch_normalization (BatchN  (None, 784)              3136      \n",
      " ormalization)                                                   \n",
      "                                                                 \n",
      " dense (Dense)               (None, 200)               157000    \n",
      "                                                                 \n",
      " dense_1 (Dense)             (None, 100)               20100     \n",
      "                                                                 \n",
      " dense_2 (Dense)             (None, 60)                6060      \n",
      "                                                                 \n",
      " dense_3 (Dense)             (None, 30)                1830      \n",
      "                                                                 \n",
      " dense_4 (Dense)             (None, 10)                310       \n",
      "                                                                 \n",
      "=================================================================\n",
      "Total params: 188,436\n",
      "Trainable params: 186,868\n",
      "Non-trainable params: 1,568\n",
      "_________________________________________________________________\n"
     ]
    }
   ],
   "source": [
    "model.summary()"
   ]
  },
  {
   "cell_type": "markdown",
   "metadata": {
    "id": "Lblu99B6Md7l"
   },
   "source": [
    "#### Train the model"
   ]
  },
  {
   "cell_type": "code",
   "execution_count": 22,
   "metadata": {
    "id": "eoba1_UocJLO"
   },
   "outputs": [],
   "source": [
    "model_checkpoint = tf.keras.callbacks.ModelCheckpoint('mnist_tanh_v1.h5', save_best_only=True, monitor='val_accuracy', mode='max', verbose=1)"
   ]
  },
  {
   "cell_type": "code",
   "execution_count": 23,
   "metadata": {
    "id": "HyDVYzwxMd7m"
   },
   "outputs": [
    {
     "name": "stdout",
     "output_type": "stream",
     "text": [
      "Epoch 1/100\n"
     ]
    },
    {
     "name": "stderr",
     "output_type": "stream",
     "text": [
      "2024-03-15 23:00:41.586059: W tensorflow/core/platform/profile_utils/cpu_utils.cc:128] Failed to get CPU frequency: 0 Hz\n",
      "2024-03-15 23:00:41.733018: I tensorflow/core/grappler/optimizers/custom_graph_optimizer_registry.cc:113] Plugin optimizer for device_type GPU is enabled.\n"
     ]
    },
    {
     "name": "stdout",
     "output_type": "stream",
     "text": [
      "1875/1875 [==============================] - ETA: 0s - loss: 0.5741 - accuracy: 0.8513"
     ]
    },
    {
     "name": "stderr",
     "output_type": "stream",
     "text": [
      "2024-03-15 23:01:04.883781: I tensorflow/core/grappler/optimizers/custom_graph_optimizer_registry.cc:113] Plugin optimizer for device_type GPU is enabled.\n"
     ]
    },
    {
     "name": "stdout",
     "output_type": "stream",
     "text": [
      "\n",
      "Epoch 1: val_accuracy improved from -inf to 0.91060, saving model to mnist_tanh_v1.h5\n",
      "1875/1875 [==============================] - 26s 13ms/step - loss: 0.5741 - accuracy: 0.8513 - val_loss: 0.3168 - val_accuracy: 0.9106\n",
      "Epoch 2/100\n",
      "1873/1875 [============================>.] - ETA: 0s - loss: 0.2914 - accuracy: 0.9172\n",
      "Epoch 2: val_accuracy improved from 0.91060 to 0.93040, saving model to mnist_tanh_v1.h5\n",
      "1875/1875 [==============================] - 25s 13ms/step - loss: 0.2914 - accuracy: 0.9173 - val_loss: 0.2491 - val_accuracy: 0.9304\n",
      "Epoch 3/100\n",
      "1874/1875 [============================>.] - ETA: 0s - loss: 0.2289 - accuracy: 0.9348\n",
      "Epoch 3: val_accuracy improved from 0.93040 to 0.93700, saving model to mnist_tanh_v1.h5\n",
      "1875/1875 [==============================] - 24s 13ms/step - loss: 0.2290 - accuracy: 0.9348 - val_loss: 0.2146 - val_accuracy: 0.9370\n",
      "Epoch 4/100\n",
      "1872/1875 [============================>.] - ETA: 0s - loss: 0.1910 - accuracy: 0.9460\n",
      "Epoch 4: val_accuracy improved from 0.93700 to 0.94500, saving model to mnist_tanh_v1.h5\n",
      "1875/1875 [==============================] - 24s 13ms/step - loss: 0.1911 - accuracy: 0.9460 - val_loss: 0.1939 - val_accuracy: 0.9450\n",
      "Epoch 5/100\n",
      "1875/1875 [==============================] - ETA: 0s - loss: 0.1639 - accuracy: 0.9526\n",
      "Epoch 5: val_accuracy improved from 0.94500 to 0.95020, saving model to mnist_tanh_v1.h5\n",
      "1875/1875 [==============================] - 24s 13ms/step - loss: 0.1639 - accuracy: 0.9526 - val_loss: 0.1745 - val_accuracy: 0.9502\n",
      "Epoch 6/100\n",
      "1873/1875 [============================>.] - ETA: 0s - loss: 0.1433 - accuracy: 0.9581\n",
      "Epoch 6: val_accuracy improved from 0.95020 to 0.95240, saving model to mnist_tanh_v1.h5\n",
      "1875/1875 [==============================] - 24s 13ms/step - loss: 0.1433 - accuracy: 0.9582 - val_loss: 0.1674 - val_accuracy: 0.9524\n",
      "Epoch 7/100\n",
      "1871/1875 [============================>.] - ETA: 0s - loss: 0.1253 - accuracy: 0.9648\n",
      "Epoch 7: val_accuracy improved from 0.95240 to 0.95760, saving model to mnist_tanh_v1.h5\n",
      "1875/1875 [==============================] - 24s 13ms/step - loss: 0.1252 - accuracy: 0.9648 - val_loss: 0.1534 - val_accuracy: 0.9576\n",
      "Epoch 8/100\n",
      "1875/1875 [==============================] - ETA: 0s - loss: 0.1130 - accuracy: 0.9679\n",
      "Epoch 8: val_accuracy did not improve from 0.95760\n",
      "1875/1875 [==============================] - 24s 13ms/step - loss: 0.1130 - accuracy: 0.9679 - val_loss: 0.1494 - val_accuracy: 0.9576\n",
      "Epoch 9/100\n",
      "1874/1875 [============================>.] - ETA: 0s - loss: 0.1008 - accuracy: 0.9703\n",
      "Epoch 9: val_accuracy improved from 0.95760 to 0.95800, saving model to mnist_tanh_v1.h5\n",
      "1875/1875 [==============================] - 25s 13ms/step - loss: 0.1008 - accuracy: 0.9703 - val_loss: 0.1485 - val_accuracy: 0.9580\n",
      "Epoch 10/100\n",
      "1874/1875 [============================>.] - ETA: 0s - loss: 0.0899 - accuracy: 0.9741\n",
      "Epoch 10: val_accuracy improved from 0.95800 to 0.95850, saving model to mnist_tanh_v1.h5\n",
      "1875/1875 [==============================] - 24s 13ms/step - loss: 0.0899 - accuracy: 0.9740 - val_loss: 0.1454 - val_accuracy: 0.9585\n",
      "Epoch 11/100\n",
      "1873/1875 [============================>.] - ETA: 0s - loss: 0.0804 - accuracy: 0.9768\n",
      "Epoch 11: val_accuracy improved from 0.95850 to 0.95960, saving model to mnist_tanh_v1.h5\n",
      "1875/1875 [==============================] - 23s 13ms/step - loss: 0.0804 - accuracy: 0.9768 - val_loss: 0.1391 - val_accuracy: 0.9596\n",
      "Epoch 12/100\n",
      "1871/1875 [============================>.] - ETA: 0s - loss: 0.0737 - accuracy: 0.9786\n",
      "Epoch 12: val_accuracy improved from 0.95960 to 0.95970, saving model to mnist_tanh_v1.h5\n",
      "1875/1875 [==============================] - 23s 12ms/step - loss: 0.0737 - accuracy: 0.9786 - val_loss: 0.1422 - val_accuracy: 0.9597\n",
      "Epoch 13/100\n",
      "1871/1875 [============================>.] - ETA: 0s - loss: 0.0690 - accuracy: 0.9799\n",
      "Epoch 13: val_accuracy improved from 0.95970 to 0.95980, saving model to mnist_tanh_v1.h5\n",
      "1875/1875 [==============================] - 24s 13ms/step - loss: 0.0690 - accuracy: 0.9799 - val_loss: 0.1435 - val_accuracy: 0.9598\n",
      "Epoch 14/100\n",
      "1874/1875 [============================>.] - ETA: 0s - loss: 0.0602 - accuracy: 0.9831\n",
      "Epoch 14: val_accuracy improved from 0.95980 to 0.96020, saving model to mnist_tanh_v1.h5\n",
      "1875/1875 [==============================] - 24s 13ms/step - loss: 0.0603 - accuracy: 0.9830 - val_loss: 0.1408 - val_accuracy: 0.9602\n",
      "Epoch 15/100\n",
      "1873/1875 [============================>.] - ETA: 0s - loss: 0.0576 - accuracy: 0.9837\n",
      "Epoch 15: val_accuracy improved from 0.96020 to 0.96230, saving model to mnist_tanh_v1.h5\n",
      "1875/1875 [==============================] - 24s 13ms/step - loss: 0.0575 - accuracy: 0.9837 - val_loss: 0.1396 - val_accuracy: 0.9623\n",
      "Epoch 16/100\n",
      "1872/1875 [============================>.] - ETA: 0s - loss: 0.0514 - accuracy: 0.9850\n",
      "Epoch 16: val_accuracy did not improve from 0.96230\n",
      "1875/1875 [==============================] - 24s 13ms/step - loss: 0.0514 - accuracy: 0.9850 - val_loss: 0.1428 - val_accuracy: 0.9610\n",
      "Epoch 17/100\n",
      "1875/1875 [==============================] - ETA: 0s - loss: 0.0478 - accuracy: 0.9858\n",
      "Epoch 17: val_accuracy improved from 0.96230 to 0.96250, saving model to mnist_tanh_v1.h5\n",
      "1875/1875 [==============================] - 24s 13ms/step - loss: 0.0478 - accuracy: 0.9858 - val_loss: 0.1356 - val_accuracy: 0.9625\n",
      "Epoch 18/100\n",
      "1874/1875 [============================>.] - ETA: 0s - loss: 0.0442 - accuracy: 0.9871\n",
      "Epoch 18: val_accuracy did not improve from 0.96250\n",
      "1875/1875 [==============================] - 24s 13ms/step - loss: 0.0442 - accuracy: 0.9871 - val_loss: 0.1331 - val_accuracy: 0.9624\n",
      "Epoch 19/100\n",
      "1871/1875 [============================>.] - ETA: 0s - loss: 0.0401 - accuracy: 0.9887\n",
      "Epoch 19: val_accuracy improved from 0.96250 to 0.96440, saving model to mnist_tanh_v1.h5\n",
      "1875/1875 [==============================] - 24s 13ms/step - loss: 0.0401 - accuracy: 0.9887 - val_loss: 0.1326 - val_accuracy: 0.9644\n",
      "Epoch 20/100\n",
      "1875/1875 [==============================] - ETA: 0s - loss: 0.0377 - accuracy: 0.9893\n",
      "Epoch 20: val_accuracy did not improve from 0.96440\n",
      "1875/1875 [==============================] - 24s 13ms/step - loss: 0.0377 - accuracy: 0.9893 - val_loss: 0.1341 - val_accuracy: 0.9642\n",
      "Epoch 21/100\n",
      "1875/1875 [==============================] - ETA: 0s - loss: 0.0350 - accuracy: 0.9906\n",
      "Epoch 21: val_accuracy improved from 0.96440 to 0.96530, saving model to mnist_tanh_v1.h5\n",
      "1875/1875 [==============================] - 23s 13ms/step - loss: 0.0350 - accuracy: 0.9906 - val_loss: 0.1345 - val_accuracy: 0.9653\n",
      "Epoch 22/100\n",
      "1872/1875 [============================>.] - ETA: 0s - loss: 0.0332 - accuracy: 0.9901\n",
      "Epoch 22: val_accuracy improved from 0.96530 to 0.96590, saving model to mnist_tanh_v1.h5\n",
      "1875/1875 [==============================] - 24s 13ms/step - loss: 0.0332 - accuracy: 0.9901 - val_loss: 0.1340 - val_accuracy: 0.9659\n",
      "Epoch 23/100\n",
      "1873/1875 [============================>.] - ETA: 0s - loss: 0.0298 - accuracy: 0.9918\n",
      "Epoch 23: val_accuracy did not improve from 0.96590\n",
      "1875/1875 [==============================] - 25s 13ms/step - loss: 0.0298 - accuracy: 0.9918 - val_loss: 0.1336 - val_accuracy: 0.9657\n",
      "Epoch 24/100\n",
      "1875/1875 [==============================] - ETA: 0s - loss: 0.0285 - accuracy: 0.9917\n",
      "Epoch 24: val_accuracy did not improve from 0.96590\n",
      "1875/1875 [==============================] - 24s 13ms/step - loss: 0.0285 - accuracy: 0.9917 - val_loss: 0.1405 - val_accuracy: 0.9639\n",
      "Epoch 25/100\n",
      "1872/1875 [============================>.] - ETA: 0s - loss: 0.0274 - accuracy: 0.9923\n",
      "Epoch 25: val_accuracy improved from 0.96590 to 0.96640, saving model to mnist_tanh_v1.h5\n",
      "1875/1875 [==============================] - 25s 13ms/step - loss: 0.0274 - accuracy: 0.9923 - val_loss: 0.1390 - val_accuracy: 0.9664\n",
      "Epoch 26/100\n",
      "1875/1875 [==============================] - ETA: 0s - loss: 0.0263 - accuracy: 0.9925\n",
      "Epoch 26: val_accuracy did not improve from 0.96640\n",
      "1875/1875 [==============================] - 24s 13ms/step - loss: 0.0263 - accuracy: 0.9925 - val_loss: 0.1407 - val_accuracy: 0.9656\n",
      "Epoch 27/100\n",
      "1872/1875 [============================>.] - ETA: 0s - loss: 0.0237 - accuracy: 0.9936\n",
      "Epoch 27: val_accuracy did not improve from 0.96640\n",
      "1875/1875 [==============================] - 24s 13ms/step - loss: 0.0236 - accuracy: 0.9936 - val_loss: 0.1338 - val_accuracy: 0.9642\n",
      "Epoch 28/100\n",
      "1873/1875 [============================>.] - ETA: 0s - loss: 0.0219 - accuracy: 0.9942\n",
      "Epoch 28: val_accuracy did not improve from 0.96640\n",
      "1875/1875 [==============================] - 24s 13ms/step - loss: 0.0219 - accuracy: 0.9942 - val_loss: 0.1336 - val_accuracy: 0.9649\n",
      "Epoch 29/100\n",
      "1871/1875 [============================>.] - ETA: 0s - loss: 0.0216 - accuracy: 0.9942\n",
      "Epoch 29: val_accuracy did not improve from 0.96640\n",
      "1875/1875 [==============================] - 24s 13ms/step - loss: 0.0215 - accuracy: 0.9942 - val_loss: 0.1390 - val_accuracy: 0.9648\n",
      "Epoch 30/100\n",
      "1872/1875 [============================>.] - ETA: 0s - loss: 0.0197 - accuracy: 0.9947\n",
      "Epoch 30: val_accuracy did not improve from 0.96640\n",
      "1875/1875 [==============================] - 24s 13ms/step - loss: 0.0197 - accuracy: 0.9948 - val_loss: 0.1364 - val_accuracy: 0.9659\n",
      "Epoch 31/100\n",
      "1875/1875 [==============================] - ETA: 0s - loss: 0.0193 - accuracy: 0.9947\n",
      "Epoch 31: val_accuracy improved from 0.96640 to 0.96660, saving model to mnist_tanh_v1.h5\n",
      "1875/1875 [==============================] - 24s 13ms/step - loss: 0.0193 - accuracy: 0.9947 - val_loss: 0.1294 - val_accuracy: 0.9666\n",
      "Epoch 32/100\n",
      "1875/1875 [==============================] - ETA: 0s - loss: 0.0173 - accuracy: 0.9950\n",
      "Epoch 32: val_accuracy did not improve from 0.96660\n",
      "1875/1875 [==============================] - 23s 13ms/step - loss: 0.0173 - accuracy: 0.9950 - val_loss: 0.1420 - val_accuracy: 0.9645\n",
      "Epoch 33/100\n",
      "1873/1875 [============================>.] - ETA: 0s - loss: 0.0176 - accuracy: 0.9954\n",
      "Epoch 33: val_accuracy did not improve from 0.96660\n",
      "1875/1875 [==============================] - 23s 12ms/step - loss: 0.0176 - accuracy: 0.9954 - val_loss: 0.1408 - val_accuracy: 0.9647\n",
      "Epoch 34/100\n",
      "1871/1875 [============================>.] - ETA: 0s - loss: 0.0162 - accuracy: 0.9958\n",
      "Epoch 34: val_accuracy improved from 0.96660 to 0.96680, saving model to mnist_tanh_v1.h5\n",
      "1875/1875 [==============================] - 24s 13ms/step - loss: 0.0162 - accuracy: 0.9958 - val_loss: 0.1387 - val_accuracy: 0.9668\n",
      "Epoch 35/100\n",
      "1874/1875 [============================>.] - ETA: 0s - loss: 0.0153 - accuracy: 0.9960\n",
      "Epoch 35: val_accuracy did not improve from 0.96680\n",
      "1875/1875 [==============================] - 24s 13ms/step - loss: 0.0153 - accuracy: 0.9959 - val_loss: 0.1399 - val_accuracy: 0.9652\n",
      "Epoch 36/100\n",
      "1874/1875 [============================>.] - ETA: 0s - loss: 0.0147 - accuracy: 0.9959\n",
      "Epoch 36: val_accuracy did not improve from 0.96680\n",
      "1875/1875 [==============================] - 24s 13ms/step - loss: 0.0147 - accuracy: 0.9959 - val_loss: 0.1360 - val_accuracy: 0.9652\n",
      "Epoch 37/100\n",
      "1871/1875 [============================>.] - ETA: 0s - loss: 0.0142 - accuracy: 0.9962\n",
      "Epoch 37: val_accuracy did not improve from 0.96680\n",
      "1875/1875 [==============================] - 23s 12ms/step - loss: 0.0142 - accuracy: 0.9962 - val_loss: 0.1416 - val_accuracy: 0.9648\n",
      "Epoch 38/100\n",
      "1871/1875 [============================>.] - ETA: 0s - loss: 0.0154 - accuracy: 0.9958\n",
      "Epoch 38: val_accuracy improved from 0.96680 to 0.96730, saving model to mnist_tanh_v1.h5\n",
      "1875/1875 [==============================] - 24s 13ms/step - loss: 0.0153 - accuracy: 0.9958 - val_loss: 0.1316 - val_accuracy: 0.9673\n",
      "Epoch 39/100\n",
      "1873/1875 [============================>.] - ETA: 0s - loss: 0.0130 - accuracy: 0.9968\n",
      "Epoch 39: val_accuracy did not improve from 0.96730\n",
      "1875/1875 [==============================] - 24s 13ms/step - loss: 0.0130 - accuracy: 0.9968 - val_loss: 0.1401 - val_accuracy: 0.9665\n",
      "Epoch 40/100\n",
      "1871/1875 [============================>.] - ETA: 0s - loss: 0.0130 - accuracy: 0.9965\n",
      "Epoch 40: val_accuracy did not improve from 0.96730\n",
      "1875/1875 [==============================] - 24s 13ms/step - loss: 0.0130 - accuracy: 0.9965 - val_loss: 0.1357 - val_accuracy: 0.9672\n",
      "Epoch 41/100\n",
      "1871/1875 [============================>.] - ETA: 0s - loss: 0.0124 - accuracy: 0.9967\n",
      "Epoch 41: val_accuracy did not improve from 0.96730\n",
      "1875/1875 [==============================] - 23s 12ms/step - loss: 0.0124 - accuracy: 0.9967 - val_loss: 0.1344 - val_accuracy: 0.9667\n",
      "Epoch 42/100\n",
      "1874/1875 [============================>.] - ETA: 0s - loss: 0.0114 - accuracy: 0.9973\n",
      "Epoch 42: val_accuracy did not improve from 0.96730\n",
      "1875/1875 [==============================] - 23s 13ms/step - loss: 0.0114 - accuracy: 0.9973 - val_loss: 0.1437 - val_accuracy: 0.9658\n",
      "Epoch 43/100\n",
      "1874/1875 [============================>.] - ETA: 0s - loss: 0.0108 - accuracy: 0.9974\n",
      "Epoch 43: val_accuracy did not improve from 0.96730\n",
      "1875/1875 [==============================] - 23s 12ms/step - loss: 0.0108 - accuracy: 0.9974 - val_loss: 0.1410 - val_accuracy: 0.9659\n",
      "Epoch 44/100\n",
      "1871/1875 [============================>.] - ETA: 0s - loss: 0.0124 - accuracy: 0.9967\n",
      "Epoch 44: val_accuracy did not improve from 0.96730\n",
      "1875/1875 [==============================] - 24s 13ms/step - loss: 0.0124 - accuracy: 0.9967 - val_loss: 0.1485 - val_accuracy: 0.9652\n",
      "Epoch 45/100\n",
      "1872/1875 [============================>.] - ETA: 0s - loss: 0.0110 - accuracy: 0.9974\n",
      "Epoch 45: val_accuracy did not improve from 0.96730\n",
      "1875/1875 [==============================] - 24s 13ms/step - loss: 0.0110 - accuracy: 0.9974 - val_loss: 0.1502 - val_accuracy: 0.9655\n",
      "Epoch 46/100\n",
      "1871/1875 [============================>.] - ETA: 0s - loss: 0.0110 - accuracy: 0.9971\n",
      "Epoch 46: val_accuracy improved from 0.96730 to 0.96760, saving model to mnist_tanh_v1.h5\n",
      "1875/1875 [==============================] - 24s 13ms/step - loss: 0.0109 - accuracy: 0.9971 - val_loss: 0.1342 - val_accuracy: 0.9676\n",
      "Epoch 47/100\n",
      "1871/1875 [============================>.] - ETA: 0s - loss: 0.0113 - accuracy: 0.9969\n",
      "Epoch 47: val_accuracy did not improve from 0.96760\n",
      "1875/1875 [==============================] - 24s 13ms/step - loss: 0.0113 - accuracy: 0.9969 - val_loss: 0.1400 - val_accuracy: 0.9662\n",
      "Epoch 48/100\n",
      "1874/1875 [============================>.] - ETA: 0s - loss: 0.0092 - accuracy: 0.9979\n",
      "Epoch 48: val_accuracy improved from 0.96760 to 0.96840, saving model to mnist_tanh_v1.h5\n",
      "1875/1875 [==============================] - 25s 13ms/step - loss: 0.0092 - accuracy: 0.9979 - val_loss: 0.1417 - val_accuracy: 0.9684\n",
      "Epoch 49/100\n",
      "1873/1875 [============================>.] - ETA: 0s - loss: 0.0104 - accuracy: 0.9974\n",
      "Epoch 49: val_accuracy did not improve from 0.96840\n",
      "1875/1875 [==============================] - 25s 13ms/step - loss: 0.0104 - accuracy: 0.9974 - val_loss: 0.1411 - val_accuracy: 0.9666\n",
      "Epoch 50/100\n",
      "1873/1875 [============================>.] - ETA: 0s - loss: 0.0104 - accuracy: 0.9971\n",
      "Epoch 50: val_accuracy did not improve from 0.96840\n",
      "1875/1875 [==============================] - 24s 13ms/step - loss: 0.0104 - accuracy: 0.9971 - val_loss: 0.1484 - val_accuracy: 0.9652\n",
      "Epoch 51/100\n",
      "1874/1875 [============================>.] - ETA: 0s - loss: 0.0092 - accuracy: 0.9978\n",
      "Epoch 51: val_accuracy did not improve from 0.96840\n",
      "1875/1875 [==============================] - 24s 13ms/step - loss: 0.0092 - accuracy: 0.9978 - val_loss: 0.1481 - val_accuracy: 0.9667\n",
      "Epoch 52/100\n",
      "1875/1875 [==============================] - ETA: 0s - loss: 0.0086 - accuracy: 0.9980\n",
      "Epoch 52: val_accuracy did not improve from 0.96840\n",
      "1875/1875 [==============================] - 24s 13ms/step - loss: 0.0086 - accuracy: 0.9980 - val_loss: 0.1534 - val_accuracy: 0.9652\n",
      "Epoch 53/100\n",
      "1872/1875 [============================>.] - ETA: 0s - loss: 0.0083 - accuracy: 0.9982\n",
      "Epoch 53: val_accuracy did not improve from 0.96840\n",
      "1875/1875 [==============================] - 23s 13ms/step - loss: 0.0083 - accuracy: 0.9982 - val_loss: 0.1450 - val_accuracy: 0.9664\n",
      "Epoch 54/100\n",
      "1874/1875 [============================>.] - ETA: 0s - loss: 0.0086 - accuracy: 0.9979\n",
      "Epoch 54: val_accuracy did not improve from 0.96840\n",
      "1875/1875 [==============================] - 24s 13ms/step - loss: 0.0086 - accuracy: 0.9980 - val_loss: 0.1433 - val_accuracy: 0.9663\n",
      "Epoch 55/100\n",
      "1872/1875 [============================>.] - ETA: 0s - loss: 0.0074 - accuracy: 0.9982\n",
      "Epoch 55: val_accuracy did not improve from 0.96840\n",
      "1875/1875 [==============================] - 24s 13ms/step - loss: 0.0074 - accuracy: 0.9982 - val_loss: 0.1496 - val_accuracy: 0.9668\n",
      "Epoch 56/100\n",
      "1874/1875 [============================>.] - ETA: 0s - loss: 0.0076 - accuracy: 0.9981\n",
      "Epoch 56: val_accuracy did not improve from 0.96840\n",
      "1875/1875 [==============================] - 24s 13ms/step - loss: 0.0076 - accuracy: 0.9981 - val_loss: 0.1568 - val_accuracy: 0.9659\n",
      "Epoch 57/100\n",
      "1872/1875 [============================>.] - ETA: 0s - loss: 0.0076 - accuracy: 0.9982\n",
      "Epoch 57: val_accuracy did not improve from 0.96840\n",
      "1875/1875 [==============================] - 24s 13ms/step - loss: 0.0076 - accuracy: 0.9982 - val_loss: 0.1608 - val_accuracy: 0.9660\n",
      "Epoch 58/100\n",
      "1871/1875 [============================>.] - ETA: 0s - loss: 0.0072 - accuracy: 0.9982\n",
      "Epoch 58: val_accuracy did not improve from 0.96840\n",
      "1875/1875 [==============================] - 24s 13ms/step - loss: 0.0072 - accuracy: 0.9982 - val_loss: 0.1528 - val_accuracy: 0.9661\n",
      "Epoch 59/100\n",
      "1875/1875 [==============================] - ETA: 0s - loss: 0.0074 - accuracy: 0.9984\n",
      "Epoch 59: val_accuracy did not improve from 0.96840\n",
      "1875/1875 [==============================] - 24s 13ms/step - loss: 0.0074 - accuracy: 0.9984 - val_loss: 0.1493 - val_accuracy: 0.9670\n",
      "Epoch 60/100\n",
      "1872/1875 [============================>.] - ETA: 0s - loss: 0.0072 - accuracy: 0.9981\n",
      "Epoch 60: val_accuracy did not improve from 0.96840\n",
      "1875/1875 [==============================] - 24s 13ms/step - loss: 0.0072 - accuracy: 0.9981 - val_loss: 0.1521 - val_accuracy: 0.9656\n",
      "Epoch 61/100\n",
      "1872/1875 [============================>.] - ETA: 0s - loss: 0.0078 - accuracy: 0.9980\n",
      "Epoch 61: val_accuracy did not improve from 0.96840\n",
      "1875/1875 [==============================] - 24s 13ms/step - loss: 0.0078 - accuracy: 0.9980 - val_loss: 0.1445 - val_accuracy: 0.9650\n",
      "Epoch 62/100\n",
      "1873/1875 [============================>.] - ETA: 0s - loss: 0.0071 - accuracy: 0.9984\n",
      "Epoch 62: val_accuracy did not improve from 0.96840\n",
      "1875/1875 [==============================] - 24s 13ms/step - loss: 0.0071 - accuracy: 0.9984 - val_loss: 0.1589 - val_accuracy: 0.9655\n",
      "Epoch 63/100\n",
      "1872/1875 [============================>.] - ETA: 0s - loss: 0.0063 - accuracy: 0.9985\n",
      "Epoch 63: val_accuracy did not improve from 0.96840\n",
      "1875/1875 [==============================] - 24s 13ms/step - loss: 0.0063 - accuracy: 0.9985 - val_loss: 0.1482 - val_accuracy: 0.9674\n",
      "Epoch 64/100\n",
      "1873/1875 [============================>.] - ETA: 0s - loss: 0.0074 - accuracy: 0.9983\n",
      "Epoch 64: val_accuracy did not improve from 0.96840\n",
      "1875/1875 [==============================] - 24s 13ms/step - loss: 0.0074 - accuracy: 0.9983 - val_loss: 0.1494 - val_accuracy: 0.9679\n",
      "Epoch 65/100\n",
      "1872/1875 [============================>.] - ETA: 0s - loss: 0.0070 - accuracy: 0.9982\n",
      "Epoch 65: val_accuracy improved from 0.96840 to 0.96860, saving model to mnist_tanh_v1.h5\n",
      "1875/1875 [==============================] - 24s 13ms/step - loss: 0.0070 - accuracy: 0.9982 - val_loss: 0.1435 - val_accuracy: 0.9686\n",
      "Epoch 66/100\n",
      "1874/1875 [============================>.] - ETA: 0s - loss: 0.0069 - accuracy: 0.9981\n",
      "Epoch 66: val_accuracy did not improve from 0.96860\n",
      "1875/1875 [==============================] - 24s 13ms/step - loss: 0.0069 - accuracy: 0.9981 - val_loss: 0.1537 - val_accuracy: 0.9651\n",
      "Epoch 67/100\n",
      "1873/1875 [============================>.] - ETA: 0s - loss: 0.0068 - accuracy: 0.9982\n",
      "Epoch 67: val_accuracy did not improve from 0.96860\n",
      "1875/1875 [==============================] - 24s 13ms/step - loss: 0.0067 - accuracy: 0.9982 - val_loss: 0.1414 - val_accuracy: 0.9674\n",
      "Epoch 68/100\n",
      "1875/1875 [==============================] - ETA: 0s - loss: 0.0071 - accuracy: 0.9981\n",
      "Epoch 68: val_accuracy did not improve from 0.96860\n",
      "1875/1875 [==============================] - 24s 13ms/step - loss: 0.0071 - accuracy: 0.9981 - val_loss: 0.1525 - val_accuracy: 0.9673\n",
      "Epoch 69/100\n",
      "1872/1875 [============================>.] - ETA: 0s - loss: 0.0064 - accuracy: 0.9984\n",
      "Epoch 69: val_accuracy did not improve from 0.96860\n",
      "1875/1875 [==============================] - 24s 13ms/step - loss: 0.0064 - accuracy: 0.9984 - val_loss: 0.1600 - val_accuracy: 0.9667\n",
      "Epoch 70/100\n",
      "1873/1875 [============================>.] - ETA: 0s - loss: 0.0055 - accuracy: 0.9987\n",
      "Epoch 70: val_accuracy did not improve from 0.96860\n",
      "1875/1875 [==============================] - 24s 13ms/step - loss: 0.0055 - accuracy: 0.9987 - val_loss: 0.1490 - val_accuracy: 0.9677\n",
      "Epoch 71/100\n",
      "1871/1875 [============================>.] - ETA: 0s - loss: 0.0057 - accuracy: 0.9988\n",
      "Epoch 71: val_accuracy did not improve from 0.96860\n",
      "1875/1875 [==============================] - 24s 13ms/step - loss: 0.0057 - accuracy: 0.9988 - val_loss: 0.1442 - val_accuracy: 0.9676\n",
      "Epoch 72/100\n",
      "1875/1875 [==============================] - ETA: 0s - loss: 0.0058 - accuracy: 0.9986\n",
      "Epoch 72: val_accuracy did not improve from 0.96860\n",
      "1875/1875 [==============================] - 24s 13ms/step - loss: 0.0058 - accuracy: 0.9986 - val_loss: 0.1560 - val_accuracy: 0.9672\n",
      "Epoch 73/100\n",
      "1871/1875 [============================>.] - ETA: 0s - loss: 0.0055 - accuracy: 0.9988\n",
      "Epoch 73: val_accuracy did not improve from 0.96860\n",
      "1875/1875 [==============================] - 24s 13ms/step - loss: 0.0055 - accuracy: 0.9988 - val_loss: 0.1548 - val_accuracy: 0.9674\n",
      "Epoch 74/100\n",
      "1873/1875 [============================>.] - ETA: 0s - loss: 0.0061 - accuracy: 0.9984\n",
      "Epoch 74: val_accuracy did not improve from 0.96860\n",
      "1875/1875 [==============================] - 24s 13ms/step - loss: 0.0061 - accuracy: 0.9984 - val_loss: 0.1551 - val_accuracy: 0.9668\n",
      "Epoch 75/100\n",
      "1871/1875 [============================>.] - ETA: 0s - loss: 0.0054 - accuracy: 0.9986\n",
      "Epoch 75: val_accuracy did not improve from 0.96860\n",
      "1875/1875 [==============================] - 24s 13ms/step - loss: 0.0054 - accuracy: 0.9986 - val_loss: 0.1502 - val_accuracy: 0.9670\n",
      "Epoch 76/100\n",
      "1875/1875 [==============================] - ETA: 0s - loss: 0.0056 - accuracy: 0.9985\n",
      "Epoch 76: val_accuracy did not improve from 0.96860\n",
      "1875/1875 [==============================] - 24s 13ms/step - loss: 0.0056 - accuracy: 0.9985 - val_loss: 0.1508 - val_accuracy: 0.9678\n",
      "Epoch 77/100\n",
      "1875/1875 [==============================] - ETA: 0s - loss: 0.0051 - accuracy: 0.9988\n",
      "Epoch 77: val_accuracy did not improve from 0.96860\n",
      "1875/1875 [==============================] - 24s 13ms/step - loss: 0.0051 - accuracy: 0.9988 - val_loss: 0.1538 - val_accuracy: 0.9681\n",
      "Epoch 78/100\n",
      "1874/1875 [============================>.] - ETA: 0s - loss: 0.0052 - accuracy: 0.9987\n",
      "Epoch 78: val_accuracy did not improve from 0.96860\n",
      "1875/1875 [==============================] - 24s 13ms/step - loss: 0.0052 - accuracy: 0.9987 - val_loss: 0.1535 - val_accuracy: 0.9683\n",
      "Epoch 79/100\n",
      "1871/1875 [============================>.] - ETA: 0s - loss: 0.0048 - accuracy: 0.9988\n",
      "Epoch 79: val_accuracy did not improve from 0.96860\n",
      "1875/1875 [==============================] - 24s 13ms/step - loss: 0.0048 - accuracy: 0.9987 - val_loss: 0.1632 - val_accuracy: 0.9669\n",
      "Epoch 80/100\n",
      "1871/1875 [============================>.] - ETA: 0s - loss: 0.0059 - accuracy: 0.9986\n",
      "Epoch 80: val_accuracy did not improve from 0.96860\n",
      "1875/1875 [==============================] - 24s 13ms/step - loss: 0.0059 - accuracy: 0.9986 - val_loss: 0.1574 - val_accuracy: 0.9659\n",
      "Epoch 81/100\n",
      "1871/1875 [============================>.] - ETA: 0s - loss: 0.0052 - accuracy: 0.9988\n",
      "Epoch 81: val_accuracy did not improve from 0.96860\n",
      "1875/1875 [==============================] - 24s 13ms/step - loss: 0.0052 - accuracy: 0.9988 - val_loss: 0.1575 - val_accuracy: 0.9658\n",
      "Epoch 82/100\n",
      "1875/1875 [==============================] - ETA: 0s - loss: 0.0049 - accuracy: 0.9990\n",
      "Epoch 82: val_accuracy did not improve from 0.96860\n",
      "1875/1875 [==============================] - 25s 13ms/step - loss: 0.0049 - accuracy: 0.9990 - val_loss: 0.1547 - val_accuracy: 0.9676\n",
      "Epoch 83/100\n",
      "1874/1875 [============================>.] - ETA: 0s - loss: 0.0051 - accuracy: 0.9989\n",
      "Epoch 83: val_accuracy did not improve from 0.96860\n",
      "1875/1875 [==============================] - 25s 13ms/step - loss: 0.0051 - accuracy: 0.9989 - val_loss: 0.1487 - val_accuracy: 0.9676\n",
      "Epoch 84/100\n",
      "1872/1875 [============================>.] - ETA: 0s - loss: 0.0040 - accuracy: 0.9990\n",
      "Epoch 84: val_accuracy did not improve from 0.96860\n",
      "1875/1875 [==============================] - 25s 13ms/step - loss: 0.0041 - accuracy: 0.9990 - val_loss: 0.1626 - val_accuracy: 0.9672\n",
      "Epoch 85/100\n",
      "1874/1875 [============================>.] - ETA: 0s - loss: 0.0046 - accuracy: 0.9990\n",
      "Epoch 85: val_accuracy did not improve from 0.96860\n",
      "1875/1875 [==============================] - 25s 13ms/step - loss: 0.0046 - accuracy: 0.9990 - val_loss: 0.1591 - val_accuracy: 0.9660\n",
      "Epoch 86/100\n",
      "1874/1875 [============================>.] - ETA: 0s - loss: 0.0051 - accuracy: 0.9988\n",
      "Epoch 86: val_accuracy did not improve from 0.96860\n",
      "1875/1875 [==============================] - 24s 13ms/step - loss: 0.0051 - accuracy: 0.9988 - val_loss: 0.1572 - val_accuracy: 0.9670\n",
      "Epoch 87/100\n",
      "1873/1875 [============================>.] - ETA: 0s - loss: 0.0044 - accuracy: 0.9990\n",
      "Epoch 87: val_accuracy did not improve from 0.96860\n",
      "1875/1875 [==============================] - 24s 13ms/step - loss: 0.0044 - accuracy: 0.9990 - val_loss: 0.1584 - val_accuracy: 0.9663\n",
      "Epoch 88/100\n",
      "1871/1875 [============================>.] - ETA: 0s - loss: 0.0044 - accuracy: 0.9989\n",
      "Epoch 88: val_accuracy did not improve from 0.96860\n",
      "1875/1875 [==============================] - 24s 13ms/step - loss: 0.0044 - accuracy: 0.9989 - val_loss: 0.1601 - val_accuracy: 0.9662\n",
      "Epoch 89/100\n",
      "1871/1875 [============================>.] - ETA: 0s - loss: 0.0045 - accuracy: 0.9988\n",
      "Epoch 89: val_accuracy did not improve from 0.96860\n",
      "1875/1875 [==============================] - 24s 13ms/step - loss: 0.0045 - accuracy: 0.9988 - val_loss: 0.1566 - val_accuracy: 0.9673\n",
      "Epoch 90/100\n",
      "1873/1875 [============================>.] - ETA: 0s - loss: 0.0044 - accuracy: 0.9991\n",
      "Epoch 90: val_accuracy did not improve from 0.96860\n",
      "1875/1875 [==============================] - 24s 13ms/step - loss: 0.0044 - accuracy: 0.9991 - val_loss: 0.1653 - val_accuracy: 0.9659\n",
      "Epoch 91/100\n",
      "1871/1875 [============================>.] - ETA: 0s - loss: 0.0043 - accuracy: 0.9988\n",
      "Epoch 91: val_accuracy did not improve from 0.96860\n",
      "1875/1875 [==============================] - 24s 13ms/step - loss: 0.0043 - accuracy: 0.9988 - val_loss: 0.1668 - val_accuracy: 0.9661\n",
      "Epoch 92/100\n",
      "1875/1875 [==============================] - ETA: 0s - loss: 0.0042 - accuracy: 0.9990\n",
      "Epoch 92: val_accuracy did not improve from 0.96860\n",
      "1875/1875 [==============================] - 25s 13ms/step - loss: 0.0042 - accuracy: 0.9990 - val_loss: 0.1670 - val_accuracy: 0.9650\n",
      "Epoch 93/100\n",
      "1872/1875 [============================>.] - ETA: 0s - loss: 0.0039 - accuracy: 0.9991\n",
      "Epoch 93: val_accuracy improved from 0.96860 to 0.96880, saving model to mnist_tanh_v1.h5\n",
      "1875/1875 [==============================] - 25s 14ms/step - loss: 0.0039 - accuracy: 0.9991 - val_loss: 0.1495 - val_accuracy: 0.9688\n",
      "Epoch 94/100\n",
      "1874/1875 [============================>.] - ETA: 0s - loss: 0.0039 - accuracy: 0.9991\n",
      "Epoch 94: val_accuracy did not improve from 0.96880\n",
      "1875/1875 [==============================] - 26s 14ms/step - loss: 0.0039 - accuracy: 0.9991 - val_loss: 0.1551 - val_accuracy: 0.9675\n",
      "Epoch 95/100\n",
      "1875/1875 [==============================] - ETA: 0s - loss: 0.0046 - accuracy: 0.9989\n",
      "Epoch 95: val_accuracy did not improve from 0.96880\n",
      "1875/1875 [==============================] - 26s 14ms/step - loss: 0.0046 - accuracy: 0.9989 - val_loss: 0.1629 - val_accuracy: 0.9658\n",
      "Epoch 96/100\n",
      "1874/1875 [============================>.] - ETA: 0s - loss: 0.0043 - accuracy: 0.9989\n",
      "Epoch 96: val_accuracy did not improve from 0.96880\n",
      "1875/1875 [==============================] - 26s 14ms/step - loss: 0.0043 - accuracy: 0.9989 - val_loss: 0.1610 - val_accuracy: 0.9671\n",
      "Epoch 97/100\n",
      "1873/1875 [============================>.] - ETA: 0s - loss: 0.0040 - accuracy: 0.9990\n",
      "Epoch 97: val_accuracy did not improve from 0.96880\n",
      "1875/1875 [==============================] - 25s 13ms/step - loss: 0.0041 - accuracy: 0.9990 - val_loss: 0.1622 - val_accuracy: 0.9687\n",
      "Epoch 98/100\n",
      "1872/1875 [============================>.] - ETA: 0s - loss: 0.0045 - accuracy: 0.9989\n",
      "Epoch 98: val_accuracy did not improve from 0.96880\n",
      "1875/1875 [==============================] - 24s 13ms/step - loss: 0.0045 - accuracy: 0.9989 - val_loss: 0.1674 - val_accuracy: 0.9666\n",
      "Epoch 99/100\n",
      "1871/1875 [============================>.] - ETA: 0s - loss: 0.0035 - accuracy: 0.9992\n",
      "Epoch 99: val_accuracy did not improve from 0.96880\n",
      "1875/1875 [==============================] - 25s 13ms/step - loss: 0.0035 - accuracy: 0.9992 - val_loss: 0.1669 - val_accuracy: 0.9647\n",
      "Epoch 100/100\n",
      "1875/1875 [==============================] - ETA: 0s - loss: 0.0039 - accuracy: 0.9990\n",
      "Epoch 100: val_accuracy did not improve from 0.96880\n",
      "1875/1875 [==============================] - 25s 13ms/step - loss: 0.0039 - accuracy: 0.9990 - val_loss: 0.1649 - val_accuracy: 0.9670\n"
     ]
    },
    {
     "data": {
      "text/plain": [
       "<keras.callbacks.History at 0x2bed05c40>"
      ]
     },
     "execution_count": 23,
     "metadata": {},
     "output_type": "execute_result"
    }
   ],
   "source": [
    "model.fit(X_train,y_train,          \n",
    "          validation_data=(X_test, y_test),\n",
    "          epochs=100,\n",
    "          batch_size=32, \n",
    "          callbacks=[model_checkpoint])"
   ]
  },
  {
   "cell_type": "code",
   "execution_count": 24,
   "metadata": {
    "id": "LsAgRyxxWT_T"
   },
   "outputs": [],
   "source": [
    "model.save('mnist_tanh_v1.h5')"
   ]
  },
  {
   "cell_type": "code",
   "execution_count": null,
   "metadata": {
    "id": "2GYh0wkyadQ7"
   },
   "outputs": [],
   "source": [
    "!ls -l"
   ]
  },
  {
   "cell_type": "markdown",
   "metadata": {
    "id": "Cjisqt59gp7l"
   },
   "source": [
    "Load a saved model"
   ]
  },
  {
   "cell_type": "code",
   "execution_count": 25,
   "metadata": {
    "id": "rtEgk_5tay8e"
   },
   "outputs": [],
   "source": [
    "model = tf.keras.models.load_model('mnist_tanh_v1.h5')"
   ]
  },
  {
   "cell_type": "code",
   "execution_count": 26,
   "metadata": {
    "id": "-zB1EYv9m_4e"
   },
   "outputs": [
    {
     "name": "stdout",
     "output_type": "stream",
     "text": [
      "Model: \"sequential\"\n",
      "_________________________________________________________________\n",
      " Layer (type)                Output Shape              Param #   \n",
      "=================================================================\n",
      " reshape (Reshape)           (None, 784)               0         \n",
      "                                                                 \n",
      " batch_normalization (BatchN  (None, 784)              3136      \n",
      " ormalization)                                                   \n",
      "                                                                 \n",
      " dense (Dense)               (None, 200)               157000    \n",
      "                                                                 \n",
      " dense_1 (Dense)             (None, 100)               20100     \n",
      "                                                                 \n",
      " dense_2 (Dense)             (None, 60)                6060      \n",
      "                                                                 \n",
      " dense_3 (Dense)             (None, 30)                1830      \n",
      "                                                                 \n",
      " dense_4 (Dense)             (None, 10)                310       \n",
      "                                                                 \n",
      "=================================================================\n",
      "Total params: 188,436\n",
      "Trainable params: 186,868\n",
      "Non-trainable params: 1,568\n",
      "_________________________________________________________________\n"
     ]
    }
   ],
   "source": [
    "model.summary()"
   ]
  },
  {
   "cell_type": "markdown",
   "metadata": {
    "id": "Dzuw6nSOm69M"
   },
   "source": [
    "### Model Prediction"
   ]
  },
  {
   "cell_type": "code",
   "execution_count": 29,
   "metadata": {
    "id": "ToXxgw8i-gcQ"
   },
   "outputs": [],
   "source": [
    "import numpy as np"
   ]
  },
  {
   "cell_type": "markdown",
   "metadata": {
    "id": "Za3sCZMrf1-g"
   },
   "source": [
    "What input shape model is expecting?"
   ]
  },
  {
   "cell_type": "code",
   "execution_count": 27,
   "metadata": {
    "id": "FJyCuyBapHYJ"
   },
   "outputs": [
    {
     "data": {
      "text/plain": [
       "<KerasTensor: shape=(None, 28, 28) dtype=float32 (created by layer 'reshape_input')>"
      ]
     },
     "execution_count": 27,
     "metadata": {},
     "output_type": "execute_result"
    }
   ],
   "source": [
    "model.input"
   ]
  },
  {
   "cell_type": "markdown",
   "metadata": {
    "id": "H5X0ikgMf56C"
   },
   "source": [
    "Predicting on first example"
   ]
  },
  {
   "cell_type": "code",
   "execution_count": 28,
   "metadata": {
    "id": "ueHiCTJcse5p"
   },
   "outputs": [
    {
     "data": {
      "text/plain": [
       "(28, 28)"
      ]
     },
     "execution_count": 28,
     "metadata": {},
     "output_type": "execute_result"
    }
   ],
   "source": [
    "X_test[0].shape"
   ]
  },
  {
   "cell_type": "code",
   "execution_count": 29,
   "metadata": {
    "id": "CDuavBUJdPC2"
   },
   "outputs": [
    {
     "name": "stdout",
     "output_type": "stream",
     "text": [
      "WARNING:tensorflow:Model was constructed with shape (None, 28, 28) for input KerasTensor(type_spec=TensorSpec(shape=(None, 28, 28), dtype=tf.float32, name='reshape_input'), name='reshape_input', description=\"created by layer 'reshape_input'\"), but it was called on an input with incompatible shape (None, 28).\n"
     ]
    },
    {
     "ename": "ValueError",
     "evalue": "in user code:\n\n    File \"/Users/vidyadharbendre/miniforge3/lib/python3.9/site-packages/keras/engine/training.py\", line 1845, in predict_function  *\n        return step_function(self, iterator)\n    File \"/Users/vidyadharbendre/miniforge3/lib/python3.9/site-packages/keras/engine/training.py\", line 1834, in step_function  **\n        outputs = model.distribute_strategy.run(run_step, args=(data,))\n    File \"/Users/vidyadharbendre/miniforge3/lib/python3.9/site-packages/keras/engine/training.py\", line 1823, in run_step  **\n        outputs = model.predict_step(data)\n    File \"/Users/vidyadharbendre/miniforge3/lib/python3.9/site-packages/keras/engine/training.py\", line 1791, in predict_step\n        return self(x, training=False)\n    File \"/Users/vidyadharbendre/miniforge3/lib/python3.9/site-packages/keras/utils/traceback_utils.py\", line 67, in error_handler\n        raise e.with_traceback(filtered_tb) from None\n    File \"/Users/vidyadharbendre/miniforge3/lib/python3.9/site-packages/keras/layers/reshaping/reshape.py\", line 111, in _fix_unknown_dimension\n        raise ValueError(msg)\n\n    ValueError: Exception encountered when calling layer \"reshape\" (type Reshape).\n    \n    total size of new array must be unchanged, input_shape = [28], output_shape = [784]\n    \n    Call arguments received by layer \"reshape\" (type Reshape):\n      • inputs=tf.Tensor(shape=(None, 28), dtype=float32)\n",
     "output_type": "error",
     "traceback": [
      "\u001b[0;31m---------------------------------------------------------------------------\u001b[0m",
      "\u001b[0;31mValueError\u001b[0m                                Traceback (most recent call last)",
      "Cell \u001b[0;32mIn[29], line 1\u001b[0m\n\u001b[0;32m----> 1\u001b[0m \u001b[43mmodel\u001b[49m\u001b[38;5;241;43m.\u001b[39;49m\u001b[43mpredict\u001b[49m\u001b[43m(\u001b[49m\u001b[43mX_test\u001b[49m\u001b[43m[\u001b[49m\u001b[38;5;241;43m0\u001b[39;49m\u001b[43m]\u001b[49m\u001b[43m)\u001b[49m\n",
      "File \u001b[0;32m~/miniforge3/lib/python3.9/site-packages/keras/utils/traceback_utils.py:67\u001b[0m, in \u001b[0;36mfilter_traceback.<locals>.error_handler\u001b[0;34m(*args, **kwargs)\u001b[0m\n\u001b[1;32m     65\u001b[0m \u001b[38;5;28;01mexcept\u001b[39;00m \u001b[38;5;167;01mException\u001b[39;00m \u001b[38;5;28;01mas\u001b[39;00m e:  \u001b[38;5;66;03m# pylint: disable=broad-except\u001b[39;00m\n\u001b[1;32m     66\u001b[0m   filtered_tb \u001b[38;5;241m=\u001b[39m _process_traceback_frames(e\u001b[38;5;241m.\u001b[39m__traceback__)\n\u001b[0;32m---> 67\u001b[0m   \u001b[38;5;28;01mraise\u001b[39;00m e\u001b[38;5;241m.\u001b[39mwith_traceback(filtered_tb) \u001b[38;5;28;01mfrom\u001b[39;00m \u001b[38;5;28;01mNone\u001b[39;00m\n\u001b[1;32m     68\u001b[0m \u001b[38;5;28;01mfinally\u001b[39;00m:\n\u001b[1;32m     69\u001b[0m   \u001b[38;5;28;01mdel\u001b[39;00m filtered_tb\n",
      "File \u001b[0;32m/var/folders/kd/yddgdhm92qxgkw2js4t89ksr0000gn/T/__autograph_generated_filewrd66vtq.py:15\u001b[0m, in \u001b[0;36mouter_factory.<locals>.inner_factory.<locals>.tf__predict_function\u001b[0;34m(iterator)\u001b[0m\n\u001b[1;32m     13\u001b[0m \u001b[38;5;28;01mtry\u001b[39;00m:\n\u001b[1;32m     14\u001b[0m     do_return \u001b[38;5;241m=\u001b[39m \u001b[38;5;28;01mTrue\u001b[39;00m\n\u001b[0;32m---> 15\u001b[0m     retval_ \u001b[38;5;241m=\u001b[39m ag__\u001b[38;5;241m.\u001b[39mconverted_call(ag__\u001b[38;5;241m.\u001b[39mld(step_function), (ag__\u001b[38;5;241m.\u001b[39mld(\u001b[38;5;28mself\u001b[39m), ag__\u001b[38;5;241m.\u001b[39mld(iterator)), \u001b[38;5;28;01mNone\u001b[39;00m, fscope)\n\u001b[1;32m     16\u001b[0m \u001b[38;5;28;01mexcept\u001b[39;00m:\n\u001b[1;32m     17\u001b[0m     do_return \u001b[38;5;241m=\u001b[39m \u001b[38;5;28;01mFalse\u001b[39;00m\n",
      "\u001b[0;31mValueError\u001b[0m: in user code:\n\n    File \"/Users/vidyadharbendre/miniforge3/lib/python3.9/site-packages/keras/engine/training.py\", line 1845, in predict_function  *\n        return step_function(self, iterator)\n    File \"/Users/vidyadharbendre/miniforge3/lib/python3.9/site-packages/keras/engine/training.py\", line 1834, in step_function  **\n        outputs = model.distribute_strategy.run(run_step, args=(data,))\n    File \"/Users/vidyadharbendre/miniforge3/lib/python3.9/site-packages/keras/engine/training.py\", line 1823, in run_step  **\n        outputs = model.predict_step(data)\n    File \"/Users/vidyadharbendre/miniforge3/lib/python3.9/site-packages/keras/engine/training.py\", line 1791, in predict_step\n        return self(x, training=False)\n    File \"/Users/vidyadharbendre/miniforge3/lib/python3.9/site-packages/keras/utils/traceback_utils.py\", line 67, in error_handler\n        raise e.with_traceback(filtered_tb) from None\n    File \"/Users/vidyadharbendre/miniforge3/lib/python3.9/site-packages/keras/layers/reshaping/reshape.py\", line 111, in _fix_unknown_dimension\n        raise ValueError(msg)\n\n    ValueError: Exception encountered when calling layer \"reshape\" (type Reshape).\n    \n    total size of new array must be unchanged, input_shape = [28], output_shape = [784]\n    \n    Call arguments received by layer \"reshape\" (type Reshape):\n      • inputs=tf.Tensor(shape=(None, 28), dtype=float32)\n"
     ]
    }
   ],
   "source": [
    "model.predict(X_test[0])"
   ]
  },
  {
   "cell_type": "markdown",
   "metadata": {
    "id": "5b7hZms6f9Pc"
   },
   "source": [
    "Why are we getting the error?"
   ]
  },
  {
   "cell_type": "code",
   "execution_count": 30,
   "metadata": {
    "id": "iIXUb0DSOj46"
   },
   "outputs": [
    {
     "data": {
      "text/plain": [
       "(28, 28)"
      ]
     },
     "execution_count": 30,
     "metadata": {},
     "output_type": "execute_result"
    }
   ],
   "source": [
    "X_test[0].shape"
   ]
  },
  {
   "cell_type": "markdown",
   "metadata": {
    "id": "q8qJZrthgA2o"
   },
   "source": [
    "Building a Batch"
   ]
  },
  {
   "cell_type": "code",
   "execution_count": 31,
   "metadata": {
    "id": "qTPk1-1-OnMN"
   },
   "outputs": [
    {
     "data": {
      "text/plain": [
       "(1, 28, 28)"
      ]
     },
     "execution_count": 31,
     "metadata": {},
     "output_type": "execute_result"
    }
   ],
   "source": [
    "input_data = np.expand_dims(X_test[0], axis=0)\n",
    "input_data.shape"
   ]
  },
  {
   "cell_type": "markdown",
   "metadata": {
    "id": "gtVUC5_XgDRU"
   },
   "source": [
    "Model Prediction"
   ]
  },
  {
   "cell_type": "code",
   "execution_count": 32,
   "metadata": {
    "id": "kF2Pc1xZxmn_"
   },
   "outputs": [
    {
     "name": "stderr",
     "output_type": "stream",
     "text": [
      "2024-03-15 23:52:51.301692: I tensorflow/core/grappler/optimizers/custom_graph_optimizer_registry.cc:113] Plugin optimizer for device_type GPU is enabled.\n"
     ]
    },
    {
     "name": "stdout",
     "output_type": "stream",
     "text": [
      "1/1 [==============================] - 1s 735ms/step\n"
     ]
    },
    {
     "data": {
      "text/plain": [
       "array([[2.7182386e-07, 3.1691386e-07, 6.4523938e-08, 3.3013609e-06,\n",
       "        1.0703609e-08, 3.6974122e-08, 2.9654482e-10, 9.9999535e-01,\n",
       "        2.1134795e-08, 5.9638273e-07]], dtype=float32)"
      ]
     },
     "execution_count": 32,
     "metadata": {},
     "output_type": "execute_result"
    }
   ],
   "source": [
    "pred = model.predict(input_data)\n",
    "pred"
   ]
  },
  {
   "cell_type": "code",
   "execution_count": 33,
   "metadata": {
    "id": "81RPh-28PQRE"
   },
   "outputs": [
    {
     "data": {
      "text/plain": [
       "(1, 10)"
      ]
     },
     "execution_count": 33,
     "metadata": {},
     "output_type": "execute_result"
    }
   ],
   "source": [
    "pred.shape"
   ]
  },
  {
   "cell_type": "code",
   "execution_count": 34,
   "metadata": {
    "id": "ZHX4aemJzRRF"
   },
   "outputs": [
    {
     "data": {
      "text/plain": [
       "array([2.7182386e-07, 3.1691386e-07, 6.4523938e-08, 3.3013609e-06,\n",
       "       1.0703609e-08, 3.6974122e-08, 2.9654482e-10, 9.9999535e-01,\n",
       "       2.1134795e-08, 5.9638273e-07], dtype=float32)"
      ]
     },
     "execution_count": 34,
     "metadata": {},
     "output_type": "execute_result"
    }
   ],
   "source": [
    "pred[0]"
   ]
  },
  {
   "cell_type": "markdown",
   "metadata": {
    "id": "aKxckoKVgJAS"
   },
   "source": [
    "Predicted Class"
   ]
  },
  {
   "cell_type": "code",
   "execution_count": 35,
   "metadata": {
    "id": "QXuDg_kTzoFS"
   },
   "outputs": [
    {
     "data": {
      "text/plain": [
       "7"
      ]
     },
     "execution_count": 35,
     "metadata": {},
     "output_type": "execute_result"
    }
   ],
   "source": [
    "np.argmax(pred[0])"
   ]
  },
  {
   "cell_type": "code",
   "execution_count": 36,
   "metadata": {
    "id": "_B3RtKmluI1G"
   },
   "outputs": [
    {
     "data": {
      "text/plain": [
       "0.99999535"
      ]
     },
     "execution_count": 36,
     "metadata": {},
     "output_type": "execute_result"
    }
   ],
   "source": [
    "np.max(pred[0])"
   ]
  },
  {
   "cell_type": "markdown",
   "metadata": {
    "id": "_-dZh-NagLAl"
   },
   "source": [
    "Actual Class"
   ]
  },
  {
   "cell_type": "code",
   "execution_count": 37,
   "metadata": {
    "id": "Oq28b6Q60bGm"
   },
   "outputs": [
    {
     "data": {
      "text/plain": [
       "7"
      ]
     },
     "execution_count": 37,
     "metadata": {},
     "output_type": "execute_result"
    }
   ],
   "source": [
    "np.argmax(y_test[0])"
   ]
  },
  {
   "cell_type": "markdown",
   "metadata": {
    "id": "h0pUXhEfgNXa"
   },
   "source": [
    "Visual confirmation"
   ]
  },
  {
   "cell_type": "code",
   "execution_count": 38,
   "metadata": {
    "id": "C_dlOJjQzzPa"
   },
   "outputs": [
    {
     "data": {
      "image/png": "[encoded data removed]",
      "text/plain": [
       "<Figure size 640x480 with 1 Axes>"
      ]
     },
     "metadata": {},
     "output_type": "display_data"
    }
   ],
   "source": [
    "#Lets print the image as well\n",
    "import matplotlib.pyplot as plt\n",
    "plt.imshow(X_test[0],cmap='gray')\n",
    "plt.show()"
   ]
  },
  {
   "cell_type": "code",
   "execution_count": null,
   "metadata": {},
   "outputs": [],
   "source": []
  },
  {
   "cell_type": "code",
   "execution_count": null,
   "metadata": {},
   "outputs": [],
   "source": []
  },
  {
   "cell_type": "code",
   "execution_count": null,
   "metadata": {},
   "outputs": [],
   "source": []
  }
 ],
 "metadata": {
  "colab": {
   "collapsed_sections": [],
   "name": "6. Classification_MNIST_DNN_Keras.ipynb",
   "private_outputs": true,
   "provenance": []
  },
  "kernelspec": {
   "display_name": "Python 3 (ipykernel)",
   "language": "python",
   "name": "python3"
  },
  "language_info": {
   "codemirror_mode": {
    "name": "ipython",
    "version": 3
   },
   "file_extension": ".py",
   "mimetype": "text/x-python",
   "name": "python",
   "nbconvert_exporter": "python",
   "pygments_lexer": "ipython3",
   "version": "3.9.13"
  }
 },
 "nbformat": 4,
 "nbformat_minor": 4
}
