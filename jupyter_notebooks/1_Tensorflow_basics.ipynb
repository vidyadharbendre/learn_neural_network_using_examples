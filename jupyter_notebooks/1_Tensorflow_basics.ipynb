{
 "cells": [
  {
   "cell_type": "code",
   "execution_count": null,
   "id": "e32b44e7",
   "metadata": {
    "id": "e32b44e7"
   },
   "outputs": [],
   "source": []
  },
  {
   "cell_type": "code",
   "execution_count": 3,
   "id": "CqxiOFl79_uO",
   "metadata": {
    "colab": {
     "base_uri": "https://localhost:8080/"
    },
    "executionInfo": {
     "elapsed": 11902,
     "status": "ok",
     "timestamp": 1708390299493,
     "user": {
      "displayName": "Vidyadhar Bendre",
      "userId": "18029889642678723593"
     },
     "user_tz": -330
    },
    "id": "CqxiOFl79_uO",
    "outputId": "9fd71b53-b512-4b10-b832-c9aa5edd34bd"
   },
   "outputs": [],
   "source": [
    "# from google.colab import drive\n",
    "# drive.mount('/content/drive')"
   ]
  },
  {
   "cell_type": "code",
   "execution_count": 65,
   "id": "A6_npYoH-GZv",
   "metadata": {
    "executionInfo": {
     "elapsed": 10087,
     "status": "ok",
     "timestamp": 1708390321106,
     "user": {
      "displayName": "Vidyadhar Bendre",
      "userId": "18029889642678723593"
     },
     "user_tz": -330
    },
    "id": "A6_npYoH-GZv"
   },
   "outputs": [],
   "source": [
    "import os\n",
    "\n",
    "import tensorflow as tf"
   ]
  },
  {
   "cell_type": "markdown",
   "id": "b91f7e28",
   "metadata": {
    "id": "b91f7e28"
   },
   "source": [
    "# Initialization"
   ]
  },
  {
   "cell_type": "code",
   "execution_count": 66,
   "id": "9d8163e0",
   "metadata": {
    "id": "9d8163e0"
   },
   "outputs": [],
   "source": [
    "#Rank 0 tensor"
   ]
  },
  {
   "cell_type": "code",
   "execution_count": 67,
   "id": "b300f18c",
   "metadata": {
    "colab": {
     "base_uri": "https://localhost:8080/"
    },
    "executionInfo": {
     "elapsed": 5,
     "status": "ok",
     "timestamp": 1708389160792,
     "user": {
      "displayName": "Vidyadhar Bendre",
      "userId": "18029889642678723593"
     },
     "user_tz": -330
    },
    "id": "b300f18c",
    "outputId": "a27b2eca-3a30-43ce-adc9-ccf1bb2f0689"
   },
   "outputs": [
    {
     "data": {
      "text/plain": [
       "<tf.Tensor: shape=(), dtype=int32, numpy=4>"
      ]
     },
     "execution_count": 67,
     "metadata": {},
     "output_type": "execute_result"
    }
   ],
   "source": [
    "#Rank 0 tesnor, This will be an int32 tensor by default; see \"dtypes\" below.\n",
    "\n",
    "x=tf.constant(4)#Creates a constant tensor from a tensor-like object.\n",
    "\n",
    "x"
   ]
  },
  {
   "cell_type": "code",
   "execution_count": 68,
   "id": "98af0ac0",
   "metadata": {
    "colab": {
     "base_uri": "https://localhost:8080/"
    },
    "executionInfo": {
     "elapsed": 3,
     "status": "ok",
     "timestamp": 1708389172036,
     "user": {
      "displayName": "Vidyadhar Bendre",
      "userId": "18029889642678723593"
     },
     "user_tz": -330
    },
    "id": "98af0ac0",
    "outputId": "9bc1ac00-f551-4586-d0c8-e79b1e7426a7"
   },
   "outputs": [
    {
     "data": {
      "text/plain": [
       "<tf.Tensor: shape=(), dtype=float64, numpy=4.0>"
      ]
     },
     "execution_count": 68,
     "metadata": {},
     "output_type": "execute_result"
    }
   ],
   "source": [
    "#This will be an float64\n",
    "x=tf.constant(4,dtype=tf.float64)\n",
    "x"
   ]
  },
  {
   "cell_type": "code",
   "execution_count": 69,
   "id": "4ec3e9fa",
   "metadata": {
    "colab": {
     "base_uri": "https://localhost:8080/"
    },
    "executionInfo": {
     "elapsed": 449,
     "status": "ok",
     "timestamp": 1708389186162,
     "user": {
      "displayName": "Vidyadhar Bendre",
      "userId": "18029889642678723593"
     },
     "user_tz": -330
    },
    "id": "4ec3e9fa",
    "outputId": "a6c6da48-48d1-4201-fd1b-9731ea396f4b"
   },
   "outputs": [
    {
     "name": "stdout",
     "output_type": "stream",
     "text": [
      "tf.Tensor([[4.]], shape=(1, 1), dtype=float32)\n"
     ]
    }
   ],
   "source": [
    "x = tf.constant(4, shape=(1, 1), dtype=tf.float32)\n",
    "print(x)"
   ]
  },
  {
   "cell_type": "code",
   "execution_count": 70,
   "id": "66dca675",
   "metadata": {
    "id": "66dca675"
   },
   "outputs": [],
   "source": [
    "# tf.float (16,32,64), tf.int (8, 16, 32, 64), tf.bool"
   ]
  },
  {
   "cell_type": "code",
   "execution_count": 71,
   "id": "44e23859",
   "metadata": {
    "id": "44e23859"
   },
   "outputs": [],
   "source": [
    "#Rank 1 tensor"
   ]
  },
  {
   "cell_type": "code",
   "execution_count": 72,
   "id": "d26eb409",
   "metadata": {
    "colab": {
     "base_uri": "https://localhost:8080/"
    },
    "executionInfo": {
     "elapsed": 444,
     "status": "ok",
     "timestamp": 1708389217798,
     "user": {
      "displayName": "Vidyadhar Bendre",
      "userId": "18029889642678723593"
     },
     "user_tz": -330
    },
    "id": "d26eb409",
    "outputId": "97d6190d-5405-4f79-cf5d-424ad9311296"
   },
   "outputs": [
    {
     "data": {
      "text/plain": [
       "<tf.Tensor: shape=(3,), dtype=float32, numpy=array([2., 3., 4.], dtype=float32)>"
      ]
     },
     "execution_count": 72,
     "metadata": {},
     "output_type": "execute_result"
    }
   ],
   "source": [
    "x = tf.constant([2.0, 3.0, 4.0])\n",
    "x"
   ]
  },
  {
   "cell_type": "code",
   "execution_count": 73,
   "id": "68669464",
   "metadata": {
    "id": "68669464"
   },
   "outputs": [],
   "source": [
    "#Rank 2 tensor"
   ]
  },
  {
   "cell_type": "code",
   "execution_count": 74,
   "id": "664ce628",
   "metadata": {
    "colab": {
     "base_uri": "https://localhost:8080/"
    },
    "executionInfo": {
     "elapsed": 459,
     "status": "ok",
     "timestamp": 1708389226456,
     "user": {
      "displayName": "Vidyadhar Bendre",
      "userId": "18029889642678723593"
     },
     "user_tz": -330
    },
    "id": "664ce628",
    "outputId": "775cbdf6-6f89-44ca-fd7a-7f2395270f18"
   },
   "outputs": [
    {
     "name": "stdout",
     "output_type": "stream",
     "text": [
      "tf.Tensor(\n",
      "[[1 2]\n",
      " [3 4]\n",
      " [5 6]], shape=(3, 2), dtype=int32)\n"
     ]
    }
   ],
   "source": [
    "#Change the shape\n",
    "x = tf.constant([[1, 2, 3], [4, 5, 6]], shape=(3, 2))\n",
    "print(x)"
   ]
  },
  {
   "cell_type": "code",
   "execution_count": 75,
   "id": "fb7e3f6c",
   "metadata": {
    "colab": {
     "base_uri": "https://localhost:8080/"
    },
    "executionInfo": {
     "elapsed": 2,
     "status": "ok",
     "timestamp": 1708389230551,
     "user": {
      "displayName": "Vidyadhar Bendre",
      "userId": "18029889642678723593"
     },
     "user_tz": -330
    },
    "id": "fb7e3f6c",
    "outputId": "544e304f-92c2-44d2-a3e5-1cfd49edd9af"
   },
   "outputs": [
    {
     "data": {
      "text/plain": [
       "<tf.Tensor: shape=(3, 2), dtype=float16, numpy=\n",
       "array([[1., 2.],\n",
       "       [3., 4.],\n",
       "       [5., 6.]], dtype=float16)>"
      ]
     },
     "execution_count": 75,
     "metadata": {},
     "output_type": "execute_result"
    }
   ],
   "source": [
    "x = tf.constant([[1, 2],\n",
    "                 [3, 4],\n",
    "                 [5, 6]], dtype=tf.float16)\n",
    "x"
   ]
  },
  {
   "cell_type": "markdown",
   "id": "6610efce",
   "metadata": {
    "id": "6610efce"
   },
   "source": [
    "![image.png](attachment:image.png)"
   ]
  },
  {
   "cell_type": "code",
   "execution_count": 76,
   "id": "40222ab3",
   "metadata": {
    "colab": {
     "base_uri": "https://localhost:8080/"
    },
    "executionInfo": {
     "elapsed": 445,
     "status": "ok",
     "timestamp": 1708389244397,
     "user": {
      "displayName": "Vidyadhar Bendre",
      "userId": "18029889642678723593"
     },
     "user_tz": -330
    },
    "id": "40222ab3",
    "outputId": "4d303af4-75b7-404d-f82e-3cbced8b500f"
   },
   "outputs": [
    {
     "name": "stdout",
     "output_type": "stream",
     "text": [
      "tf.Tensor(\n",
      "[[1 2]\n",
      " [3 4]\n",
      " [5 6]], shape=(3, 2), dtype=int32)\n"
     ]
    }
   ],
   "source": [
    "x = tf.constant([[1, 2, 3], [4, 5, 6]], shape=(3, 2))\n",
    "print(x)"
   ]
  },
  {
   "cell_type": "code",
   "execution_count": 77,
   "id": "95cfe744",
   "metadata": {
    "colab": {
     "base_uri": "https://localhost:8080/"
    },
    "executionInfo": {
     "elapsed": 458,
     "status": "ok",
     "timestamp": 1708389255787,
     "user": {
      "displayName": "Vidyadhar Bendre",
      "userId": "18029889642678723593"
     },
     "user_tz": -330
    },
    "id": "95cfe744",
    "outputId": "1c7fadaa-ee43-459b-b5c7-3bd87790a9d2"
   },
   "outputs": [
    {
     "name": "stdout",
     "output_type": "stream",
     "text": [
      "tf.Tensor(\n",
      "[[[ 0  1  2  3  4]\n",
      "  [ 5  6  7  8  9]]\n",
      "\n",
      " [[10 11 12 13 14]\n",
      "  [15 16 17 18 19]]\n",
      "\n",
      " [[20 21 22 23 24]\n",
      "  [25 26 27 28 29]]], shape=(3, 2, 5), dtype=int32)\n"
     ]
    }
   ],
   "source": [
    "# There can be an arbitrary number of\n",
    "# axes (sometimes called \"dimensions\")\n",
    "x = tf.constant([\n",
    "  [[0, 1, 2, 3, 4],\n",
    "   [5, 6, 7, 8, 9]],\n",
    "  [[10, 11, 12, 13, 14],\n",
    "   [15, 16, 17, 18, 19]],\n",
    "  [[20, 21, 22, 23, 24],\n",
    "   [25, 26, 27, 28, 29]],])\n",
    "\n",
    "print(x)"
   ]
  },
  {
   "cell_type": "code",
   "execution_count": null,
   "id": "4cb4dd49",
   "metadata": {
    "id": "4cb4dd49"
   },
   "outputs": [],
   "source": []
  },
  {
   "cell_type": "code",
   "execution_count": 78,
   "id": "4e3c217c",
   "metadata": {
    "colab": {
     "base_uri": "https://localhost:8080/"
    },
    "executionInfo": {
     "elapsed": 445,
     "status": "ok",
     "timestamp": 1708389267452,
     "user": {
      "displayName": "Vidyadhar Bendre",
      "userId": "18029889642678723593"
     },
     "user_tz": -330
    },
    "id": "4e3c217c",
    "outputId": "8c10af26-4205-4694-ccf5-3ec494c67ec1"
   },
   "outputs": [
    {
     "name": "stdout",
     "output_type": "stream",
     "text": [
      "tf.Tensor(\n",
      "[[1. 0. 0.]\n",
      " [0. 1. 0.]\n",
      " [0. 0. 1.]], shape=(3, 3), dtype=float32)\n"
     ]
    }
   ],
   "source": [
    "# Print Idenity Tensor\n",
    "x = tf.eye(3)\n",
    "print(x)"
   ]
  },
  {
   "cell_type": "code",
   "execution_count": 79,
   "id": "3fa8006a",
   "metadata": {
    "colab": {
     "base_uri": "https://localhost:8080/"
    },
    "executionInfo": {
     "elapsed": 425,
     "status": "ok",
     "timestamp": 1708389284021,
     "user": {
      "displayName": "Vidyadhar Bendre",
      "userId": "18029889642678723593"
     },
     "user_tz": -330
    },
    "id": "3fa8006a",
    "outputId": "5cb3c80a-e39b-4f83-f31b-4264e5cb8d2c"
   },
   "outputs": [
    {
     "name": "stdout",
     "output_type": "stream",
     "text": [
      "tf.Tensor(\n",
      "[[1. 1. 1.]\n",
      " [1. 1. 1.]\n",
      " [1. 1. 1.]\n",
      " [1. 1. 1.]], shape=(4, 3), dtype=float32)\n"
     ]
    }
   ],
   "source": [
    "#Tensor with ones only\n",
    "x = tf.ones((4, 3))\n",
    "print(x)"
   ]
  },
  {
   "cell_type": "code",
   "execution_count": 80,
   "id": "53af539c",
   "metadata": {
    "colab": {
     "base_uri": "https://localhost:8080/"
    },
    "executionInfo": {
     "elapsed": 433,
     "status": "ok",
     "timestamp": 1708389287205,
     "user": {
      "displayName": "Vidyadhar Bendre",
      "userId": "18029889642678723593"
     },
     "user_tz": -330
    },
    "id": "53af539c",
    "outputId": "afd93aeb-c58c-4c34-882a-967db48cc07f"
   },
   "outputs": [
    {
     "name": "stdout",
     "output_type": "stream",
     "text": [
      "tf.Tensor(\n",
      "[[[0. 0. 0. 0. 0.]\n",
      "  [0. 0. 0. 0. 0.]]\n",
      "\n",
      " [[0. 0. 0. 0. 0.]\n",
      "  [0. 0. 0. 0. 0.]]\n",
      "\n",
      " [[0. 0. 0. 0. 0.]\n",
      "  [0. 0. 0. 0. 0.]]], shape=(3, 2, 5), dtype=float32)\n"
     ]
    }
   ],
   "source": [
    "#Tensor with all zeros\n",
    "x = tf.zeros((3, 2, 5))\n",
    "print(x)"
   ]
  },
  {
   "cell_type": "code",
   "execution_count": 81,
   "id": "cd768e5d",
   "metadata": {
    "colab": {
     "base_uri": "https://localhost:8080/"
    },
    "executionInfo": {
     "elapsed": 447,
     "status": "ok",
     "timestamp": 1708389298818,
     "user": {
      "displayName": "Vidyadhar Bendre",
      "userId": "18029889642678723593"
     },
     "user_tz": -330
    },
    "id": "cd768e5d",
    "outputId": "42413f94-42de-4372-9186-e13ae20ec6d0"
   },
   "outputs": [
    {
     "name": "stdout",
     "output_type": "stream",
     "text": [
      "tf.Tensor(\n",
      "[[0.31179297 0.8263413 ]\n",
      " [0.6849456  0.0067091 ]], shape=(2, 2), dtype=float32)\n"
     ]
    }
   ],
   "source": [
    "#Uniform distribution\n",
    "x = tf.random.uniform((2, 2), minval=0, maxval=1)\n",
    "print(x)"
   ]
  },
  {
   "cell_type": "code",
   "execution_count": 82,
   "id": "bf9fd884",
   "metadata": {
    "colab": {
     "base_uri": "https://localhost:8080/"
    },
    "executionInfo": {
     "elapsed": 530,
     "status": "ok",
     "timestamp": 1708389305299,
     "user": {
      "displayName": "Vidyadhar Bendre",
      "userId": "18029889642678723593"
     },
     "user_tz": -330
    },
    "id": "bf9fd884",
    "outputId": "d70ad086-22f2-40b1-af02-a4a106b3a302"
   },
   "outputs": [
    {
     "name": "stdout",
     "output_type": "stream",
     "text": [
      "tf.Tensor(\n",
      "[[-1.47025466  0.39620256  0.06980469]\n",
      " [ 0.14568754 -0.23935544  1.20412278]\n",
      " [-0.54475081 -0.51072186 -1.64443254]], shape=(3, 3), dtype=float64)\n"
     ]
    }
   ],
   "source": [
    "#Standard Normal Distribution\n",
    "x = tf.random.normal((3, 3), mean=0, stddev=1)\n",
    "print(tf.cast(x, dtype=tf.float64))\n"
   ]
  },
  {
   "cell_type": "code",
   "execution_count": 83,
   "id": "d59b52a8",
   "metadata": {
    "colab": {
     "base_uri": "https://localhost:8080/"
    },
    "executionInfo": {
     "elapsed": 495,
     "status": "ok",
     "timestamp": 1708389315904,
     "user": {
      "displayName": "Vidyadhar Bendre",
      "userId": "18029889642678723593"
     },
     "user_tz": -330
    },
    "id": "d59b52a8",
    "outputId": "f01d15dc-47cf-434b-fcf6-8fdb8e095ff0"
   },
   "outputs": [
    {
     "data": {
      "text/plain": [
       "<tf.Tensor: shape=(9,), dtype=int32, numpy=array([0, 1, 2, 3, 4, 5, 6, 7, 8], dtype=int32)>"
      ]
     },
     "execution_count": 83,
     "metadata": {},
     "output_type": "execute_result"
    }
   ],
   "source": [
    "#Range of numbers\n",
    "x = tf.range(9)\n",
    "x"
   ]
  },
  {
   "cell_type": "code",
   "execution_count": 84,
   "id": "935d135d",
   "metadata": {
    "colab": {
     "base_uri": "https://localhost:8080/"
    },
    "executionInfo": {
     "elapsed": 508,
     "status": "ok",
     "timestamp": 1708389319050,
     "user": {
      "displayName": "Vidyadhar Bendre",
      "userId": "18029889642678723593"
     },
     "user_tz": -330
    },
    "id": "935d135d",
    "outputId": "0568bad1-ba1a-4321-927a-62ccc912c841"
   },
   "outputs": [
    {
     "name": "stdout",
     "output_type": "stream",
     "text": [
      "tf.Tensor([0 2 4 6 8], shape=(5,), dtype=int32)\n"
     ]
    }
   ],
   "source": [
    "x = tf.range(start=0, limit=10, delta=2)\n",
    "print(x)"
   ]
  },
  {
   "cell_type": "code",
   "execution_count": 85,
   "id": "a4e91548",
   "metadata": {
    "id": "a4e91548"
   },
   "outputs": [],
   "source": [
    "# Math\n",
    "x = tf.constant([1, 2, 3])\n",
    "y = tf.constant([9, 8, 7])"
   ]
  },
  {
   "cell_type": "code",
   "execution_count": 86,
   "id": "14acfd5d",
   "metadata": {
    "colab": {
     "base_uri": "https://localhost:8080/"
    },
    "executionInfo": {
     "elapsed": 461,
     "status": "ok",
     "timestamp": 1708389325448,
     "user": {
      "displayName": "Vidyadhar Bendre",
      "userId": "18029889642678723593"
     },
     "user_tz": -330
    },
    "id": "14acfd5d",
    "outputId": "1ac6ac72-f54d-4920-9525-0125b8808bb5"
   },
   "outputs": [
    {
     "name": "stdout",
     "output_type": "stream",
     "text": [
      "tf.Tensor([10 10 10], shape=(3,), dtype=int32)\n"
     ]
    },
    {
     "data": {
      "text/plain": [
       "<tf.Tensor: shape=(3,), dtype=int32, numpy=array([10, 10, 10], dtype=int32)>"
      ]
     },
     "execution_count": 86,
     "metadata": {},
     "output_type": "execute_result"
    }
   ],
   "source": [
    "z = tf.add(x, y)\n",
    "print(z)\n",
    "z = x + y\n",
    "z"
   ]
  },
  {
   "cell_type": "code",
   "execution_count": 87,
   "id": "56ebaf7f",
   "metadata": {
    "id": "56ebaf7f"
   },
   "outputs": [],
   "source": [
    "z = tf.subtract(x, y)\n",
    "z = x - y"
   ]
  },
  {
   "cell_type": "code",
   "execution_count": 88,
   "id": "a72c0a90",
   "metadata": {
    "id": "a72c0a90"
   },
   "outputs": [],
   "source": [
    "z = tf.divide(x, y)\n",
    "z = x / y"
   ]
  },
  {
   "cell_type": "code",
   "execution_count": 89,
   "id": "084228f3",
   "metadata": {
    "id": "084228f3"
   },
   "outputs": [],
   "source": [
    "z = tf.multiply(x, y)\n",
    "z = x * y"
   ]
  },
  {
   "cell_type": "code",
   "execution_count": 90,
   "id": "136914a5",
   "metadata": {
    "id": "136914a5"
   },
   "outputs": [],
   "source": [
    "z = tf.tensordot(x, y, axes=1)"
   ]
  },
  {
   "cell_type": "code",
   "execution_count": 91,
   "id": "4098667e",
   "metadata": {
    "id": "4098667e"
   },
   "outputs": [],
   "source": [
    "z = x ** 5"
   ]
  },
  {
   "cell_type": "code",
   "execution_count": 92,
   "id": "709ea573",
   "metadata": {
    "id": "709ea573"
   },
   "outputs": [],
   "source": [
    "x = tf.random.normal((2, 3))\n",
    "y = tf.random.normal((3, 2))\n",
    "\n",
    "z = tf.matmul(x, y)\n",
    "z = x @ y"
   ]
  },
  {
   "cell_type": "code",
   "execution_count": 93,
   "id": "7e8665ab",
   "metadata": {
    "colab": {
     "base_uri": "https://localhost:8080/"
    },
    "executionInfo": {
     "elapsed": 3,
     "status": "ok",
     "timestamp": 1708389364696,
     "user": {
      "displayName": "Vidyadhar Bendre",
      "userId": "18029889642678723593"
     },
     "user_tz": -330
    },
    "id": "7e8665ab",
    "outputId": "26e36b2e-aa71-447a-a142-829e71cc9b59"
   },
   "outputs": [
    {
     "data": {
      "text/plain": [
       "<tf.Tensor: shape=(3, 3), dtype=int32, numpy=\n",
       "array([[1, 2, 3],\n",
       "       [3, 2, 1],\n",
       "       [1, 1, 1]], dtype=int32)>"
      ]
     },
     "execution_count": 93,
     "metadata": {},
     "output_type": "execute_result"
    }
   ],
   "source": [
    "x=tf.constant([[1,2,3],[3,2,1],[1,1,1]])\n",
    "x"
   ]
  },
  {
   "cell_type": "code",
   "execution_count": 94,
   "id": "a7a22ba8",
   "metadata": {
    "colab": {
     "base_uri": "https://localhost:8080/"
    },
    "executionInfo": {
     "elapsed": 1,
     "status": "ok",
     "timestamp": 1708389367032,
     "user": {
      "displayName": "Vidyadhar Bendre",
      "userId": "18029889642678723593"
     },
     "user_tz": -330
    },
    "id": "a7a22ba8",
    "outputId": "dd7a30e5-4b2e-4074-db0d-6c8a144b0fc0"
   },
   "outputs": [
    {
     "data": {
      "text/plain": [
       "<tf.Tensor: shape=(3, 3), dtype=int32, numpy=\n",
       "array([[1, 0, 1],\n",
       "       [0, 1, 2],\n",
       "       [1, 1, 0]], dtype=int32)>"
      ]
     },
     "execution_count": 94,
     "metadata": {},
     "output_type": "execute_result"
    }
   ],
   "source": [
    "y=tf.constant([[1,0,1],[0,1,2],[1,1,0]])\n",
    "y"
   ]
  },
  {
   "cell_type": "code",
   "execution_count": 95,
   "id": "9bb8b1c9",
   "metadata": {
    "id": "9bb8b1c9"
   },
   "outputs": [],
   "source": [
    "# 1+0+3+0+2+1+1+2+0"
   ]
  },
  {
   "cell_type": "code",
   "execution_count": 96,
   "id": "bb9b2e53",
   "metadata": {
    "colab": {
     "base_uri": "https://localhost:8080/"
    },
    "executionInfo": {
     "elapsed": 12,
     "status": "ok",
     "timestamp": 1708389384787,
     "user": {
      "displayName": "Vidyadhar Bendre",
      "userId": "18029889642678723593"
     },
     "user_tz": -330
    },
    "id": "bb9b2e53",
    "outputId": "2b83785e-8133-4eaa-bad4-87321f0a8bdc"
   },
   "outputs": [
    {
     "data": {
      "text/plain": [
       "<tf.Tensor: shape=(3, 3), dtype=int32, numpy=\n",
       "array([[4, 5, 5],\n",
       "       [4, 3, 7],\n",
       "       [2, 2, 3]], dtype=int32)>"
      ]
     },
     "execution_count": 96,
     "metadata": {},
     "output_type": "execute_result"
    }
   ],
   "source": [
    "tf.matmul(x, y)"
   ]
  },
  {
   "cell_type": "code",
   "execution_count": 97,
   "id": "3cf74739",
   "metadata": {
    "colab": {
     "base_uri": "https://localhost:8080/"
    },
    "executionInfo": {
     "elapsed": 615,
     "status": "ok",
     "timestamp": 1708389388250,
     "user": {
      "displayName": "Vidyadhar Bendre",
      "userId": "18029889642678723593"
     },
     "user_tz": -330
    },
    "id": "3cf74739",
    "outputId": "7f00eef4-83b8-47d7-ce7f-f5bd978edc41"
   },
   "outputs": [
    {
     "data": {
      "text/plain": [
       "<tf.Tensor: shape=(3, 3), dtype=int32, numpy=\n",
       "array([[4, 5, 5],\n",
       "       [4, 3, 7],\n",
       "       [2, 2, 3]], dtype=int32)>"
      ]
     },
     "execution_count": 97,
     "metadata": {},
     "output_type": "execute_result"
    }
   ],
   "source": [
    "x @ y"
   ]
  },
  {
   "cell_type": "code",
   "execution_count": 98,
   "id": "2aff96fb",
   "metadata": {
    "colab": {
     "base_uri": "https://localhost:8080/"
    },
    "executionInfo": {
     "elapsed": 1152,
     "status": "ok",
     "timestamp": 1708389395609,
     "user": {
      "displayName": "Vidyadhar Bendre",
      "userId": "18029889642678723593"
     },
     "user_tz": -330
    },
    "id": "2aff96fb",
    "outputId": "7a510f75-0b6f-4886-bf16-74af6646607d"
   },
   "outputs": [
    {
     "data": {
      "text/plain": [
       "<tf.Tensor: shape=(2, 2), dtype=float32, numpy=\n",
       "array([[-0.5214088 ,  0.05237662],\n",
       "       [ 1.0914563 , -0.5244799 ]], dtype=float32)>"
      ]
     },
     "execution_count": 98,
     "metadata": {},
     "output_type": "execute_result"
    }
   ],
   "source": [
    "tf.random.normal((2, 2))"
   ]
  },
  {
   "cell_type": "markdown",
   "id": "9b38d873",
   "metadata": {
    "id": "9b38d873"
   },
   "source": [
    "# Indexing"
   ]
  },
  {
   "cell_type": "code",
   "execution_count": 99,
   "id": "c7c3cc89",
   "metadata": {
    "id": "c7c3cc89"
   },
   "outputs": [],
   "source": [
    "x = tf.constant([10, 1, 20, 2, 30, 3, 40, 4])\n"
   ]
  },
  {
   "cell_type": "code",
   "execution_count": 100,
   "id": "4b5c7289",
   "metadata": {
    "colab": {
     "base_uri": "https://localhost:8080/"
    },
    "executionInfo": {
     "elapsed": 669,
     "status": "ok",
     "timestamp": 1708389401366,
     "user": {
      "displayName": "Vidyadhar Bendre",
      "userId": "18029889642678723593"
     },
     "user_tz": -330
    },
    "id": "4b5c7289",
    "outputId": "54bbf50c-31e3-40af-b042-430278b3efa6"
   },
   "outputs": [
    {
     "name": "stdout",
     "output_type": "stream",
     "text": [
      "tf.Tensor([10  1 20  2 30  3 40  4], shape=(8,), dtype=int32)\n"
     ]
    }
   ],
   "source": [
    "print(x[:])\n"
   ]
  },
  {
   "cell_type": "code",
   "execution_count": 101,
   "id": "ce916f79",
   "metadata": {
    "colab": {
     "base_uri": "https://localhost:8080/"
    },
    "executionInfo": {
     "elapsed": 510,
     "status": "ok",
     "timestamp": 1708389409226,
     "user": {
      "displayName": "Vidyadhar Bendre",
      "userId": "18029889642678723593"
     },
     "user_tz": -330
    },
    "id": "ce916f79",
    "outputId": "bd21bb39-e842-44f0-a92d-21e46544e6e6"
   },
   "outputs": [
    {
     "name": "stdout",
     "output_type": "stream",
     "text": [
      "tf.Tensor([ 1 20  2 30  3 40  4], shape=(7,), dtype=int32)\n"
     ]
    }
   ],
   "source": [
    "print(x[1:])\n"
   ]
  },
  {
   "cell_type": "code",
   "execution_count": 102,
   "id": "cc10f1a5",
   "metadata": {
    "colab": {
     "base_uri": "https://localhost:8080/"
    },
    "executionInfo": {
     "elapsed": 538,
     "status": "ok",
     "timestamp": 1708389412368,
     "user": {
      "displayName": "Vidyadhar Bendre",
      "userId": "18029889642678723593"
     },
     "user_tz": -330
    },
    "id": "cc10f1a5",
    "outputId": "396a1de7-9a7a-4872-847e-29d358d09187"
   },
   "outputs": [
    {
     "name": "stdout",
     "output_type": "stream",
     "text": [
      "tf.Tensor([ 1 20], shape=(2,), dtype=int32)\n"
     ]
    }
   ],
   "source": [
    "print(x[1:3])\n"
   ]
  },
  {
   "cell_type": "code",
   "execution_count": 103,
   "id": "a6bb3a03",
   "metadata": {
    "colab": {
     "base_uri": "https://localhost:8080/"
    },
    "executionInfo": {
     "elapsed": 424,
     "status": "ok",
     "timestamp": 1708389415117,
     "user": {
      "displayName": "Vidyadhar Bendre",
      "userId": "18029889642678723593"
     },
     "user_tz": -330
    },
    "id": "a6bb3a03",
    "outputId": "b882b561-0961-4489-a58e-8c70363ac656"
   },
   "outputs": [
    {
     "name": "stdout",
     "output_type": "stream",
     "text": [
      "tf.Tensor([10 20 30 40], shape=(4,), dtype=int32)\n"
     ]
    }
   ],
   "source": [
    "print(x[::2])\n"
   ]
  },
  {
   "cell_type": "code",
   "execution_count": 104,
   "id": "c5df7123",
   "metadata": {
    "colab": {
     "base_uri": "https://localhost:8080/"
    },
    "executionInfo": {
     "elapsed": 941,
     "status": "ok",
     "timestamp": 1708389423945,
     "user": {
      "displayName": "Vidyadhar Bendre",
      "userId": "18029889642678723593"
     },
     "user_tz": -330
    },
    "id": "c5df7123",
    "outputId": "bfc29bd2-c628-4e38-d38b-39a45beea72c"
   },
   "outputs": [
    {
     "name": "stdout",
     "output_type": "stream",
     "text": [
      "tf.Tensor([ 4 40  3 30  2 20  1 10], shape=(8,), dtype=int32)\n"
     ]
    }
   ],
   "source": [
    "print(x[::-1])"
   ]
  },
  {
   "cell_type": "code",
   "execution_count": 105,
   "id": "5a7cf9b7",
   "metadata": {
    "colab": {
     "base_uri": "https://localhost:8080/"
    },
    "executionInfo": {
     "elapsed": 617,
     "status": "ok",
     "timestamp": 1708389427113,
     "user": {
      "displayName": "Vidyadhar Bendre",
      "userId": "18029889642678723593"
     },
     "user_tz": -330
    },
    "id": "5a7cf9b7",
    "outputId": "f4c0b463-3dc1-41b5-e10a-71aaa800e6fb"
   },
   "outputs": [
    {
     "data": {
      "text/plain": [
       "<tf.Tensor: shape=(2,), dtype=int32, numpy=array([10,  2], dtype=int32)>"
      ]
     },
     "execution_count": 105,
     "metadata": {},
     "output_type": "execute_result"
    }
   ],
   "source": [
    "indices = tf.constant([0, 3])\n",
    "x_indices = tf.gather(x, indices)\n",
    "x_indices"
   ]
  },
  {
   "cell_type": "code",
   "execution_count": 106,
   "id": "3909b31d",
   "metadata": {
    "colab": {
     "base_uri": "https://localhost:8080/"
    },
    "executionInfo": {
     "elapsed": 455,
     "status": "ok",
     "timestamp": 1708389430462,
     "user": {
      "displayName": "Vidyadhar Bendre",
      "userId": "18029889642678723593"
     },
     "user_tz": -330
    },
    "id": "3909b31d",
    "outputId": "906cfbd1-f110-4752-f346-8badc525be4d"
   },
   "outputs": [
    {
     "data": {
      "text/plain": [
       "<tf.Tensor: shape=(3, 2), dtype=int32, numpy=\n",
       "array([[1, 2],\n",
       "       [3, 4],\n",
       "       [5, 6]], dtype=int32)>"
      ]
     },
     "execution_count": 106,
     "metadata": {},
     "output_type": "execute_result"
    }
   ],
   "source": [
    "x = tf.constant([[1, 2], [3, 4], [5, 6]])\n",
    "x"
   ]
  },
  {
   "cell_type": "code",
   "execution_count": 107,
   "id": "ce87e27c",
   "metadata": {
    "colab": {
     "base_uri": "https://localhost:8080/"
    },
    "executionInfo": {
     "elapsed": 453,
     "status": "ok",
     "timestamp": 1708389444280,
     "user": {
      "displayName": "Vidyadhar Bendre",
      "userId": "18029889642678723593"
     },
     "user_tz": -330
    },
    "id": "ce87e27c",
    "outputId": "5b17bf04-873e-4af8-e08c-5b27e5febaee"
   },
   "outputs": [
    {
     "name": "stdout",
     "output_type": "stream",
     "text": [
      "tf.Tensor([1 2], shape=(2,), dtype=int32)\n"
     ]
    }
   ],
   "source": [
    "print(x[0, :])"
   ]
  },
  {
   "cell_type": "code",
   "execution_count": 108,
   "id": "355b013a",
   "metadata": {
    "colab": {
     "base_uri": "https://localhost:8080/"
    },
    "executionInfo": {
     "elapsed": 1,
     "status": "ok",
     "timestamp": 1708389446230,
     "user": {
      "displayName": "Vidyadhar Bendre",
      "userId": "18029889642678723593"
     },
     "user_tz": -330
    },
    "id": "355b013a",
    "outputId": "e8319606-3e34-4e6a-e1f4-fc73e93f4674"
   },
   "outputs": [
    {
     "name": "stdout",
     "output_type": "stream",
     "text": [
      "tf.Tensor(\n",
      "[[1 2]\n",
      " [3 4]], shape=(2, 2), dtype=int32)\n"
     ]
    }
   ],
   "source": [
    "print(x[0:2, :])"
   ]
  },
  {
   "cell_type": "markdown",
   "id": "606e90bd",
   "metadata": {
    "id": "606e90bd"
   },
   "source": [
    "# Reshaping"
   ]
  },
  {
   "cell_type": "code",
   "execution_count": 109,
   "id": "46334a34",
   "metadata": {
    "colab": {
     "base_uri": "https://localhost:8080/"
    },
    "executionInfo": {
     "elapsed": 439,
     "status": "ok",
     "timestamp": 1708389449199,
     "user": {
      "displayName": "Vidyadhar Bendre",
      "userId": "18029889642678723593"
     },
     "user_tz": -330
    },
    "id": "46334a34",
    "outputId": "36780c44-562f-4508-9f2f-06e8943e9893"
   },
   "outputs": [
    {
     "name": "stdout",
     "output_type": "stream",
     "text": [
      "tf.Tensor(\n",
      "[[0 1 2]\n",
      " [3 4 5]\n",
      " [6 7 8]], shape=(3, 3), dtype=int32)\n",
      "tf.Tensor(\n",
      "[[0 3 6]\n",
      " [1 4 7]\n",
      " [2 5 8]], shape=(3, 3), dtype=int32)\n"
     ]
    }
   ],
   "source": [
    "\n",
    "x = tf.range(9)\n",
    "\n",
    "x = tf.reshape(x, (3, 3))\n",
    "print(x)\n",
    "x = tf.transpose(x, perm=[1, 0])\n",
    "print(x)"
   ]
  },
  {
   "cell_type": "code",
   "execution_count": 110,
   "id": "9a7e5c8e",
   "metadata": {
    "colab": {
     "base_uri": "https://localhost:8080/"
    },
    "executionInfo": {
     "elapsed": 444,
     "status": "ok",
     "timestamp": 1708389457561,
     "user": {
      "displayName": "Vidyadhar Bendre",
      "userId": "18029889642678723593"
     },
     "user_tz": -330
    },
    "id": "9a7e5c8e",
    "outputId": "2010da26-5591-46b3-8a5b-e5fd9386b521"
   },
   "outputs": [
    {
     "data": {
      "text/plain": [
       "<tf.Tensor: shape=(3, 3), dtype=int32, numpy=\n",
       "array([[0, 3, 6],\n",
       "       [1, 4, 7],\n",
       "       [2, 5, 8]], dtype=int32)>"
      ]
     },
     "execution_count": 110,
     "metadata": {},
     "output_type": "execute_result"
    }
   ],
   "source": [
    "x"
   ]
  },
  {
   "cell_type": "code",
   "execution_count": 111,
   "id": "6700ec2f",
   "metadata": {
    "colab": {
     "base_uri": "https://localhost:8080/"
    },
    "executionInfo": {
     "elapsed": 432,
     "status": "ok",
     "timestamp": 1708389460391,
     "user": {
      "displayName": "Vidyadhar Bendre",
      "userId": "18029889642678723593"
     },
     "user_tz": -330
    },
    "id": "6700ec2f",
    "outputId": "45a54ed2-b2fe-4ff5-c72b-19fa46d71a20"
   },
   "outputs": [
    {
     "data": {
      "text/plain": [
       "<tf.Tensor: shape=(3, 3), dtype=int32, numpy=\n",
       "array([[0, 3, 6],\n",
       "       [1, 4, 7],\n",
       "       [2, 5, 8]], dtype=int32)>"
      ]
     },
     "execution_count": 111,
     "metadata": {},
     "output_type": "execute_result"
    }
   ],
   "source": [
    "tf.reshape(x, (3, 3))"
   ]
  },
  {
   "cell_type": "markdown",
   "id": "403a4fc7",
   "metadata": {
    "id": "403a4fc7"
   },
   "source": [
    "# Hello world"
   ]
  },
  {
   "cell_type": "code",
   "execution_count": 112,
   "id": "9bd501f3",
   "metadata": {
    "colab": {
     "base_uri": "https://localhost:8080/"
    },
    "executionInfo": {
     "elapsed": 463,
     "status": "ok",
     "timestamp": 1708389471858,
     "user": {
      "displayName": "Vidyadhar Bendre",
      "userId": "18029889642678723593"
     },
     "user_tz": -330
    },
    "id": "9bd501f3",
    "outputId": "72968d10-7a85-4909-b956-6bdd51f2cc19"
   },
   "outputs": [
    {
     "name": "stdout",
     "output_type": "stream",
     "text": [
      "Tensor: tf.Tensor(b'hello, TensorFlow', shape=(), dtype=string)\n",
      "Value  : b'hello, TensorFlow'\n"
     ]
    }
   ],
   "source": [
    "helloworld = tf.constant(\"hello, TensorFlow\")\n",
    "print(\"Tensor:\", helloworld)\n",
    "print(\"Value  :\", helloworld.numpy())"
   ]
  },
  {
   "cell_type": "code",
   "execution_count": 113,
   "id": "a20d14d0",
   "metadata": {
    "colab": {
     "base_uri": "https://localhost:8080/"
    },
    "executionInfo": {
     "elapsed": 460,
     "status": "ok",
     "timestamp": 1708389474752,
     "user": {
      "displayName": "Vidyadhar Bendre",
      "userId": "18029889642678723593"
     },
     "user_tz": -330
    },
    "id": "a20d14d0",
    "outputId": "c00958aa-041c-42df-dbf4-da2a31c1205c"
   },
   "outputs": [
    {
     "name": "stdout",
     "output_type": "stream",
     "text": [
      "tf.Tensor(\n",
      "[[1. 1. 1.]\n",
      " [1. 1. 1.]], shape=(2, 3), dtype=float32)\n"
     ]
    }
   ],
   "source": [
    "a = tf.ones([2,3])\n",
    "print(a)"
   ]
  },
  {
   "cell_type": "code",
   "execution_count": 115,
   "id": "ca1d00fd",
   "metadata": {
    "colab": {
     "base_uri": "https://localhost:8080/"
    },
    "executionInfo": {
     "elapsed": 4,
     "status": "ok",
     "timestamp": 1708389477607,
     "user": {
      "displayName": "Vidyadhar Bendre",
      "userId": "18029889642678723593"
     },
     "user_tz": -330
    },
    "id": "ca1d00fd",
    "outputId": "fea30268-5280-4758-f979-98e9acf7950d"
   },
   "outputs": [],
   "source": [
    "# a = tf.Variable(a)\n",
    "# a[0,0].assign(10)\n",
    "# b = a.read_value()\n",
    "# print(b)"
   ]
  },
  {
   "cell_type": "code",
   "execution_count": 116,
   "id": "e58faf2b",
   "metadata": {
    "id": "e58faf2b"
   },
   "outputs": [],
   "source": [
    "c=tf.ones([2,3])"
   ]
  },
  {
   "cell_type": "markdown",
   "id": "0f122b3f",
   "metadata": {
    "id": "0f122b3f"
   },
   "source": [
    "![image.png](attachment:image.png)"
   ]
  },
  {
   "cell_type": "code",
   "execution_count": 117,
   "id": "e778db8d",
   "metadata": {
    "colab": {
     "base_uri": "https://localhost:8080/"
    },
    "executionInfo": {
     "elapsed": 3,
     "status": "ok",
     "timestamp": 1708389523628,
     "user": {
      "displayName": "Vidyadhar Bendre",
      "userId": "18029889642678723593"
     },
     "user_tz": -330
    },
    "id": "e778db8d",
    "outputId": "d367aa4d-9fa9-48a9-a0bf-7934e633606f"
   },
   "outputs": [
    {
     "data": {
      "text/plain": [
       "<tf.Tensor: shape=(2, 3), dtype=int32, numpy=\n",
       "array([[1, 3, 5],\n",
       "       [6, 7, 8]], dtype=int32)>"
      ]
     },
     "execution_count": 117,
     "metadata": {},
     "output_type": "execute_result"
    }
   ],
   "source": [
    "x1=tf.constant([[1,3,5],[6,7,8]])\n",
    "x1"
   ]
  },
  {
   "cell_type": "code",
   "execution_count": 118,
   "id": "02e0c514",
   "metadata": {
    "id": "02e0c514"
   },
   "outputs": [],
   "source": [
    "x2=tf.constant([2,4,5])"
   ]
  },
  {
   "cell_type": "code",
   "execution_count": 119,
   "id": "1d4e340c",
   "metadata": {
    "colab": {
     "base_uri": "https://localhost:8080/"
    },
    "executionInfo": {
     "elapsed": 4,
     "status": "ok",
     "timestamp": 1708389535127,
     "user": {
      "displayName": "Vidyadhar Bendre",
      "userId": "18029889642678723593"
     },
     "user_tz": -330
    },
    "id": "1d4e340c",
    "outputId": "de509946-9e6f-494c-bff3-d07eeac83fb6"
   },
   "outputs": [
    {
     "data": {
      "text/plain": [
       "<tf.Tensor: shape=(2, 3), dtype=int32, numpy=\n",
       "array([[ 3,  7, 10],\n",
       "       [ 8, 11, 13]], dtype=int32)>"
      ]
     },
     "execution_count": 119,
     "metadata": {},
     "output_type": "execute_result"
    }
   ],
   "source": [
    "# broadcast matrix in Addition\n",
    "x1+x2"
   ]
  },
  {
   "cell_type": "code",
   "execution_count": 120,
   "id": "e47eca0c",
   "metadata": {
    "colab": {
     "base_uri": "https://localhost:8080/"
    },
    "executionInfo": {
     "elapsed": 462,
     "status": "ok",
     "timestamp": 1708389553063,
     "user": {
      "displayName": "Vidyadhar Bendre",
      "userId": "18029889642678723593"
     },
     "user_tz": -330
    },
    "id": "e47eca0c",
    "outputId": "3094398d-76cb-4b61-88dd-659016a7601e"
   },
   "outputs": [
    {
     "data": {
      "text/plain": [
       "<tf.Tensor: shape=(2, 3), dtype=int32, numpy=\n",
       "array([[ 3,  7, 10],\n",
       "       [ 8, 11, 13]], dtype=int32)>"
      ]
     },
     "execution_count": 120,
     "metadata": {},
     "output_type": "execute_result"
    }
   ],
   "source": [
    "tf.add(x1,x2)"
   ]
  },
  {
   "cell_type": "code",
   "execution_count": 121,
   "id": "4f700a34",
   "metadata": {
    "colab": {
     "base_uri": "https://localhost:8080/"
    },
    "executionInfo": {
     "elapsed": 582,
     "status": "ok",
     "timestamp": 1708389557702,
     "user": {
      "displayName": "Vidyadhar Bendre",
      "userId": "18029889642678723593"
     },
     "user_tz": -330
    },
    "id": "4f700a34",
    "outputId": "3f78aea8-543c-4cbc-8505-f99a941eb513"
   },
   "outputs": [
    {
     "name": "stdout",
     "output_type": "stream",
     "text": [
      "Multiplication with matrixes: tf.Tensor([[12.]], shape=(1, 1), dtype=float32)\n",
      "broadcast matrix in Multiplication: tf.Tensor(\n",
      "[[6. 6.]\n",
      " [6. 6.]], shape=(2, 2), dtype=float32)\n"
     ]
    }
   ],
   "source": [
    "#matrix multiple vs broad cast matrix\n",
    "matrix1 = tf.constant([[3., 3.]])\n",
    "\n",
    "# Create another Constant that produces a 2x1 matrix.\n",
    "matrix2 = tf.constant([[2.],[2.]])\n",
    "\n",
    "# Create a Matmul op that takes 'matrix1' and 'matrix2' as inputs.\n",
    "# The returned value, 'product', represents the result of the matrix\n",
    "# multiplication.\n",
    "product = tf.matmul(matrix1, matrix2)\n",
    "print(\"Multiplication with matrixes:\", product)\n",
    "\n",
    "# broadcast matrix in Multiplication\n",
    "\n",
    "print(\"broadcast matrix in Multiplication:\", matrix1 * matrix2)"
   ]
  },
  {
   "cell_type": "code",
   "execution_count": 122,
   "id": "24a5a286",
   "metadata": {
    "colab": {
     "base_uri": "https://localhost:8080/"
    },
    "executionInfo": {
     "elapsed": 448,
     "status": "ok",
     "timestamp": 1708389575337,
     "user": {
      "displayName": "Vidyadhar Bendre",
      "userId": "18029889642678723593"
     },
     "user_tz": -330
    },
    "id": "24a5a286",
    "outputId": "ea833c69-34b0-4af9-f197-cbdddb3619f7"
   },
   "outputs": [
    {
     "name": "stdout",
     "output_type": "stream",
     "text": [
      "tf.Tensor(2.0, shape=(), dtype=float32)\n",
      "tf.Tensor(2, shape=(), dtype=int32)\n"
     ]
    }
   ],
   "source": [
    "#cast operations\n",
    "a = tf.convert_to_tensor(2.)\n",
    "b = tf.cast(a, tf.int32)\n",
    "print(a)\n",
    "print(b)"
   ]
  },
  {
   "cell_type": "code",
   "execution_count": 123,
   "id": "31478eae",
   "metadata": {
    "id": "31478eae"
   },
   "outputs": [],
   "source": [
    "##Activation function in TF"
   ]
  },
  {
   "cell_type": "code",
   "execution_count": 132,
   "id": "c73142b6",
   "metadata": {
    "colab": {
     "base_uri": "https://localhost:8080/",
     "height": 528
    },
    "executionInfo": {
     "elapsed": 1635,
     "status": "ok",
     "timestamp": 1708389583320,
     "user": {
      "displayName": "Vidyadhar Bendre",
      "userId": "18029889642678723593"
     },
     "user_tz": -330
    },
    "id": "c73142b6",
    "outputId": "2c3e9889-05b1-4368-8c38-4ca6051080eb"
   },
   "outputs": [
    {
     "data": {
      "image/png": "[encoded data removed]",
      "text/plain": [
       "<Figure size 800x600 with 4 Axes>"
      ]
     },
     "metadata": {},
     "output_type": "display_data"
    }
   ],
   "source": [
    "import tensorflow as tf\n",
    "import numpy as np\n",
    "import matplotlib.pyplot as plt\n",
    "\n",
    "# fake data\n",
    "x = np.linspace(-5, 5, 100)\n",
    "\n",
    "# following are popular activation functions\n",
    "y_relu = tf.nn.relu(x)\n",
    "y_sigmoid = tf.nn.sigmoid(x)\n",
    "y_tanh = tf.nn.tanh(x)\n",
    "y_softplus = tf.nn.softplus(x)\n",
    "# y_softmax = tf.nn.softmax(x)  softmax is a special kind of activation function, it is about probability\n",
    "\n",
    "# plt to visualize these activation function\n",
    "plt.figure(1, figsize=(8, 6))\n",
    "plt.subplot(221)\n",
    "plt.plot(x, y_relu, c='red', label='relu')\n",
    "plt.ylim((-1, 5))\n",
    "plt.legend(loc='best')\n",
    "\n",
    "plt.subplot(222)\n",
    "plt.plot(x, y_sigmoid, c='red', label='sigmoid')\n",
    "plt.ylim((-0.2, 1.2))\n",
    "plt.legend(loc='best')\n",
    "\n",
    "plt.subplot(223)\n",
    "plt.plot(x, y_tanh, c='red', label='tanh')\n",
    "plt.ylim((-1.2, 1.2))\n",
    "plt.legend(loc='best')\n",
    "\n",
    "plt.subplot(224)\n",
    "plt.plot(x, y_softplus, c='red', label='softplus')\n",
    "plt.ylim((-0.2, 6))\n",
    "plt.legend(loc='best')\n",
    "\n",
    "plt.show()"
   ]
  },
  {
   "cell_type": "code",
   "execution_count": 125,
   "id": "20cc0350",
   "metadata": {
    "id": "20cc0350"
   },
   "outputs": [],
   "source": [
    "##Gradient Tape"
   ]
  },
  {
   "cell_type": "markdown",
   "id": "28d8d67a",
   "metadata": {
    "id": "28d8d67a"
   },
   "source": [
    "tf.GradientTape is an API for automatic differentiation - computing the gradient of a computation with respect to its input variables. Tensorflow \"records\" all operations\n",
    "executed inside the context of a tf.GradientTape onto a \"tape\"\n",
    "ref: https://www.tensorflow.org/api_docs/python/tf/GradientTape"
   ]
  },
  {
   "cell_type": "code",
   "execution_count": 126,
   "id": "d11cc04c",
   "metadata": {
    "colab": {
     "base_uri": "https://localhost:8080/"
    },
    "executionInfo": {
     "elapsed": 646,
     "status": "ok",
     "timestamp": 1708389630761,
     "user": {
      "displayName": "Vidyadhar Bendre",
      "userId": "18029889642678723593"
     },
     "user_tz": -330
    },
    "id": "d11cc04c",
    "outputId": "50069dba-160b-428b-8682-a2173b05a997"
   },
   "outputs": [
    {
     "name": "stdout",
     "output_type": "stream",
     "text": [
      "tf.Tensor(6.0, shape=(), dtype=float32)\n"
     ]
    }
   ],
   "source": [
    "#First derivative\n",
    "x = tf.constant(3.0)\n",
    "with tf.GradientTape() as g:\n",
    "    g.watch(x)\n",
    "    y = x * x\n",
    "dy_dx = g.gradient(y, x)\n",
    "print(dy_dx)\n"
   ]
  },
  {
   "cell_type": "code",
   "execution_count": 127,
   "id": "2b3cff55",
   "metadata": {
    "colab": {
     "base_uri": "https://localhost:8080/"
    },
    "executionInfo": {
     "elapsed": 513,
     "status": "ok",
     "timestamp": 1708389642290,
     "user": {
      "displayName": "Vidyadhar Bendre",
      "userId": "18029889642678723593"
     },
     "user_tz": -330
    },
    "id": "2b3cff55",
    "outputId": "13f21d84-aea9-426f-cb5e-c1ef52f169fb"
   },
   "outputs": [
    {
     "name": "stdout",
     "output_type": "stream",
     "text": [
      "tf.Tensor(2.0, shape=(), dtype=float32)\n"
     ]
    }
   ],
   "source": [
    "#second derivative\n",
    "x = tf.constant(3.0)\n",
    "with tf.GradientTape() as g:\n",
    "    g.watch(x)\n",
    "    with tf.GradientTape() as gg:\n",
    "        gg.watch(x)\n",
    "        y = x * x\n",
    "    dy_dx = gg.gradient(y, x)     # Will compute to 6.0\n",
    "d2y_dx2 = g.gradient(dy_dx, x)  # Will compute to 2.0\n",
    "print(d2y_dx2)"
   ]
  },
  {
   "cell_type": "code",
   "execution_count": 128,
   "id": "7b8a9e8c",
   "metadata": {
    "id": "7b8a9e8c"
   },
   "outputs": [],
   "source": [
    "x = tf.constant(3.0)\n",
    "with tf.GradientTape(persistent=True) as g:\n",
    "    g.watch(x)\n",
    "    y = x * x\n",
    "    z = y * y\n",
    "dz_dx = g.gradient(z, x)  # 108.0 (4*x^3 at x = 3)\n",
    "dy_dx = g.gradient(y, x)  # 6.0"
   ]
  },
  {
   "cell_type": "code",
   "execution_count": 129,
   "id": "1ad5ec35",
   "metadata": {
    "colab": {
     "base_uri": "https://localhost:8080/"
    },
    "executionInfo": {
     "elapsed": 636,
     "status": "ok",
     "timestamp": 1708389656729,
     "user": {
      "displayName": "Vidyadhar Bendre",
      "userId": "18029889642678723593"
     },
     "user_tz": -330
    },
    "id": "1ad5ec35",
    "outputId": "b39220a4-095d-409e-b5c7-99fb66248f2e"
   },
   "outputs": [
    {
     "name": "stdout",
     "output_type": "stream",
     "text": [
      "tf.Tensor(108.0, shape=(), dtype=float32)\n"
     ]
    }
   ],
   "source": [
    "print(dz_dx)"
   ]
  },
  {
   "cell_type": "code",
   "execution_count": 130,
   "id": "6cacd35f",
   "metadata": {
    "colab": {
     "base_uri": "https://localhost:8080/"
    },
    "executionInfo": {
     "elapsed": 4,
     "status": "ok",
     "timestamp": 1708389659616,
     "user": {
      "displayName": "Vidyadhar Bendre",
      "userId": "18029889642678723593"
     },
     "user_tz": -330
    },
    "id": "6cacd35f",
    "outputId": "9c01cb21-3c2a-4218-d465-a033429feb29"
   },
   "outputs": [
    {
     "name": "stdout",
     "output_type": "stream",
     "text": [
      "tf.Tensor(6.0, shape=(), dtype=float32)\n"
     ]
    }
   ],
   "source": [
    "print(dy_dx)"
   ]
  },
  {
   "cell_type": "code",
   "execution_count": null,
   "id": "8cebf682",
   "metadata": {
    "id": "8cebf682"
   },
   "outputs": [],
   "source": []
  },
  {
   "cell_type": "code",
   "execution_count": null,
   "id": "974b090a-3b2f-43ad-9a37-8417663736ee",
   "metadata": {},
   "outputs": [],
   "source": []
  }
 ],
 "metadata": {
  "colab": {
   "provenance": [
    {
     "file_id": "1qwUtBWSuvsn066OrC-eprZ7y9MTBGu9P",
     "timestamp": 1708389731545
    }
   ],
   "toc_visible": true
  },
  "kernelspec": {
   "display_name": "Python 3 (ipykernel)",
   "language": "python",
   "name": "python3"
  },
  "language_info": {
   "codemirror_mode": {
    "name": "ipython",
    "version": 3
   },
   "file_extension": ".py",
   "mimetype": "text/x-python",
   "name": "python",
   "nbconvert_exporter": "python",
   "pygments_lexer": "ipython3",
   "version": "3.9.13"
  }
 },
 "nbformat": 4,
 "nbformat_minor": 5
}
