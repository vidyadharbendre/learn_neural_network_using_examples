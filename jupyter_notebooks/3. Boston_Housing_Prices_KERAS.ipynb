{
 "cells": [
  {
   "cell_type": "markdown",
   "metadata": {
    "id": "XQd7q6QVtjuq"
   },
   "source": [
    "### Load tensorflow"
   ]
  },
  {
   "cell_type": "code",
   "execution_count": 1,
   "metadata": {
    "id": "nmoXXaDCtjur"
   },
   "outputs": [],
   "source": [
    "import tensorflow as tf"
   ]
  },
  {
   "cell_type": "code",
   "execution_count": 2,
   "metadata": {
    "id": "d2pe-TGNHE04"
   },
   "outputs": [],
   "source": [
    "from sklearn.preprocessing import Normalizer"
   ]
  },
  {
   "cell_type": "markdown",
   "metadata": {
    "id": "b2Hh5BOStjuv"
   },
   "source": [
    "### Collect Data"
   ]
  },
  {
   "cell_type": "code",
   "execution_count": 3,
   "metadata": {
    "id": "B7RVc9Ettjuw"
   },
   "outputs": [],
   "source": [
    "(train_x, train_y),(_,_) = tf.keras.datasets.boston_housing.load_data(test_split=0)"
   ]
  },
  {
   "cell_type": "code",
   "execution_count": 4,
   "metadata": {
    "id": "Liir8Uw2tjuz"
   },
   "outputs": [],
   "source": [
    "#train_x = train_x.astype('float32')\n",
    "#train_y = train_y.astype('float32')"
   ]
  },
  {
   "cell_type": "code",
   "execution_count": 5,
   "metadata": {
    "id": "OoybD5hLSu0D"
   },
   "outputs": [
    {
     "data": {
      "text/plain": [
       "(506, 13)"
      ]
     },
     "execution_count": 5,
     "metadata": {},
     "output_type": "execute_result"
    }
   ],
   "source": [
    "train_x.shape"
   ]
  },
  {
   "cell_type": "code",
   "execution_count": 6,
   "metadata": {
    "id": "W9GzUnGgG_jR"
   },
   "outputs": [],
   "source": [
    "transformer = Normalizer()\n",
    "train_x = transformer.fit_transform(train_x)"
   ]
  },
  {
   "cell_type": "code",
   "execution_count": 7,
   "metadata": {
    "id": "XMtz4nPnNXq_"
   },
   "outputs": [
    {
     "data": {
      "text/plain": [
       "array([0.0024119 , 0.        , 0.01592969, 0.        , 0.00105285,\n",
       "       0.01201967, 0.17945359, 0.00778265, 0.00782786, 0.6007879 ,\n",
       "       0.04109624, 0.77671895, 0.03663436])"
      ]
     },
     "execution_count": 7,
     "metadata": {},
     "output_type": "execute_result"
    }
   ],
   "source": [
    "train_x[0]"
   ]
  },
  {
   "cell_type": "markdown",
   "metadata": {
    "id": "VYKevQtMtju2"
   },
   "source": [
    "### Building the graph in Keras"
   ]
  },
  {
   "cell_type": "code",
   "execution_count": 8,
   "metadata": {
    "id": "DwqnAbMttju3"
   },
   "outputs": [
    {
     "name": "stdout",
     "output_type": "stream",
     "text": [
      "Metal device set to: Apple M1 Max\n"
     ]
    },
    {
     "name": "stderr",
     "output_type": "stream",
     "text": [
      "2024-02-21 23:43:04.970583: I tensorflow/core/common_runtime/pluggable_device/pluggable_device_factory.cc:305] Could not identify NUMA node of platform GPU ID 0, defaulting to 0. Your kernel may not have been built with NUMA support.\n",
      "2024-02-21 23:43:04.970870: I tensorflow/core/common_runtime/pluggable_device/pluggable_device_factory.cc:271] Created TensorFlow device (/job:localhost/replica:0/task:0/device:GPU:0 with 0 MB memory) -> physical PluggableDevice (device: 0, name: METAL, pci bus id: <undefined>)\n"
     ]
    }
   ],
   "source": [
    "tf.keras.backend.clear_session()\n",
    "\n",
    "#Initialize Sequential Graph (model)\n",
    "model = tf.keras.Sequential()\n",
    "\n",
    "#Add Dense layer for prediction - Keras declares weights and bias automatically\n",
    "model.add(tf.keras.layers.Dense(1, input_shape=(13,)))\n",
    "\n",
    "#Compile the model - add Loss and Gradient Descent optimizer\n",
    "model.compile(optimizer='sgd', loss='mse')"
   ]
  },
  {
   "cell_type": "markdown",
   "metadata": {
    "id": "kbXIWW5Ptju6"
   },
   "source": [
    "### Execute the Graph"
   ]
  },
  {
   "cell_type": "code",
   "execution_count": 9,
   "metadata": {
    "id": "fil-3oQVtju7"
   },
   "outputs": [
    {
     "name": "stdout",
     "output_type": "stream",
     "text": [
      "Epoch 1/100\n"
     ]
    },
    {
     "name": "stderr",
     "output_type": "stream",
     "text": [
      "2024-02-21 23:43:10.453641: W tensorflow/core/platform/profile_utils/cpu_utils.cc:128] Failed to get CPU frequency: 0 Hz\n",
      "2024-02-21 23:43:10.534813: I tensorflow/core/grappler/optimizers/custom_graph_optimizer_registry.cc:113] Plugin optimizer for device_type GPU is enabled.\n"
     ]
    },
    {
     "name": "stdout",
     "output_type": "stream",
     "text": [
      "16/16 [==============================] - 1s 15ms/step - loss: 405.5366\n",
      "Epoch 2/100\n",
      "16/16 [==============================] - 0s 4ms/step - loss: 172.8186\n",
      "Epoch 3/100\n",
      "16/16 [==============================] - 0s 4ms/step - loss: 105.8908\n",
      "Epoch 4/100\n",
      "16/16 [==============================] - 0s 4ms/step - loss: 86.8275\n",
      "Epoch 5/100\n",
      "16/16 [==============================] - 0s 4ms/step - loss: 81.1615\n",
      "Epoch 6/100\n",
      "16/16 [==============================] - 0s 4ms/step - loss: 79.0497\n",
      "Epoch 7/100\n",
      "16/16 [==============================] - 0s 4ms/step - loss: 78.0317\n",
      "Epoch 8/100\n",
      "16/16 [==============================] - 0s 4ms/step - loss: 77.3685\n",
      "Epoch 9/100\n",
      "16/16 [==============================] - 0s 4ms/step - loss: 76.7862\n",
      "Epoch 10/100\n",
      "16/16 [==============================] - 0s 4ms/step - loss: 76.2626\n",
      "Epoch 11/100\n",
      "16/16 [==============================] - 0s 4ms/step - loss: 75.7846\n",
      "Epoch 12/100\n",
      "16/16 [==============================] - 0s 4ms/step - loss: 75.3347\n",
      "Epoch 13/100\n",
      "16/16 [==============================] - 0s 4ms/step - loss: 74.9216\n",
      "Epoch 14/100\n",
      "16/16 [==============================] - 0s 4ms/step - loss: 74.5179\n",
      "Epoch 15/100\n",
      "16/16 [==============================] - 0s 4ms/step - loss: 74.0506\n",
      "Epoch 16/100\n",
      "16/16 [==============================] - 0s 4ms/step - loss: 73.6876\n",
      "Epoch 17/100\n",
      "16/16 [==============================] - 0s 4ms/step - loss: 73.3148\n",
      "Epoch 18/100\n",
      "16/16 [==============================] - 0s 4ms/step - loss: 72.9084\n",
      "Epoch 19/100\n",
      "16/16 [==============================] - 0s 4ms/step - loss: 72.5641\n",
      "Epoch 20/100\n",
      "16/16 [==============================] - 0s 4ms/step - loss: 72.2418\n",
      "Epoch 21/100\n",
      "16/16 [==============================] - 0s 4ms/step - loss: 71.8973\n",
      "Epoch 22/100\n",
      "16/16 [==============================] - 0s 4ms/step - loss: 71.6089\n",
      "Epoch 23/100\n",
      "16/16 [==============================] - 0s 4ms/step - loss: 71.3316\n",
      "Epoch 24/100\n",
      "16/16 [==============================] - 0s 4ms/step - loss: 71.0252\n",
      "Epoch 25/100\n",
      "16/16 [==============================] - 0s 4ms/step - loss: 70.7719\n",
      "Epoch 26/100\n",
      "16/16 [==============================] - 0s 4ms/step - loss: 70.4913\n",
      "Epoch 27/100\n",
      "16/16 [==============================] - 0s 4ms/step - loss: 70.1859\n",
      "Epoch 28/100\n",
      "16/16 [==============================] - 0s 4ms/step - loss: 69.9833\n",
      "Epoch 29/100\n",
      "16/16 [==============================] - 0s 4ms/step - loss: 69.7294\n",
      "Epoch 30/100\n",
      "16/16 [==============================] - 0s 4ms/step - loss: 69.5330\n",
      "Epoch 31/100\n",
      "16/16 [==============================] - 0s 4ms/step - loss: 69.2908\n",
      "Epoch 32/100\n",
      "16/16 [==============================] - 0s 4ms/step - loss: 69.1381\n",
      "Epoch 33/100\n",
      "16/16 [==============================] - 0s 4ms/step - loss: 68.9180\n",
      "Epoch 34/100\n",
      "16/16 [==============================] - 0s 4ms/step - loss: 68.7156\n",
      "Epoch 35/100\n",
      "16/16 [==============================] - 0s 4ms/step - loss: 68.5282\n",
      "Epoch 36/100\n",
      "16/16 [==============================] - 0s 4ms/step - loss: 68.3341\n",
      "Epoch 37/100\n",
      "16/16 [==============================] - 0s 4ms/step - loss: 68.1576\n",
      "Epoch 38/100\n",
      "16/16 [==============================] - 0s 4ms/step - loss: 67.9881\n",
      "Epoch 39/100\n",
      "16/16 [==============================] - 0s 5ms/step - loss: 67.8513\n",
      "Epoch 40/100\n",
      "16/16 [==============================] - 0s 4ms/step - loss: 67.6614\n",
      "Epoch 41/100\n",
      "16/16 [==============================] - 0s 4ms/step - loss: 67.5215\n",
      "Epoch 42/100\n",
      "16/16 [==============================] - 0s 4ms/step - loss: 67.4335\n",
      "Epoch 43/100\n",
      "16/16 [==============================] - 0s 4ms/step - loss: 67.3012\n",
      "Epoch 44/100\n",
      "16/16 [==============================] - 0s 4ms/step - loss: 67.1458\n",
      "Epoch 45/100\n",
      "16/16 [==============================] - 0s 4ms/step - loss: 67.0292\n",
      "Epoch 46/100\n",
      "16/16 [==============================] - 0s 4ms/step - loss: 66.8979\n",
      "Epoch 47/100\n",
      "16/16 [==============================] - 0s 4ms/step - loss: 66.7909\n",
      "Epoch 48/100\n",
      "16/16 [==============================] - 0s 4ms/step - loss: 66.6795\n",
      "Epoch 49/100\n",
      "16/16 [==============================] - 0s 4ms/step - loss: 66.5734\n",
      "Epoch 50/100\n",
      "16/16 [==============================] - 0s 4ms/step - loss: 66.4750\n",
      "Epoch 51/100\n",
      "16/16 [==============================] - 0s 4ms/step - loss: 66.4067\n",
      "Epoch 52/100\n",
      "16/16 [==============================] - 0s 4ms/step - loss: 66.2862\n",
      "Epoch 53/100\n",
      "16/16 [==============================] - 0s 3ms/step - loss: 66.1822\n",
      "Epoch 54/100\n",
      "16/16 [==============================] - 0s 3ms/step - loss: 66.1114\n",
      "Epoch 55/100\n",
      "16/16 [==============================] - 0s 3ms/step - loss: 65.9853\n",
      "Epoch 56/100\n",
      "16/16 [==============================] - 0s 3ms/step - loss: 65.9867\n",
      "Epoch 57/100\n",
      "16/16 [==============================] - 0s 3ms/step - loss: 65.8157\n",
      "Epoch 58/100\n",
      "16/16 [==============================] - 0s 4ms/step - loss: 65.7848\n",
      "Epoch 59/100\n",
      "16/16 [==============================] - 0s 4ms/step - loss: 65.7038\n",
      "Epoch 60/100\n",
      "16/16 [==============================] - 0s 3ms/step - loss: 65.6430\n",
      "Epoch 61/100\n",
      "16/16 [==============================] - 0s 3ms/step - loss: 65.5349\n",
      "Epoch 62/100\n",
      "16/16 [==============================] - 0s 4ms/step - loss: 65.4645\n",
      "Epoch 63/100\n",
      "16/16 [==============================] - 0s 4ms/step - loss: 65.4072\n",
      "Epoch 64/100\n",
      "16/16 [==============================] - 0s 4ms/step - loss: 65.3717\n",
      "Epoch 65/100\n",
      "16/16 [==============================] - 0s 4ms/step - loss: 65.3128\n",
      "Epoch 66/100\n",
      "16/16 [==============================] - 0s 3ms/step - loss: 65.2948\n",
      "Epoch 67/100\n",
      "16/16 [==============================] - 0s 3ms/step - loss: 65.1717\n",
      "Epoch 68/100\n",
      "16/16 [==============================] - 0s 4ms/step - loss: 65.1616\n",
      "Epoch 69/100\n",
      "16/16 [==============================] - 0s 3ms/step - loss: 65.1236\n",
      "Epoch 70/100\n",
      "16/16 [==============================] - 0s 4ms/step - loss: 65.0075\n",
      "Epoch 71/100\n",
      "16/16 [==============================] - 0s 3ms/step - loss: 64.9741\n",
      "Epoch 72/100\n",
      "16/16 [==============================] - 0s 4ms/step - loss: 64.9808\n",
      "Epoch 73/100\n",
      "16/16 [==============================] - 0s 4ms/step - loss: 64.8550\n",
      "Epoch 74/100\n",
      "16/16 [==============================] - 0s 4ms/step - loss: 64.8321\n",
      "Epoch 75/100\n",
      "16/16 [==============================] - 0s 4ms/step - loss: 64.8204\n",
      "Epoch 76/100\n",
      "16/16 [==============================] - 0s 4ms/step - loss: 64.7714\n",
      "Epoch 77/100\n",
      "16/16 [==============================] - 0s 3ms/step - loss: 64.7418\n",
      "Epoch 78/100\n",
      "16/16 [==============================] - 0s 4ms/step - loss: 64.7537\n",
      "Epoch 79/100\n",
      "16/16 [==============================] - 0s 4ms/step - loss: 64.6909\n",
      "Epoch 80/100\n",
      "16/16 [==============================] - 0s 3ms/step - loss: 64.6007\n",
      "Epoch 81/100\n",
      "16/16 [==============================] - 0s 3ms/step - loss: 64.5759\n",
      "Epoch 82/100\n",
      "16/16 [==============================] - 0s 4ms/step - loss: 64.5926\n",
      "Epoch 83/100\n",
      "16/16 [==============================] - 0s 4ms/step - loss: 64.5171\n",
      "Epoch 84/100\n",
      "16/16 [==============================] - 0s 4ms/step - loss: 64.4923\n",
      "Epoch 85/100\n",
      "16/16 [==============================] - 0s 4ms/step - loss: 64.4387\n",
      "Epoch 86/100\n",
      "16/16 [==============================] - 0s 4ms/step - loss: 64.4456\n",
      "Epoch 87/100\n",
      "16/16 [==============================] - 0s 4ms/step - loss: 64.3731\n",
      "Epoch 88/100\n",
      "16/16 [==============================] - 0s 4ms/step - loss: 64.4379\n",
      "Epoch 89/100\n",
      "16/16 [==============================] - 0s 3ms/step - loss: 64.3423\n",
      "Epoch 90/100\n",
      "16/16 [==============================] - 0s 4ms/step - loss: 64.3130\n",
      "Epoch 91/100\n",
      "16/16 [==============================] - 0s 3ms/step - loss: 64.2978\n",
      "Epoch 92/100\n",
      "16/16 [==============================] - 0s 4ms/step - loss: 64.2514\n",
      "Epoch 93/100\n",
      "16/16 [==============================] - 0s 3ms/step - loss: 64.2408\n",
      "Epoch 94/100\n",
      "16/16 [==============================] - 0s 5ms/step - loss: 64.2419\n",
      "Epoch 95/100\n",
      "16/16 [==============================] - 0s 4ms/step - loss: 64.2048\n",
      "Epoch 96/100\n",
      "16/16 [==============================] - 0s 4ms/step - loss: 64.1965\n",
      "Epoch 97/100\n",
      "16/16 [==============================] - 0s 3ms/step - loss: 64.1548\n",
      "Epoch 98/100\n",
      "16/16 [==============================] - 0s 4ms/step - loss: 64.1409\n",
      "Epoch 99/100\n",
      "16/16 [==============================] - 0s 3ms/step - loss: 64.0860\n",
      "Epoch 100/100\n",
      "16/16 [==============================] - 0s 3ms/step - loss: 64.0901\n"
     ]
    },
    {
     "data": {
      "text/plain": [
       "<keras.callbacks.History at 0x17318aa30>"
      ]
     },
     "execution_count": 9,
     "metadata": {},
     "output_type": "execute_result"
    }
   ],
   "source": [
    "model.fit(train_x, train_y, epochs=100)"
   ]
  },
  {
   "cell_type": "code",
   "execution_count": 10,
   "metadata": {
    "id": "HiWMQHvialuv"
   },
   "outputs": [
    {
     "name": "stdout",
     "output_type": "stream",
     "text": [
      "Model: \"sequential\"\n",
      "_________________________________________________________________\n",
      " Layer (type)                Output Shape              Param #   \n",
      "=================================================================\n",
      " dense (Dense)               (None, 1)                 14        \n",
      "                                                                 \n",
      "=================================================================\n",
      "Total params: 14\n",
      "Trainable params: 14\n",
      "Non-trainable params: 0\n",
      "_________________________________________________________________\n"
     ]
    }
   ],
   "source": [
    "model.summary()"
   ]
  },
  {
   "cell_type": "code",
   "execution_count": 11,
   "metadata": {
    "id": "ODvJUqwSfzd2"
   },
   "outputs": [
    {
     "data": {
      "text/plain": [
       "[array([[-0.17270234],\n",
       "        [ 3.603731  ],\n",
       "        [-0.47684094],\n",
       "        [ 0.0850628 ],\n",
       "        [-0.62710655],\n",
       "        [-0.14087899],\n",
       "        [-0.7238508 ],\n",
       "        [ 0.69766915],\n",
       "        [-0.52253234],\n",
       "        [-1.5927249 ],\n",
       "        [ 0.6278631 ],\n",
       "        [17.90557   ],\n",
       "        [-1.1662514 ]], dtype=float32),\n",
       " array([11.890104], dtype=float32)]"
      ]
     },
     "execution_count": 11,
     "metadata": {},
     "output_type": "execute_result"
    }
   ],
   "source": [
    "model.get_weights()"
   ]
  },
  {
   "cell_type": "code",
   "execution_count": 12,
   "metadata": {
    "id": "r96-aaKHatYL"
   },
   "outputs": [
    {
     "data": {
      "text/plain": [
       "[array([[-0.17270234],\n",
       "        [ 3.603731  ],\n",
       "        [-0.47684094],\n",
       "        [ 0.0850628 ],\n",
       "        [-0.62710655],\n",
       "        [-0.14087899],\n",
       "        [-0.7238508 ],\n",
       "        [ 0.69766915],\n",
       "        [-0.52253234],\n",
       "        [-1.5927249 ],\n",
       "        [ 0.6278631 ],\n",
       "        [17.90557   ],\n",
       "        [-1.1662514 ]], dtype=float32),\n",
       " array([11.890104], dtype=float32)]"
      ]
     },
     "execution_count": 12,
     "metadata": {},
     "output_type": "execute_result"
    }
   ],
   "source": [
    "model.get_weights()"
   ]
  },
  {
   "cell_type": "markdown",
   "metadata": {
    "id": "WEcEbkRhtju9"
   },
   "source": [
    "### Save the model"
   ]
  },
  {
   "cell_type": "code",
   "execution_count": 13,
   "metadata": {
    "id": "theE0__Ltju-"
   },
   "outputs": [],
   "source": [
    "model.save('boston_housing_lr.h5')"
   ]
  },
  {
   "cell_type": "code",
   "execution_count": 14,
   "metadata": {
    "id": "xefPallHAjOG"
   },
   "outputs": [
    {
     "name": "stdout",
     "output_type": "stream",
     "text": [
      "total 18112\n",
      "-rw-r--r--@ 1 vidyadharbendre  staff   347420 Feb 17 07:05 01_linear_vs_non_linear.ipynb\n",
      "-rw-------@ 1 vidyadharbendre  staff     2821 Feb 25  2022 1. Tensorflow_Hello_World_tf2.ipynb\n",
      "-rw-r--r--@ 1 vidyadharbendre  staff   102458 Feb 20 10:31 1_Tensorflow_basics.ipynb\n",
      "-rw-r--r--@ 1 vidyadharbendre  staff     3004 Feb 17 20:50 1_tensorflow.ipynb\n",
      "-rw-------@ 1 vidyadharbendre  staff    20788 Feb 21 23:41 2a. Boston Housing Prices.ipynb\n",
      "-rw-------@ 1 vidyadharbendre  staff    16977 Feb 21 23:43 2b. Boston Housing Prices_Normalization.ipynb\n",
      "-rw-------@ 1 vidyadharbendre  staff     3750 Feb 25  2022 3. Boston_Housing_Prices_KERAS.ipynb\n",
      "-rw-r--r--@ 1 vidyadharbendre  staff  6357942 Feb 20 10:31 Session1.ipynb\n",
      "-rw-r--r--@ 1 vidyadharbendre  staff  2349318 Feb 21 23:08 Session2.ipynb\n",
      "-rw-r--r--@ 1 vidyadharbendre  staff    29859 Feb 20 10:29 Untitled.ipynb\n",
      "-rw-r--r--@ 1 vidyadharbendre  staff    15064 Feb 21 23:43 boston_housing_lr.h5\n"
     ]
    }
   ],
   "source": [
    "!ls -l"
   ]
  },
  {
   "cell_type": "code",
   "execution_count": 15,
   "metadata": {
    "id": "OFiU3-kNQ_Uf"
   },
   "outputs": [
    {
     "data": {
      "text/plain": [
       "(13,)"
      ]
     },
     "execution_count": 15,
     "metadata": {},
     "output_type": "execute_result"
    }
   ],
   "source": [
    "train_x[0].shape"
   ]
  },
  {
   "cell_type": "code",
   "execution_count": 16,
   "metadata": {
    "id": "jYAOOupEGQPz"
   },
   "outputs": [
    {
     "name": "stdout",
     "output_type": "stream",
     "text": [
      "WARNING:tensorflow:Model was constructed with shape (None, 13) for input KerasTensor(type_spec=TensorSpec(shape=(None, 13), dtype=tf.float32, name='dense_input'), name='dense_input', description=\"created by layer 'dense_input'\"), but it was called on an input with incompatible shape (None,).\n"
     ]
    },
    {
     "ename": "ValueError",
     "evalue": "in user code:\n\n    File \"/Users/vidyadharbendre/miniforge3/lib/python3.9/site-packages/keras/engine/training.py\", line 1845, in predict_function  *\n        return step_function(self, iterator)\n    File \"/Users/vidyadharbendre/miniforge3/lib/python3.9/site-packages/keras/engine/training.py\", line 1834, in step_function  **\n        outputs = model.distribute_strategy.run(run_step, args=(data,))\n    File \"/Users/vidyadharbendre/miniforge3/lib/python3.9/site-packages/keras/engine/training.py\", line 1823, in run_step  **\n        outputs = model.predict_step(data)\n    File \"/Users/vidyadharbendre/miniforge3/lib/python3.9/site-packages/keras/engine/training.py\", line 1791, in predict_step\n        return self(x, training=False)\n    File \"/Users/vidyadharbendre/miniforge3/lib/python3.9/site-packages/keras/utils/traceback_utils.py\", line 67, in error_handler\n        raise e.with_traceback(filtered_tb) from None\n    File \"/Users/vidyadharbendre/miniforge3/lib/python3.9/site-packages/keras/engine/input_spec.py\", line 228, in assert_input_compatibility\n        raise ValueError(f'Input {input_index} of layer \"{layer_name}\" '\n\n    ValueError: Exception encountered when calling layer \"sequential\" (type Sequential).\n    \n    Input 0 of layer \"dense\" is incompatible with the layer: expected min_ndim=2, found ndim=1. Full shape received: (None,)\n    \n    Call arguments received by layer \"sequential\" (type Sequential):\n      • inputs=tf.Tensor(shape=(None,), dtype=float32)\n      • training=False\n      • mask=None\n",
     "output_type": "error",
     "traceback": [
      "\u001b[0;31m---------------------------------------------------------------------------\u001b[0m",
      "\u001b[0;31mValueError\u001b[0m                                Traceback (most recent call last)",
      "Cell \u001b[0;32mIn[16], line 1\u001b[0m\n\u001b[0;32m----> 1\u001b[0m \u001b[43mmodel\u001b[49m\u001b[38;5;241;43m.\u001b[39;49m\u001b[43mpredict\u001b[49m\u001b[43m(\u001b[49m\u001b[43mtrain_x\u001b[49m\u001b[43m[\u001b[49m\u001b[38;5;241;43m0\u001b[39;49m\u001b[43m]\u001b[49m\u001b[43m)\u001b[49m\n",
      "File \u001b[0;32m~/miniforge3/lib/python3.9/site-packages/keras/utils/traceback_utils.py:67\u001b[0m, in \u001b[0;36mfilter_traceback.<locals>.error_handler\u001b[0;34m(*args, **kwargs)\u001b[0m\n\u001b[1;32m     65\u001b[0m \u001b[38;5;28;01mexcept\u001b[39;00m \u001b[38;5;167;01mException\u001b[39;00m \u001b[38;5;28;01mas\u001b[39;00m e:  \u001b[38;5;66;03m# pylint: disable=broad-except\u001b[39;00m\n\u001b[1;32m     66\u001b[0m   filtered_tb \u001b[38;5;241m=\u001b[39m _process_traceback_frames(e\u001b[38;5;241m.\u001b[39m__traceback__)\n\u001b[0;32m---> 67\u001b[0m   \u001b[38;5;28;01mraise\u001b[39;00m e\u001b[38;5;241m.\u001b[39mwith_traceback(filtered_tb) \u001b[38;5;28;01mfrom\u001b[39;00m \u001b[38;5;28;01mNone\u001b[39;00m\n\u001b[1;32m     68\u001b[0m \u001b[38;5;28;01mfinally\u001b[39;00m:\n\u001b[1;32m     69\u001b[0m   \u001b[38;5;28;01mdel\u001b[39;00m filtered_tb\n",
      "File \u001b[0;32m/var/folders/kd/yddgdhm92qxgkw2js4t89ksr0000gn/T/__autograph_generated_fileo9rw4hw9.py:15\u001b[0m, in \u001b[0;36mouter_factory.<locals>.inner_factory.<locals>.tf__predict_function\u001b[0;34m(iterator)\u001b[0m\n\u001b[1;32m     13\u001b[0m \u001b[38;5;28;01mtry\u001b[39;00m:\n\u001b[1;32m     14\u001b[0m     do_return \u001b[38;5;241m=\u001b[39m \u001b[38;5;28;01mTrue\u001b[39;00m\n\u001b[0;32m---> 15\u001b[0m     retval_ \u001b[38;5;241m=\u001b[39m ag__\u001b[38;5;241m.\u001b[39mconverted_call(ag__\u001b[38;5;241m.\u001b[39mld(step_function), (ag__\u001b[38;5;241m.\u001b[39mld(\u001b[38;5;28mself\u001b[39m), ag__\u001b[38;5;241m.\u001b[39mld(iterator)), \u001b[38;5;28;01mNone\u001b[39;00m, fscope)\n\u001b[1;32m     16\u001b[0m \u001b[38;5;28;01mexcept\u001b[39;00m:\n\u001b[1;32m     17\u001b[0m     do_return \u001b[38;5;241m=\u001b[39m \u001b[38;5;28;01mFalse\u001b[39;00m\n",
      "\u001b[0;31mValueError\u001b[0m: in user code:\n\n    File \"/Users/vidyadharbendre/miniforge3/lib/python3.9/site-packages/keras/engine/training.py\", line 1845, in predict_function  *\n        return step_function(self, iterator)\n    File \"/Users/vidyadharbendre/miniforge3/lib/python3.9/site-packages/keras/engine/training.py\", line 1834, in step_function  **\n        outputs = model.distribute_strategy.run(run_step, args=(data,))\n    File \"/Users/vidyadharbendre/miniforge3/lib/python3.9/site-packages/keras/engine/training.py\", line 1823, in run_step  **\n        outputs = model.predict_step(data)\n    File \"/Users/vidyadharbendre/miniforge3/lib/python3.9/site-packages/keras/engine/training.py\", line 1791, in predict_step\n        return self(x, training=False)\n    File \"/Users/vidyadharbendre/miniforge3/lib/python3.9/site-packages/keras/utils/traceback_utils.py\", line 67, in error_handler\n        raise e.with_traceback(filtered_tb) from None\n    File \"/Users/vidyadharbendre/miniforge3/lib/python3.9/site-packages/keras/engine/input_spec.py\", line 228, in assert_input_compatibility\n        raise ValueError(f'Input {input_index} of layer \"{layer_name}\" '\n\n    ValueError: Exception encountered when calling layer \"sequential\" (type Sequential).\n    \n    Input 0 of layer \"dense\" is incompatible with the layer: expected min_ndim=2, found ndim=1. Full shape received: (None,)\n    \n    Call arguments received by layer \"sequential\" (type Sequential):\n      • inputs=tf.Tensor(shape=(None,), dtype=float32)\n      • training=False\n      • mask=None\n"
     ]
    }
   ],
   "source": [
    "model.predict(train_x[0])"
   ]
  },
  {
   "cell_type": "code",
   "execution_count": 17,
   "metadata": {
    "id": "2QXnVj8vU8SU"
   },
   "outputs": [],
   "source": [
    "import numpy as np"
   ]
  },
  {
   "cell_type": "code",
   "execution_count": 18,
   "metadata": {
    "id": "BBBpgUM9VDLc"
   },
   "outputs": [
    {
     "data": {
      "text/plain": [
       "(1, 13)"
      ]
     },
     "execution_count": 18,
     "metadata": {},
     "output_type": "execute_result"
    }
   ],
   "source": [
    "input_data = np.expand_dims(train_x[0], axis=0)\n",
    "input_data.shape"
   ]
  },
  {
   "cell_type": "code",
   "execution_count": 19,
   "metadata": {
    "id": "HhZE-1_kVNec"
   },
   "outputs": [
    {
     "name": "stdout",
     "output_type": "stream",
     "text": [
      "1/1 [==============================] - 0s 116ms/step\n"
     ]
    },
    {
     "name": "stderr",
     "output_type": "stream",
     "text": [
      "2024-02-21 23:44:10.978143: I tensorflow/core/grappler/optimizers/custom_graph_optimizer_registry.cc:113] Plugin optimizer for device_type GPU is enabled.\n"
     ]
    },
    {
     "data": {
      "text/plain": [
       "array([[24.684963]], dtype=float32)"
      ]
     },
     "execution_count": 19,
     "metadata": {},
     "output_type": "execute_result"
    }
   ],
   "source": [
    "model.predict(input_data)"
   ]
  },
  {
   "cell_type": "code",
   "execution_count": 20,
   "metadata": {
    "id": "ivmmKqSgRcQD"
   },
   "outputs": [
    {
     "data": {
      "text/plain": [
       "15.2"
      ]
     },
     "execution_count": 20,
     "metadata": {},
     "output_type": "execute_result"
    }
   ],
   "source": [
    "train_y[0]"
   ]
  },
  {
   "cell_type": "code",
   "execution_count": null,
   "metadata": {},
   "outputs": [],
   "source": []
  }
 ],
 "metadata": {
  "colab": {
   "name": "3. Boston_Housing_Prices_KERAS.ipynb",
   "private_outputs": true,
   "provenance": []
  },
  "kernelspec": {
   "display_name": "Python 3 (ipykernel)",
   "language": "python",
   "name": "python3"
  },
  "language_info": {
   "codemirror_mode": {
    "name": "ipython",
    "version": 3
   },
   "file_extension": ".py",
   "mimetype": "text/x-python",
   "name": "python",
   "nbconvert_exporter": "python",
   "pygments_lexer": "ipython3",
   "version": "3.9.13"
  }
 },
 "nbformat": 4,
 "nbformat_minor": 4
}
