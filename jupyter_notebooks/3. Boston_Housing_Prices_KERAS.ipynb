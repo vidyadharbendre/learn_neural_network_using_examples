{
 "cells": [
  {
   "cell_type": "markdown",
   "metadata": {
    "id": "XQd7q6QVtjuq"
   },
   "source": [
    "### Load tensorflow"
   ]
  },
  {
   "cell_type": "code",
   "execution_count": 23,
   "metadata": {
    "id": "nmoXXaDCtjur"
   },
   "outputs": [],
   "source": [
    "import tensorflow as tf"
   ]
  },
  {
   "cell_type": "code",
   "execution_count": 24,
   "metadata": {
    "id": "d2pe-TGNHE04"
   },
   "outputs": [],
   "source": [
    "from sklearn.preprocessing import Normalizer"
   ]
  },
  {
   "cell_type": "markdown",
   "metadata": {
    "id": "b2Hh5BOStjuv"
   },
   "source": [
    "### Collect Data"
   ]
  },
  {
   "cell_type": "code",
   "execution_count": 85,
   "metadata": {
    "id": "B7RVc9Ettjuw"
   },
   "outputs": [],
   "source": [
    "(train_x, train_y),(test_x,test_y) = tf.keras.datasets.boston_housing.load_data(test_split=0)"
   ]
  },
  {
   "cell_type": "code",
   "execution_count": 86,
   "metadata": {
    "id": "Liir8Uw2tjuz"
   },
   "outputs": [],
   "source": [
    "#train_x = train_x.astype('float32')\n",
    "#train_y = train_y.astype('float32')"
   ]
  },
  {
   "cell_type": "code",
   "execution_count": 93,
   "metadata": {
    "id": "OoybD5hLSu0D"
   },
   "outputs": [
    {
     "data": {
      "text/plain": [
       "(506, 13)"
      ]
     },
     "execution_count": 93,
     "metadata": {},
     "output_type": "execute_result"
    }
   ],
   "source": [
    "train_x.shape"
   ]
  },
  {
   "cell_type": "code",
   "execution_count": 94,
   "metadata": {},
   "outputs": [
    {
     "data": {
      "text/plain": [
       "array([  1.23247,   0.     ,   8.14   ,   0.     ,   0.538  ,   6.142  ,\n",
       "        91.7    ,   3.9769 ,   4.     , 307.     ,  21.     , 396.9    ,\n",
       "        18.72   ])"
      ]
     },
     "execution_count": 94,
     "metadata": {},
     "output_type": "execute_result"
    }
   ],
   "source": [
    "train_x[0]"
   ]
  },
  {
   "cell_type": "code",
   "execution_count": 95,
   "metadata": {
    "id": "W9GzUnGgG_jR"
   },
   "outputs": [],
   "source": [
    "transformer = Normalizer()\n",
    "train_x = transformer.fit_transform(train_x)"
   ]
  },
  {
   "cell_type": "code",
   "execution_count": 96,
   "metadata": {
    "id": "XMtz4nPnNXq_"
   },
   "outputs": [
    {
     "data": {
      "text/plain": [
       "array([0.0024119 , 0.        , 0.01592969, 0.        , 0.00105285,\n",
       "       0.01201967, 0.17945359, 0.00778265, 0.00782786, 0.6007879 ,\n",
       "       0.04109624, 0.77671895, 0.03663436])"
      ]
     },
     "execution_count": 96,
     "metadata": {},
     "output_type": "execute_result"
    }
   ],
   "source": [
    "train_x[0]"
   ]
  },
  {
   "cell_type": "code",
   "execution_count": null,
   "metadata": {},
   "outputs": [],
   "source": []
  },
  {
   "cell_type": "markdown",
   "metadata": {
    "id": "VYKevQtMtju2"
   },
   "source": [
    "### Building the graph in Keras"
   ]
  },
  {
   "cell_type": "code",
   "execution_count": 97,
   "metadata": {
    "id": "DwqnAbMttju3"
   },
   "outputs": [],
   "source": [
    "tf.keras.backend.clear_session()\n",
    "\n",
    "#Initialize Sequential Graph (model)\n",
    "model = tf.keras.Sequential()\n",
    "\n",
    "#Add Dense layer for prediction - Keras declares weights and bias automatically\n",
    "model.add(tf.keras.layers.Dense(1, input_shape=(13,)))\n",
    "\n",
    "#Compile the model - add Loss and Gradient Descent optimizer\n",
    "model.compile(optimizer='sgd', loss='mse')"
   ]
  },
  {
   "cell_type": "markdown",
   "metadata": {
    "id": "kbXIWW5Ptju6"
   },
   "source": [
    "### Execute the Graph"
   ]
  },
  {
   "cell_type": "code",
   "execution_count": 98,
   "metadata": {
    "id": "fil-3oQVtju7"
   },
   "outputs": [
    {
     "name": "stdout",
     "output_type": "stream",
     "text": [
      "Epoch 1/100\n",
      "16/16 [==============================] - 0s 6ms/step - loss: 403.9946\n",
      "Epoch 2/100\n",
      " 1/16 [>.............................] - ETA: 0s - loss: 216.2562"
     ]
    },
    {
     "name": "stderr",
     "output_type": "stream",
     "text": [
      "2024-03-08 23:33:08.051166: I tensorflow/core/grappler/optimizers/custom_graph_optimizer_registry.cc:113] Plugin optimizer for device_type GPU is enabled.\n"
     ]
    },
    {
     "name": "stdout",
     "output_type": "stream",
     "text": [
      "16/16 [==============================] - 0s 4ms/step - loss: 172.7920\n",
      "Epoch 3/100\n",
      "16/16 [==============================] - 0s 4ms/step - loss: 106.6388\n",
      "Epoch 4/100\n",
      "16/16 [==============================] - 0s 4ms/step - loss: 87.2922\n",
      "Epoch 5/100\n",
      "16/16 [==============================] - 0s 4ms/step - loss: 81.2754\n",
      "Epoch 6/100\n",
      "16/16 [==============================] - 0s 4ms/step - loss: 78.9911\n",
      "Epoch 7/100\n",
      "16/16 [==============================] - 0s 4ms/step - loss: 78.0058\n",
      "Epoch 8/100\n",
      "16/16 [==============================] - 0s 4ms/step - loss: 77.3692\n",
      "Epoch 9/100\n",
      "16/16 [==============================] - 0s 4ms/step - loss: 76.7799\n",
      "Epoch 10/100\n",
      "16/16 [==============================] - 0s 4ms/step - loss: 76.2272\n",
      "Epoch 11/100\n",
      "16/16 [==============================] - 0s 4ms/step - loss: 75.7372\n",
      "Epoch 12/100\n",
      "16/16 [==============================] - 0s 4ms/step - loss: 75.2248\n",
      "Epoch 13/100\n",
      "16/16 [==============================] - 0s 4ms/step - loss: 74.8010\n",
      "Epoch 14/100\n",
      "16/16 [==============================] - 0s 4ms/step - loss: 74.4208\n",
      "Epoch 15/100\n",
      "16/16 [==============================] - 0s 4ms/step - loss: 73.9919\n",
      "Epoch 16/100\n",
      "16/16 [==============================] - 0s 4ms/step - loss: 73.5370\n",
      "Epoch 17/100\n",
      "16/16 [==============================] - 0s 4ms/step - loss: 73.1682\n",
      "Epoch 18/100\n",
      "16/16 [==============================] - 0s 4ms/step - loss: 72.7916\n",
      "Epoch 19/100\n",
      "16/16 [==============================] - 0s 4ms/step - loss: 72.4273\n",
      "Epoch 20/100\n",
      "16/16 [==============================] - 0s 4ms/step - loss: 72.1149\n",
      "Epoch 21/100\n",
      "16/16 [==============================] - 0s 4ms/step - loss: 71.7830\n",
      "Epoch 22/100\n",
      "16/16 [==============================] - 0s 4ms/step - loss: 71.5027\n",
      "Epoch 23/100\n",
      "16/16 [==============================] - 0s 4ms/step - loss: 71.1342\n",
      "Epoch 24/100\n",
      "16/16 [==============================] - 0s 4ms/step - loss: 70.8119\n",
      "Epoch 25/100\n",
      "16/16 [==============================] - 0s 4ms/step - loss: 70.5975\n",
      "Epoch 26/100\n",
      "16/16 [==============================] - 0s 4ms/step - loss: 70.2773\n",
      "Epoch 27/100\n",
      "16/16 [==============================] - 0s 4ms/step - loss: 70.0278\n",
      "Epoch 28/100\n",
      "16/16 [==============================] - 0s 4ms/step - loss: 69.8085\n",
      "Epoch 29/100\n",
      "16/16 [==============================] - 0s 4ms/step - loss: 69.5684\n",
      "Epoch 30/100\n",
      "16/16 [==============================] - 0s 4ms/step - loss: 69.2979\n",
      "Epoch 31/100\n",
      "16/16 [==============================] - 0s 4ms/step - loss: 69.1132\n",
      "Epoch 32/100\n",
      "16/16 [==============================] - 0s 4ms/step - loss: 68.8533\n",
      "Epoch 33/100\n",
      "16/16 [==============================] - 0s 4ms/step - loss: 68.6744\n",
      "Epoch 34/100\n",
      "16/16 [==============================] - 0s 4ms/step - loss: 68.5276\n",
      "Epoch 35/100\n",
      "16/16 [==============================] - 0s 4ms/step - loss: 68.3562\n",
      "Epoch 36/100\n",
      "16/16 [==============================] - 0s 4ms/step - loss: 68.1331\n",
      "Epoch 37/100\n",
      "16/16 [==============================] - 0s 4ms/step - loss: 67.9179\n",
      "Epoch 38/100\n",
      "16/16 [==============================] - 0s 4ms/step - loss: 67.7498\n",
      "Epoch 39/100\n",
      "16/16 [==============================] - 0s 7ms/step - loss: 67.6308\n",
      "Epoch 40/100\n",
      "16/16 [==============================] - 0s 9ms/step - loss: 67.4946\n",
      "Epoch 41/100\n",
      "16/16 [==============================] - 0s 5ms/step - loss: 67.2980\n",
      "Epoch 42/100\n",
      "16/16 [==============================] - 0s 4ms/step - loss: 67.1978\n",
      "Epoch 43/100\n",
      "16/16 [==============================] - 0s 4ms/step - loss: 67.0316\n",
      "Epoch 44/100\n",
      "16/16 [==============================] - 0s 4ms/step - loss: 66.9086\n",
      "Epoch 45/100\n",
      "16/16 [==============================] - 0s 4ms/step - loss: 66.8120\n",
      "Epoch 46/100\n",
      "16/16 [==============================] - 0s 4ms/step - loss: 66.6601\n",
      "Epoch 47/100\n",
      "16/16 [==============================] - 0s 4ms/step - loss: 66.5734\n",
      "Epoch 48/100\n",
      "16/16 [==============================] - 0s 4ms/step - loss: 66.4502\n",
      "Epoch 49/100\n",
      "16/16 [==============================] - 0s 4ms/step - loss: 66.3204\n",
      "Epoch 50/100\n",
      "16/16 [==============================] - 0s 4ms/step - loss: 66.1938\n",
      "Epoch 51/100\n",
      "16/16 [==============================] - 0s 4ms/step - loss: 66.1227\n",
      "Epoch 52/100\n",
      "16/16 [==============================] - 0s 4ms/step - loss: 66.0416\n",
      "Epoch 53/100\n",
      "16/16 [==============================] - 0s 4ms/step - loss: 65.9083\n",
      "Epoch 54/100\n",
      "16/16 [==============================] - 0s 3ms/step - loss: 65.8457\n",
      "Epoch 55/100\n",
      "16/16 [==============================] - 0s 4ms/step - loss: 65.7938\n",
      "Epoch 56/100\n",
      "16/16 [==============================] - 0s 4ms/step - loss: 65.6873\n",
      "Epoch 57/100\n",
      "16/16 [==============================] - 0s 4ms/step - loss: 65.5692\n",
      "Epoch 58/100\n",
      "16/16 [==============================] - 0s 4ms/step - loss: 65.5578\n",
      "Epoch 59/100\n",
      "16/16 [==============================] - 0s 4ms/step - loss: 65.5001\n",
      "Epoch 60/100\n",
      "16/16 [==============================] - 0s 4ms/step - loss: 65.3953\n",
      "Epoch 61/100\n",
      "16/16 [==============================] - 0s 4ms/step - loss: 65.3112\n",
      "Epoch 62/100\n",
      "16/16 [==============================] - 0s 4ms/step - loss: 65.2582\n",
      "Epoch 63/100\n",
      "16/16 [==============================] - 0s 4ms/step - loss: 65.1542\n",
      "Epoch 64/100\n",
      "16/16 [==============================] - 0s 4ms/step - loss: 65.1122\n",
      "Epoch 65/100\n",
      "16/16 [==============================] - 0s 4ms/step - loss: 65.0349\n",
      "Epoch 66/100\n",
      "16/16 [==============================] - 0s 4ms/step - loss: 64.9794\n",
      "Epoch 67/100\n",
      "16/16 [==============================] - 0s 4ms/step - loss: 64.9487\n",
      "Epoch 68/100\n",
      "16/16 [==============================] - 0s 4ms/step - loss: 64.8889\n",
      "Epoch 69/100\n",
      "16/16 [==============================] - 0s 3ms/step - loss: 64.8219\n",
      "Epoch 70/100\n",
      "16/16 [==============================] - 0s 4ms/step - loss: 64.7821\n",
      "Epoch 71/100\n",
      "16/16 [==============================] - 0s 3ms/step - loss: 64.7076\n",
      "Epoch 72/100\n",
      "16/16 [==============================] - 0s 4ms/step - loss: 64.6785\n",
      "Epoch 73/100\n",
      "16/16 [==============================] - 0s 4ms/step - loss: 64.6489\n",
      "Epoch 74/100\n",
      "16/16 [==============================] - 0s 4ms/step - loss: 64.5980\n",
      "Epoch 75/100\n",
      "16/16 [==============================] - 0s 4ms/step - loss: 64.5647\n",
      "Epoch 76/100\n",
      "16/16 [==============================] - 0s 4ms/step - loss: 64.5355\n",
      "Epoch 77/100\n",
      "16/16 [==============================] - 0s 4ms/step - loss: 64.4841\n",
      "Epoch 78/100\n",
      "16/16 [==============================] - 0s 4ms/step - loss: 64.4218\n",
      "Epoch 79/100\n",
      "16/16 [==============================] - 0s 4ms/step - loss: 64.4452\n",
      "Epoch 80/100\n",
      "16/16 [==============================] - 0s 4ms/step - loss: 64.3934\n",
      "Epoch 81/100\n",
      "16/16 [==============================] - 0s 4ms/step - loss: 64.3277\n",
      "Epoch 82/100\n",
      "16/16 [==============================] - 0s 4ms/step - loss: 64.2843\n",
      "Epoch 83/100\n",
      "16/16 [==============================] - 0s 4ms/step - loss: 64.2526\n",
      "Epoch 84/100\n",
      "16/16 [==============================] - 0s 4ms/step - loss: 64.2296\n",
      "Epoch 85/100\n",
      "16/16 [==============================] - 0s 4ms/step - loss: 64.2203\n",
      "Epoch 86/100\n",
      "16/16 [==============================] - 0s 4ms/step - loss: 64.1783\n",
      "Epoch 87/100\n",
      "16/16 [==============================] - 0s 4ms/step - loss: 64.1620\n",
      "Epoch 88/100\n",
      "16/16 [==============================] - 0s 4ms/step - loss: 64.1055\n",
      "Epoch 89/100\n",
      "16/16 [==============================] - 0s 4ms/step - loss: 64.0975\n",
      "Epoch 90/100\n",
      "16/16 [==============================] - 0s 4ms/step - loss: 64.0530\n",
      "Epoch 91/100\n",
      "16/16 [==============================] - 0s 4ms/step - loss: 64.1224\n",
      "Epoch 92/100\n",
      "16/16 [==============================] - 0s 4ms/step - loss: 64.0605\n",
      "Epoch 93/100\n",
      "16/16 [==============================] - 0s 4ms/step - loss: 63.9876\n",
      "Epoch 94/100\n",
      "16/16 [==============================] - 0s 4ms/step - loss: 63.9601\n",
      "Epoch 95/100\n",
      "16/16 [==============================] - 0s 4ms/step - loss: 63.9698\n",
      "Epoch 96/100\n",
      "16/16 [==============================] - 0s 4ms/step - loss: 63.9684\n",
      "Epoch 97/100\n",
      "16/16 [==============================] - 0s 4ms/step - loss: 63.8924\n",
      "Epoch 98/100\n",
      "16/16 [==============================] - 0s 6ms/step - loss: 63.8951\n",
      "Epoch 99/100\n",
      "16/16 [==============================] - 0s 4ms/step - loss: 63.8482\n",
      "Epoch 100/100\n",
      "16/16 [==============================] - 0s 4ms/step - loss: 63.8458\n"
     ]
    },
    {
     "data": {
      "text/plain": [
       "<keras.callbacks.History at 0x29a746160>"
      ]
     },
     "execution_count": 98,
     "metadata": {},
     "output_type": "execute_result"
    }
   ],
   "source": [
    "model.fit(train_x, train_y, epochs=100)"
   ]
  },
  {
   "cell_type": "code",
   "execution_count": 99,
   "metadata": {
    "id": "HiWMQHvialuv"
   },
   "outputs": [
    {
     "name": "stdout",
     "output_type": "stream",
     "text": [
      "Model: \"sequential\"\n",
      "_________________________________________________________________\n",
      " Layer (type)                Output Shape              Param #   \n",
      "=================================================================\n",
      " dense (Dense)               (None, 1)                 14        \n",
      "                                                                 \n",
      "=================================================================\n",
      "Total params: 14\n",
      "Trainable params: 14\n",
      "Non-trainable params: 0\n",
      "_________________________________________________________________\n"
     ]
    }
   ],
   "source": [
    "model.summary()"
   ]
  },
  {
   "cell_type": "code",
   "execution_count": 100,
   "metadata": {
    "id": "ODvJUqwSfzd2"
   },
   "outputs": [
    {
     "data": {
      "text/plain": [
       "[array([[-1.8938635e-01],\n",
       "        [ 4.4921641e+00],\n",
       "        [-2.9210737e-01],\n",
       "        [-7.5343281e-02],\n",
       "        [-5.1798094e-03],\n",
       "        [ 7.1185298e-02],\n",
       "        [-1.1460658e+00],\n",
       "        [ 2.2707877e-01],\n",
       "        [ 4.2368066e-01],\n",
       "        [-1.4691578e+00],\n",
       "        [-2.1162398e-01],\n",
       "        [ 1.7967115e+01],\n",
       "        [-1.6184170e+00]], dtype=float32),\n",
       " array([11.880854], dtype=float32)]"
      ]
     },
     "execution_count": 100,
     "metadata": {},
     "output_type": "execute_result"
    }
   ],
   "source": [
    "model.get_weights()"
   ]
  },
  {
   "cell_type": "code",
   "execution_count": 101,
   "metadata": {
    "id": "r96-aaKHatYL"
   },
   "outputs": [
    {
     "data": {
      "text/plain": [
       "[array([[-1.8938635e-01],\n",
       "        [ 4.4921641e+00],\n",
       "        [-2.9210737e-01],\n",
       "        [-7.5343281e-02],\n",
       "        [-5.1798094e-03],\n",
       "        [ 7.1185298e-02],\n",
       "        [-1.1460658e+00],\n",
       "        [ 2.2707877e-01],\n",
       "        [ 4.2368066e-01],\n",
       "        [-1.4691578e+00],\n",
       "        [-2.1162398e-01],\n",
       "        [ 1.7967115e+01],\n",
       "        [-1.6184170e+00]], dtype=float32),\n",
       " array([11.880854], dtype=float32)]"
      ]
     },
     "execution_count": 101,
     "metadata": {},
     "output_type": "execute_result"
    }
   ],
   "source": [
    "model.get_weights()"
   ]
  },
  {
   "cell_type": "markdown",
   "metadata": {
    "id": "WEcEbkRhtju9"
   },
   "source": [
    "### Save the model"
   ]
  },
  {
   "cell_type": "code",
   "execution_count": 102,
   "metadata": {
    "id": "theE0__Ltju-"
   },
   "outputs": [],
   "source": [
    "model.save('boston_housing_lr.h5')"
   ]
  },
  {
   "cell_type": "code",
   "execution_count": 103,
   "metadata": {
    "id": "xefPallHAjOG"
   },
   "outputs": [
    {
     "name": "stdout",
     "output_type": "stream",
     "text": [
      "total 2368\n",
      "-rw-r--r--@ 1 vidyadharbendre  staff  529649 Feb 22 00:34 01_linear_vs_non_linear.ipynb\n",
      "-rw-------@ 1 vidyadharbendre  staff    2821 Feb 25  2022 1. Tensorflow_Hello_World_tf2.ipynb\n",
      "-rw-r--r--@ 1 vidyadharbendre  staff   90243 Mar  8 10:02 1_Tensorflow_basics.ipynb\n",
      "-rw-r--r--@ 1 vidyadharbendre  staff    3004 Feb 17 20:50 1_tensorflow.ipynb\n",
      "-rw-------@ 1 vidyadharbendre  staff   20788 Feb 21 23:41 2a. Boston Housing Prices.ipynb\n",
      "-rw-------@ 1 vidyadharbendre  staff   16977 Feb 21 23:43 2b. Boston Housing Prices_Normalization.ipynb\n",
      "-rw-------@ 1 vidyadharbendre  staff   53078 Mar  8 23:31 3. Boston_Housing_Prices_KERAS.ipynb\n",
      "-rw-r--r--@ 1 vidyadharbendre  staff  366737 Feb 22 16:54 Gradient_Descent_step_by_step.ipynb\n",
      "-rw-------@ 1 vidyadharbendre  staff   26413 Feb 23 19:48 Regression+-+Boston+housing+prices+-TF2.ipynb\n",
      "-rw-------@ 1 vidyadharbendre  staff   59126 Feb 23 19:38 Regression_with_tensorflow.ipynb\n",
      "-rw-r--r--@ 1 vidyadharbendre  staff   15064 Mar  8 23:33 boston_housing_lr.h5\n",
      "-rw-r--r--@ 1 vidyadharbendre  staff    3878 Feb 22 00:16 iris.csv\n"
     ]
    }
   ],
   "source": [
    "!ls -l"
   ]
  },
  {
   "cell_type": "code",
   "execution_count": 104,
   "metadata": {
    "id": "OFiU3-kNQ_Uf"
   },
   "outputs": [
    {
     "data": {
      "text/plain": [
       "(13,)"
      ]
     },
     "execution_count": 104,
     "metadata": {},
     "output_type": "execute_result"
    }
   ],
   "source": [
    "train_x[0].shape"
   ]
  },
  {
   "cell_type": "code",
   "execution_count": 105,
   "metadata": {},
   "outputs": [
    {
     "data": {
      "text/plain": [
       "(13,)"
      ]
     },
     "execution_count": 105,
     "metadata": {},
     "output_type": "execute_result"
    }
   ],
   "source": [
    "train_x[0].shape"
   ]
  },
  {
   "cell_type": "code",
   "execution_count": 106,
   "metadata": {
    "id": "jYAOOupEGQPz"
   },
   "outputs": [
    {
     "name": "stdout",
     "output_type": "stream",
     "text": [
      "WARNING:tensorflow:Model was constructed with shape (None, 13) for input KerasTensor(type_spec=TensorSpec(shape=(None, 13), dtype=tf.float32, name='dense_input'), name='dense_input', description=\"created by layer 'dense_input'\"), but it was called on an input with incompatible shape (None,).\n"
     ]
    },
    {
     "ename": "ValueError",
     "evalue": "in user code:\n\n    File \"/Users/vidyadharbendre/miniforge3/lib/python3.9/site-packages/keras/engine/training.py\", line 1845, in predict_function  *\n        return step_function(self, iterator)\n    File \"/Users/vidyadharbendre/miniforge3/lib/python3.9/site-packages/keras/engine/training.py\", line 1834, in step_function  **\n        outputs = model.distribute_strategy.run(run_step, args=(data,))\n    File \"/Users/vidyadharbendre/miniforge3/lib/python3.9/site-packages/keras/engine/training.py\", line 1823, in run_step  **\n        outputs = model.predict_step(data)\n    File \"/Users/vidyadharbendre/miniforge3/lib/python3.9/site-packages/keras/engine/training.py\", line 1791, in predict_step\n        return self(x, training=False)\n    File \"/Users/vidyadharbendre/miniforge3/lib/python3.9/site-packages/keras/utils/traceback_utils.py\", line 67, in error_handler\n        raise e.with_traceback(filtered_tb) from None\n    File \"/Users/vidyadharbendre/miniforge3/lib/python3.9/site-packages/keras/engine/input_spec.py\", line 228, in assert_input_compatibility\n        raise ValueError(f'Input {input_index} of layer \"{layer_name}\" '\n\n    ValueError: Exception encountered when calling layer \"sequential\" (type Sequential).\n    \n    Input 0 of layer \"dense\" is incompatible with the layer: expected min_ndim=2, found ndim=1. Full shape received: (None,)\n    \n    Call arguments received by layer \"sequential\" (type Sequential):\n      • inputs=tf.Tensor(shape=(None,), dtype=float32)\n      • training=False\n      • mask=None\n",
     "output_type": "error",
     "traceback": [
      "\u001b[0;31m---------------------------------------------------------------------------\u001b[0m",
      "\u001b[0;31mValueError\u001b[0m                                Traceback (most recent call last)",
      "Cell \u001b[0;32mIn[106], line 1\u001b[0m\n\u001b[0;32m----> 1\u001b[0m \u001b[43mmodel\u001b[49m\u001b[38;5;241;43m.\u001b[39;49m\u001b[43mpredict\u001b[49m\u001b[43m(\u001b[49m\u001b[43mtrain_x\u001b[49m\u001b[43m[\u001b[49m\u001b[38;5;241;43m0\u001b[39;49m\u001b[43m]\u001b[49m\u001b[43m)\u001b[49m\n",
      "File \u001b[0;32m~/miniforge3/lib/python3.9/site-packages/keras/utils/traceback_utils.py:67\u001b[0m, in \u001b[0;36mfilter_traceback.<locals>.error_handler\u001b[0;34m(*args, **kwargs)\u001b[0m\n\u001b[1;32m     65\u001b[0m \u001b[38;5;28;01mexcept\u001b[39;00m \u001b[38;5;167;01mException\u001b[39;00m \u001b[38;5;28;01mas\u001b[39;00m e:  \u001b[38;5;66;03m# pylint: disable=broad-except\u001b[39;00m\n\u001b[1;32m     66\u001b[0m   filtered_tb \u001b[38;5;241m=\u001b[39m _process_traceback_frames(e\u001b[38;5;241m.\u001b[39m__traceback__)\n\u001b[0;32m---> 67\u001b[0m   \u001b[38;5;28;01mraise\u001b[39;00m e\u001b[38;5;241m.\u001b[39mwith_traceback(filtered_tb) \u001b[38;5;28;01mfrom\u001b[39;00m \u001b[38;5;28;01mNone\u001b[39;00m\n\u001b[1;32m     68\u001b[0m \u001b[38;5;28;01mfinally\u001b[39;00m:\n\u001b[1;32m     69\u001b[0m   \u001b[38;5;28;01mdel\u001b[39;00m filtered_tb\n",
      "File \u001b[0;32m/var/folders/kd/yddgdhm92qxgkw2js4t89ksr0000gn/T/__autograph_generated_fileo9rw4hw9.py:15\u001b[0m, in \u001b[0;36mouter_factory.<locals>.inner_factory.<locals>.tf__predict_function\u001b[0;34m(iterator)\u001b[0m\n\u001b[1;32m     13\u001b[0m \u001b[38;5;28;01mtry\u001b[39;00m:\n\u001b[1;32m     14\u001b[0m     do_return \u001b[38;5;241m=\u001b[39m \u001b[38;5;28;01mTrue\u001b[39;00m\n\u001b[0;32m---> 15\u001b[0m     retval_ \u001b[38;5;241m=\u001b[39m ag__\u001b[38;5;241m.\u001b[39mconverted_call(ag__\u001b[38;5;241m.\u001b[39mld(step_function), (ag__\u001b[38;5;241m.\u001b[39mld(\u001b[38;5;28mself\u001b[39m), ag__\u001b[38;5;241m.\u001b[39mld(iterator)), \u001b[38;5;28;01mNone\u001b[39;00m, fscope)\n\u001b[1;32m     16\u001b[0m \u001b[38;5;28;01mexcept\u001b[39;00m:\n\u001b[1;32m     17\u001b[0m     do_return \u001b[38;5;241m=\u001b[39m \u001b[38;5;28;01mFalse\u001b[39;00m\n",
      "\u001b[0;31mValueError\u001b[0m: in user code:\n\n    File \"/Users/vidyadharbendre/miniforge3/lib/python3.9/site-packages/keras/engine/training.py\", line 1845, in predict_function  *\n        return step_function(self, iterator)\n    File \"/Users/vidyadharbendre/miniforge3/lib/python3.9/site-packages/keras/engine/training.py\", line 1834, in step_function  **\n        outputs = model.distribute_strategy.run(run_step, args=(data,))\n    File \"/Users/vidyadharbendre/miniforge3/lib/python3.9/site-packages/keras/engine/training.py\", line 1823, in run_step  **\n        outputs = model.predict_step(data)\n    File \"/Users/vidyadharbendre/miniforge3/lib/python3.9/site-packages/keras/engine/training.py\", line 1791, in predict_step\n        return self(x, training=False)\n    File \"/Users/vidyadharbendre/miniforge3/lib/python3.9/site-packages/keras/utils/traceback_utils.py\", line 67, in error_handler\n        raise e.with_traceback(filtered_tb) from None\n    File \"/Users/vidyadharbendre/miniforge3/lib/python3.9/site-packages/keras/engine/input_spec.py\", line 228, in assert_input_compatibility\n        raise ValueError(f'Input {input_index} of layer \"{layer_name}\" '\n\n    ValueError: Exception encountered when calling layer \"sequential\" (type Sequential).\n    \n    Input 0 of layer \"dense\" is incompatible with the layer: expected min_ndim=2, found ndim=1. Full shape received: (None,)\n    \n    Call arguments received by layer \"sequential\" (type Sequential):\n      • inputs=tf.Tensor(shape=(None,), dtype=float32)\n      • training=False\n      • mask=None\n"
     ]
    }
   ],
   "source": [
    "model.predict(train_x[0])"
   ]
  },
  {
   "cell_type": "code",
   "execution_count": null,
   "metadata": {
    "id": "2QXnVj8vU8SU"
   },
   "outputs": [],
   "source": [
    "import numpy as np"
   ]
  },
  {
   "cell_type": "code",
   "execution_count": null,
   "metadata": {
    "id": "BBBpgUM9VDLc"
   },
   "outputs": [],
   "source": [
    "input_data = np.expand_dims(train_x[0], axis=0)\n",
    "input_data.shape"
   ]
  },
  {
   "cell_type": "code",
   "execution_count": 107,
   "metadata": {
    "id": "HhZE-1_kVNec"
   },
   "outputs": [
    {
     "name": "stdout",
     "output_type": "stream",
     "text": [
      "1/1 [==============================] - 0s 23ms/step\n"
     ]
    },
    {
     "name": "stderr",
     "output_type": "stream",
     "text": [
      "2024-03-08 23:33:15.007125: I tensorflow/core/grappler/optimizers/custom_graph_optimizer_registry.cc:113] Plugin optimizer for device_type GPU is enabled.\n"
     ]
    },
    {
     "data": {
      "text/plain": [
       "array([[6951.1323]], dtype=float32)"
      ]
     },
     "execution_count": 107,
     "metadata": {},
     "output_type": "execute_result"
    }
   ],
   "source": [
    "model.predict(input_data)"
   ]
  },
  {
   "cell_type": "code",
   "execution_count": 108,
   "metadata": {
    "id": "ivmmKqSgRcQD"
   },
   "outputs": [
    {
     "data": {
      "text/plain": [
       "15.2"
      ]
     },
     "execution_count": 108,
     "metadata": {},
     "output_type": "execute_result"
    }
   ],
   "source": [
    "train_y[0]"
   ]
  },
  {
   "cell_type": "code",
   "execution_count": 109,
   "metadata": {},
   "outputs": [
    {
     "data": {
      "text/plain": [
       "array([0.0024119 , 0.        , 0.01592969, 0.        , 0.00105285,\n",
       "       0.01201967, 0.17945359, 0.00778265, 0.00782786, 0.6007879 ,\n",
       "       0.04109624, 0.77671895, 0.03663436])"
      ]
     },
     "execution_count": 109,
     "metadata": {},
     "output_type": "execute_result"
    }
   ],
   "source": [
    "train_x[0]"
   ]
  },
  {
   "cell_type": "code",
   "execution_count": 110,
   "metadata": {},
   "outputs": [
    {
     "data": {
      "text/plain": [
       "array([15.2, 42.3, 50. , 21.1, 17.7])"
      ]
     },
     "execution_count": 110,
     "metadata": {},
     "output_type": "execute_result"
    }
   ],
   "source": [
    "train_y[0:5]"
   ]
  },
  {
   "cell_type": "code",
   "execution_count": 111,
   "metadata": {},
   "outputs": [
    {
     "data": {
      "text/plain": [
       "(1, 3, 13)"
      ]
     },
     "execution_count": 111,
     "metadata": {},
     "output_type": "execute_result"
    }
   ],
   "source": [
    "input_data = np.expand_dims(train_x[0:3], axis=0)\n",
    "input_data.shape"
   ]
  },
  {
   "cell_type": "code",
   "execution_count": 112,
   "metadata": {},
   "outputs": [
    {
     "data": {
      "text/plain": [
       "(1, 13)"
      ]
     },
     "execution_count": 112,
     "metadata": {},
     "output_type": "execute_result"
    }
   ],
   "source": [
    "input_data = np.expand_dims(train_x[1], axis=0)\n",
    "input_data.shape"
   ]
  },
  {
   "cell_type": "code",
   "execution_count": 113,
   "metadata": {},
   "outputs": [
    {
     "name": "stdout",
     "output_type": "stream",
     "text": [
      "1/1 [==============================] - 0s 13ms/step\n"
     ]
    },
    {
     "data": {
      "text/plain": [
       "array([[24.88352]], dtype=float32)"
      ]
     },
     "execution_count": 113,
     "metadata": {},
     "output_type": "execute_result"
    }
   ],
   "source": [
    "model.predict(input_data)"
   ]
  },
  {
   "cell_type": "code",
   "execution_count": null,
   "metadata": {},
   "outputs": [],
   "source": []
  },
  {
   "cell_type": "code",
   "execution_count": null,
   "metadata": {},
   "outputs": [],
   "source": []
  }
 ],
 "metadata": {
  "colab": {
   "name": "3. Boston_Housing_Prices_KERAS.ipynb",
   "private_outputs": true,
   "provenance": []
  },
  "kernelspec": {
   "display_name": "Python 3 (ipykernel)",
   "language": "python",
   "name": "python3"
  },
  "language_info": {
   "codemirror_mode": {
    "name": "ipython",
    "version": 3
   },
   "file_extension": ".py",
   "mimetype": "text/x-python",
   "name": "python",
   "nbconvert_exporter": "python",
   "pygments_lexer": "ipython3",
   "version": "3.9.13"
  }
 },
 "nbformat": 4,
 "nbformat_minor": 4
}
