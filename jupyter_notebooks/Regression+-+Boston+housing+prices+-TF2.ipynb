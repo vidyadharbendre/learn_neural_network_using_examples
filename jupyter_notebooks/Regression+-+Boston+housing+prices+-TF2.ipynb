{
 "cells": [
  {
   "cell_type": "markdown",
   "metadata": {
    "colab_type": "text",
    "id": "teSVc4i7wTRh"
   },
   "source": [
    "# Boston housing price regression dataset\n",
    "Dataset taken from the StatLib library which is maintained at Carnegie Mellon University.\n",
    "\n",
    "Samples contain 13 attributes of houses at different locations around the Boston suburbs in the late 1970s. Targets are the median values of the houses at a location (in k$)."
   ]
  },
  {
   "cell_type": "markdown",
   "metadata": {
    "colab_type": "text",
    "id": "ZOk8Eu4_t70R"
   },
   "source": [
    "Firstly, let's select TensorFlow version 2.x in colab"
   ]
  },
  {
   "cell_type": "code",
   "execution_count": 2,
   "metadata": {
    "colab": {
     "base_uri": "https://localhost:8080/",
     "height": 52
    },
    "colab_type": "code",
    "executionInfo": {
     "elapsed": 10714,
     "status": "ok",
     "timestamp": 1581760137529,
     "user": {
      "displayName": "Sarbind Gupta",
      "photoUrl": "https://lh3.googleusercontent.com/a-/AAuE7mCX_PdUc-oYjLw3bTTsusGGiLA4h-CJUT94gBbkRw=s64",
      "userId": "14604457747665098998"
     },
     "user_tz": -330
    },
    "id": "H6RZUm0p4wYJ",
    "outputId": "343bf933-61c2-4629-9e69-0bf4d03fb1ad"
   },
   "outputs": [
    {
     "data": {
      "text/plain": [
       "'2.9.2'"
      ]
     },
     "execution_count": 2,
     "metadata": {},
     "output_type": "execute_result"
    }
   ],
   "source": [
    "#%tensorflow_version 2.x\n",
    "import tensorflow\n",
    "tensorflow.__version__"
   ]
  },
  {
   "cell_type": "code",
   "execution_count": 3,
   "metadata": {
    "colab": {},
    "colab_type": "code",
    "id": "TWi96z-8SyX0"
   },
   "outputs": [],
   "source": [
    "# Initialize the random number generator\n",
    "import random\n",
    "random.seed(0)\n",
    "\n",
    "# Ignore the warnings\n",
    "import warnings\n",
    "warnings.filterwarnings(\"ignore\")"
   ]
  },
  {
   "cell_type": "markdown",
   "metadata": {
    "colab_type": "text",
    "id": "WjDBLreywya1"
   },
   "source": [
    "### Import dataset\n",
    "- This dataset can be imported\n",
    "- High level API Keras has some datasets available\n",
    "- You can look at all the datasets available here https://keras.io/datasets/\n"
   ]
  },
  {
   "cell_type": "code",
   "execution_count": 4,
   "metadata": {
    "colab": {},
    "colab_type": "code",
    "id": "Tr_z_2YHxsz5"
   },
   "outputs": [],
   "source": [
    "from tensorflow.keras.datasets import boston_housing\n",
    "\n",
    "# boston_housing.load_data() function returns 2 tuples, one for train data and \n",
    "# other for test data. We will take only train data here.\n",
    "(features, actual_prices), _ = boston_housing.load_data(test_split=0)"
   ]
  },
  {
   "cell_type": "markdown",
   "metadata": {
    "colab_type": "text",
    "id": "zXfwvgh2yvI6"
   },
   "source": [
    "### Getting details of dataset\n",
    "- We will see how many rows are there in the data\n",
    "- We will check how many features are there"
   ]
  },
  {
   "cell_type": "code",
   "execution_count": 5,
   "metadata": {
    "colab": {
     "base_uri": "https://localhost:8080/",
     "height": 69
    },
    "colab_type": "code",
    "executionInfo": {
     "elapsed": 1049,
     "status": "ok",
     "timestamp": 1581760149276,
     "user": {
      "displayName": "Sarbind Gupta",
      "photoUrl": "https://lh3.googleusercontent.com/a-/AAuE7mCX_PdUc-oYjLw3bTTsusGGiLA4h-CJUT94gBbkRw=s64",
      "userId": "14604457747665098998"
     },
     "user_tz": -330
    },
    "id": "WTYuZMy-xsz8",
    "outputId": "027dc7ff-ab88-4271-df89-b8d82e45ddcc"
   },
   "outputs": [
    {
     "name": "stdout",
     "output_type": "stream",
     "text": [
      "Number of examples:  506\n",
      "Number of features for each example:  13\n",
      "Shape of actual prices data:  (506,)\n"
     ]
    }
   ],
   "source": [
    "print('Number of examples: ', features.shape[0])\n",
    "print('Number of features for each example: ', features.shape[1])\n",
    "print('Shape of actual prices data: ', actual_prices.shape)"
   ]
  },
  {
   "cell_type": "markdown",
   "metadata": {
    "colab_type": "text",
    "id": "9Jpbx46TrpNS"
   },
   "source": [
    "Let's see some values of features and labels from the dataset"
   ]
  },
  {
   "cell_type": "code",
   "execution_count": 6,
   "metadata": {
    "colab": {
     "base_uri": "https://localhost:8080/",
     "height": 277
    },
    "colab_type": "code",
    "executionInfo": {
     "elapsed": 1128,
     "status": "ok",
     "timestamp": 1581760153180,
     "user": {
      "displayName": "Sarbind Gupta",
      "photoUrl": "https://lh3.googleusercontent.com/a-/AAuE7mCX_PdUc-oYjLw3bTTsusGGiLA4h-CJUT94gBbkRw=s64",
      "userId": "14604457747665098998"
     },
     "user_tz": -330
    },
    "id": "ccAvp0x-rSQx",
    "outputId": "b0eb36aa-4937-48d1-bbbc-157585e218f1"
   },
   "outputs": [
    {
     "data": {
      "text/plain": [
       "array([[1.23247e+00, 0.00000e+00, 8.14000e+00, 0.00000e+00, 5.38000e-01,\n",
       "        6.14200e+00, 9.17000e+01, 3.97690e+00, 4.00000e+00, 3.07000e+02,\n",
       "        2.10000e+01, 3.96900e+02, 1.87200e+01],\n",
       "       [2.17700e-02, 8.25000e+01, 2.03000e+00, 0.00000e+00, 4.15000e-01,\n",
       "        7.61000e+00, 1.57000e+01, 6.27000e+00, 2.00000e+00, 3.48000e+02,\n",
       "        1.47000e+01, 3.95380e+02, 3.11000e+00],\n",
       "       [4.89822e+00, 0.00000e+00, 1.81000e+01, 0.00000e+00, 6.31000e-01,\n",
       "        4.97000e+00, 1.00000e+02, 1.33250e+00, 2.40000e+01, 6.66000e+02,\n",
       "        2.02000e+01, 3.75520e+02, 3.26000e+00],\n",
       "       [3.96100e-02, 0.00000e+00, 5.19000e+00, 0.00000e+00, 5.15000e-01,\n",
       "        6.03700e+00, 3.45000e+01, 5.98530e+00, 5.00000e+00, 2.24000e+02,\n",
       "        2.02000e+01, 3.96900e+02, 8.01000e+00],\n",
       "       [3.69311e+00, 0.00000e+00, 1.81000e+01, 0.00000e+00, 7.13000e-01,\n",
       "        6.37600e+00, 8.84000e+01, 2.56710e+00, 2.40000e+01, 6.66000e+02,\n",
       "        2.02000e+01, 3.91430e+02, 1.46500e+01]])"
      ]
     },
     "execution_count": 6,
     "metadata": {},
     "output_type": "execute_result"
    }
   ],
   "source": [
    "features[:5]"
   ]
  },
  {
   "cell_type": "code",
   "execution_count": 7,
   "metadata": {
    "colab": {
     "base_uri": "https://localhost:8080/",
     "height": 35
    },
    "colab_type": "code",
    "executionInfo": {
     "elapsed": 1016,
     "status": "ok",
     "timestamp": 1581760155517,
     "user": {
      "displayName": "Sarbind Gupta",
      "photoUrl": "https://lh3.googleusercontent.com/a-/AAuE7mCX_PdUc-oYjLw3bTTsusGGiLA4h-CJUT94gBbkRw=s64",
      "userId": "14604457747665098998"
     },
     "user_tz": -330
    },
    "id": "HyjV12H5rcb8",
    "outputId": "c37de7ea-dbd3-4b31-bcec-6a1ec4ce7605"
   },
   "outputs": [
    {
     "data": {
      "text/plain": [
       "array([15.2, 42.3, 50. , 21.1, 17.7])"
      ]
     },
     "execution_count": 7,
     "metadata": {},
     "output_type": "execute_result"
    }
   ],
   "source": [
    "actual_prices[:5]"
   ]
  },
  {
   "cell_type": "markdown",
   "metadata": {
    "colab_type": "text",
    "id": "9N_pAGEI_RfD"
   },
   "source": [
    "### Build the model\n",
    "- The Sequential model is a linear stack of layers.\n",
    "- The model needs to know what input shape it should expect. For this reason, the first layer in a Sequential model (and only the first, because following layers can do automatic shape inference) needs to receive information about its input shape.\n",
    "- You can also simply add layers via the .add() method"
   ]
  },
  {
   "cell_type": "code",
   "execution_count": 8,
   "metadata": {
    "colab": {},
    "colab_type": "code",
    "id": "FHM9g9hS_RfE"
   },
   "outputs": [
    {
     "name": "stdout",
     "output_type": "stream",
     "text": [
      "Metal device set to: Apple M1 Max\n"
     ]
    },
    {
     "name": "stderr",
     "output_type": "stream",
     "text": [
      "2024-02-23 19:46:47.695269: I tensorflow/core/common_runtime/pluggable_device/pluggable_device_factory.cc:305] Could not identify NUMA node of platform GPU ID 0, defaulting to 0. Your kernel may not have been built with NUMA support.\n",
      "2024-02-23 19:46:47.695728: I tensorflow/core/common_runtime/pluggable_device/pluggable_device_factory.cc:271] Created TensorFlow device (/job:localhost/replica:0/task:0/device:GPU:0 with 0 MB memory) -> physical PluggableDevice (device: 0, name: METAL, pci bus id: <undefined>)\n"
     ]
    }
   ],
   "source": [
    "# Initialize Sequential model\n",
    "model = tensorflow.keras.models.Sequential()\n",
    "\n",
    "# Normalize input data\n",
    "model.add(tensorflow.keras.layers.BatchNormalization(input_shape=(13,)))\n",
    "\n",
    "# Add final Dense layer for prediction - Tensorflow.keras declares weights and bias automatically\n",
    "model.add(tensorflow.keras.layers.Dense(1))"
   ]
  },
  {
   "cell_type": "markdown",
   "metadata": {
    "colab_type": "text",
    "id": "YJ38weGoqGEX"
   },
   "source": [
    "### Compile the model\n",
    "- Here we configure the model for training\n",
    "- We will specify an optimizer and a loss function"
   ]
  },
  {
   "cell_type": "code",
   "execution_count": 9,
   "metadata": {
    "colab": {},
    "colab_type": "code",
    "id": "1jTbleskqE8c"
   },
   "outputs": [],
   "source": [
    "# Compile the model - add mean squared error as loss and stochastic gradient descent as optimizer\n",
    "model.compile(optimizer='sgd', loss='mse')"
   ]
  },
  {
   "cell_type": "markdown",
   "metadata": {
    "colab_type": "text",
    "id": "WQXZi2mi_RfJ"
   },
   "source": [
    "### Fit the model\n",
    "- .fit() trains the model for a fixed number of epochs (iterations on a dataset)\n",
    "- An epoch is an iteration over the entire x and y data provided"
   ]
  },
  {
   "cell_type": "code",
   "execution_count": 10,
   "metadata": {
    "colab": {
     "base_uri": "https://localhost:8080/",
     "height": 1000
    },
    "colab_type": "code",
    "executionInfo": {
     "elapsed": 7383,
     "status": "ok",
     "timestamp": 1581760370093,
     "user": {
      "displayName": "Sarbind Gupta",
      "photoUrl": "https://lh3.googleusercontent.com/a-/AAuE7mCX_PdUc-oYjLw3bTTsusGGiLA4h-CJUT94gBbkRw=s64",
      "userId": "14604457747665098998"
     },
     "user_tz": -330
    },
    "id": "XSp7Wq5Z_RfM",
    "outputId": "b285b30d-6dcd-43c3-d733-acb747d82204"
   },
   "outputs": [
    {
     "name": "stdout",
     "output_type": "stream",
     "text": [
      "Epoch 1/100\n"
     ]
    },
    {
     "name": "stderr",
     "output_type": "stream",
     "text": [
      "2024-02-23 19:46:52.723532: W tensorflow/core/platform/profile_utils/cpu_utils.cc:128] Failed to get CPU frequency: 0 Hz\n",
      "2024-02-23 19:46:52.824065: I tensorflow/core/grappler/optimizers/custom_graph_optimizer_registry.cc:113] Plugin optimizer for device_type GPU is enabled.\n"
     ]
    },
    {
     "name": "stdout",
     "output_type": "stream",
     "text": [
      "11/11 [==============================] - 2s 52ms/step - loss: 289.7538 - val_loss: 533.2966\n",
      "Epoch 2/100\n",
      "11/11 [==============================] - 0s 8ms/step - loss: 44.3828 - val_loss: 226.4321\n",
      "Epoch 3/100\n",
      " 1/11 [=>............................] - ETA: 0s - loss: 76.7589"
     ]
    },
    {
     "name": "stderr",
     "output_type": "stream",
     "text": [
      "2024-02-23 19:46:55.003024: I tensorflow/core/grappler/optimizers/custom_graph_optimizer_registry.cc:113] Plugin optimizer for device_type GPU is enabled.\n"
     ]
    },
    {
     "name": "stdout",
     "output_type": "stream",
     "text": [
      "11/11 [==============================] - 0s 8ms/step - loss: 39.8555 - val_loss: 43.5706\n",
      "Epoch 4/100\n",
      "11/11 [==============================] - 0s 7ms/step - loss: 40.7467 - val_loss: 34.2813\n",
      "Epoch 5/100\n",
      "11/11 [==============================] - 0s 8ms/step - loss: 40.9174 - val_loss: 73.0350\n",
      "Epoch 6/100\n",
      "11/11 [==============================] - 0s 8ms/step - loss: 34.4429 - val_loss: 32.8412\n",
      "Epoch 7/100\n",
      "11/11 [==============================] - 0s 8ms/step - loss: 29.1943 - val_loss: 33.7382\n",
      "Epoch 8/100\n",
      "11/11 [==============================] - 0s 8ms/step - loss: 34.1863 - val_loss: 28.9692\n",
      "Epoch 9/100\n",
      "11/11 [==============================] - 0s 8ms/step - loss: 32.5783 - val_loss: 42.3264\n",
      "Epoch 10/100\n",
      "11/11 [==============================] - 0s 7ms/step - loss: 31.8504 - val_loss: 26.6087\n",
      "Epoch 11/100\n",
      "11/11 [==============================] - 0s 8ms/step - loss: 27.2239 - val_loss: 32.7487\n",
      "Epoch 12/100\n",
      "11/11 [==============================] - 0s 8ms/step - loss: 28.8812 - val_loss: 24.0508\n",
      "Epoch 13/100\n",
      "11/11 [==============================] - 0s 8ms/step - loss: 28.1595 - val_loss: 49.2324\n",
      "Epoch 14/100\n",
      "11/11 [==============================] - 0s 7ms/step - loss: 32.1568 - val_loss: 37.6151\n",
      "Epoch 15/100\n",
      "11/11 [==============================] - 0s 8ms/step - loss: 28.2836 - val_loss: 24.4034\n",
      "Epoch 16/100\n",
      "11/11 [==============================] - 0s 7ms/step - loss: 31.6323 - val_loss: 27.3266\n",
      "Epoch 17/100\n",
      "11/11 [==============================] - 0s 8ms/step - loss: 36.7341 - val_loss: 25.6836\n",
      "Epoch 18/100\n",
      "11/11 [==============================] - 0s 8ms/step - loss: 27.6724 - val_loss: 45.2973\n",
      "Epoch 19/100\n",
      "11/11 [==============================] - 0s 8ms/step - loss: 30.9732 - val_loss: 36.0813\n",
      "Epoch 20/100\n",
      "11/11 [==============================] - 0s 8ms/step - loss: 27.8918 - val_loss: 27.1862\n",
      "Epoch 21/100\n",
      "11/11 [==============================] - 0s 8ms/step - loss: 30.6178 - val_loss: 27.8382\n",
      "Epoch 22/100\n",
      "11/11 [==============================] - 0s 7ms/step - loss: 28.3243 - val_loss: 31.4200\n",
      "Epoch 23/100\n",
      "11/11 [==============================] - 0s 8ms/step - loss: 28.4375 - val_loss: 26.6997\n",
      "Epoch 24/100\n",
      "11/11 [==============================] - 0s 8ms/step - loss: 28.9648 - val_loss: 33.0365\n",
      "Epoch 25/100\n",
      "11/11 [==============================] - 0s 7ms/step - loss: 31.7113 - val_loss: 26.2676\n",
      "Epoch 26/100\n",
      "11/11 [==============================] - 0s 8ms/step - loss: 28.4339 - val_loss: 27.9762\n",
      "Epoch 27/100\n",
      "11/11 [==============================] - 0s 7ms/step - loss: 27.4449 - val_loss: 41.9620\n",
      "Epoch 28/100\n",
      "11/11 [==============================] - 0s 8ms/step - loss: 27.9835 - val_loss: 24.5528\n",
      "Epoch 29/100\n",
      "11/11 [==============================] - 0s 8ms/step - loss: 28.4931 - val_loss: 34.8930\n",
      "Epoch 30/100\n",
      "11/11 [==============================] - 0s 8ms/step - loss: 31.9905 - val_loss: 24.4452\n",
      "Epoch 31/100\n",
      "11/11 [==============================] - 0s 8ms/step - loss: 30.0065 - val_loss: 35.0525\n",
      "Epoch 32/100\n",
      "11/11 [==============================] - 0s 8ms/step - loss: 24.5313 - val_loss: 29.8400\n",
      "Epoch 33/100\n",
      "11/11 [==============================] - 0s 8ms/step - loss: 26.1697 - val_loss: 24.6659\n",
      "Epoch 34/100\n",
      "11/11 [==============================] - 0s 8ms/step - loss: 27.1087 - val_loss: 24.9587\n",
      "Epoch 35/100\n",
      "11/11 [==============================] - 0s 8ms/step - loss: 27.5515 - val_loss: 28.5199\n",
      "Epoch 36/100\n",
      "11/11 [==============================] - 0s 7ms/step - loss: 37.9448 - val_loss: 26.2775\n",
      "Epoch 37/100\n",
      "11/11 [==============================] - 0s 10ms/step - loss: 34.5780 - val_loss: 31.1441\n",
      "Epoch 38/100\n",
      "11/11 [==============================] - 0s 8ms/step - loss: 32.0292 - val_loss: 40.8281\n",
      "Epoch 39/100\n",
      "11/11 [==============================] - 0s 8ms/step - loss: 32.4756 - val_loss: 33.5974\n",
      "Epoch 40/100\n",
      "11/11 [==============================] - 0s 8ms/step - loss: 32.0362 - val_loss: 30.4931\n",
      "Epoch 41/100\n",
      "11/11 [==============================] - 0s 8ms/step - loss: 32.5189 - val_loss: 24.6619\n",
      "Epoch 42/100\n",
      "11/11 [==============================] - 0s 8ms/step - loss: 27.4708 - val_loss: 26.1841\n",
      "Epoch 43/100\n",
      "11/11 [==============================] - 0s 7ms/step - loss: 28.4740 - val_loss: 24.3041\n",
      "Epoch 44/100\n",
      "11/11 [==============================] - 0s 8ms/step - loss: 30.5879 - val_loss: 43.4933\n",
      "Epoch 45/100\n",
      "11/11 [==============================] - 0s 8ms/step - loss: 33.3216 - val_loss: 24.2746\n",
      "Epoch 46/100\n",
      "11/11 [==============================] - 0s 8ms/step - loss: 25.7575 - val_loss: 30.8678\n",
      "Epoch 47/100\n",
      "11/11 [==============================] - 0s 8ms/step - loss: 28.9347 - val_loss: 25.2392\n",
      "Epoch 48/100\n",
      "11/11 [==============================] - 0s 8ms/step - loss: 27.7971 - val_loss: 48.0119\n",
      "Epoch 49/100\n",
      "11/11 [==============================] - 0s 8ms/step - loss: 29.2899 - val_loss: 25.6408\n",
      "Epoch 50/100\n",
      "11/11 [==============================] - 0s 8ms/step - loss: 29.0648 - val_loss: 32.2548\n",
      "Epoch 51/100\n",
      "11/11 [==============================] - 0s 8ms/step - loss: 25.5317 - val_loss: 28.4830\n",
      "Epoch 52/100\n",
      "11/11 [==============================] - 0s 12ms/step - loss: 31.2348 - val_loss: 29.3493\n",
      "Epoch 53/100\n",
      "11/11 [==============================] - 0s 8ms/step - loss: 28.4730 - val_loss: 32.5575\n",
      "Epoch 54/100\n",
      "11/11 [==============================] - 0s 7ms/step - loss: 26.9030 - val_loss: 27.5491\n",
      "Epoch 55/100\n",
      "11/11 [==============================] - 0s 7ms/step - loss: 26.2697 - val_loss: 36.0692\n",
      "Epoch 56/100\n",
      "11/11 [==============================] - 0s 7ms/step - loss: 25.3402 - val_loss: 27.7788\n",
      "Epoch 57/100\n",
      "11/11 [==============================] - 0s 8ms/step - loss: 30.8573 - val_loss: 26.6670\n",
      "Epoch 58/100\n",
      "11/11 [==============================] - 0s 7ms/step - loss: 25.9294 - val_loss: 42.9834\n",
      "Epoch 59/100\n",
      "11/11 [==============================] - 0s 8ms/step - loss: 28.2617 - val_loss: 24.3564\n",
      "Epoch 60/100\n",
      "11/11 [==============================] - 0s 8ms/step - loss: 27.9167 - val_loss: 31.0403\n",
      "Epoch 61/100\n",
      "11/11 [==============================] - 0s 8ms/step - loss: 29.6409 - val_loss: 32.8965\n",
      "Epoch 62/100\n",
      "11/11 [==============================] - 0s 8ms/step - loss: 26.0615 - val_loss: 24.7779\n",
      "Epoch 63/100\n",
      "11/11 [==============================] - 0s 8ms/step - loss: 28.5114 - val_loss: 59.9521\n",
      "Epoch 64/100\n",
      "11/11 [==============================] - 0s 8ms/step - loss: 32.4514 - val_loss: 27.5238\n",
      "Epoch 65/100\n",
      "11/11 [==============================] - 0s 7ms/step - loss: 32.1227 - val_loss: 24.3838\n",
      "Epoch 66/100\n",
      "11/11 [==============================] - 0s 8ms/step - loss: 28.1532 - val_loss: 24.7788\n",
      "Epoch 67/100\n",
      "11/11 [==============================] - 0s 7ms/step - loss: 36.9499 - val_loss: 43.3921\n",
      "Epoch 68/100\n",
      "11/11 [==============================] - 0s 8ms/step - loss: 28.1540 - val_loss: 33.4012\n",
      "Epoch 69/100\n",
      "11/11 [==============================] - 0s 7ms/step - loss: 29.1797 - val_loss: 25.0516\n",
      "Epoch 70/100\n",
      "11/11 [==============================] - 0s 7ms/step - loss: 27.7608 - val_loss: 24.5747\n",
      "Epoch 71/100\n",
      "11/11 [==============================] - 0s 8ms/step - loss: 31.0372 - val_loss: 24.0273\n",
      "Epoch 72/100\n",
      "11/11 [==============================] - 0s 8ms/step - loss: 26.1741 - val_loss: 43.8897\n",
      "Epoch 73/100\n",
      "11/11 [==============================] - 0s 8ms/step - loss: 27.1591 - val_loss: 27.8123\n",
      "Epoch 74/100\n",
      "11/11 [==============================] - 0s 8ms/step - loss: 33.0471 - val_loss: 28.9099\n",
      "Epoch 75/100\n",
      "11/11 [==============================] - 0s 8ms/step - loss: 28.4595 - val_loss: 28.6798\n",
      "Epoch 76/100\n",
      "11/11 [==============================] - 0s 8ms/step - loss: 27.4056 - val_loss: 55.5625\n",
      "Epoch 77/100\n",
      "11/11 [==============================] - 0s 8ms/step - loss: 28.6934 - val_loss: 44.7436\n",
      "Epoch 78/100\n",
      "11/11 [==============================] - 0s 8ms/step - loss: 31.4965 - val_loss: 56.8014\n",
      "Epoch 79/100\n",
      "11/11 [==============================] - 0s 8ms/step - loss: 30.6320 - val_loss: 26.5640\n",
      "Epoch 80/100\n",
      "11/11 [==============================] - 0s 8ms/step - loss: 30.9258 - val_loss: 24.7966\n",
      "Epoch 81/100\n",
      "11/11 [==============================] - 0s 8ms/step - loss: 26.0383 - val_loss: 26.4667\n",
      "Epoch 82/100\n",
      "11/11 [==============================] - 0s 8ms/step - loss: 29.4898 - val_loss: 45.7442\n",
      "Epoch 83/100\n",
      "11/11 [==============================] - 0s 8ms/step - loss: 37.2244 - val_loss: 27.4121\n",
      "Epoch 84/100\n",
      "11/11 [==============================] - 0s 8ms/step - loss: 29.4906 - val_loss: 26.7492\n",
      "Epoch 85/100\n",
      "11/11 [==============================] - 0s 8ms/step - loss: 32.5899 - val_loss: 70.7944\n",
      "Epoch 86/100\n",
      "11/11 [==============================] - 0s 8ms/step - loss: 36.3090 - val_loss: 83.9783\n",
      "Epoch 87/100\n",
      "11/11 [==============================] - 0s 8ms/step - loss: 32.3297 - val_loss: 25.7856\n",
      "Epoch 88/100\n",
      "11/11 [==============================] - 0s 10ms/step - loss: 27.7412 - val_loss: 29.4834\n",
      "Epoch 89/100\n",
      "11/11 [==============================] - 0s 8ms/step - loss: 28.2234 - val_loss: 33.2274\n",
      "Epoch 90/100\n",
      "11/11 [==============================] - 0s 8ms/step - loss: 26.1860 - val_loss: 26.7317\n",
      "Epoch 91/100\n",
      "11/11 [==============================] - 0s 8ms/step - loss: 26.0253 - val_loss: 26.1314\n",
      "Epoch 92/100\n",
      "11/11 [==============================] - 0s 8ms/step - loss: 28.2330 - val_loss: 31.9506\n",
      "Epoch 93/100\n",
      "11/11 [==============================] - 0s 7ms/step - loss: 36.3187 - val_loss: 25.2356\n",
      "Epoch 94/100\n",
      "11/11 [==============================] - 0s 8ms/step - loss: 25.6047 - val_loss: 24.1748\n",
      "Epoch 95/100\n",
      "11/11 [==============================] - 0s 7ms/step - loss: 28.0856 - val_loss: 37.9897\n",
      "Epoch 96/100\n",
      "11/11 [==============================] - 0s 8ms/step - loss: 30.8280 - val_loss: 67.0520\n",
      "Epoch 97/100\n",
      "11/11 [==============================] - 0s 7ms/step - loss: 36.0476 - val_loss: 25.2243\n",
      "Epoch 98/100\n",
      "11/11 [==============================] - 0s 7ms/step - loss: 27.1350 - val_loss: 22.6269\n",
      "Epoch 99/100\n",
      "11/11 [==============================] - 0s 8ms/step - loss: 28.4866 - val_loss: 25.3915\n",
      "Epoch 100/100\n",
      "11/11 [==============================] - 0s 7ms/step - loss: 28.4879 - val_loss: 23.2204\n"
     ]
    },
    {
     "data": {
      "text/plain": [
       "<keras.callbacks.History at 0x2b8f73a30>"
      ]
     },
     "execution_count": 10,
     "metadata": {},
     "output_type": "execute_result"
    }
   ],
   "source": [
    "model.fit(features, actual_prices, epochs=100, validation_split=0.35)"
   ]
  },
  {
   "cell_type": "code",
   "execution_count": 11,
   "metadata": {
    "colab": {
     "base_uri": "https://localhost:8080/",
     "height": 35
    },
    "colab_type": "code",
    "executionInfo": {
     "elapsed": 1140,
     "status": "ok",
     "timestamp": 1581760952653,
     "user": {
      "displayName": "Sarbind Gupta",
      "photoUrl": "https://lh3.googleusercontent.com/a-/AAuE7mCX_PdUc-oYjLw3bTTsusGGiLA4h-CJUT94gBbkRw=s64",
      "userId": "14604457747665098998"
     },
     "user_tz": -330
    },
    "id": "tNAGYz8xrNnC",
    "outputId": "1d8fc1e8-f759-4a06-d1bf-407a50ccebde"
   },
   "outputs": [
    {
     "name": "stdout",
     "output_type": "stream",
     "text": [
      "1/1 [==============================] - 0s 202ms/step\n",
      "[[15.645287]]\n"
     ]
    },
    {
     "name": "stderr",
     "output_type": "stream",
     "text": [
      "2024-02-23 19:47:05.132828: I tensorflow/core/grappler/optimizers/custom_graph_optimizer_registry.cc:113] Plugin optimizer for device_type GPU is enabled.\n"
     ]
    }
   ],
   "source": [
    "import numpy as np\n",
    "test_x = np.reshape([1.2, 0, 8.14e+00, 0.0e+00, 5.3e-01, 6.14e+00, 9.170e+01, 3.97e+00, 4, 3.07e+02, 2.10e+01, 3.96e+02, 1.872e+01],(-1, 13))\n",
    "\n",
    "test_y = model.predict(test_x)\n",
    "\n",
    "print(test_y)"
   ]
  },
  {
   "cell_type": "code",
   "execution_count": null,
   "metadata": {
    "colab": {},
    "colab_type": "code",
    "id": "LxuqsOaSS2Rb"
   },
   "outputs": [],
   "source": []
  }
 ],
 "metadata": {
  "accelerator": "GPU",
  "colab": {
   "collapsed_sections": [],
   "name": "Regression - Boston housing prices.ipynb",
   "provenance": []
  },
  "kernelspec": {
   "display_name": "Python 3 (ipykernel)",
   "language": "python",
   "name": "python3"
  },
  "language_info": {
   "codemirror_mode": {
    "name": "ipython",
    "version": 3
   },
   "file_extension": ".py",
   "mimetype": "text/x-python",
   "name": "python",
   "nbconvert_exporter": "python",
   "pygments_lexer": "ipython3",
   "version": "3.9.13"
  }
 },
 "nbformat": 4,
 "nbformat_minor": 4
}
