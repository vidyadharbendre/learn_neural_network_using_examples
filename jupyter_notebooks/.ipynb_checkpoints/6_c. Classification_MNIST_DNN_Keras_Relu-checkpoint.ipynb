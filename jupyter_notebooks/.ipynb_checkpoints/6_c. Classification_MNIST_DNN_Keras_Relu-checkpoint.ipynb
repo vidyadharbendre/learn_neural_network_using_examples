{
 "cells": [
  {
   "cell_type": "markdown",
   "metadata": {
    "id": "2FOkt_PVMd6h"
   },
   "source": [
    "#### Load tensorflow"
   ]
  },
  {
   "cell_type": "code",
   "execution_count": 2,
   "metadata": {
    "id": "QknvBKm3Md6j"
   },
   "outputs": [],
   "source": [
    "import tensorflow as tf"
   ]
  },
  {
   "cell_type": "markdown",
   "metadata": {
    "id": "QHbDtQQJMd6m"
   },
   "source": [
    "#### Collect Data\n",
    "\n",
    "We will use MNIST dataset for this exercise. This dataset contains images of hand written numbers with each image being a black & white picture of size 28x28. We will download the data using tensorflow API. The dataset has 60,000 training examples and 10,000 test examples. Please note that images have already been converted to numpy arrays."
   ]
  },
  {
   "cell_type": "code",
   "execution_count": 3,
   "metadata": {
    "id": "AJ6bJeCGMd6n"
   },
   "outputs": [],
   "source": [
    "#Download dataset\n",
    "(X_train, y_train),(X_test, y_test) = tf.keras.datasets.mnist.load_data()"
   ]
  },
  {
   "cell_type": "code",
   "execution_count": 4,
   "metadata": {
    "id": "OAv--_-Spq4F"
   },
   "outputs": [
    {
     "data": {
      "text/plain": [
       "(60000, 28, 28)"
      ]
     },
     "execution_count": 4,
     "metadata": {},
     "output_type": "execute_result"
    }
   ],
   "source": [
    "#Check number of training examples and size of each example\n",
    "X_train.shape"
   ]
  },
  {
   "cell_type": "code",
   "execution_count": 5,
   "metadata": {
    "id": "mWBOngBwpy2D"
   },
   "outputs": [
    {
     "data": {
      "text/plain": [
       "(10000, 28, 28)"
      ]
     },
     "execution_count": 5,
     "metadata": {},
     "output_type": "execute_result"
    }
   ],
   "source": [
    "#Check number of test examples and size of each example\n",
    "X_test.shape"
   ]
  },
  {
   "cell_type": "markdown",
   "metadata": {
    "id": "DeCvkynAMq0J"
   },
   "source": [
    "Visualize data"
   ]
  },
  {
   "cell_type": "code",
   "execution_count": 6,
   "metadata": {
    "id": "Htwd0ODmMt5d"
   },
   "outputs": [],
   "source": [
    "import matplotlib.pyplot as plt\n",
    "import numpy as np"
   ]
  },
  {
   "cell_type": "code",
   "execution_count": 7,
   "metadata": {
    "id": "JcotzAiyMp1F"
   },
   "outputs": [
    {
     "data": {
      "image/png": "[encoded data removed]",
      "text/plain": [
       "<Figure size 640x480 with 1 Axes>"
      ]
     },
     "metadata": {},
     "output_type": "display_data"
    }
   ],
   "source": [
    "img_num = np.random.randint(0, X_test.shape[0]) #Get a random integer between 0 and number of examples in test dataset\n",
    "plt.imshow(X_test[img_num],cmap='gray') #Show the image from test dataset\n",
    "plt.suptitle('Number: ' + str(y_test[img_num]))\n",
    "plt.show()"
   ]
  },
  {
   "cell_type": "markdown",
   "metadata": {
    "id": "8rxmqpkpMd6r"
   },
   "source": [
    "#### Prepare Labels\n",
    "Convert Output label to multiple values"
   ]
  },
  {
   "cell_type": "code",
   "execution_count": null,
   "metadata": {
    "id": "EijfLL3NqABx"
   },
   "outputs": [],
   "source": [
    "#Label for an example\n",
    "y_test[0]"
   ]
  },
  {
   "cell_type": "code",
   "execution_count": 8,
   "metadata": {
    "id": "Jr8yucgyMd6s"
   },
   "outputs": [],
   "source": [
    "y_train = tf.keras.utils.to_categorical(y_train, num_classes=10)\n",
    "y_test = tf.keras.utils.to_categorical(y_test, num_classes=10)"
   ]
  },
  {
   "cell_type": "code",
   "execution_count": 9,
   "metadata": {
    "id": "RnY9Bqx0qHkM"
   },
   "outputs": [
    {
     "data": {
      "text/plain": [
       "array([0., 0., 0., 0., 0., 0., 0., 1., 0., 0.], dtype=float32)"
      ]
     },
     "execution_count": 9,
     "metadata": {},
     "output_type": "execute_result"
    }
   ],
   "source": [
    "#Label for same example after one hot encoding\n",
    "y_test[0]"
   ]
  },
  {
   "cell_type": "markdown",
   "metadata": {
    "id": "nACcpZ6oMd6z"
   },
   "source": [
    "#### Build the Graph"
   ]
  },
  {
   "cell_type": "code",
   "execution_count": 11,
   "metadata": {
    "id": "9h6GBSH6Md61"
   },
   "outputs": [],
   "source": [
    "tf.keras.backend.clear_session()\n",
    "#Initialize Sequential model\n",
    "model = tf.keras.models.Sequential()\n",
    "\n",
    "#Reshape data from 2D to 1D -> 28x28 to 784\n",
    "model.add(tf.keras.layers.Reshape((784,),input_shape=(28,28,)))\n",
    "\n",
    "#Normalize the data\n",
    "model.add(tf.keras.layers.BatchNormalization())"
   ]
  },
  {
   "cell_type": "code",
   "execution_count": 12,
   "metadata": {
    "id": "hLuGo9xeO_oE"
   },
   "outputs": [
    {
     "data": {
      "text/plain": [
       "<KerasTensor: shape=(None, 784) dtype=float32 (created by layer 'batch_normalization')>"
      ]
     },
     "execution_count": 12,
     "metadata": {},
     "output_type": "execute_result"
    }
   ],
   "source": [
    "model.output"
   ]
  },
  {
   "cell_type": "markdown",
   "metadata": {
    "id": "imGSX5XjMd66"
   },
   "source": [
    "Add Hidden Layers"
   ]
  },
  {
   "cell_type": "code",
   "execution_count": 13,
   "metadata": {
    "id": "Oj8TnaTxMd68"
   },
   "outputs": [],
   "source": [
    "#Add 1st hidden layer\n",
    "model.add(tf.keras.layers.Dense(200, activation='sigmoid'))"
   ]
  },
  {
   "cell_type": "code",
   "execution_count": 14,
   "metadata": {
    "id": "qPwtp7-yhEJK"
   },
   "outputs": [
    {
     "data": {
      "text/plain": [
       "<KerasTensor: shape=(None, 200) dtype=float32 (created by layer 'dense')>"
      ]
     },
     "execution_count": 14,
     "metadata": {},
     "output_type": "execute_result"
    }
   ],
   "source": [
    "model.output"
   ]
  },
  {
   "cell_type": "code",
   "execution_count": 15,
   "metadata": {
    "id": "BQvERJeKMd7A"
   },
   "outputs": [],
   "source": [
    "#Add 2nd hidden layer\n",
    "model.add(tf.keras.layers.Dense(100, activation='sigmoid'))"
   ]
  },
  {
   "cell_type": "code",
   "execution_count": 16,
   "metadata": {
    "id": "a_rnC2j2he-P"
   },
   "outputs": [
    {
     "data": {
      "text/plain": [
       "<KerasTensor: shape=(None, 100) dtype=float32 (created by layer 'dense_1')>"
      ]
     },
     "execution_count": 16,
     "metadata": {},
     "output_type": "execute_result"
    }
   ],
   "source": [
    "model.output"
   ]
  },
  {
   "cell_type": "code",
   "execution_count": 17,
   "metadata": {
    "id": "pwcz87-MMd7E"
   },
   "outputs": [],
   "source": [
    "#Add 3rd hidden layer\n",
    "model.add(tf.keras.layers.Dense(60, activation='sigmoid'))"
   ]
  },
  {
   "cell_type": "code",
   "execution_count": 18,
   "metadata": {
    "id": "C4j9Cm1IMd7J"
   },
   "outputs": [],
   "source": [
    "#Add 4th hidden layer\n",
    "model.add(tf.keras.layers.Dense(30, activation='sigmoid'))"
   ]
  },
  {
   "cell_type": "code",
   "execution_count": 19,
   "metadata": {
    "id": "GMkpspE8kqCn"
   },
   "outputs": [
    {
     "data": {
      "text/plain": [
       "<KerasTensor: shape=(None, 30) dtype=float32 (created by layer 'dense_3')>"
      ]
     },
     "execution_count": 19,
     "metadata": {},
     "output_type": "execute_result"
    }
   ],
   "source": [
    "model.output"
   ]
  },
  {
   "cell_type": "markdown",
   "metadata": {
    "id": "vdlnZCPIggCO"
   },
   "source": [
    "Add Output Layer"
   ]
  },
  {
   "cell_type": "code",
   "execution_count": 20,
   "metadata": {
    "id": "G05v_Zy9Md7Q"
   },
   "outputs": [],
   "source": [
    "#Add OUTPUT layer\n",
    "model.add(tf.keras.layers.Dense(10, activation='softmax'))"
   ]
  },
  {
   "cell_type": "markdown",
   "metadata": {
    "id": "pYNxSLydMd7U"
   },
   "source": [
    "Compile the Model"
   ]
  },
  {
   "cell_type": "code",
   "execution_count": 21,
   "metadata": {
    "id": "FJWmzZ2vMd7W"
   },
   "outputs": [],
   "source": [
    "#Compile the model\n",
    "model.compile(optimizer='sgd', loss='categorical_crossentropy', \n",
    "              metrics=['accuracy'])"
   ]
  },
  {
   "cell_type": "markdown",
   "metadata": {
    "id": "gW7j_VfVMd7a"
   },
   "source": [
    "Review model"
   ]
  },
  {
   "cell_type": "code",
   "execution_count": 22,
   "metadata": {
    "id": "ghrWVH2ZMd7b"
   },
   "outputs": [
    {
     "name": "stdout",
     "output_type": "stream",
     "text": [
      "Model: \"sequential_1\"\n",
      "_________________________________________________________________\n",
      " Layer (type)                Output Shape              Param #   \n",
      "=================================================================\n",
      " reshape (Reshape)           (None, 784)               0         \n",
      "                                                                 \n",
      " batch_normalization (BatchN  (None, 784)              3136      \n",
      " ormalization)                                                   \n",
      "                                                                 \n",
      " dense (Dense)               (None, 200)               157000    \n",
      "                                                                 \n",
      " dense_1 (Dense)             (None, 100)               20100     \n",
      "                                                                 \n",
      " dense_2 (Dense)             (None, 60)                6060      \n",
      "                                                                 \n",
      " dense_3 (Dense)             (None, 30)                1830      \n",
      "                                                                 \n",
      " dense_4 (Dense)             (None, 10)                310       \n",
      "                                                                 \n",
      "=================================================================\n",
      "Total params: 188,436\n",
      "Trainable params: 186,868\n",
      "Non-trainable params: 1,568\n",
      "_________________________________________________________________\n"
     ]
    }
   ],
   "source": [
    "model.summary()"
   ]
  },
  {
   "cell_type": "markdown",
   "metadata": {
    "id": "Lblu99B6Md7l"
   },
   "source": [
    "#### Train the model"
   ]
  },
  {
   "cell_type": "code",
   "execution_count": 24,
   "metadata": {
    "id": "eoba1_UocJLO"
   },
   "outputs": [],
   "source": [
    "model_checkpoint = tf.keras.callbacks.ModelCheckpoint('mnist_sigmoid_v1.h5', save_best_only=True, monitor='val_accuracy', mode='max', verbose=1)"
   ]
  },
  {
   "cell_type": "code",
   "execution_count": 25,
   "metadata": {
    "id": "HyDVYzwxMd7m"
   },
   "outputs": [
    {
     "name": "stdout",
     "output_type": "stream",
     "text": [
      "Epoch 1/100\n"
     ]
    },
    {
     "name": "stderr",
     "output_type": "stream",
     "text": [
      "2024-03-15 22:13:36.443779: W tensorflow/core/platform/profile_utils/cpu_utils.cc:128] Failed to get CPU frequency: 0 Hz\n",
      "2024-03-15 22:13:36.608408: I tensorflow/core/grappler/optimizers/custom_graph_optimizer_registry.cc:113] Plugin optimizer for device_type GPU is enabled.\n"
     ]
    },
    {
     "name": "stdout",
     "output_type": "stream",
     "text": [
      "1874/1875 [============================>.] - ETA: 0s - loss: 2.3050 - accuracy: 0.1142"
     ]
    },
    {
     "name": "stderr",
     "output_type": "stream",
     "text": [
      "2024-03-15 22:13:59.422209: I tensorflow/core/grappler/optimizers/custom_graph_optimizer_registry.cc:113] Plugin optimizer for device_type GPU is enabled.\n"
     ]
    },
    {
     "name": "stdout",
     "output_type": "stream",
     "text": [
      "\n",
      "Epoch 1: val_accuracy improved from -inf to 0.11350, saving model to mnist_sigmoid_v1.h5\n",
      "1875/1875 [==============================] - 26s 13ms/step - loss: 2.3050 - accuracy: 0.1142 - val_loss: 2.2965 - val_accuracy: 0.1135\n",
      "Epoch 2/100\n",
      "1871/1875 [============================>.] - ETA: 0s - loss: 2.2946 - accuracy: 0.1205\n",
      "Epoch 2: val_accuracy improved from 0.11350 to 0.18780, saving model to mnist_sigmoid_v1.h5\n",
      "1875/1875 [==============================] - 24s 13ms/step - loss: 2.2946 - accuracy: 0.1208 - val_loss: 2.2925 - val_accuracy: 0.1878\n",
      "Epoch 3/100\n",
      "1873/1875 [============================>.] - ETA: 0s - loss: 2.2871 - accuracy: 0.1371\n",
      "Epoch 3: val_accuracy did not improve from 0.18780\n",
      "1875/1875 [==============================] - 25s 13ms/step - loss: 2.2871 - accuracy: 0.1370 - val_loss: 2.2805 - val_accuracy: 0.1135\n",
      "Epoch 4/100\n",
      "1873/1875 [============================>.] - ETA: 0s - loss: 2.2725 - accuracy: 0.2031\n",
      "Epoch 4: val_accuracy did not improve from 0.18780\n",
      "1875/1875 [==============================] - 24s 13ms/step - loss: 2.2725 - accuracy: 0.2030 - val_loss: 2.2581 - val_accuracy: 0.1356\n",
      "Epoch 5/100\n",
      "1875/1875 [==============================] - ETA: 0s - loss: 2.2333 - accuracy: 0.3126\n",
      "Epoch 5: val_accuracy improved from 0.18780 to 0.45070, saving model to mnist_sigmoid_v1.h5\n",
      "1875/1875 [==============================] - 23s 12ms/step - loss: 2.2333 - accuracy: 0.3126 - val_loss: 2.1879 - val_accuracy: 0.4507\n",
      "Epoch 6/100\n",
      "1875/1875 [==============================] - ETA: 0s - loss: 2.0785 - accuracy: 0.4197\n",
      "Epoch 6: val_accuracy improved from 0.45070 to 0.46610, saving model to mnist_sigmoid_v1.h5\n",
      "1875/1875 [==============================] - 23s 12ms/step - loss: 2.0785 - accuracy: 0.4197 - val_loss: 1.8913 - val_accuracy: 0.4661\n",
      "Epoch 7/100\n",
      "1871/1875 [============================>.] - ETA: 0s - loss: 1.6722 - accuracy: 0.4937\n",
      "Epoch 7: val_accuracy improved from 0.46610 to 0.57330, saving model to mnist_sigmoid_v1.h5\n",
      "1875/1875 [==============================] - 24s 13ms/step - loss: 1.6718 - accuracy: 0.4939 - val_loss: 1.4371 - val_accuracy: 0.5733\n",
      "Epoch 8/100\n",
      "1874/1875 [============================>.] - ETA: 0s - loss: 1.2868 - accuracy: 0.5980\n",
      "Epoch 8: val_accuracy improved from 0.57330 to 0.65750, saving model to mnist_sigmoid_v1.h5\n",
      "1875/1875 [==============================] - 23s 13ms/step - loss: 1.2868 - accuracy: 0.5979 - val_loss: 1.1078 - val_accuracy: 0.6575\n",
      "Epoch 9/100\n",
      "1875/1875 [==============================] - ETA: 0s - loss: 1.0390 - accuracy: 0.6599\n",
      "Epoch 9: val_accuracy improved from 0.65750 to 0.69810, saving model to mnist_sigmoid_v1.h5\n",
      "1875/1875 [==============================] - 26s 14ms/step - loss: 1.0390 - accuracy: 0.6599 - val_loss: 0.9297 - val_accuracy: 0.6981\n",
      "Epoch 10/100\n",
      "1875/1875 [==============================] - ETA: 0s - loss: 0.9175 - accuracy: 0.6963\n",
      "Epoch 10: val_accuracy improved from 0.69810 to 0.74020, saving model to mnist_sigmoid_v1.h5\n",
      "1875/1875 [==============================] - 24s 13ms/step - loss: 0.9175 - accuracy: 0.6963 - val_loss: 0.8305 - val_accuracy: 0.7402\n",
      "Epoch 11/100\n",
      "1875/1875 [==============================] - ETA: 0s - loss: 0.8440 - accuracy: 0.7240\n",
      "Epoch 11: val_accuracy improved from 0.74020 to 0.76180, saving model to mnist_sigmoid_v1.h5\n",
      "1875/1875 [==============================] - 24s 13ms/step - loss: 0.8440 - accuracy: 0.7240 - val_loss: 0.7671 - val_accuracy: 0.7618\n",
      "Epoch 12/100\n",
      "1873/1875 [============================>.] - ETA: 0s - loss: 0.7897 - accuracy: 0.7488\n",
      "Epoch 12: val_accuracy improved from 0.76180 to 0.78560, saving model to mnist_sigmoid_v1.h5\n",
      "1875/1875 [==============================] - 24s 13ms/step - loss: 0.7897 - accuracy: 0.7488 - val_loss: 0.7155 - val_accuracy: 0.7856\n",
      "Epoch 13/100\n",
      "1873/1875 [============================>.] - ETA: 0s - loss: 0.7467 - accuracy: 0.7680\n",
      "Epoch 13: val_accuracy improved from 0.78560 to 0.80410, saving model to mnist_sigmoid_v1.h5\n",
      "1875/1875 [==============================] - 24s 13ms/step - loss: 0.7464 - accuracy: 0.7681 - val_loss: 0.6690 - val_accuracy: 0.8041\n",
      "Epoch 14/100\n",
      "1872/1875 [============================>.] - ETA: 0s - loss: 0.6999 - accuracy: 0.7878\n",
      "Epoch 14: val_accuracy improved from 0.80410 to 0.82740, saving model to mnist_sigmoid_v1.h5\n",
      "1875/1875 [==============================] - 24s 13ms/step - loss: 0.6999 - accuracy: 0.7877 - val_loss: 0.6233 - val_accuracy: 0.8274\n",
      "Epoch 15/100\n",
      "1873/1875 [============================>.] - ETA: 0s - loss: 0.6545 - accuracy: 0.8091\n",
      "Epoch 15: val_accuracy improved from 0.82740 to 0.84440, saving model to mnist_sigmoid_v1.h5\n",
      "1875/1875 [==============================] - 25s 13ms/step - loss: 0.6544 - accuracy: 0.8091 - val_loss: 0.5771 - val_accuracy: 0.8444\n",
      "Epoch 16/100\n",
      "1872/1875 [============================>.] - ETA: 0s - loss: 0.6085 - accuracy: 0.8270\n",
      "Epoch 16: val_accuracy improved from 0.84440 to 0.85940, saving model to mnist_sigmoid_v1.h5\n",
      "1875/1875 [==============================] - 25s 13ms/step - loss: 0.6084 - accuracy: 0.8270 - val_loss: 0.5311 - val_accuracy: 0.8594\n",
      "Epoch 17/100\n",
      "1875/1875 [==============================] - ETA: 0s - loss: 0.5642 - accuracy: 0.8417\n",
      "Epoch 17: val_accuracy improved from 0.85940 to 0.87090, saving model to mnist_sigmoid_v1.h5\n",
      "1875/1875 [==============================] - 25s 13ms/step - loss: 0.5642 - accuracy: 0.8417 - val_loss: 0.4938 - val_accuracy: 0.8709\n",
      "Epoch 18/100\n",
      "1875/1875 [==============================] - ETA: 0s - loss: 0.5264 - accuracy: 0.8546\n",
      "Epoch 18: val_accuracy improved from 0.87090 to 0.88060, saving model to mnist_sigmoid_v1.h5\n",
      "1875/1875 [==============================] - 25s 13ms/step - loss: 0.5264 - accuracy: 0.8546 - val_loss: 0.4588 - val_accuracy: 0.8806\n",
      "Epoch 19/100\n",
      "1874/1875 [============================>.] - ETA: 0s - loss: 0.4935 - accuracy: 0.8641\n",
      "Epoch 19: val_accuracy improved from 0.88060 to 0.88680, saving model to mnist_sigmoid_v1.h5\n",
      "1875/1875 [==============================] - 25s 13ms/step - loss: 0.4934 - accuracy: 0.8641 - val_loss: 0.4318 - val_accuracy: 0.8868\n",
      "Epoch 20/100\n",
      "1872/1875 [============================>.] - ETA: 0s - loss: 0.4649 - accuracy: 0.8727\n",
      "Epoch 20: val_accuracy improved from 0.88680 to 0.89380, saving model to mnist_sigmoid_v1.h5\n",
      "1875/1875 [==============================] - 25s 13ms/step - loss: 0.4647 - accuracy: 0.8728 - val_loss: 0.4064 - val_accuracy: 0.8938\n",
      "Epoch 21/100\n",
      "1872/1875 [============================>.] - ETA: 0s - loss: 0.4398 - accuracy: 0.8783\n",
      "Epoch 21: val_accuracy improved from 0.89380 to 0.90130, saving model to mnist_sigmoid_v1.h5\n",
      "1875/1875 [==============================] - 25s 13ms/step - loss: 0.4397 - accuracy: 0.8784 - val_loss: 0.3842 - val_accuracy: 0.9013\n",
      "Epoch 22/100\n",
      "1872/1875 [============================>.] - ETA: 0s - loss: 0.4199 - accuracy: 0.8848\n",
      "Epoch 22: val_accuracy improved from 0.90130 to 0.90620, saving model to mnist_sigmoid_v1.h5\n",
      "1875/1875 [==============================] - 25s 13ms/step - loss: 0.4200 - accuracy: 0.8848 - val_loss: 0.3667 - val_accuracy: 0.9062\n",
      "Epoch 23/100\n",
      "1873/1875 [============================>.] - ETA: 0s - loss: 0.3954 - accuracy: 0.8921\n",
      "Epoch 23: val_accuracy improved from 0.90620 to 0.90880, saving model to mnist_sigmoid_v1.h5\n",
      "1875/1875 [==============================] - 25s 13ms/step - loss: 0.3953 - accuracy: 0.8921 - val_loss: 0.3499 - val_accuracy: 0.9088\n",
      "Epoch 24/100\n",
      "1871/1875 [============================>.] - ETA: 0s - loss: 0.3752 - accuracy: 0.8974\n",
      "Epoch 24: val_accuracy improved from 0.90880 to 0.91160, saving model to mnist_sigmoid_v1.h5\n",
      "1875/1875 [==============================] - 25s 13ms/step - loss: 0.3752 - accuracy: 0.8974 - val_loss: 0.3334 - val_accuracy: 0.9116\n",
      "Epoch 25/100\n",
      "1875/1875 [==============================] - ETA: 0s - loss: 0.3603 - accuracy: 0.9019\n",
      "Epoch 25: val_accuracy improved from 0.91160 to 0.91580, saving model to mnist_sigmoid_v1.h5\n",
      "1875/1875 [==============================] - 25s 13ms/step - loss: 0.3603 - accuracy: 0.9019 - val_loss: 0.3200 - val_accuracy: 0.9158\n",
      "Epoch 26/100\n",
      "1874/1875 [============================>.] - ETA: 0s - loss: 0.3371 - accuracy: 0.9079\n",
      "Epoch 26: val_accuracy improved from 0.91580 to 0.91650, saving model to mnist_sigmoid_v1.h5\n",
      "1875/1875 [==============================] - 25s 13ms/step - loss: 0.3371 - accuracy: 0.9079 - val_loss: 0.3087 - val_accuracy: 0.9165\n",
      "Epoch 27/100\n",
      "1874/1875 [============================>.] - ETA: 0s - loss: 0.3265 - accuracy: 0.9110\n",
      "Epoch 27: val_accuracy improved from 0.91650 to 0.92050, saving model to mnist_sigmoid_v1.h5\n",
      "1875/1875 [==============================] - 25s 13ms/step - loss: 0.3265 - accuracy: 0.9109 - val_loss: 0.2969 - val_accuracy: 0.9205\n",
      "Epoch 28/100\n",
      "1874/1875 [============================>.] - ETA: 0s - loss: 0.3077 - accuracy: 0.9174\n",
      "Epoch 28: val_accuracy improved from 0.92050 to 0.92430, saving model to mnist_sigmoid_v1.h5\n",
      "1875/1875 [==============================] - 25s 13ms/step - loss: 0.3077 - accuracy: 0.9173 - val_loss: 0.2826 - val_accuracy: 0.9243\n",
      "Epoch 29/100\n",
      "1873/1875 [============================>.] - ETA: 0s - loss: 0.2955 - accuracy: 0.9193\n",
      "Epoch 29: val_accuracy improved from 0.92430 to 0.92870, saving model to mnist_sigmoid_v1.h5\n",
      "1875/1875 [==============================] - 25s 14ms/step - loss: 0.2955 - accuracy: 0.9193 - val_loss: 0.2700 - val_accuracy: 0.9287\n",
      "Epoch 30/100\n",
      "1874/1875 [============================>.] - ETA: 0s - loss: 0.2801 - accuracy: 0.9244\n",
      "Epoch 30: val_accuracy improved from 0.92870 to 0.93070, saving model to mnist_sigmoid_v1.h5\n",
      "1875/1875 [==============================] - 26s 14ms/step - loss: 0.2802 - accuracy: 0.9244 - val_loss: 0.2629 - val_accuracy: 0.9307\n",
      "Epoch 31/100\n",
      "1874/1875 [============================>.] - ETA: 0s - loss: 0.2681 - accuracy: 0.9268\n",
      "Epoch 31: val_accuracy improved from 0.93070 to 0.93120, saving model to mnist_sigmoid_v1.h5\n",
      "1875/1875 [==============================] - 25s 13ms/step - loss: 0.2681 - accuracy: 0.9268 - val_loss: 0.2552 - val_accuracy: 0.9312\n",
      "Epoch 32/100\n",
      "1874/1875 [============================>.] - ETA: 0s - loss: 0.2577 - accuracy: 0.9296\n",
      "Epoch 32: val_accuracy improved from 0.93120 to 0.93520, saving model to mnist_sigmoid_v1.h5\n",
      "1875/1875 [==============================] - 26s 14ms/step - loss: 0.2578 - accuracy: 0.9295 - val_loss: 0.2427 - val_accuracy: 0.9352\n",
      "Epoch 33/100\n",
      "1873/1875 [============================>.] - ETA: 0s - loss: 0.2443 - accuracy: 0.9335\n",
      "Epoch 33: val_accuracy improved from 0.93520 to 0.93730, saving model to mnist_sigmoid_v1.h5\n",
      "1875/1875 [==============================] - 24s 13ms/step - loss: 0.2443 - accuracy: 0.9335 - val_loss: 0.2359 - val_accuracy: 0.9373\n",
      "Epoch 34/100\n",
      "1872/1875 [============================>.] - ETA: 0s - loss: 0.2352 - accuracy: 0.9356\n",
      "Epoch 34: val_accuracy improved from 0.93730 to 0.94050, saving model to mnist_sigmoid_v1.h5\n",
      "1875/1875 [==============================] - 24s 13ms/step - loss: 0.2352 - accuracy: 0.9356 - val_loss: 0.2302 - val_accuracy: 0.9405\n",
      "Epoch 35/100\n",
      "1872/1875 [============================>.] - ETA: 0s - loss: 0.2215 - accuracy: 0.9394\n",
      "Epoch 35: val_accuracy improved from 0.94050 to 0.94310, saving model to mnist_sigmoid_v1.h5\n",
      "1875/1875 [==============================] - 24s 13ms/step - loss: 0.2215 - accuracy: 0.9393 - val_loss: 0.2186 - val_accuracy: 0.9431\n",
      "Epoch 36/100\n",
      "1875/1875 [==============================] - ETA: 0s - loss: 0.2156 - accuracy: 0.9412\n",
      "Epoch 36: val_accuracy improved from 0.94310 to 0.94510, saving model to mnist_sigmoid_v1.h5\n",
      "1875/1875 [==============================] - 24s 13ms/step - loss: 0.2156 - accuracy: 0.9412 - val_loss: 0.2126 - val_accuracy: 0.9451\n",
      "Epoch 37/100\n",
      "1874/1875 [============================>.] - ETA: 0s - loss: 0.2068 - accuracy: 0.9439\n",
      "Epoch 37: val_accuracy did not improve from 0.94510\n",
      "1875/1875 [==============================] - 24s 13ms/step - loss: 0.2067 - accuracy: 0.9439 - val_loss: 0.2118 - val_accuracy: 0.9447\n",
      "Epoch 38/100\n",
      "1873/1875 [============================>.] - ETA: 0s - loss: 0.2002 - accuracy: 0.9440\n",
      "Epoch 38: val_accuracy improved from 0.94510 to 0.94720, saving model to mnist_sigmoid_v1.h5\n",
      "1875/1875 [==============================] - 24s 13ms/step - loss: 0.2003 - accuracy: 0.9440 - val_loss: 0.2014 - val_accuracy: 0.9472\n",
      "Epoch 39/100\n",
      "1871/1875 [============================>.] - ETA: 0s - loss: 0.1915 - accuracy: 0.9479\n",
      "Epoch 39: val_accuracy improved from 0.94720 to 0.94850, saving model to mnist_sigmoid_v1.h5\n",
      "1875/1875 [==============================] - 24s 13ms/step - loss: 0.1914 - accuracy: 0.9479 - val_loss: 0.1964 - val_accuracy: 0.9485\n",
      "Epoch 40/100\n",
      "1874/1875 [============================>.] - ETA: 0s - loss: 0.1858 - accuracy: 0.9491\n",
      "Epoch 40: val_accuracy improved from 0.94850 to 0.95020, saving model to mnist_sigmoid_v1.h5\n",
      "1875/1875 [==============================] - 24s 13ms/step - loss: 0.1858 - accuracy: 0.9491 - val_loss: 0.1904 - val_accuracy: 0.9502\n",
      "Epoch 41/100\n",
      "1871/1875 [============================>.] - ETA: 0s - loss: 0.1786 - accuracy: 0.9509\n",
      "Epoch 41: val_accuracy improved from 0.95020 to 0.95030, saving model to mnist_sigmoid_v1.h5\n",
      "1875/1875 [==============================] - 24s 13ms/step - loss: 0.1786 - accuracy: 0.9509 - val_loss: 0.1907 - val_accuracy: 0.9503\n",
      "Epoch 42/100\n",
      "1873/1875 [============================>.] - ETA: 0s - loss: 0.1695 - accuracy: 0.9546\n",
      "Epoch 42: val_accuracy improved from 0.95030 to 0.95050, saving model to mnist_sigmoid_v1.h5\n",
      "1875/1875 [==============================] - 24s 13ms/step - loss: 0.1695 - accuracy: 0.9546 - val_loss: 0.1875 - val_accuracy: 0.9505\n",
      "Epoch 43/100\n",
      "1875/1875 [==============================] - ETA: 0s - loss: 0.1645 - accuracy: 0.9557\n",
      "Epoch 43: val_accuracy improved from 0.95050 to 0.95190, saving model to mnist_sigmoid_v1.h5\n",
      "1875/1875 [==============================] - 24s 13ms/step - loss: 0.1645 - accuracy: 0.9557 - val_loss: 0.1797 - val_accuracy: 0.9519\n",
      "Epoch 44/100\n",
      "1871/1875 [============================>.] - ETA: 0s - loss: 0.1581 - accuracy: 0.9579\n",
      "Epoch 44: val_accuracy improved from 0.95190 to 0.95510, saving model to mnist_sigmoid_v1.h5\n",
      "1875/1875 [==============================] - 24s 13ms/step - loss: 0.1582 - accuracy: 0.9578 - val_loss: 0.1753 - val_accuracy: 0.9551\n",
      "Epoch 45/100\n",
      "1872/1875 [============================>.] - ETA: 0s - loss: 0.1538 - accuracy: 0.9585\n",
      "Epoch 45: val_accuracy did not improve from 0.95510\n",
      "1875/1875 [==============================] - 24s 13ms/step - loss: 0.1540 - accuracy: 0.9585 - val_loss: 0.1748 - val_accuracy: 0.9528\n",
      "Epoch 46/100\n",
      "1873/1875 [============================>.] - ETA: 0s - loss: 0.1496 - accuracy: 0.9587\n",
      "Epoch 46: val_accuracy did not improve from 0.95510\n",
      "1875/1875 [==============================] - 24s 13ms/step - loss: 0.1497 - accuracy: 0.9587 - val_loss: 0.1727 - val_accuracy: 0.9546\n",
      "Epoch 47/100\n",
      "1871/1875 [============================>.] - ETA: 0s - loss: 0.1426 - accuracy: 0.9611\n",
      "Epoch 47: val_accuracy improved from 0.95510 to 0.95620, saving model to mnist_sigmoid_v1.h5\n",
      "1875/1875 [==============================] - 24s 13ms/step - loss: 0.1427 - accuracy: 0.9610 - val_loss: 0.1680 - val_accuracy: 0.9562\n",
      "Epoch 48/100\n",
      "1871/1875 [============================>.] - ETA: 0s - loss: 0.1390 - accuracy: 0.9615\n",
      "Epoch 48: val_accuracy improved from 0.95620 to 0.95650, saving model to mnist_sigmoid_v1.h5\n",
      "1875/1875 [==============================] - 24s 13ms/step - loss: 0.1389 - accuracy: 0.9615 - val_loss: 0.1664 - val_accuracy: 0.9565\n",
      "Epoch 49/100\n",
      "1873/1875 [============================>.] - ETA: 0s - loss: 0.1340 - accuracy: 0.9636\n",
      "Epoch 49: val_accuracy improved from 0.95650 to 0.95810, saving model to mnist_sigmoid_v1.h5\n",
      "1875/1875 [==============================] - 24s 13ms/step - loss: 0.1339 - accuracy: 0.9636 - val_loss: 0.1608 - val_accuracy: 0.9581\n",
      "Epoch 50/100\n",
      "1873/1875 [============================>.] - ETA: 0s - loss: 0.1317 - accuracy: 0.9636\n",
      "Epoch 50: val_accuracy improved from 0.95810 to 0.95860, saving model to mnist_sigmoid_v1.h5\n",
      "1875/1875 [==============================] - 24s 13ms/step - loss: 0.1317 - accuracy: 0.9636 - val_loss: 0.1584 - val_accuracy: 0.9586\n",
      "Epoch 51/100\n",
      "1873/1875 [============================>.] - ETA: 0s - loss: 0.1266 - accuracy: 0.9656\n",
      "Epoch 51: val_accuracy did not improve from 0.95860\n",
      "1875/1875 [==============================] - 25s 13ms/step - loss: 0.1266 - accuracy: 0.9656 - val_loss: 0.1584 - val_accuracy: 0.9585\n",
      "Epoch 52/100\n",
      "1871/1875 [============================>.] - ETA: 0s - loss: 0.1241 - accuracy: 0.9655\n",
      "Epoch 52: val_accuracy improved from 0.95860 to 0.95890, saving model to mnist_sigmoid_v1.h5\n",
      "1875/1875 [==============================] - 24s 13ms/step - loss: 0.1241 - accuracy: 0.9656 - val_loss: 0.1612 - val_accuracy: 0.9589\n",
      "Epoch 53/100\n",
      "1871/1875 [============================>.] - ETA: 0s - loss: 0.1183 - accuracy: 0.9678\n",
      "Epoch 53: val_accuracy improved from 0.95890 to 0.96040, saving model to mnist_sigmoid_v1.h5\n",
      "1875/1875 [==============================] - 24s 13ms/step - loss: 0.1182 - accuracy: 0.9679 - val_loss: 0.1548 - val_accuracy: 0.9604\n",
      "Epoch 54/100\n",
      "1872/1875 [============================>.] - ETA: 0s - loss: 0.1145 - accuracy: 0.9683\n",
      "Epoch 54: val_accuracy did not improve from 0.96040\n",
      "1875/1875 [==============================] - 24s 13ms/step - loss: 0.1144 - accuracy: 0.9684 - val_loss: 0.1552 - val_accuracy: 0.9598\n",
      "Epoch 55/100\n",
      "1872/1875 [============================>.] - ETA: 0s - loss: 0.1110 - accuracy: 0.9698\n",
      "Epoch 55: val_accuracy did not improve from 0.96040\n",
      "1875/1875 [==============================] - 24s 13ms/step - loss: 0.1110 - accuracy: 0.9698 - val_loss: 0.1602 - val_accuracy: 0.9600\n",
      "Epoch 56/100\n",
      "1874/1875 [============================>.] - ETA: 0s - loss: 0.1089 - accuracy: 0.9702\n",
      "Epoch 56: val_accuracy improved from 0.96040 to 0.96110, saving model to mnist_sigmoid_v1.h5\n",
      "1875/1875 [==============================] - 24s 13ms/step - loss: 0.1088 - accuracy: 0.9703 - val_loss: 0.1551 - val_accuracy: 0.9611\n",
      "Epoch 57/100\n",
      "1874/1875 [============================>.] - ETA: 0s - loss: 0.1071 - accuracy: 0.9699\n",
      "Epoch 57: val_accuracy did not improve from 0.96110\n",
      "1875/1875 [==============================] - 24s 13ms/step - loss: 0.1073 - accuracy: 0.9699 - val_loss: 0.1587 - val_accuracy: 0.9611\n",
      "Epoch 58/100\n",
      "1872/1875 [============================>.] - ETA: 0s - loss: 0.1022 - accuracy: 0.9713\n",
      "Epoch 58: val_accuracy did not improve from 0.96110\n",
      "1875/1875 [==============================] - 24s 13ms/step - loss: 0.1021 - accuracy: 0.9713 - val_loss: 0.1578 - val_accuracy: 0.9611\n",
      "Epoch 59/100\n",
      "1873/1875 [============================>.] - ETA: 0s - loss: 0.0989 - accuracy: 0.9725\n",
      "Epoch 59: val_accuracy improved from 0.96110 to 0.96300, saving model to mnist_sigmoid_v1.h5\n",
      "1875/1875 [==============================] - 24s 13ms/step - loss: 0.0990 - accuracy: 0.9725 - val_loss: 0.1558 - val_accuracy: 0.9630\n",
      "Epoch 60/100\n",
      "1873/1875 [============================>.] - ETA: 0s - loss: 0.0978 - accuracy: 0.9739\n",
      "Epoch 60: val_accuracy did not improve from 0.96300\n",
      "1875/1875 [==============================] - 24s 13ms/step - loss: 0.0977 - accuracy: 0.9739 - val_loss: 0.1570 - val_accuracy: 0.9620\n",
      "Epoch 61/100\n",
      "1872/1875 [============================>.] - ETA: 0s - loss: 0.0947 - accuracy: 0.9737\n",
      "Epoch 61: val_accuracy did not improve from 0.96300\n",
      "1875/1875 [==============================] - 24s 13ms/step - loss: 0.0950 - accuracy: 0.9736 - val_loss: 0.1477 - val_accuracy: 0.9630\n",
      "Epoch 62/100\n",
      "1872/1875 [============================>.] - ETA: 0s - loss: 0.0913 - accuracy: 0.9747\n",
      "Epoch 62: val_accuracy did not improve from 0.96300\n",
      "1875/1875 [==============================] - 24s 13ms/step - loss: 0.0912 - accuracy: 0.9747 - val_loss: 0.1659 - val_accuracy: 0.9612\n",
      "Epoch 63/100\n",
      "1871/1875 [============================>.] - ETA: 0s - loss: 0.0880 - accuracy: 0.9757\n",
      "Epoch 63: val_accuracy improved from 0.96300 to 0.96320, saving model to mnist_sigmoid_v1.h5\n",
      "1875/1875 [==============================] - 24s 13ms/step - loss: 0.0880 - accuracy: 0.9757 - val_loss: 0.1492 - val_accuracy: 0.9632\n",
      "Epoch 64/100\n",
      "1875/1875 [==============================] - ETA: 0s - loss: 0.0869 - accuracy: 0.9762\n",
      "Epoch 64: val_accuracy did not improve from 0.96320\n",
      "1875/1875 [==============================] - 24s 13ms/step - loss: 0.0869 - accuracy: 0.9762 - val_loss: 0.1559 - val_accuracy: 0.9626\n",
      "Epoch 65/100\n",
      "1871/1875 [============================>.] - ETA: 0s - loss: 0.0853 - accuracy: 0.9769\n",
      "Epoch 65: val_accuracy improved from 0.96320 to 0.96350, saving model to mnist_sigmoid_v1.h5\n",
      "1875/1875 [==============================] - 24s 13ms/step - loss: 0.0854 - accuracy: 0.9768 - val_loss: 0.1498 - val_accuracy: 0.9635\n",
      "Epoch 66/100\n",
      "1872/1875 [============================>.] - ETA: 0s - loss: 0.0821 - accuracy: 0.9770\n",
      "Epoch 66: val_accuracy improved from 0.96350 to 0.96450, saving model to mnist_sigmoid_v1.h5\n",
      "1875/1875 [==============================] - 24s 13ms/step - loss: 0.0821 - accuracy: 0.9770 - val_loss: 0.1470 - val_accuracy: 0.9645\n",
      "Epoch 67/100\n",
      "1874/1875 [============================>.] - ETA: 0s - loss: 0.0792 - accuracy: 0.9782\n",
      "Epoch 67: val_accuracy did not improve from 0.96450\n",
      "1875/1875 [==============================] - 24s 13ms/step - loss: 0.0793 - accuracy: 0.9782 - val_loss: 0.1533 - val_accuracy: 0.9637\n",
      "Epoch 68/100\n",
      "1871/1875 [============================>.] - ETA: 0s - loss: 0.0791 - accuracy: 0.9787\n",
      "Epoch 68: val_accuracy improved from 0.96450 to 0.96550, saving model to mnist_sigmoid_v1.h5\n",
      "1875/1875 [==============================] - 24s 13ms/step - loss: 0.0791 - accuracy: 0.9786 - val_loss: 0.1435 - val_accuracy: 0.9655\n",
      "Epoch 69/100\n",
      "1872/1875 [============================>.] - ETA: 0s - loss: 0.0761 - accuracy: 0.9787\n",
      "Epoch 69: val_accuracy did not improve from 0.96550\n",
      "1875/1875 [==============================] - 24s 13ms/step - loss: 0.0762 - accuracy: 0.9787 - val_loss: 0.1502 - val_accuracy: 0.9642\n",
      "Epoch 70/100\n",
      "1871/1875 [============================>.] - ETA: 0s - loss: 0.0749 - accuracy: 0.9796\n",
      "Epoch 70: val_accuracy did not improve from 0.96550\n",
      "1875/1875 [==============================] - 24s 13ms/step - loss: 0.0749 - accuracy: 0.9796 - val_loss: 0.1521 - val_accuracy: 0.9636\n",
      "Epoch 71/100\n",
      "1872/1875 [============================>.] - ETA: 0s - loss: 0.0706 - accuracy: 0.9807\n",
      "Epoch 71: val_accuracy did not improve from 0.96550\n",
      "1875/1875 [==============================] - 24s 13ms/step - loss: 0.0706 - accuracy: 0.9807 - val_loss: 0.1482 - val_accuracy: 0.9646\n",
      "Epoch 72/100\n",
      "1874/1875 [============================>.] - ETA: 0s - loss: 0.0709 - accuracy: 0.9809\n",
      "Epoch 72: val_accuracy did not improve from 0.96550\n",
      "1875/1875 [==============================] - 24s 13ms/step - loss: 0.0710 - accuracy: 0.9809 - val_loss: 0.1546 - val_accuracy: 0.9643\n",
      "Epoch 73/100\n",
      "1871/1875 [============================>.] - ETA: 0s - loss: 0.0695 - accuracy: 0.9804\n",
      "Epoch 73: val_accuracy did not improve from 0.96550\n",
      "1875/1875 [==============================] - 24s 13ms/step - loss: 0.0695 - accuracy: 0.9804 - val_loss: 0.1485 - val_accuracy: 0.9655\n",
      "Epoch 74/100\n",
      "1872/1875 [============================>.] - ETA: 0s - loss: 0.0669 - accuracy: 0.9817\n",
      "Epoch 74: val_accuracy did not improve from 0.96550\n",
      "1875/1875 [==============================] - 24s 13ms/step - loss: 0.0669 - accuracy: 0.9817 - val_loss: 0.1567 - val_accuracy: 0.9650\n",
      "Epoch 75/100\n",
      "1872/1875 [============================>.] - ETA: 0s - loss: 0.0662 - accuracy: 0.9821\n",
      "Epoch 75: val_accuracy did not improve from 0.96550\n",
      "1875/1875 [==============================] - 24s 13ms/step - loss: 0.0662 - accuracy: 0.9821 - val_loss: 0.1589 - val_accuracy: 0.9618\n",
      "Epoch 76/100\n",
      "1875/1875 [==============================] - ETA: 0s - loss: 0.0636 - accuracy: 0.9821\n",
      "Epoch 76: val_accuracy improved from 0.96550 to 0.96570, saving model to mnist_sigmoid_v1.h5\n",
      "1875/1875 [==============================] - 24s 13ms/step - loss: 0.0636 - accuracy: 0.9821 - val_loss: 0.1476 - val_accuracy: 0.9657\n",
      "Epoch 77/100\n",
      "1875/1875 [==============================] - ETA: 0s - loss: 0.0598 - accuracy: 0.9838\n",
      "Epoch 77: val_accuracy did not improve from 0.96570\n",
      "1875/1875 [==============================] - 24s 13ms/step - loss: 0.0598 - accuracy: 0.9838 - val_loss: 0.1467 - val_accuracy: 0.9649\n",
      "Epoch 78/100\n",
      "1871/1875 [============================>.] - ETA: 0s - loss: 0.0588 - accuracy: 0.9845\n",
      "Epoch 78: val_accuracy did not improve from 0.96570\n",
      "1875/1875 [==============================] - 24s 13ms/step - loss: 0.0588 - accuracy: 0.9845 - val_loss: 0.1558 - val_accuracy: 0.9637\n",
      "Epoch 79/100\n",
      "1872/1875 [============================>.] - ETA: 0s - loss: 0.0588 - accuracy: 0.9836\n",
      "Epoch 79: val_accuracy did not improve from 0.96570\n",
      "1875/1875 [==============================] - 25s 13ms/step - loss: 0.0589 - accuracy: 0.9836 - val_loss: 0.1645 - val_accuracy: 0.9646\n",
      "Epoch 80/100\n",
      "1873/1875 [============================>.] - ETA: 0s - loss: 0.0576 - accuracy: 0.9840\n",
      "Epoch 80: val_accuracy improved from 0.96570 to 0.96620, saving model to mnist_sigmoid_v1.h5\n",
      "1875/1875 [==============================] - 25s 13ms/step - loss: 0.0577 - accuracy: 0.9840 - val_loss: 0.1420 - val_accuracy: 0.9662\n",
      "Epoch 81/100\n",
      "1875/1875 [==============================] - ETA: 0s - loss: 0.0574 - accuracy: 0.9847\n",
      "Epoch 81: val_accuracy did not improve from 0.96620\n",
      "1875/1875 [==============================] - 25s 13ms/step - loss: 0.0574 - accuracy: 0.9847 - val_loss: 0.1537 - val_accuracy: 0.9652\n",
      "Epoch 82/100\n",
      "1875/1875 [==============================] - ETA: 0s - loss: 0.0558 - accuracy: 0.9845\n",
      "Epoch 82: val_accuracy did not improve from 0.96620\n",
      "1875/1875 [==============================] - 25s 13ms/step - loss: 0.0558 - accuracy: 0.9845 - val_loss: 0.1481 - val_accuracy: 0.9658\n",
      "Epoch 83/100\n",
      "1875/1875 [==============================] - ETA: 0s - loss: 0.0532 - accuracy: 0.9856\n",
      "Epoch 83: val_accuracy improved from 0.96620 to 0.96730, saving model to mnist_sigmoid_v1.h5\n",
      "1875/1875 [==============================] - 25s 13ms/step - loss: 0.0532 - accuracy: 0.9856 - val_loss: 0.1450 - val_accuracy: 0.9673\n",
      "Epoch 84/100\n",
      "1875/1875 [==============================] - ETA: 0s - loss: 0.0535 - accuracy: 0.9851\n",
      "Epoch 84: val_accuracy did not improve from 0.96730\n",
      "1875/1875 [==============================] - 25s 13ms/step - loss: 0.0535 - accuracy: 0.9851 - val_loss: 0.1456 - val_accuracy: 0.9664\n",
      "Epoch 85/100\n",
      "1875/1875 [==============================] - ETA: 0s - loss: 0.0515 - accuracy: 0.9863\n",
      "Epoch 85: val_accuracy did not improve from 0.96730\n",
      "1875/1875 [==============================] - 26s 14ms/step - loss: 0.0515 - accuracy: 0.9863 - val_loss: 0.1461 - val_accuracy: 0.9658\n",
      "Epoch 86/100\n",
      "1873/1875 [============================>.] - ETA: 0s - loss: 0.0491 - accuracy: 0.9866\n",
      "Epoch 86: val_accuracy did not improve from 0.96730\n",
      "1875/1875 [==============================] - 26s 14ms/step - loss: 0.0491 - accuracy: 0.9865 - val_loss: 0.1480 - val_accuracy: 0.9668\n",
      "Epoch 87/100\n",
      "1875/1875 [==============================] - ETA: 0s - loss: 0.0494 - accuracy: 0.9869\n",
      "Epoch 87: val_accuracy did not improve from 0.96730\n",
      "1875/1875 [==============================] - 26s 14ms/step - loss: 0.0494 - accuracy: 0.9869 - val_loss: 0.1463 - val_accuracy: 0.9673\n",
      "Epoch 88/100\n",
      "1874/1875 [============================>.] - ETA: 0s - loss: 0.0474 - accuracy: 0.9871\n",
      "Epoch 88: val_accuracy improved from 0.96730 to 0.96790, saving model to mnist_sigmoid_v1.h5\n",
      "1875/1875 [==============================] - 26s 14ms/step - loss: 0.0474 - accuracy: 0.9871 - val_loss: 0.1478 - val_accuracy: 0.9679\n",
      "Epoch 89/100\n",
      "1875/1875 [==============================] - ETA: 0s - loss: 0.0483 - accuracy: 0.9870\n",
      "Epoch 89: val_accuracy did not improve from 0.96790\n",
      "1875/1875 [==============================] - 26s 14ms/step - loss: 0.0483 - accuracy: 0.9870 - val_loss: 0.1500 - val_accuracy: 0.9658\n",
      "Epoch 90/100\n",
      "1871/1875 [============================>.] - ETA: 0s - loss: 0.0475 - accuracy: 0.9871\n",
      "Epoch 90: val_accuracy did not improve from 0.96790\n",
      "1875/1875 [==============================] - 26s 14ms/step - loss: 0.0475 - accuracy: 0.9872 - val_loss: 0.1457 - val_accuracy: 0.9671\n",
      "Epoch 91/100\n",
      "1874/1875 [============================>.] - ETA: 0s - loss: 0.0445 - accuracy: 0.9879\n",
      "Epoch 91: val_accuracy did not improve from 0.96790\n",
      "1875/1875 [==============================] - 26s 14ms/step - loss: 0.0444 - accuracy: 0.9879 - val_loss: 0.1448 - val_accuracy: 0.9670\n",
      "Epoch 92/100\n",
      "1874/1875 [============================>.] - ETA: 0s - loss: 0.0437 - accuracy: 0.9880\n",
      "Epoch 92: val_accuracy improved from 0.96790 to 0.96840, saving model to mnist_sigmoid_v1.h5\n",
      "1875/1875 [==============================] - 26s 14ms/step - loss: 0.0437 - accuracy: 0.9880 - val_loss: 0.1418 - val_accuracy: 0.9684\n",
      "Epoch 93/100\n",
      "1874/1875 [============================>.] - ETA: 0s - loss: 0.0415 - accuracy: 0.9891\n",
      "Epoch 93: val_accuracy did not improve from 0.96840\n",
      "1875/1875 [==============================] - 26s 14ms/step - loss: 0.0416 - accuracy: 0.9891 - val_loss: 0.1463 - val_accuracy: 0.9676\n",
      "Epoch 94/100\n",
      "1874/1875 [============================>.] - ETA: 0s - loss: 0.0420 - accuracy: 0.9892\n",
      "Epoch 94: val_accuracy did not improve from 0.96840\n",
      "1875/1875 [==============================] - 26s 14ms/step - loss: 0.0420 - accuracy: 0.9892 - val_loss: 0.1463 - val_accuracy: 0.9677\n",
      "Epoch 95/100\n",
      "1871/1875 [============================>.] - ETA: 0s - loss: 0.0416 - accuracy: 0.9891\n",
      "Epoch 95: val_accuracy did not improve from 0.96840\n",
      "1875/1875 [==============================] - 26s 14ms/step - loss: 0.0415 - accuracy: 0.9891 - val_loss: 0.1482 - val_accuracy: 0.9672\n",
      "Epoch 96/100\n",
      "1874/1875 [============================>.] - ETA: 0s - loss: 0.0405 - accuracy: 0.9891\n",
      "Epoch 96: val_accuracy did not improve from 0.96840\n",
      "1875/1875 [==============================] - 26s 14ms/step - loss: 0.0405 - accuracy: 0.9891 - val_loss: 0.1539 - val_accuracy: 0.9652\n",
      "Epoch 97/100\n",
      "1871/1875 [============================>.] - ETA: 0s - loss: 0.0394 - accuracy: 0.9893\n",
      "Epoch 97: val_accuracy did not improve from 0.96840\n",
      "1875/1875 [==============================] - 26s 14ms/step - loss: 0.0393 - accuracy: 0.9893 - val_loss: 0.1480 - val_accuracy: 0.9674\n",
      "Epoch 98/100\n",
      "1875/1875 [==============================] - ETA: 0s - loss: 0.0383 - accuracy: 0.9901\n",
      "Epoch 98: val_accuracy did not improve from 0.96840\n",
      "1875/1875 [==============================] - 26s 14ms/step - loss: 0.0383 - accuracy: 0.9901 - val_loss: 0.1464 - val_accuracy: 0.9681\n",
      "Epoch 99/100\n",
      "1873/1875 [============================>.] - ETA: 0s - loss: 0.0378 - accuracy: 0.9898\n",
      "Epoch 99: val_accuracy did not improve from 0.96840\n",
      "1875/1875 [==============================] - 26s 14ms/step - loss: 0.0378 - accuracy: 0.9898 - val_loss: 0.1527 - val_accuracy: 0.9678\n",
      "Epoch 100/100\n",
      "1871/1875 [============================>.] - ETA: 0s - loss: 0.0385 - accuracy: 0.9897\n",
      "Epoch 100: val_accuracy improved from 0.96840 to 0.96860, saving model to mnist_sigmoid_v1.h5\n",
      "1875/1875 [==============================] - 25s 13ms/step - loss: 0.0385 - accuracy: 0.9897 - val_loss: 0.1475 - val_accuracy: 0.9686\n"
     ]
    },
    {
     "data": {
      "text/plain": [
       "<keras.callbacks.History at 0x2c09597c0>"
      ]
     },
     "execution_count": 25,
     "metadata": {},
     "output_type": "execute_result"
    }
   ],
   "source": [
    "model.fit(X_train,y_train,          \n",
    "          validation_data=(X_test, y_test),\n",
    "          epochs=100,\n",
    "          batch_size=32, \n",
    "          callbacks=[model_checkpoint])"
   ]
  },
  {
   "cell_type": "code",
   "execution_count": 26,
   "metadata": {
    "id": "LsAgRyxxWT_T"
   },
   "outputs": [],
   "source": [
    "model.save('mnist_sigmoid_v1.h5')"
   ]
  },
  {
   "cell_type": "code",
   "execution_count": null,
   "metadata": {
    "id": "2GYh0wkyadQ7"
   },
   "outputs": [],
   "source": [
    "!ls -l"
   ]
  },
  {
   "cell_type": "markdown",
   "metadata": {
    "id": "Cjisqt59gp7l"
   },
   "source": [
    "Load a saved model"
   ]
  },
  {
   "cell_type": "code",
   "execution_count": 27,
   "metadata": {
    "id": "rtEgk_5tay8e"
   },
   "outputs": [],
   "source": [
    "model = tf.keras.models.load_model('mnist_sigmoid_v1.h5')"
   ]
  },
  {
   "cell_type": "code",
   "execution_count": 28,
   "metadata": {
    "id": "-zB1EYv9m_4e"
   },
   "outputs": [
    {
     "name": "stdout",
     "output_type": "stream",
     "text": [
      "Model: \"sequential_1\"\n",
      "_________________________________________________________________\n",
      " Layer (type)                Output Shape              Param #   \n",
      "=================================================================\n",
      " reshape (Reshape)           (None, 784)               0         \n",
      "                                                                 \n",
      " batch_normalization (BatchN  (None, 784)              3136      \n",
      " ormalization)                                                   \n",
      "                                                                 \n",
      " dense (Dense)               (None, 200)               157000    \n",
      "                                                                 \n",
      " dense_1 (Dense)             (None, 100)               20100     \n",
      "                                                                 \n",
      " dense_2 (Dense)             (None, 60)                6060      \n",
      "                                                                 \n",
      " dense_3 (Dense)             (None, 30)                1830      \n",
      "                                                                 \n",
      " dense_4 (Dense)             (None, 10)                310       \n",
      "                                                                 \n",
      "=================================================================\n",
      "Total params: 188,436\n",
      "Trainable params: 186,868\n",
      "Non-trainable params: 1,568\n",
      "_________________________________________________________________\n"
     ]
    }
   ],
   "source": [
    "model.summary()"
   ]
  },
  {
   "cell_type": "markdown",
   "metadata": {
    "id": "Dzuw6nSOm69M"
   },
   "source": [
    "### Model Prediction"
   ]
  },
  {
   "cell_type": "code",
   "execution_count": 29,
   "metadata": {
    "id": "ToXxgw8i-gcQ"
   },
   "outputs": [],
   "source": [
    "import numpy as np"
   ]
  },
  {
   "cell_type": "markdown",
   "metadata": {
    "id": "Za3sCZMrf1-g"
   },
   "source": [
    "What input shape model is expecting?"
   ]
  },
  {
   "cell_type": "code",
   "execution_count": 30,
   "metadata": {
    "id": "FJyCuyBapHYJ"
   },
   "outputs": [
    {
     "data": {
      "text/plain": [
       "<KerasTensor: shape=(None, 28, 28) dtype=float32 (created by layer 'reshape_input')>"
      ]
     },
     "execution_count": 30,
     "metadata": {},
     "output_type": "execute_result"
    }
   ],
   "source": [
    "model.input"
   ]
  },
  {
   "cell_type": "markdown",
   "metadata": {
    "id": "H5X0ikgMf56C"
   },
   "source": [
    "Predicting on first example"
   ]
  },
  {
   "cell_type": "code",
   "execution_count": 32,
   "metadata": {
    "id": "ueHiCTJcse5p"
   },
   "outputs": [
    {
     "data": {
      "text/plain": [
       "(28, 28)"
      ]
     },
     "execution_count": 32,
     "metadata": {},
     "output_type": "execute_result"
    }
   ],
   "source": [
    "X_test[0].shape"
   ]
  },
  {
   "cell_type": "code",
   "execution_count": 33,
   "metadata": {
    "id": "CDuavBUJdPC2"
   },
   "outputs": [
    {
     "name": "stdout",
     "output_type": "stream",
     "text": [
      "WARNING:tensorflow:Model was constructed with shape (None, 28, 28) for input KerasTensor(type_spec=TensorSpec(shape=(None, 28, 28), dtype=tf.float32, name='reshape_input'), name='reshape_input', description=\"created by layer 'reshape_input'\"), but it was called on an input with incompatible shape (None, 28).\n"
     ]
    },
    {
     "ename": "ValueError",
     "evalue": "in user code:\n\n    File \"/Users/vidyadharbendre/miniforge3/lib/python3.9/site-packages/keras/engine/training.py\", line 1845, in predict_function  *\n        return step_function(self, iterator)\n    File \"/Users/vidyadharbendre/miniforge3/lib/python3.9/site-packages/keras/engine/training.py\", line 1834, in step_function  **\n        outputs = model.distribute_strategy.run(run_step, args=(data,))\n    File \"/Users/vidyadharbendre/miniforge3/lib/python3.9/site-packages/keras/engine/training.py\", line 1823, in run_step  **\n        outputs = model.predict_step(data)\n    File \"/Users/vidyadharbendre/miniforge3/lib/python3.9/site-packages/keras/engine/training.py\", line 1791, in predict_step\n        return self(x, training=False)\n    File \"/Users/vidyadharbendre/miniforge3/lib/python3.9/site-packages/keras/utils/traceback_utils.py\", line 67, in error_handler\n        raise e.with_traceback(filtered_tb) from None\n    File \"/Users/vidyadharbendre/miniforge3/lib/python3.9/site-packages/keras/layers/reshaping/reshape.py\", line 111, in _fix_unknown_dimension\n        raise ValueError(msg)\n\n    ValueError: Exception encountered when calling layer \"reshape\" (type Reshape).\n    \n    total size of new array must be unchanged, input_shape = [28], output_shape = [784]\n    \n    Call arguments received by layer \"reshape\" (type Reshape):\n      • inputs=tf.Tensor(shape=(None, 28), dtype=float32)\n",
     "output_type": "error",
     "traceback": [
      "\u001b[0;31m---------------------------------------------------------------------------\u001b[0m",
      "\u001b[0;31mValueError\u001b[0m                                Traceback (most recent call last)",
      "Cell \u001b[0;32mIn[33], line 1\u001b[0m\n\u001b[0;32m----> 1\u001b[0m \u001b[43mmodel\u001b[49m\u001b[38;5;241;43m.\u001b[39;49m\u001b[43mpredict\u001b[49m\u001b[43m(\u001b[49m\u001b[43mX_test\u001b[49m\u001b[43m[\u001b[49m\u001b[38;5;241;43m0\u001b[39;49m\u001b[43m]\u001b[49m\u001b[43m)\u001b[49m\n",
      "File \u001b[0;32m~/miniforge3/lib/python3.9/site-packages/keras/utils/traceback_utils.py:67\u001b[0m, in \u001b[0;36mfilter_traceback.<locals>.error_handler\u001b[0;34m(*args, **kwargs)\u001b[0m\n\u001b[1;32m     65\u001b[0m \u001b[38;5;28;01mexcept\u001b[39;00m \u001b[38;5;167;01mException\u001b[39;00m \u001b[38;5;28;01mas\u001b[39;00m e:  \u001b[38;5;66;03m# pylint: disable=broad-except\u001b[39;00m\n\u001b[1;32m     66\u001b[0m   filtered_tb \u001b[38;5;241m=\u001b[39m _process_traceback_frames(e\u001b[38;5;241m.\u001b[39m__traceback__)\n\u001b[0;32m---> 67\u001b[0m   \u001b[38;5;28;01mraise\u001b[39;00m e\u001b[38;5;241m.\u001b[39mwith_traceback(filtered_tb) \u001b[38;5;28;01mfrom\u001b[39;00m \u001b[38;5;28;01mNone\u001b[39;00m\n\u001b[1;32m     68\u001b[0m \u001b[38;5;28;01mfinally\u001b[39;00m:\n\u001b[1;32m     69\u001b[0m   \u001b[38;5;28;01mdel\u001b[39;00m filtered_tb\n",
      "File \u001b[0;32m/var/folders/kd/yddgdhm92qxgkw2js4t89ksr0000gn/T/__autograph_generated_fileovy3vbrn.py:15\u001b[0m, in \u001b[0;36mouter_factory.<locals>.inner_factory.<locals>.tf__predict_function\u001b[0;34m(iterator)\u001b[0m\n\u001b[1;32m     13\u001b[0m \u001b[38;5;28;01mtry\u001b[39;00m:\n\u001b[1;32m     14\u001b[0m     do_return \u001b[38;5;241m=\u001b[39m \u001b[38;5;28;01mTrue\u001b[39;00m\n\u001b[0;32m---> 15\u001b[0m     retval_ \u001b[38;5;241m=\u001b[39m ag__\u001b[38;5;241m.\u001b[39mconverted_call(ag__\u001b[38;5;241m.\u001b[39mld(step_function), (ag__\u001b[38;5;241m.\u001b[39mld(\u001b[38;5;28mself\u001b[39m), ag__\u001b[38;5;241m.\u001b[39mld(iterator)), \u001b[38;5;28;01mNone\u001b[39;00m, fscope)\n\u001b[1;32m     16\u001b[0m \u001b[38;5;28;01mexcept\u001b[39;00m:\n\u001b[1;32m     17\u001b[0m     do_return \u001b[38;5;241m=\u001b[39m \u001b[38;5;28;01mFalse\u001b[39;00m\n",
      "\u001b[0;31mValueError\u001b[0m: in user code:\n\n    File \"/Users/vidyadharbendre/miniforge3/lib/python3.9/site-packages/keras/engine/training.py\", line 1845, in predict_function  *\n        return step_function(self, iterator)\n    File \"/Users/vidyadharbendre/miniforge3/lib/python3.9/site-packages/keras/engine/training.py\", line 1834, in step_function  **\n        outputs = model.distribute_strategy.run(run_step, args=(data,))\n    File \"/Users/vidyadharbendre/miniforge3/lib/python3.9/site-packages/keras/engine/training.py\", line 1823, in run_step  **\n        outputs = model.predict_step(data)\n    File \"/Users/vidyadharbendre/miniforge3/lib/python3.9/site-packages/keras/engine/training.py\", line 1791, in predict_step\n        return self(x, training=False)\n    File \"/Users/vidyadharbendre/miniforge3/lib/python3.9/site-packages/keras/utils/traceback_utils.py\", line 67, in error_handler\n        raise e.with_traceback(filtered_tb) from None\n    File \"/Users/vidyadharbendre/miniforge3/lib/python3.9/site-packages/keras/layers/reshaping/reshape.py\", line 111, in _fix_unknown_dimension\n        raise ValueError(msg)\n\n    ValueError: Exception encountered when calling layer \"reshape\" (type Reshape).\n    \n    total size of new array must be unchanged, input_shape = [28], output_shape = [784]\n    \n    Call arguments received by layer \"reshape\" (type Reshape):\n      • inputs=tf.Tensor(shape=(None, 28), dtype=float32)\n"
     ]
    }
   ],
   "source": [
    "model.predict(X_test[0])"
   ]
  },
  {
   "cell_type": "markdown",
   "metadata": {
    "id": "5b7hZms6f9Pc"
   },
   "source": [
    "Why are we getting the error?"
   ]
  },
  {
   "cell_type": "code",
   "execution_count": 34,
   "metadata": {
    "id": "iIXUb0DSOj46"
   },
   "outputs": [
    {
     "data": {
      "text/plain": [
       "(28, 28)"
      ]
     },
     "execution_count": 34,
     "metadata": {},
     "output_type": "execute_result"
    }
   ],
   "source": [
    "X_test[0].shape"
   ]
  },
  {
   "cell_type": "markdown",
   "metadata": {
    "id": "q8qJZrthgA2o"
   },
   "source": [
    "Building a Batch"
   ]
  },
  {
   "cell_type": "code",
   "execution_count": 35,
   "metadata": {
    "id": "qTPk1-1-OnMN"
   },
   "outputs": [
    {
     "data": {
      "text/plain": [
       "(1, 28, 28)"
      ]
     },
     "execution_count": 35,
     "metadata": {},
     "output_type": "execute_result"
    }
   ],
   "source": [
    "input_data = np.expand_dims(X_test[0], axis=0)\n",
    "input_data.shape"
   ]
  },
  {
   "cell_type": "markdown",
   "metadata": {
    "id": "gtVUC5_XgDRU"
   },
   "source": [
    "Model Prediction"
   ]
  },
  {
   "cell_type": "code",
   "execution_count": 36,
   "metadata": {
    "id": "kF2Pc1xZxmn_"
   },
   "outputs": [
    {
     "name": "stderr",
     "output_type": "stream",
     "text": [
      "2024-03-15 22:56:43.136425: I tensorflow/core/grappler/optimizers/custom_graph_optimizer_registry.cc:113] Plugin optimizer for device_type GPU is enabled.\n"
     ]
    },
    {
     "name": "stdout",
     "output_type": "stream",
     "text": [
      "1/1 [==============================] - 1s 767ms/step\n"
     ]
    },
    {
     "data": {
      "text/plain": [
       "array([[2.6913605e-09, 9.9392228e-06, 1.3465572e-06, 1.0237793e-03,\n",
       "        1.2037227e-08, 1.0251739e-06, 4.7387528e-13, 9.9845839e-01,\n",
       "        3.8781122e-06, 5.0167867e-04]], dtype=float32)"
      ]
     },
     "execution_count": 36,
     "metadata": {},
     "output_type": "execute_result"
    }
   ],
   "source": [
    "pred = model.predict(input_data)\n",
    "pred"
   ]
  },
  {
   "cell_type": "code",
   "execution_count": 37,
   "metadata": {
    "id": "81RPh-28PQRE"
   },
   "outputs": [
    {
     "data": {
      "text/plain": [
       "(1, 10)"
      ]
     },
     "execution_count": 37,
     "metadata": {},
     "output_type": "execute_result"
    }
   ],
   "source": [
    "pred.shape"
   ]
  },
  {
   "cell_type": "code",
   "execution_count": 38,
   "metadata": {
    "id": "ZHX4aemJzRRF"
   },
   "outputs": [
    {
     "data": {
      "text/plain": [
       "array([2.6913605e-09, 9.9392228e-06, 1.3465572e-06, 1.0237793e-03,\n",
       "       1.2037227e-08, 1.0251739e-06, 4.7387528e-13, 9.9845839e-01,\n",
       "       3.8781122e-06, 5.0167867e-04], dtype=float32)"
      ]
     },
     "execution_count": 38,
     "metadata": {},
     "output_type": "execute_result"
    }
   ],
   "source": [
    "pred[0]"
   ]
  },
  {
   "cell_type": "markdown",
   "metadata": {
    "id": "aKxckoKVgJAS"
   },
   "source": [
    "Predicted Class"
   ]
  },
  {
   "cell_type": "code",
   "execution_count": 39,
   "metadata": {
    "id": "QXuDg_kTzoFS"
   },
   "outputs": [
    {
     "data": {
      "text/plain": [
       "7"
      ]
     },
     "execution_count": 39,
     "metadata": {},
     "output_type": "execute_result"
    }
   ],
   "source": [
    "np.argmax(pred[0])"
   ]
  },
  {
   "cell_type": "code",
   "execution_count": 40,
   "metadata": {
    "id": "_B3RtKmluI1G"
   },
   "outputs": [
    {
     "data": {
      "text/plain": [
       "0.9984584"
      ]
     },
     "execution_count": 40,
     "metadata": {},
     "output_type": "execute_result"
    }
   ],
   "source": [
    "np.max(pred[0])"
   ]
  },
  {
   "cell_type": "markdown",
   "metadata": {
    "id": "_-dZh-NagLAl"
   },
   "source": [
    "Actual Class"
   ]
  },
  {
   "cell_type": "code",
   "execution_count": 41,
   "metadata": {
    "id": "Oq28b6Q60bGm"
   },
   "outputs": [
    {
     "data": {
      "text/plain": [
       "7"
      ]
     },
     "execution_count": 41,
     "metadata": {},
     "output_type": "execute_result"
    }
   ],
   "source": [
    "np.argmax(y_test[0])"
   ]
  },
  {
   "cell_type": "markdown",
   "metadata": {
    "id": "h0pUXhEfgNXa"
   },
   "source": [
    "Visual confirmation"
   ]
  },
  {
   "cell_type": "code",
   "execution_count": 42,
   "metadata": {
    "id": "C_dlOJjQzzPa"
   },
   "outputs": [
    {
     "data": {
      "image/png": "[encoded data removed]",
      "text/plain": [
       "<Figure size 640x480 with 1 Axes>"
      ]
     },
     "metadata": {},
     "output_type": "display_data"
    }
   ],
   "source": [
    "#Lets print the image as well\n",
    "import matplotlib.pyplot as plt\n",
    "plt.imshow(X_test[0],cmap='gray')\n",
    "plt.show()"
   ]
  },
  {
   "cell_type": "code",
   "execution_count": null,
   "metadata": {},
   "outputs": [],
   "source": []
  }
 ],
 "metadata": {
  "colab": {
   "collapsed_sections": [],
   "name": "6. Classification_MNIST_DNN_Keras.ipynb",
   "private_outputs": true,
   "provenance": []
  },
  "kernelspec": {
   "display_name": "Python 3 (ipykernel)",
   "language": "python",
   "name": "python3"
  },
  "language_info": {
   "codemirror_mode": {
    "name": "ipython",
    "version": 3
   },
   "file_extension": ".py",
   "mimetype": "text/x-python",
   "name": "python",
   "nbconvert_exporter": "python",
   "pygments_lexer": "ipython3",
   "version": "3.9.13"
  }
 },
 "nbformat": 4,
 "nbformat_minor": 4
}
