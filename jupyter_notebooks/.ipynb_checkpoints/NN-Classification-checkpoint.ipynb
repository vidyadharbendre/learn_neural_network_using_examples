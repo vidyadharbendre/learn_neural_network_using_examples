{
 "cells": [
  {
   "cell_type": "markdown",
   "id": "c17fc051",
   "metadata": {},
   "source": [
    "#  FRAUD DETECTION using Neural Network\n",
    "##### Objective:\n",
    "FRAUD DETECTION"
   ]
  },
  {
   "cell_type": "markdown",
   "id": "71a267c3",
   "metadata": {},
   "source": [
    "Approach:\n",
    "Here the note book contains 4 sections\n",
    "\n",
    "1) Exploratory Data analysis\n",
    "\n",
    "2) Applying  ML regression Models and Neural network model\n",
    "\n",
    "3) Improving the NN model\n",
    "\n",
    "4) Conclusion"
   ]
  },
  {
   "cell_type": "code",
   "execution_count": 1,
   "id": "226368e6",
   "metadata": {},
   "outputs": [],
   "source": [
    "import pandas as pd\n",
    "import numpy as np\n",
    "\n",
    "import matplotlib.pyplot as plt\n",
    "import seaborn as sns\n",
    "\n",
    "\n",
    "import datetime as dt\n",
    "import calendar,warnings,itertools,matplotlib,keras,shutil\n",
    "\n",
    "import statsmodels.api as sm\n",
    "from datetime import datetime\n",
    "\n",
    "from sklearn.model_selection import train_test_split\n",
    "from sklearn.preprocessing import StandardScaler,LabelEncoder\n",
    "from sklearn.ensemble import RandomForestClassifier\n",
    "from sklearn.metrics import accuracy_score,recall_score,confusion_matrix,f1_score\n",
    "\n",
    "import xgboost as xgb\n",
    "\n",
    "import tensorflow as tf\n",
    "from keras import Sequential\n",
    "from keras.layers import Dense\n",
    "from IPython.core import display as ICD\n",
    "\n",
    "\n",
    "#Hiding the warnings\n",
    "warnings.filterwarnings('ignore') "
   ]
  },
  {
   "cell_type": "markdown",
   "id": "b26bd6c2",
   "metadata": {},
   "source": [
    "### Fetching Data "
   ]
  },
  {
   "cell_type": "code",
   "execution_count": 2,
   "id": "3889c4bd",
   "metadata": {},
   "outputs": [
    {
     "data": {
      "text/html": [
       "<div>\n",
       "<style scoped>\n",
       "    .dataframe tbody tr th:only-of-type {\n",
       "        vertical-align: middle;\n",
       "    }\n",
       "\n",
       "    .dataframe tbody tr th {\n",
       "        vertical-align: top;\n",
       "    }\n",
       "\n",
       "    .dataframe thead th {\n",
       "        text-align: right;\n",
       "    }\n",
       "</style>\n",
       "<table border=\"1\" class=\"dataframe\">\n",
       "  <thead>\n",
       "    <tr style=\"text-align: right;\">\n",
       "      <th></th>\n",
       "      <th>Type</th>\n",
       "      <th>Days for shipping (real)</th>\n",
       "      <th>Days for shipment (scheduled)</th>\n",
       "      <th>Benefit per order</th>\n",
       "      <th>Sales per customer</th>\n",
       "      <th>Delivery Status</th>\n",
       "      <th>Late_delivery_risk</th>\n",
       "      <th>Category Id</th>\n",
       "      <th>Category Name</th>\n",
       "      <th>Customer City</th>\n",
       "      <th>...</th>\n",
       "      <th>Order Zipcode</th>\n",
       "      <th>Product Card Id</th>\n",
       "      <th>Product Category Id</th>\n",
       "      <th>Product Description</th>\n",
       "      <th>Product Image</th>\n",
       "      <th>Product Name</th>\n",
       "      <th>Product Price</th>\n",
       "      <th>Product Status</th>\n",
       "      <th>shipping date (DateOrders)</th>\n",
       "      <th>Shipping Mode</th>\n",
       "    </tr>\n",
       "  </thead>\n",
       "  <tbody>\n",
       "    <tr>\n",
       "      <th>0</th>\n",
       "      <td>DEBIT</td>\n",
       "      <td>3</td>\n",
       "      <td>4</td>\n",
       "      <td>91.250000</td>\n",
       "      <td>314.640015</td>\n",
       "      <td>Advance shipping</td>\n",
       "      <td>0</td>\n",
       "      <td>73</td>\n",
       "      <td>Sporting Goods</td>\n",
       "      <td>Caguas</td>\n",
       "      <td>...</td>\n",
       "      <td>NaN</td>\n",
       "      <td>1360</td>\n",
       "      <td>73</td>\n",
       "      <td>NaN</td>\n",
       "      <td>http://images.acmesports.sports/Smart+watch</td>\n",
       "      <td>Smart watch</td>\n",
       "      <td>327.75</td>\n",
       "      <td>0</td>\n",
       "      <td>2/3/2018 22:56</td>\n",
       "      <td>Standard Class</td>\n",
       "    </tr>\n",
       "    <tr>\n",
       "      <th>1</th>\n",
       "      <td>TRANSFER</td>\n",
       "      <td>5</td>\n",
       "      <td>4</td>\n",
       "      <td>-249.089996</td>\n",
       "      <td>311.359985</td>\n",
       "      <td>Late delivery</td>\n",
       "      <td>1</td>\n",
       "      <td>73</td>\n",
       "      <td>Sporting Goods</td>\n",
       "      <td>Caguas</td>\n",
       "      <td>...</td>\n",
       "      <td>NaN</td>\n",
       "      <td>1360</td>\n",
       "      <td>73</td>\n",
       "      <td>NaN</td>\n",
       "      <td>http://images.acmesports.sports/Smart+watch</td>\n",
       "      <td>Smart watch</td>\n",
       "      <td>327.75</td>\n",
       "      <td>0</td>\n",
       "      <td>1/18/2018 12:27</td>\n",
       "      <td>Standard Class</td>\n",
       "    </tr>\n",
       "    <tr>\n",
       "      <th>2</th>\n",
       "      <td>CASH</td>\n",
       "      <td>4</td>\n",
       "      <td>4</td>\n",
       "      <td>-247.779999</td>\n",
       "      <td>309.720001</td>\n",
       "      <td>Shipping on time</td>\n",
       "      <td>0</td>\n",
       "      <td>73</td>\n",
       "      <td>Sporting Goods</td>\n",
       "      <td>San Jose</td>\n",
       "      <td>...</td>\n",
       "      <td>NaN</td>\n",
       "      <td>1360</td>\n",
       "      <td>73</td>\n",
       "      <td>NaN</td>\n",
       "      <td>http://images.acmesports.sports/Smart+watch</td>\n",
       "      <td>Smart watch</td>\n",
       "      <td>327.75</td>\n",
       "      <td>0</td>\n",
       "      <td>1/17/2018 12:06</td>\n",
       "      <td>Standard Class</td>\n",
       "    </tr>\n",
       "    <tr>\n",
       "      <th>3</th>\n",
       "      <td>DEBIT</td>\n",
       "      <td>3</td>\n",
       "      <td>4</td>\n",
       "      <td>22.860001</td>\n",
       "      <td>304.809998</td>\n",
       "      <td>Advance shipping</td>\n",
       "      <td>0</td>\n",
       "      <td>73</td>\n",
       "      <td>Sporting Goods</td>\n",
       "      <td>Los Angeles</td>\n",
       "      <td>...</td>\n",
       "      <td>NaN</td>\n",
       "      <td>1360</td>\n",
       "      <td>73</td>\n",
       "      <td>NaN</td>\n",
       "      <td>http://images.acmesports.sports/Smart+watch</td>\n",
       "      <td>Smart watch</td>\n",
       "      <td>327.75</td>\n",
       "      <td>0</td>\n",
       "      <td>1/16/2018 11:45</td>\n",
       "      <td>Standard Class</td>\n",
       "    </tr>\n",
       "    <tr>\n",
       "      <th>4</th>\n",
       "      <td>PAYMENT</td>\n",
       "      <td>2</td>\n",
       "      <td>4</td>\n",
       "      <td>134.210007</td>\n",
       "      <td>298.250000</td>\n",
       "      <td>Advance shipping</td>\n",
       "      <td>0</td>\n",
       "      <td>73</td>\n",
       "      <td>Sporting Goods</td>\n",
       "      <td>Caguas</td>\n",
       "      <td>...</td>\n",
       "      <td>NaN</td>\n",
       "      <td>1360</td>\n",
       "      <td>73</td>\n",
       "      <td>NaN</td>\n",
       "      <td>http://images.acmesports.sports/Smart+watch</td>\n",
       "      <td>Smart watch</td>\n",
       "      <td>327.75</td>\n",
       "      <td>0</td>\n",
       "      <td>1/15/2018 11:24</td>\n",
       "      <td>Standard Class</td>\n",
       "    </tr>\n",
       "  </tbody>\n",
       "</table>\n",
       "<p>5 rows × 53 columns</p>\n",
       "</div>"
      ],
      "text/plain": [
       "       Type  Days for shipping (real)  Days for shipment (scheduled)  \\\n",
       "0     DEBIT                         3                              4   \n",
       "1  TRANSFER                         5                              4   \n",
       "2      CASH                         4                              4   \n",
       "3     DEBIT                         3                              4   \n",
       "4   PAYMENT                         2                              4   \n",
       "\n",
       "   Benefit per order  Sales per customer   Delivery Status  \\\n",
       "0          91.250000          314.640015  Advance shipping   \n",
       "1        -249.089996          311.359985     Late delivery   \n",
       "2        -247.779999          309.720001  Shipping on time   \n",
       "3          22.860001          304.809998  Advance shipping   \n",
       "4         134.210007          298.250000  Advance shipping   \n",
       "\n",
       "   Late_delivery_risk  Category Id   Category Name Customer City  ...  \\\n",
       "0                   0           73  Sporting Goods        Caguas  ...   \n",
       "1                   1           73  Sporting Goods        Caguas  ...   \n",
       "2                   0           73  Sporting Goods      San Jose  ...   \n",
       "3                   0           73  Sporting Goods   Los Angeles  ...   \n",
       "4                   0           73  Sporting Goods        Caguas  ...   \n",
       "\n",
       "  Order Zipcode Product Card Id Product Category Id  Product Description  \\\n",
       "0           NaN            1360                  73                  NaN   \n",
       "1           NaN            1360                  73                  NaN   \n",
       "2           NaN            1360                  73                  NaN   \n",
       "3           NaN            1360                  73                  NaN   \n",
       "4           NaN            1360                  73                  NaN   \n",
       "\n",
       "                                  Product Image  Product Name Product Price  \\\n",
       "0  http://images.acmesports.sports/Smart+watch   Smart watch         327.75   \n",
       "1  http://images.acmesports.sports/Smart+watch   Smart watch         327.75   \n",
       "2  http://images.acmesports.sports/Smart+watch   Smart watch         327.75   \n",
       "3  http://images.acmesports.sports/Smart+watch   Smart watch         327.75   \n",
       "4  http://images.acmesports.sports/Smart+watch   Smart watch         327.75   \n",
       "\n",
       "  Product Status shipping date (DateOrders)   Shipping Mode  \n",
       "0              0             2/3/2018 22:56  Standard Class  \n",
       "1              0            1/18/2018 12:27  Standard Class  \n",
       "2              0            1/17/2018 12:06  Standard Class  \n",
       "3              0            1/16/2018 11:45  Standard Class  \n",
       "4              0            1/15/2018 11:24  Standard Class  \n",
       "\n",
       "[5 rows x 53 columns]"
      ]
     },
     "execution_count": 2,
     "metadata": {},
     "output_type": "execute_result"
    }
   ],
   "source": [
    "dataset=pd.read_csv(r\"C:\\Users\\rajbo\\Downloads\\09. Deep learning\\09. Deep learning\\thati\\DataCoSupplyChainDataset.csv\\DataCoSupplyChainDataset.csv\",header= 0,encoding= 'unicode_escape')\n",
    "dataset.head(5)# Checking 5 rows in dataset"
   ]
  },
  {
   "cell_type": "code",
   "execution_count": 3,
   "id": "3b0e5c29",
   "metadata": {},
   "outputs": [
    {
     "data": {
      "text/plain": [
       "(180519, 53)"
      ]
     },
     "execution_count": 3,
     "metadata": {},
     "output_type": "execute_result"
    }
   ],
   "source": [
    "dataset.shape"
   ]
  },
  {
   "cell_type": "markdown",
   "id": "c5c8f5ca",
   "metadata": {},
   "source": [
    "### Checking the basic info about the data"
   ]
  },
  {
   "cell_type": "code",
   "execution_count": 4,
   "id": "a1697bb9",
   "metadata": {},
   "outputs": [
    {
     "name": "stdout",
     "output_type": "stream",
     "text": [
      "<class 'pandas.core.frame.DataFrame'>\n",
      "RangeIndex: 180519 entries, 0 to 180518\n",
      "Data columns (total 53 columns):\n",
      " #   Column                         Non-Null Count   Dtype  \n",
      "---  ------                         --------------   -----  \n",
      " 0   Type                           180519 non-null  object \n",
      " 1   Days for shipping (real)       180519 non-null  int64  \n",
      " 2   Days for shipment (scheduled)  180519 non-null  int64  \n",
      " 3   Benefit per order              180519 non-null  float64\n",
      " 4   Sales per customer             180519 non-null  float64\n",
      " 5   Delivery Status                180519 non-null  object \n",
      " 6   Late_delivery_risk             180519 non-null  int64  \n",
      " 7   Category Id                    180519 non-null  int64  \n",
      " 8   Category Name                  180519 non-null  object \n",
      " 9   Customer City                  180519 non-null  object \n",
      " 10  Customer Country               180519 non-null  object \n",
      " 11  Customer Email                 180519 non-null  object \n",
      " 12  Customer Fname                 180519 non-null  object \n",
      " 13  Customer Id                    180519 non-null  int64  \n",
      " 14  Customer Lname                 180511 non-null  object \n",
      " 15  Customer Password              180519 non-null  object \n",
      " 16  Customer Segment               180519 non-null  object \n",
      " 17  Customer State                 180519 non-null  object \n",
      " 18  Customer Street                180519 non-null  object \n",
      " 19  Customer Zipcode               180516 non-null  float64\n",
      " 20  Department Id                  180519 non-null  int64  \n",
      " 21  Department Name                180519 non-null  object \n",
      " 22  Latitude                       180519 non-null  float64\n",
      " 23  Longitude                      180519 non-null  float64\n",
      " 24  Market                         180519 non-null  object \n",
      " 25  Order City                     180519 non-null  object \n",
      " 26  Order Country                  180519 non-null  object \n",
      " 27  Order Customer Id              180519 non-null  int64  \n",
      " 28  order date (DateOrders)        180519 non-null  object \n",
      " 29  Order Id                       180519 non-null  int64  \n",
      " 30  Order Item Cardprod Id         180519 non-null  int64  \n",
      " 31  Order Item Discount            180519 non-null  float64\n",
      " 32  Order Item Discount Rate       180519 non-null  float64\n",
      " 33  Order Item Id                  180519 non-null  int64  \n",
      " 34  Order Item Product Price       180519 non-null  float64\n",
      " 35  Order Item Profit Ratio        180519 non-null  float64\n",
      " 36  Order Item Quantity            180519 non-null  int64  \n",
      " 37  Sales                          180519 non-null  float64\n",
      " 38  Order Item Total               180519 non-null  float64\n",
      " 39  Order Profit Per Order         180519 non-null  float64\n",
      " 40  Order Region                   180519 non-null  object \n",
      " 41  Order State                    180519 non-null  object \n",
      " 42  Order Status                   180519 non-null  object \n",
      " 43  Order Zipcode                  24840 non-null   float64\n",
      " 44  Product Card Id                180519 non-null  int64  \n",
      " 45  Product Category Id            180519 non-null  int64  \n",
      " 46  Product Description            0 non-null       float64\n",
      " 47  Product Image                  180519 non-null  object \n",
      " 48  Product Name                   180519 non-null  object \n",
      " 49  Product Price                  180519 non-null  float64\n",
      " 50  Product Status                 180519 non-null  int64  \n",
      " 51  shipping date (DateOrders)     180519 non-null  object \n",
      " 52  Shipping Mode                  180519 non-null  object \n",
      "dtypes: float64(15), int64(14), object(24)\n",
      "memory usage: 73.0+ MB\n"
     ]
    }
   ],
   "source": [
    "dataset.info()"
   ]
  },
  {
   "cell_type": "markdown",
   "id": "1beb9f78",
   "metadata": {},
   "source": [
    "### Checking the null values in the dataset"
   ]
  },
  {
   "cell_type": "code",
   "execution_count": 5,
   "id": "19625ff6",
   "metadata": {},
   "outputs": [],
   "source": [
    "# dataset.isnull().sum()"
   ]
  },
  {
   "cell_type": "markdown",
   "id": "90b2b847",
   "metadata": {},
   "source": [
    "### Data Cleaning"
   ]
  },
  {
   "cell_type": "markdown",
   "id": "7ba9a358",
   "metadata": {},
   "source": [
    "The data consists of some missing values from `Customer Lname, Product Description, Order Zipcode and, Customer Zipcode` which should be `removed or replaced` before proceeding with the analysis. And also, since there is a chance different customers might have the same first name or same last name a new column with ‘customer full name’ is created to avoid any ambiguities.\n",
    "\n"
   ]
  },
  {
   "cell_type": "code",
   "execution_count": 6,
   "id": "f00d1604",
   "metadata": {},
   "outputs": [],
   "source": [
    "# # Adding first name and last name together to create new column\n",
    "# dataset['Customer Full Name'] = dataset['Customer Fname'].astype(str)+dataset['Customer Lname'].astype(str)"
   ]
  },
  {
   "cell_type": "markdown",
   "id": "89625b35",
   "metadata": {},
   "source": [
    " To make it easier for analysis some unimportant columns are dropped"
   ]
  },
  {
   "cell_type": "code",
   "execution_count": 7,
   "id": "6c40e240",
   "metadata": {},
   "outputs": [
    {
     "data": {
      "text/plain": [
       "(180519, 41)"
      ]
     },
     "execution_count": 7,
     "metadata": {},
     "output_type": "execute_result"
    }
   ],
   "source": [
    "data=dataset.drop(['Customer Email','Product Status','Customer Password','Customer Street','Customer Fname','Customer Lname',\n",
    "           'Latitude','Longitude','Product Description','Product Image','Order Zipcode','shipping date (DateOrders)'],axis=1)\n",
    "data.shape"
   ]
  },
  {
   "cell_type": "code",
   "execution_count": 8,
   "id": "af674832",
   "metadata": {},
   "outputs": [],
   "source": [
    "data['Customer Zipcode']=data['Customer Zipcode'].fillna(0)"
   ]
  },
  {
   "cell_type": "markdown",
   "id": "c17049e0",
   "metadata": {},
   "source": [
    "### Data analysis using Visualisation"
   ]
  },
  {
   "cell_type": "markdown",
   "id": "b5591e70",
   "metadata": {},
   "source": [
    "#### Heatmap for correlation matrix"
   ]
  },
  {
   "cell_type": "code",
   "execution_count": 9,
   "id": "4d17d80e",
   "metadata": {},
   "outputs": [],
   "source": [
    "# fig, ax = plt.subplots(figsize=(24,12))\n",
    "# sns.heatmap(data.corr(),annot=True,linewidths=.5,fmt='.1g',cmap= 'coolwarm') # Heatmap for correlation matrix"
   ]
  },
  {
   "cell_type": "markdown",
   "id": "f8c782e5",
   "metadata": {},
   "source": [
    "#### Observation:\n",
    "- We can observe that product price price has high correlation with Sales,Order Item Total."
   ]
  },
  {
   "cell_type": "markdown",
   "id": "807b8773",
   "metadata": {},
   "source": [
    "- Finding which payment method is used to conduct frauds can be useful to prevent fraud from happening in future"
   ]
  },
  {
   "cell_type": "code",
   "execution_count": 10,
   "id": "ecf98c2f",
   "metadata": {},
   "outputs": [],
   "source": [
    "# #Checking type of payment used to conduct fraud other than Transfer\n",
    "# xyz = data[(data['Type'] != 'TRANSFER')&(data['Order Status'] == 'SUSPECTED_FRAUD')]\n",
    "# xyz['Order Region'].value_counts()"
   ]
  },
  {
   "cell_type": "markdown",
   "id": "048cb762",
   "metadata": {},
   "source": [
    "#### Observation:\n",
    "- It can be clearly seen that there are no frauds conducted with DEBIT,CASH,PAYMENT methods so all the suspected fraud orders are made using wire transfer probably from abroad. Which region and what product is being suspected to the fraud the most?"
   ]
  },
  {
   "cell_type": "code",
   "execution_count": 11,
   "id": "3b587284",
   "metadata": {},
   "outputs": [],
   "source": [
    "# high_fraud = data[(data['Order Status'] == 'SUSPECTED_FRAUD') & (data['Type'] == 'TRANSFER')]#separating orders with suspected fraud\n",
    "# #Plotting pie chart with respect to order region\n",
    "# fraud=high_fraud['Order Region'].value_counts().plot.pie(figsize=(24,12),\n",
    "#       startangle=180, explode=(0.1,0,0,0,0,0,0,0,0,0,0,0,0,0,0,0,0,0,0,0,0,0,0),autopct='%.1f',shadow=True,)\n",
    "# plt.title(\"Regions with Highest Fraud\",size=15,color='r') # Plotting title\n",
    "# plt.ylabel(\" \")\n",
    "# fraud.axis('equal') \n",
    "# plt.show()"
   ]
  },
  {
   "cell_type": "markdown",
   "id": "46722aea",
   "metadata": {},
   "source": [
    "#### Observation:\n",
    "- It can be observed that highest number of suspected fraud orders are from Western Europe which is approximately 17.4% of total orders followed by Central America with 15.5%. Which product is being suspected fraud the most?"
   ]
  },
  {
   "cell_type": "code",
   "execution_count": 12,
   "id": "98e705ef",
   "metadata": {},
   "outputs": [],
   "source": [
    "# high_fraud1 = data[(data['Order Status'] == 'SUSPECTED_FRAUD')] # \n",
    "# high_fraud2 = data[(data['Order Status'] == 'SUSPECTED_FRAUD') &(data['Order Region'] == 'Western Europe')]\n",
    "# #Plotting bar chart for top 10 most suspected fraud department in all regions\n",
    "# fraud1=high_fraud1['Category Name'].value_counts().nlargest(10).plot.bar(figsize=(13,6), title=\"Fraud Category\",color='orange')\n",
    "# #Plotting bar chart for top 10 most suspected fraud department in Western Europe\n",
    "# fraud2=high_fraud2['Category Name'].value_counts().nlargest(10).plot.bar(figsize=(13,6), title=\"Fraud product in Western Europe\",color='green')\n",
    "# plt.legend([\"All regions\", \"Western Europe\"])\n",
    "# plt.title(\"Top 10 products with highest fraud detections\", size=15)\n",
    "# plt.xlabel(\"Products\", size=13)\n",
    "# plt.ylim(0,600)\n",
    "# plt.show()"
   ]
  },
  {
   "cell_type": "markdown",
   "id": "1bafb9f6",
   "metadata": {},
   "source": [
    "#### Observation:\n",
    "- It is very suprising to see that cleats department is being suspected to fraud the most followed by Men's footwear in all the regions and also in Western Europe.Which customers are conducting all these fraud?\n",
    "\n"
   ]
  },
  {
   "cell_type": "code",
   "execution_count": 13,
   "id": "8c8ee4a0",
   "metadata": {},
   "outputs": [],
   "source": [
    "# #Filtering out suspected fruad orders\n",
    "# cus = data[(data['Order Status'] == 'SUSPECTED_FRAUD')] \n",
    "# #Top 10 customers with most fraud\n",
    "# cus['Customer Full Name'].value_counts().nlargest(10).plot.bar(figsize=(20,8), title=\"Top 10 Highest Fraud Customers\")"
   ]
  },
  {
   "cell_type": "markdown",
   "id": "f51e0e41",
   "metadata": {},
   "source": [
    "#### Observation:\n",
    "- The customer named Mary Smith alone was responible for trying to conduct fraud 528 times"
   ]
  },
  {
   "cell_type": "markdown",
   "id": "72b5127e",
   "metadata": {},
   "source": [
    "### Data Splitting "
   ]
  },
  {
   "cell_type": "code",
   "execution_count": 14,
   "id": "8802a45c",
   "metadata": {},
   "outputs": [],
   "source": [
    "#Calculating total price for which each order\n",
    "data['TotalPrice'] = data['Order Item Quantity'] * data['Order Item Total']# Multiplying item price * Order quantity\n",
    "data['order date (DateOrders)'] = pd.to_datetime(data['order date (DateOrders)'])"
   ]
  },
  {
   "cell_type": "code",
   "execution_count": 15,
   "id": "5a25f531",
   "metadata": {},
   "outputs": [],
   "source": [
    "train_data=data.copy()"
   ]
  },
  {
   "cell_type": "markdown",
   "id": "2385310e",
   "metadata": {},
   "source": [
    "Two new columns are created for orders with suspected fraud and late delivery making them into binary classification, which in turn helps to measure performance of different models better."
   ]
  },
  {
   "cell_type": "code",
   "execution_count": 16,
   "id": "3be742b3",
   "metadata": {},
   "outputs": [],
   "source": [
    "train_data['fraud'] = np.where(train_data['Order Status'] == 'SUSPECTED_FRAUD', 1, 0)"
   ]
  },
  {
   "cell_type": "markdown",
   "id": "bc836d46",
   "metadata": {},
   "source": [
    "Now to measure machine models accurately all the columns with repeated values are dropped like late_delivery_risk column because, it is known all the products with late delivery risk are delivered late. And Order Status column because, a new column for fraud detection is created there is a chance machine learning model might take values directly from these columns to predict output."
   ]
  },
  {
   "cell_type": "code",
   "execution_count": 17,
   "id": "c3dc7e5a",
   "metadata": {},
   "outputs": [],
   "source": [
    "#Dropping columns with repeated values\n",
    "train_data.drop(['Delivery Status','Late_delivery_risk','Order Status','order date (DateOrders)'], axis=1, inplace=True)"
   ]
  },
  {
   "cell_type": "markdown",
   "id": "290b5962",
   "metadata": {},
   "source": [
    "It is important to check the type of variables in the data because machine learning models can only be trained with numerical values."
   ]
  },
  {
   "cell_type": "code",
   "execution_count": 18,
   "id": "8152cbe6",
   "metadata": {},
   "outputs": [
    {
     "data": {
      "text/plain": [
       "Type                              object\n",
       "Days for shipping (real)           int64\n",
       "Days for shipment (scheduled)      int64\n",
       "Benefit per order                float64\n",
       "Sales per customer               float64\n",
       "Category Id                        int64\n",
       "Category Name                     object\n",
       "Customer City                     object\n",
       "Customer Country                  object\n",
       "Customer Id                        int64\n",
       "Customer Segment                  object\n",
       "Customer State                    object\n",
       "Customer Zipcode                 float64\n",
       "Department Id                      int64\n",
       "Department Name                   object\n",
       "Market                            object\n",
       "Order City                        object\n",
       "Order Country                     object\n",
       "Order Customer Id                  int64\n",
       "Order Id                           int64\n",
       "Order Item Cardprod Id             int64\n",
       "Order Item Discount              float64\n",
       "Order Item Discount Rate         float64\n",
       "Order Item Id                      int64\n",
       "Order Item Product Price         float64\n",
       "Order Item Profit Ratio          float64\n",
       "Order Item Quantity                int64\n",
       "Sales                            float64\n",
       "Order Item Total                 float64\n",
       "Order Profit Per Order           float64\n",
       "Order Region                      object\n",
       "Order State                       object\n",
       "Product Card Id                    int64\n",
       "Product Category Id                int64\n",
       "Product Name                      object\n",
       "Product Price                    float64\n",
       "Shipping Mode                     object\n",
       "TotalPrice                       float64\n",
       "fraud                              int32\n",
       "dtype: object"
      ]
     },
     "execution_count": 18,
     "metadata": {},
     "output_type": "execute_result"
    }
   ],
   "source": [
    "train_data.dtypes"
   ]
  },
  {
   "cell_type": "markdown",
   "id": "ba5ec373",
   "metadata": {},
   "source": [
    "### Feature Encoding "
   ]
  },
  {
   "cell_type": "code",
   "execution_count": 19,
   "id": "6cd06d3c",
   "metadata": {},
   "outputs": [
    {
     "data": {
      "text/html": [
       "<div>\n",
       "<style scoped>\n",
       "    .dataframe tbody tr th:only-of-type {\n",
       "        vertical-align: middle;\n",
       "    }\n",
       "\n",
       "    .dataframe tbody tr th {\n",
       "        vertical-align: top;\n",
       "    }\n",
       "\n",
       "    .dataframe thead th {\n",
       "        text-align: right;\n",
       "    }\n",
       "</style>\n",
       "<table border=\"1\" class=\"dataframe\">\n",
       "  <thead>\n",
       "    <tr style=\"text-align: right;\">\n",
       "      <th></th>\n",
       "      <th>Type</th>\n",
       "      <th>Days for shipping (real)</th>\n",
       "      <th>Days for shipment (scheduled)</th>\n",
       "      <th>Benefit per order</th>\n",
       "      <th>Sales per customer</th>\n",
       "      <th>Category Id</th>\n",
       "      <th>Category Name</th>\n",
       "      <th>Customer City</th>\n",
       "      <th>Customer Country</th>\n",
       "      <th>Customer Id</th>\n",
       "      <th>...</th>\n",
       "      <th>Order Profit Per Order</th>\n",
       "      <th>Order Region</th>\n",
       "      <th>Order State</th>\n",
       "      <th>Product Card Id</th>\n",
       "      <th>Product Category Id</th>\n",
       "      <th>Product Name</th>\n",
       "      <th>Product Price</th>\n",
       "      <th>Shipping Mode</th>\n",
       "      <th>TotalPrice</th>\n",
       "      <th>fraud</th>\n",
       "    </tr>\n",
       "  </thead>\n",
       "  <tbody>\n",
       "    <tr>\n",
       "      <th>0</th>\n",
       "      <td>1</td>\n",
       "      <td>3</td>\n",
       "      <td>4</td>\n",
       "      <td>91.250000</td>\n",
       "      <td>314.640015</td>\n",
       "      <td>73</td>\n",
       "      <td>40</td>\n",
       "      <td>66</td>\n",
       "      <td>1</td>\n",
       "      <td>20755</td>\n",
       "      <td>...</td>\n",
       "      <td>91.250000</td>\n",
       "      <td>15</td>\n",
       "      <td>475</td>\n",
       "      <td>1360</td>\n",
       "      <td>73</td>\n",
       "      <td>78</td>\n",
       "      <td>327.75</td>\n",
       "      <td>3</td>\n",
       "      <td>314.640015</td>\n",
       "      <td>0</td>\n",
       "    </tr>\n",
       "    <tr>\n",
       "      <th>1</th>\n",
       "      <td>3</td>\n",
       "      <td>5</td>\n",
       "      <td>4</td>\n",
       "      <td>-249.089996</td>\n",
       "      <td>311.359985</td>\n",
       "      <td>73</td>\n",
       "      <td>40</td>\n",
       "      <td>66</td>\n",
       "      <td>1</td>\n",
       "      <td>19492</td>\n",
       "      <td>...</td>\n",
       "      <td>-249.089996</td>\n",
       "      <td>13</td>\n",
       "      <td>841</td>\n",
       "      <td>1360</td>\n",
       "      <td>73</td>\n",
       "      <td>78</td>\n",
       "      <td>327.75</td>\n",
       "      <td>3</td>\n",
       "      <td>311.359985</td>\n",
       "      <td>0</td>\n",
       "    </tr>\n",
       "    <tr>\n",
       "      <th>2</th>\n",
       "      <td>0</td>\n",
       "      <td>4</td>\n",
       "      <td>4</td>\n",
       "      <td>-247.779999</td>\n",
       "      <td>309.720001</td>\n",
       "      <td>73</td>\n",
       "      <td>40</td>\n",
       "      <td>452</td>\n",
       "      <td>0</td>\n",
       "      <td>19491</td>\n",
       "      <td>...</td>\n",
       "      <td>-247.779999</td>\n",
       "      <td>13</td>\n",
       "      <td>841</td>\n",
       "      <td>1360</td>\n",
       "      <td>73</td>\n",
       "      <td>78</td>\n",
       "      <td>327.75</td>\n",
       "      <td>3</td>\n",
       "      <td>309.720001</td>\n",
       "      <td>0</td>\n",
       "    </tr>\n",
       "    <tr>\n",
       "      <th>3</th>\n",
       "      <td>1</td>\n",
       "      <td>3</td>\n",
       "      <td>4</td>\n",
       "      <td>22.860001</td>\n",
       "      <td>304.809998</td>\n",
       "      <td>73</td>\n",
       "      <td>40</td>\n",
       "      <td>285</td>\n",
       "      <td>0</td>\n",
       "      <td>19490</td>\n",
       "      <td>...</td>\n",
       "      <td>22.860001</td>\n",
       "      <td>11</td>\n",
       "      <td>835</td>\n",
       "      <td>1360</td>\n",
       "      <td>73</td>\n",
       "      <td>78</td>\n",
       "      <td>327.75</td>\n",
       "      <td>3</td>\n",
       "      <td>304.809998</td>\n",
       "      <td>0</td>\n",
       "    </tr>\n",
       "    <tr>\n",
       "      <th>4</th>\n",
       "      <td>2</td>\n",
       "      <td>2</td>\n",
       "      <td>4</td>\n",
       "      <td>134.210007</td>\n",
       "      <td>298.250000</td>\n",
       "      <td>73</td>\n",
       "      <td>40</td>\n",
       "      <td>66</td>\n",
       "      <td>1</td>\n",
       "      <td>19489</td>\n",
       "      <td>...</td>\n",
       "      <td>134.210007</td>\n",
       "      <td>11</td>\n",
       "      <td>835</td>\n",
       "      <td>1360</td>\n",
       "      <td>73</td>\n",
       "      <td>78</td>\n",
       "      <td>327.75</td>\n",
       "      <td>3</td>\n",
       "      <td>298.250000</td>\n",
       "      <td>0</td>\n",
       "    </tr>\n",
       "  </tbody>\n",
       "</table>\n",
       "<p>5 rows × 39 columns</p>\n",
       "</div>"
      ],
      "text/plain": [
       "   Type  Days for shipping (real)  Days for shipment (scheduled)  \\\n",
       "0     1                         3                              4   \n",
       "1     3                         5                              4   \n",
       "2     0                         4                              4   \n",
       "3     1                         3                              4   \n",
       "4     2                         2                              4   \n",
       "\n",
       "   Benefit per order  Sales per customer  Category Id  Category Name  \\\n",
       "0          91.250000          314.640015           73             40   \n",
       "1        -249.089996          311.359985           73             40   \n",
       "2        -247.779999          309.720001           73             40   \n",
       "3          22.860001          304.809998           73             40   \n",
       "4         134.210007          298.250000           73             40   \n",
       "\n",
       "   Customer City  Customer Country  Customer Id  ...  Order Profit Per Order  \\\n",
       "0             66                 1        20755  ...               91.250000   \n",
       "1             66                 1        19492  ...             -249.089996   \n",
       "2            452                 0        19491  ...             -247.779999   \n",
       "3            285                 0        19490  ...               22.860001   \n",
       "4             66                 1        19489  ...              134.210007   \n",
       "\n",
       "   Order Region  Order State  Product Card Id  Product Category Id  \\\n",
       "0            15          475             1360                   73   \n",
       "1            13          841             1360                   73   \n",
       "2            13          841             1360                   73   \n",
       "3            11          835             1360                   73   \n",
       "4            11          835             1360                   73   \n",
       "\n",
       "   Product Name  Product Price  Shipping Mode  TotalPrice  fraud  \n",
       "0            78         327.75              3  314.640015      0  \n",
       "1            78         327.75              3  311.359985      0  \n",
       "2            78         327.75              3  309.720001      0  \n",
       "3            78         327.75              3  304.809998      0  \n",
       "4            78         327.75              3  298.250000      0  \n",
       "\n",
       "[5 rows x 39 columns]"
      ]
     },
     "execution_count": 19,
     "metadata": {},
     "output_type": "execute_result"
    }
   ],
   "source": [
    "# create the Labelencoder object\n",
    "le =LabelEncoder()\n",
    "#convert the categorical columns into numeric\n",
    "train_data['Customer Country']  = le.fit_transform(train_data['Customer Country'])\n",
    "train_data['Market']            = le.fit_transform(train_data['Market'])\n",
    "train_data['Type']              = le.fit_transform(train_data['Type'])\n",
    "train_data['Product Name']      = le.fit_transform(train_data['Product Name'])\n",
    "train_data['Customer Segment']  = le.fit_transform(train_data['Customer Segment'])\n",
    "train_data['Customer State']    = le.fit_transform(train_data['Customer State'])\n",
    "train_data['Order Region']      = le.fit_transform(train_data['Order Region'])\n",
    "train_data['Order City']        = le.fit_transform(train_data['Order City'])\n",
    "train_data['Category Name']     = le.fit_transform(train_data['Category Name'])\n",
    "train_data['Customer City']     = le.fit_transform(train_data['Customer City'])\n",
    "train_data['Department Name']   = le.fit_transform(train_data['Department Name'])\n",
    "train_data['Order State']       = le.fit_transform(train_data['Order State'])\n",
    "train_data['Shipping Mode']     = le.fit_transform(train_data['Shipping Mode'])\n",
    "#train_data['order_week_day']    = le.fit_transform(train_data['order_week_day'])\n",
    "train_data['Order Country']     = le.fit_transform(train_data['Order Country'])\n",
    "# train_data['Customer Full Name']= le.fit_transform(train_data['Customer Full Name'])\n",
    "\n",
    "#display the initial records\n",
    "train_data.head()\n"
   ]
  },
  {
   "cell_type": "code",
   "execution_count": 20,
   "id": "83323c8d",
   "metadata": {},
   "outputs": [],
   "source": [
    "#All columns expect fraud\n",
    "xf=train_data.loc[:, train_data.columns != 'fraud']\n",
    "#Only fraud column\n",
    "yf=train_data['fraud']\n",
    "\n",
    "xf_train, xf_test,yf_train,yf_test = train_test_split(xf,yf,test_size = 0.2,random_state = 42)"
   ]
  },
  {
   "cell_type": "markdown",
   "id": "b567967b",
   "metadata": {},
   "source": [
    "### Feature Scaling"
   ]
  },
  {
   "cell_type": "markdown",
   "id": "0207b1d8",
   "metadata": {},
   "source": [
    "Since there are so many different variables with different ranges standard scaler is used to standardize total the data so it is internally consistent before training the data with machine learning."
   ]
  },
  {
   "cell_type": "code",
   "execution_count": 21,
   "id": "6abd674e",
   "metadata": {},
   "outputs": [],
   "source": [
    "sc = StandardScaler()\n",
    "xf_train=sc.fit_transform(xf_train)\n",
    "xf_test=sc.transform(xf_test)\n"
   ]
  },
  {
   "cell_type": "markdown",
   "id": "e7da5ae8",
   "metadata": {},
   "source": [
    "The data is now ready to be used in machine learning models since many different models are compared training every model from begining is complicated so a function is defined to make the process bit easy. The output is in binary classification format so all the models are measured with `Accuracy score,recall score and F1 score` metrics.\n",
    "\n",
    "To measure the performance of different models `F1 score` is `used as the main metric` because it is the harmonic mean of precison score and recall score.And all the scores are multiplied with 100 for better understanding"
   ]
  },
  {
   "cell_type": "markdown",
   "id": "0053124a",
   "metadata": {},
   "source": [
    "### ML Models"
   ]
  },
  {
   "cell_type": "code",
   "execution_count": 22,
   "id": "2f920664",
   "metadata": {},
   "outputs": [],
   "source": [
    "def classifiermodel(model_f,xf_train, xf_test,yf_train,yf_test):\n",
    "    model_f=model_f.fit(xf_train,yf_train) # Fitting train data for fraud detection\n",
    "    \n",
    "    yf_pred=model_f.predict(xf_test)\n",
    "    \n",
    "    accuracy_f=accuracy_score(yf_pred, yf_test) #Accuracy for fraud detection\n",
    "    \n",
    "    recall_f=recall_score(yf_pred, yf_test) #Recall score for  fraud detection\n",
    "   \n",
    "    conf_f=confusion_matrix(yf_test, yf_pred)# fraud detection\n",
    "   \n",
    "    f1_f=f1_score(yf_test, yf_pred)#fraud detection\n",
    "    \n",
    "    #print('Model paramters used are :',model_f)\n",
    "    print('Accuracy of fraud status is        :', (accuracy_f)*100,'%')\n",
    "    print('Recall score of fraud status is        :', (recall_f)*100,'%')\n",
    "#     print('Conf Matrix of fraud status is        :\\n',  (conf_f))\n",
    "    print('F1 score of fraud status is        :', (f1_f)*100,'%')\n",
    "    \n",
    "\n"
   ]
  },
  {
   "cell_type": "markdown",
   "id": "938df417",
   "metadata": {},
   "source": [
    "### Random Forest classification"
   ]
  },
  {
   "cell_type": "code",
   "execution_count": 23,
   "id": "2b42afaf",
   "metadata": {},
   "outputs": [
    {
     "name": "stdout",
     "output_type": "stream",
     "text": [
      "Accuracy of fraud status is        : 97.75925105251495 %\n",
      "Recall score of fraud status is        : 100.0 %\n",
      "F1 score of fraud status is        : 9.203142536475868 %\n"
     ]
    }
   ],
   "source": [
    "model_f = RandomForestClassifier()\n",
    "classifiermodel(model_f,xf_train, xf_test,yf_train,yf_test)"
   ]
  },
  {
   "cell_type": "markdown",
   "id": "b3d6c1a8",
   "metadata": {},
   "source": [
    "### eXtreme Gradient Boosting Classification"
   ]
  },
  {
   "cell_type": "code",
   "execution_count": 24,
   "id": "f4315a9c",
   "metadata": {},
   "outputs": [
    {
     "name": "stdout",
     "output_type": "stream",
     "text": [
      "[16:57:38] WARNING: C:/Users/Administrator/workspace/xgboost-win64_release_1.5.0/src/learner.cc:1115: Starting in XGBoost 1.3.0, the default evaluation metric used with the objective 'binary:logistic' was changed from 'error' to 'logloss'. Explicitly set eval_metric if you'd like to restore the old behavior.\n",
      "Accuracy of fraud status is        : 97.9309771770441 %\n",
      "Recall score of fraud status is        : 98.13084112149532 %\n",
      "F1 score of fraud status is        : 21.9435736677116 %\n"
     ]
    }
   ],
   "source": [
    "model_f = xgb.XGBClassifier()\n",
    "classifiermodel(model_f,xf_train, xf_test,yf_train,yf_test)"
   ]
  },
  {
   "cell_type": "markdown",
   "id": "58c867d8",
   "metadata": {},
   "source": [
    "### Neural Network Model for Classification"
   ]
  },
  {
   "cell_type": "code",
   "execution_count": 25,
   "id": "4c7bb039",
   "metadata": {},
   "outputs": [],
   "source": [
    "classifier = Sequential()\n",
    "\n",
    "classifier.add(Dense(1024, activation='relu', input_dim=38)) #Since we have 44 columns\n",
    "\n",
    "classifier.add(Dense(512, activation='relu'))\n",
    "\n",
    "classifier.add(Dense(256, activation='relu'))\n",
    "\n",
    "classifier.add(Dense(128, activation='relu'))\n",
    "\n",
    "classifier.add(Dense(64, activation='relu'))\n",
    "\n",
    "classifier.add(Dense(32, activation='relu'))\n",
    "\n",
    "classifier.add(Dense(16, activation='relu'))\n",
    "\n",
    "classifier.add(Dense(8, activation='relu'))\n",
    "\n",
    "classifier.add(Dense(4, activation='relu'))\n",
    "\n",
    "classifier.add(Dense(2, activation='relu'))\n",
    "\n",
    "classifier.add(Dense(1, activation='sigmoid'))"
   ]
  },
  {
   "cell_type": "markdown",
   "id": "9d5b5897",
   "metadata": {},
   "source": [
    "Since output data is binary classification the binary_crossentropy is used to measure loss and accuracy is used as metric to train the model because F1 score is not available in Keras."
   ]
  },
  {
   "cell_type": "code",
   "execution_count": 26,
   "id": "bdd159d5",
   "metadata": {},
   "outputs": [],
   "source": [
    "classifier.compile(optimizer='adam',loss='binary_crossentropy',metrics=['accuracy'])"
   ]
  },
  {
   "cell_type": "code",
   "execution_count": 27,
   "id": "b61f500f",
   "metadata": {},
   "outputs": [
    {
     "name": "stdout",
     "output_type": "stream",
     "text": [
      "Model: \"sequential\"\n",
      "_________________________________________________________________\n",
      " Layer (type)                Output Shape              Param #   \n",
      "=================================================================\n",
      " dense (Dense)               (None, 1024)              39936     \n",
      "                                                                 \n",
      " dense_1 (Dense)             (None, 512)               524800    \n",
      "                                                                 \n",
      " dense_2 (Dense)             (None, 256)               131328    \n",
      "                                                                 \n",
      " dense_3 (Dense)             (None, 128)               32896     \n",
      "                                                                 \n",
      " dense_4 (Dense)             (None, 64)                8256      \n",
      "                                                                 \n",
      " dense_5 (Dense)             (None, 32)                2080      \n",
      "                                                                 \n",
      " dense_6 (Dense)             (None, 16)                528       \n",
      "                                                                 \n",
      " dense_7 (Dense)             (None, 8)                 136       \n",
      "                                                                 \n",
      " dense_8 (Dense)             (None, 4)                 36        \n",
      "                                                                 \n",
      " dense_9 (Dense)             (None, 2)                 10        \n",
      "                                                                 \n",
      " dense_10 (Dense)            (None, 1)                 3         \n",
      "                                                                 \n",
      "=================================================================\n",
      "Total params: 740,009\n",
      "Trainable params: 740,009\n",
      "Non-trainable params: 0\n",
      "_________________________________________________________________\n"
     ]
    }
   ],
   "source": [
    "classifier.summary()"
   ]
  },
  {
   "cell_type": "markdown",
   "id": "e675119d",
   "metadata": {},
   "source": [
    "The model is trained with batch size of 512 and 10 epochs.\n",
    "\n"
   ]
  },
  {
   "cell_type": "code",
   "execution_count": 28,
   "id": "82c359e4",
   "metadata": {},
   "outputs": [
    {
     "name": "stdout",
     "output_type": "stream",
     "text": [
      "Epoch 1/10\n",
      "283/283 [==============================] - 5s 7ms/step - loss: 0.6305 - accuracy: 0.9710\n",
      "Epoch 2/10\n",
      "283/283 [==============================] - 2s 7ms/step - loss: 0.5219 - accuracy: 0.9778\n",
      "Epoch 3/10\n",
      "283/283 [==============================] - 2s 6ms/step - loss: 0.4363 - accuracy: 0.9778\n",
      "Epoch 4/10\n",
      "283/283 [==============================] - 2s 6ms/step - loss: 0.3690 - accuracy: 0.9778\n",
      "Epoch 5/10\n",
      "283/283 [==============================] - 2s 7ms/step - loss: 0.3161 - accuracy: 0.9778\n",
      "Epoch 6/10\n",
      "283/283 [==============================] - 2s 7ms/step - loss: 0.2742 - accuracy: 0.9778\n",
      "Epoch 7/10\n",
      "283/283 [==============================] - 2s 6ms/step - loss: 0.2410 - accuracy: 0.9778\n",
      "Epoch 8/10\n",
      "283/283 [==============================] - 2s 6ms/step - loss: 0.2145 - accuracy: 0.9778\n",
      "Epoch 9/10\n",
      "283/283 [==============================] - 2s 5ms/step - loss: 0.1933 - accuracy: 0.9778\n",
      "Epoch 10/10\n",
      "283/283 [==============================] - 2s 6ms/step - loss: 0.1762 - accuracy: 0.9778\n"
     ]
    },
    {
     "data": {
      "text/plain": [
       "<keras.callbacks.History at 0x21b0758e9d0>"
      ]
     },
     "execution_count": 28,
     "metadata": {},
     "output_type": "execute_result"
    }
   ],
   "source": [
    "#Fitting the data to the training dataset\n",
    "classifier.fit(xf_train,yf_train, batch_size=512, epochs=10)"
   ]
  },
  {
   "cell_type": "markdown",
   "id": "694d319b",
   "metadata": {},
   "source": [
    "###  Improving the NN Classification model"
   ]
  },
  {
   "cell_type": "code",
   "execution_count": 29,
   "id": "aa9e1e4e",
   "metadata": {},
   "outputs": [],
   "source": [
    "# classifier.fit(xf_train,yf_train, batch_size=512, epochs=30)"
   ]
  },
  {
   "cell_type": "markdown",
   "id": "fc8fd1b1",
   "metadata": {},
   "source": [
    "The model is evaluated with test data set\n",
    "\n"
   ]
  },
  {
   "cell_type": "code",
   "execution_count": 30,
   "id": "4cec8e31",
   "metadata": {},
   "outputs": [
    {
     "name": "stdout",
     "output_type": "stream",
     "text": [
      "4513/4513 [==============================] - 12s 3ms/step - loss: 0.1687 - accuracy: 0.9778\n",
      "1129/1129 [==============================] - 3s 3ms/step - loss: 0.1714 - accuracy: 0.9765\n",
      "71/71 [==============================] - 0s 4ms/step\n",
      "accuracy for Train set is 0.977758526802063\n",
      "accuracy for Test set is 0.976456880569458\n",
      "F1_Score for Test set is 0.9648255733921929\n"
     ]
    }
   ],
   "source": [
    "train_evaluate=classifier.evaluate(xf_train, yf_train)\n",
    "test_evaluate=classifier.evaluate(xf_test, yf_test)\n",
    "\n",
    "yf_pred1=classifier.predict(xf_test,batch_size=512,verbose=1)\n",
    "yf_pred=np.argmax(yf_pred1,axis=1)\n",
    "\n",
    "\n",
    "print('accuracy for Train set is',train_evaluate[1])\n",
    "print('accuracy for Test set is',test_evaluate[1])# evaluation of model.\n",
    "print('F1_Score for Test set is',f1_score(yf_test,yf_pred,average=\"weighted\"))"
   ]
  },
  {
   "cell_type": "markdown",
   "id": "235546ae",
   "metadata": {},
   "source": [
    "### Conclusion"
   ]
  },
  {
   "cell_type": "markdown",
   "id": "2f881bfe",
   "metadata": {},
   "source": [
    "The `f1 score for neural network model is 96.48%` which is pretty high and better when compared with `xGB f1 score which was 71.25`.But comparing accuracy scores it can concluded that even machine learning models did pretty good for fraud detection."
   ]
  },
  {
   "cell_type": "code",
   "execution_count": null,
   "id": "5938d73e",
   "metadata": {},
   "outputs": [],
   "source": []
  },
  {
   "cell_type": "code",
   "execution_count": null,
   "id": "77e57928",
   "metadata": {},
   "outputs": [],
   "source": []
  }
 ],
 "metadata": {
  "kernelspec": {
   "display_name": "Python 3",
   "language": "python",
   "name": "python3"
  },
  "language_info": {
   "codemirror_mode": {
    "name": "ipython",
    "version": 3
   },
   "file_extension": ".py",
   "mimetype": "text/x-python",
   "name": "python",
   "nbconvert_exporter": "python",
   "pygments_lexer": "ipython3",
   "version": "3.8.8"
  }
 },
 "nbformat": 4,
 "nbformat_minor": 5
}
