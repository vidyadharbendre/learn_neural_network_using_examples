{
 "cells": [
  {
   "cell_type": "code",
   "execution_count": 40,
   "id": "484d8695-cec3-41d0-9a9a-c28d849c3596",
   "metadata": {},
   "outputs": [],
   "source": [
    "# Import the TensorFlow library, commonly aliased as 'tf', for building and training neural networks.\n",
    "import tensorflow as tf\n",
    "\n",
    "# Import the NumPy library, commonly aliased as 'np', for numerical computations and array operations.\n",
    "import numpy as np\n",
    "\n",
    "# Import the Pandas library, commonly aliased as 'pd', for data manipulation and analysis.\n",
    "import pandas as pd\n",
    "\n",
    "# Import the Matplotlib library, specifically the pyplot module, for data visualization.\n",
    "import matplotlib.pyplot as plt"
   ]
  },
  {
   "cell_type": "code",
   "execution_count": 41,
   "id": "2baf7efc-9438-4571-8fea-826da0d39d49",
   "metadata": {},
   "outputs": [],
   "source": [
    "# Import the MNIST dataset from the TensorFlow Keras datasets module.\n",
    "from tensorflow.keras.datasets import mnist\n",
    "\n",
    "# Import the to_categorical function from the TensorFlow Keras utils module.\n",
    "# This function is used for one-hot encoding of categorical labels.\n",
    "from tensorflow.keras.utils import to_categorical\n",
    "\n",
    "# Import the clear_session function from the TensorFlow Keras backend module.\n",
    "# This function is used to clear the Keras session and reset the TensorFlow graph.\n",
    "from tensorflow.keras.backend import clear_session\n",
    "\n",
    "# Import the Sequential and Model classes from the TensorFlow Keras models module.\n",
    "# These classes are used to create sequential and functional API models, respectively.\n",
    "from tensorflow.keras.models import Sequential, Model, load_model\n",
    "\n",
    "# Import various layer classes (Reshape, Dense, BatchNormalization, LeakyReLU, Input)\n",
    "# from the TensorFlow Keras layers module.\n",
    "# These classes are used to define the architecture of neural network models.\n",
    "from tensorflow.keras.layers import Reshape, Dense, BatchNormalization, LeakyReLU, Input\n",
    "\n",
    "# Import callback classes (ModelCheckpoint, EarlyStopping) from the TensorFlow Keras callbacks module.\n",
    "# These classes are used to define callbacks for monitoring and controlling the training process.\n",
    "from tensorflow.keras.callbacks import ModelCheckpoint, EarlyStopping"
   ]
  },
  {
   "cell_type": "code",
   "execution_count": 42,
   "id": "b91d1831-f6d0-488d-b94f-3b0ad651c439",
   "metadata": {},
   "outputs": [],
   "source": [
    "# Download the MNIST dataset using the load_data() function from the mnist module.\n",
    "# The dataset consists of handwritten digits (0 to 9) and is commonly used for image classification tasks.\n",
    "# It returns training and testing data as tuples (X_train, y_train) and (X_test, y_test) respectively,\n",
    "# where X_train and X_test are the input images and y_train and y_test are the corresponding labels.\n",
    "(X_train, y_train), (X_test, y_test) = mnist.load_data()"
   ]
  },
  {
   "cell_type": "code",
   "execution_count": 44,
   "id": "471cb0e9-b7fe-4127-8de0-461c02bca6b9",
   "metadata": {},
   "outputs": [
    {
     "name": "stdout",
     "output_type": "stream",
     "text": [
      "3147\n"
     ]
    },
    {
     "data": {
      "image/png": "[encoded data removed]",
      "text/plain": [
       "<Figure size 640x480 with 1 Axes>"
      ]
     },
     "metadata": {},
     "output_type": "display_data"
    }
   ],
   "source": [
    "img_num = np.random.randint(0, X_test.shape[0]) #Get a random integer between 0 and number of examples in test dataset\n",
    "print(img_num)\n",
    "plt.imshow(X_test[img_num],cmap='gray') #Show the image from test dataset\n",
    "plt.suptitle('Number: ' + str(y_test[img_num]))\n",
    "plt.show()"
   ]
  },
  {
   "cell_type": "code",
   "execution_count": 12,
   "id": "e6ad17d6-e14f-4f61-8bb0-4a6f9a7b78bb",
   "metadata": {},
   "outputs": [],
   "source": [
    "# Reshape the training and testing input images (X_train and X_test) from 2D arrays (28x28 pixels)\n",
    "# to 1D arrays (784 pixels) using the reshape() method. This flattens each image into a single vector.\n",
    "# The argument (-1, 28*28) specifies the new shape, where -1 indicates that the number of rows (samples)\n",
    "# is inferred based on the size of the original array, and 28*28 is the total number of pixels in each image.\n",
    "X_train = X_train.reshape(-1, 28*28).astype(\"float32\") / 255.0\n",
    "X_test = X_test.reshape(-1, 28*28).astype(\"float32\") / 255.0\n",
    "\n",
    "# Convert pixel values of training and testing input images to floating-point numbers and normalize them\n",
    "# by dividing by 255.0. This scales the pixel values to the range [0, 1], which helps improve the convergence\n",
    "# and stability of the training process when using neural networks.\n",
    "# The astype(\"float32\") method converts the pixel values to 32-bit floating-point numbers."
   ]
  },
  {
   "cell_type": "code",
   "execution_count": 13,
   "id": "88ccb6da-40c3-4c4e-9840-1a7bdd50d497",
   "metadata": {},
   "outputs": [
    {
     "data": {
      "text/plain": [
       "((60000, 784), (60000,), (10000, 784), (10000,))"
      ]
     },
     "execution_count": 13,
     "metadata": {},
     "output_type": "execute_result"
    }
   ],
   "source": [
    "X_train.shape, y_train.shape, X_test.shape, y_test.shape"
   ]
  },
  {
   "cell_type": "code",
   "execution_count": 14,
   "id": "fa98de6f-a663-442d-8fe9-43d439bb7cfc",
   "metadata": {},
   "outputs": [
    {
     "name": "stdout",
     "output_type": "stream",
     "text": [
      "Training Data - Input Shape: (60000, 784)\n",
      "Training Data - Label Shape: (60000,)\n",
      "Testing Data - Input Shape: (10000, 784)\n",
      "Testing Data - Label Shape: (10000,)\n"
     ]
    }
   ],
   "source": [
    "# Print the shapes of the training and testing datasets to understand their dimensions.\n",
    "# X_train.shape: Shape of the training input data (X_train).\n",
    "# y_train.shape: Shape of the training labels (y_train).\n",
    "# X_test.shape: Shape of the testing input data (X_test).\n",
    "# y_test.shape: Shape of the testing labels (y_test).\n",
    "print(\"Training Data - Input Shape:\", X_train.shape)\n",
    "print(\"Training Data - Label Shape:\", y_train.shape)\n",
    "print(\"Testing Data - Input Shape:\", X_test.shape)\n",
    "print(\"Testing Data - Label Shape:\", y_test.shape)"
   ]
  },
  {
   "cell_type": "code",
   "execution_count": 15,
   "id": "5027de04-078a-42ab-a9a4-a5b4d1706f26",
   "metadata": {},
   "outputs": [
    {
     "data": {
      "image/png": "[encoded data removed]",
      "text/plain": [
       "<Figure size 640x480 with 1 Axes>"
      ]
     },
     "metadata": {},
     "output_type": "display_data"
    }
   ],
   "source": [
    "# Reshape the image data back to its original shape (28x28)\n",
    "image = X_train[3707].reshape(28, 28)\n",
    "\n",
    "# Display the image using plt.imshow()\n",
    "plt.imshow(image, cmap='gray')\n",
    "plt.show()"
   ]
  },
  {
   "cell_type": "code",
   "execution_count": 16,
   "id": "04837982-111a-45f2-a7ee-4738946cd699",
   "metadata": {},
   "outputs": [
    {
     "name": "stdout",
     "output_type": "stream",
     "text": [
      "Label for example at index 3707 in the test set: 3\n"
     ]
    }
   ],
   "source": [
    "# Obtain the label for a specific example in the test set.\n",
    "# Here, y_train[3707] retrieves the label corresponding to the example at index 3707 in the test set.\n",
    "example_label = y_train[3707]\n",
    "\n",
    "# Print the label of the example.\n",
    "print(\"Label for example at index 3707 in the test set:\", example_label)"
   ]
  },
  {
   "cell_type": "code",
   "execution_count": 17,
   "id": "555ffd1e-0971-4c0b-a74e-6ec0e2fd6522",
   "metadata": {},
   "outputs": [
    {
     "data": {
      "image/png": "[encoded data removed]",
      "text/plain": [
       "<Figure size 640x480 with 1 Axes>"
      ]
     },
     "metadata": {},
     "output_type": "display_data"
    }
   ],
   "source": [
    "# Reshape the image data back to its original shape (28x28)\n",
    "image = X_test[3707].reshape(28, 28)\n",
    "\n",
    "# Display the image using plt.imshow()\n",
    "plt.imshow(image, cmap='gray')\n",
    "plt.show()"
   ]
  },
  {
   "cell_type": "code",
   "execution_count": 18,
   "id": "1baec0ae-d1e3-4f00-b0c6-203b978ed078",
   "metadata": {},
   "outputs": [
    {
     "name": "stdout",
     "output_type": "stream",
     "text": [
      "Label for example at index 3707 in the test set: 8\n"
     ]
    }
   ],
   "source": [
    "# Obtain the label for a specific example in the test set.\n",
    "# Here, y_test[3707] retrieves the label corresponding to the example at index 3707 in the test set.\n",
    "example_label = y_test[3707]\n",
    "\n",
    "# Print the label of the example.\n",
    "print(\"Label for example at index 3707 in the test set:\", example_label)"
   ]
  },
  {
   "cell_type": "code",
   "execution_count": 19,
   "id": "b8ef7a62-7f53-460b-a5d0-35f864054e04",
   "metadata": {},
   "outputs": [],
   "source": [
    "# Convert the training and testing labels (y_train and y_test) to one-hot encoded format using the to_categorical function\n",
    "# from the TensorFlow Keras utils module. One-hot encoding converts categorical integer labels (0 to 9) into binary vectors\n",
    "# with a length equal to the number of classes (10 in this case), where a 1 is placed in the index corresponding to the class label,\n",
    "# and 0s elsewhere.\n",
    "y_train = tf.keras.utils.to_categorical(y_train, num_classes=10)\n",
    "y_test = tf.keras.utils.to_categorical(y_test, num_classes=10)\n",
    "\n",
    "# The num_classes parameter specifies the total number of classes for one-hot encoding, which is set to 10 for the MNIST dataset."
   ]
  },
  {
   "cell_type": "code",
   "execution_count": 20,
   "id": "bcf19560-8792-44e4-9abc-36d6563a9d55",
   "metadata": {},
   "outputs": [
    {
     "name": "stdout",
     "output_type": "stream",
     "text": [
      "One-hot encoded label for example at index 3707 in the test set: [0. 0. 0. 0. 0. 0. 0. 0. 1. 0.]\n"
     ]
    }
   ],
   "source": [
    "# Obtain the one-hot encoded label for a specific example in the test set.\n",
    "# Here, y_test[3707] retrieves the one-hot encoded label corresponding to the example at index 3707 in the test set.\n",
    "example_label_one_hot = y_test[3707]\n",
    "\n",
    "# Print the one-hot encoded label of the example.\n",
    "print(\"One-hot encoded label for example at index 3707 in the test set:\", example_label_one_hot)"
   ]
  },
  {
   "cell_type": "code",
   "execution_count": 21,
   "id": "a3b04720-77ad-46b1-ba2a-a14764894f36",
   "metadata": {},
   "outputs": [],
   "source": [
    "### version -2 ###\n",
    "# Clear any existing TensorFlow graph/session.\n",
    "clear_session()\n",
    "\n",
    "# Import necessary libraries and functions from TensorFlow.\n",
    "from tensorflow.keras.models import Model\n",
    "from tensorflow.keras.layers import Input, Dense, BatchNormalization\n",
    "\n",
    "# Define the input layer with a shape of (784,), representing flattened 28x28 images.\n",
    "inputs = Input(shape=(784))\n",
    "\n",
    "# Define the architecture of the neural network using fully connected (Dense) layers.\n",
    "# Reshape data from 2D to 1D -> 28x28 to 784\n",
    "# Add the first hidden layer with 512 neurons, ReLU activation function, and batch normalization.\n",
    "first_hidden_layer = Dense(512, activation=\"relu\", name=\"first_layer\")(inputs)\n",
    "first_batch_norm = BatchNormalization()(first_hidden_layer)\n",
    "\n",
    "# Add the second hidden layer with 256 neurons, ReLU activation function, and batch normalization.\n",
    "second_hidden_layer = Dense(256, activation=\"relu\", name=\"second_layer\")(first_batch_norm)\n",
    "second_batch_norm = BatchNormalization()(second_hidden_layer)\n",
    "\n",
    "# Add the third hidden layer with 128 neurons, ReLU activation function, and batch normalization.\n",
    "third_hidden_layer = Dense(128, activation=\"relu\", name=\"third_layer\")(second_batch_norm)\n",
    "third_batch_norm = BatchNormalization()(third_hidden_layer)\n",
    "\n",
    "# Add the fourth hidden layer with 64 neurons, ReLU activation function, and batch normalization.\n",
    "fourth_hidden_layer = Dense(64, activation=\"relu\", name=\"fourth_layer\")(third_batch_norm)\n",
    "fourth_batch_norm = BatchNormalization()(fourth_hidden_layer)\n",
    "\n",
    "# Add the output layer with 10 neurons (for 10 classes) and softmax activation function.\n",
    "outputs = Dense(10, activation='softmax')(fourth_batch_norm)\n",
    "\n",
    "# Define the model with input and output layers.\n",
    "model = Model(inputs=inputs, outputs=outputs)\n",
    "\n",
    "# Compile the model with stochastic gradient descent (SGD) optimizer, categorical crossentropy loss,\n",
    "# and accuracy metric for evaluation during training.\n",
    "model.compile(optimizer='sgd', loss='categorical_crossentropy', metrics=['accuracy'])"
   ]
  },
  {
   "cell_type": "code",
   "execution_count": 22,
   "id": "e0d3967a-56e4-4277-9c2d-6a01a067e74b",
   "metadata": {},
   "outputs": [
    {
     "name": "stdout",
     "output_type": "stream",
     "text": [
      "Model: \"model\"\n",
      "_________________________________________________________________\n",
      " Layer (type)                Output Shape              Param #   \n",
      "=================================================================\n",
      " input_1 (InputLayer)        [(None, 784)]             0         \n",
      "                                                                 \n",
      " first_layer (Dense)         (None, 512)               401920    \n",
      "                                                                 \n",
      " batch_normalization (BatchN  (None, 512)              2048      \n",
      " ormalization)                                                   \n",
      "                                                                 \n",
      " second_layer (Dense)        (None, 256)               131328    \n",
      "                                                                 \n",
      " batch_normalization_1 (Batc  (None, 256)              1024      \n",
      " hNormalization)                                                 \n",
      "                                                                 \n",
      " third_layer (Dense)         (None, 128)               32896     \n",
      "                                                                 \n",
      " batch_normalization_2 (Batc  (None, 128)              512       \n",
      " hNormalization)                                                 \n",
      "                                                                 \n",
      " fourth_layer (Dense)        (None, 64)                8256      \n",
      "                                                                 \n",
      " batch_normalization_3 (Batc  (None, 64)               256       \n",
      " hNormalization)                                                 \n",
      "                                                                 \n",
      " dense (Dense)               (None, 10)                650       \n",
      "                                                                 \n",
      "=================================================================\n",
      "Total params: 578,890\n",
      "Trainable params: 576,970\n",
      "Non-trainable params: 1,920\n",
      "_________________________________________________________________\n"
     ]
    }
   ],
   "source": [
    "# Review the summary of the model, which provides a concise representation\n",
    "# of the model architecture, including the type and shape of each layer,\n",
    "# as well as the number of parameters in each layer.\n",
    "model.summary()"
   ]
  },
  {
   "cell_type": "markdown",
   "id": "128941e0-81df-49a1-b020-1771924ed4b3",
   "metadata": {},
   "source": [
    "In the context of machine learning, both model checkpoints and callbacks are tools used to improve the training process of neural networks, particularly in deep learning frameworks like TensorFlow and PyTorch. However, they serve different purposes:\n",
    "\n",
    "Model Checkpoint:\n",
    "\n",
    "A model checkpoint is a feature used to save the model's current weights or entire state at certain intervals during training.\n",
    "The primary purpose of a model checkpoint is to save the model's progress periodically so that it can be restored or used later for inference or further training.\n",
    "Model checkpoints are typically used to save the best-performing model based on a specified metric, such as validation accuracy or loss. This ensures that you retain the best version of the model throughout the training process.\n",
    "Checkpoints are especially useful for long training processes where interruptions or failures may occur, allowing you to resume training from the last saved checkpoint rather than starting from scratch.\n",
    "Callback:\n",
    "\n",
    "A callback is a function or set of functions that are executed at specific points during the training process, such as at the beginning or end of an epoch or after a batch of data is processed.\n",
    "Callbacks are more versatile and can perform various tasks during training, such as logging training metrics, adjusting learning rates dynamically, implementing early stopping, or saving model checkpoints.\n",
    "While model checkpoints are a specific type of callback used for saving model weights, callbacks can perform a wide range of additional functions to customize the training process according to your specific needs.\n",
    "Callbacks can be defined by the user or provided by the deep learning framework as pre-defined functions. Users can also create custom callbacks to implement specific behaviors not covered by built-in callbacks.\n",
    "In summary, a model checkpoint is a type of callback used specifically for saving model weights or state during training, while callbacks encompass a broader range of functions that can be executed at various stages of the training process to customize and enhance the training procedure."
   ]
  },
  {
   "cell_type": "code",
   "execution_count": 26,
   "id": "1c15c4b0-c8f5-4c4b-8641-d763c3095da5",
   "metadata": {},
   "outputs": [],
   "source": [
    "# ModelCheckpoint callback to save the best model based on validation accuracy\n",
    "model_checkpoint = ModelCheckpoint(\n",
    "    'mnist_functional_template_v2.h5',  # File path to save the model\n",
    "    save_best_only=True,       # Save only the best model based on monitored metric\n",
    "    monitor='val_accuracy',    # Metric to monitor for determining the best model\n",
    "    mode='max',                # Mode for determining the best model ('max' or 'min')\n",
    "    verbose=1                  # Verbosity mode (0 or 1)\n",
    ")\n",
    "\n",
    "# EarlyStopping callback to stop training when the monitored metric stops improving\n",
    "early_stopping = EarlyStopping(\n",
    "    monitor='val_loss',        # Metric to monitor for early stopping\n",
    "    patience=5,                # Number of epochs with no improvement after which training will be stopped\n",
    "    verbose=1,                 # Verbosity mode (0 or 1)\n",
    "    restore_best_weights=True  # Whether to restore model weights from the epoch with the best value of the monitored quantity\n",
    ")"
   ]
  },
  {
   "cell_type": "markdown",
   "id": "4c2db5a9-573f-4053-9f4b-38aee40c4a76",
   "metadata": {},
   "source": [
    "Using both callbacks allows you to save the best model based on a monitored metric while also stopping the training process if the model's performance on a validation set stops improving, thereby preventing overfitting. This combination can help you find the best-performing model while avoiding unnecessary training epochs. It's a recommended practice for many training scenarios."
   ]
  },
  {
   "cell_type": "code",
   "execution_count": 27,
   "id": "034681c2-b161-44a9-918a-223a831c970f",
   "metadata": {},
   "outputs": [
    {
     "name": "stdout",
     "output_type": "stream",
     "text": [
      "Epoch 1/2\n",
      "1874/1875 [============================>.] - ETA: 0s - loss: 0.0514 - accuracy: 0.9850\n",
      "Epoch 1: val_accuracy improved from -inf to 0.97810, saving model to mnist_functional_template_v2.h5\n",
      "1875/1875 [==============================] - 35s 18ms/step - loss: 0.0515 - accuracy: 0.9850 - val_loss: 0.0751 - val_accuracy: 0.9781\n",
      "Epoch 2/2\n",
      "1874/1875 [============================>.] - ETA: 0s - loss: 0.0439 - accuracy: 0.9869\n",
      "Epoch 2: val_accuracy improved from 0.97810 to 0.97860, saving model to mnist_functional_template_v2.h5\n",
      "1875/1875 [==============================] - 34s 18ms/step - loss: 0.0438 - accuracy: 0.9869 - val_loss: 0.0722 - val_accuracy: 0.9786\n"
     ]
    },
    {
     "data": {
      "text/plain": [
       "<keras.callbacks.History at 0x2c183fc40>"
      ]
     },
     "execution_count": 27,
     "metadata": {},
     "output_type": "execute_result"
    }
   ],
   "source": [
    "# Train the model on the training data (X_train and y_train) with the following configurations:\n",
    "# - Validation data: (X_test, y_test), used to evaluate the model after each epoch.\n",
    "# - Number of epochs: 2, specifying how many times the entire training dataset is passed through the model.\n",
    "# - Batch size: 32, indicating the number of samples per gradient update during training.\n",
    "# - Callbacks: ModelCheckpoint and EarlyStopping, used for saving the best model and stopping early to prevent overfitting.\n",
    "model.fit(X_train, y_train,\n",
    "          validation_data=(X_test, y_test),\n",
    "          epochs=2,\n",
    "          batch_size=32,\n",
    "          callbacks=[model_checkpoint, early_stopping])"
   ]
  },
  {
   "cell_type": "code",
   "execution_count": 28,
   "id": "acd9b7df-e55b-4682-a799-135e58381e30",
   "metadata": {},
   "outputs": [
    {
     "name": "stdout",
     "output_type": "stream",
     "text": [
      "Epoch 3/5\n",
      "1875/1875 [==============================] - ETA: 0s - loss: 0.0380 - accuracy: 0.9888\n",
      "Epoch 3: val_accuracy did not improve from 0.97860\n",
      "1875/1875 [==============================] - 34s 18ms/step - loss: 0.0380 - accuracy: 0.9888 - val_loss: 0.0777 - val_accuracy: 0.9768\n",
      "Epoch 4/5\n",
      "1874/1875 [============================>.] - ETA: 0s - loss: 0.0321 - accuracy: 0.9904\n",
      "Epoch 4: val_accuracy did not improve from 0.97860\n",
      "1875/1875 [==============================] - 34s 18ms/step - loss: 0.0321 - accuracy: 0.9904 - val_loss: 0.0752 - val_accuracy: 0.9773\n",
      "Epoch 5/5\n",
      "1874/1875 [============================>.] - ETA: 0s - loss: 0.0271 - accuracy: 0.9925\n",
      "Epoch 5: val_accuracy improved from 0.97860 to 0.97970, saving model to mnist_functional_template_v2.h5\n",
      "1875/1875 [==============================] - 34s 18ms/step - loss: 0.0271 - accuracy: 0.9925 - val_loss: 0.0710 - val_accuracy: 0.9797\n"
     ]
    },
    {
     "data": {
      "text/plain": [
       "<keras.callbacks.History at 0x31a6330a0>"
      ]
     },
     "execution_count": 28,
     "metadata": {},
     "output_type": "execute_result"
    }
   ],
   "source": [
    "model.fit(X_train, y_train,\n",
    "          validation_data=(X_test, y_test),  # Validation data to evaluate model performance\n",
    "          epochs=5,  # Total number of epochs to train the model for\n",
    "          initial_epoch=2,  # Start training from the 3th epoch (indexing starts from 0)\n",
    "          batch_size=32,  # Number of samples per gradient update\n",
    "          callbacks=[model_checkpoint, early_stopping])  # List of callbacks to apply during training\n"
   ]
  },
  {
   "cell_type": "code",
   "execution_count": 29,
   "id": "c0efa18c-462a-424e-8b3a-246d2cf18ac6",
   "metadata": {},
   "outputs": [],
   "source": [
    "# Save the trained model to a file named 'mnist_leaky_relu_functional_2b_v1.h5'.\n",
    "# This file will contain the model architecture, weights, and configuration.\n",
    "model.save('mnist_functional_template_v2.h5')"
   ]
  },
  {
   "cell_type": "code",
   "execution_count": 64,
   "id": "93f2014d-850c-4448-9b05-bfc3bb6108d1",
   "metadata": {},
   "outputs": [
    {
     "name": "stdout",
     "output_type": "stream",
     "text": [
      "total 10904\n",
      "-rw-r--r--@ 1 vidyadharbendre  staff    12924 Mar 21 05:40 Functional_2a.ipynb\n",
      "-rw-r--r--@ 1 vidyadharbendre  staff    13811 Mar 21 05:50 Functional_2b.ipynb\n",
      "-rw-r--r--@ 1 vidyadharbendre  staff     1977 Mar 21 06:40 Functional_Sequential_README.md\n",
      "-rw-r--r--@ 1 vidyadharbendre  staff    64524 Mar 21 07:47 Functional_Template_v1.ipynb\n",
      "-rw-r--r--@ 1 vidyadharbendre  staff    21528 Mar 20 20:16 Sequential_1a.ipynb\n",
      "-rw-r--r--@ 1 vidyadharbendre  staff    25555 Mar 20 21:00 Sequential_1b.ipynb\n",
      "-rw-r--r--@ 1 vidyadharbendre  staff    25555 Mar 20 21:00 Sequential_1c.ipynb\n",
      "-rw-r--r--@ 1 vidyadharbendre  staff    12703 Mar 20 22:22 Sequential_1d.ipynb\n",
      "-rw-r--r--@ 1 vidyadharbendre  staff    12726 Mar 20 22:36 Sequential_1e.ipynb\n",
      "-rw-r--r--@ 1 vidyadharbendre  staff    12726 Mar 20 22:36 Sequential_Template_v1.ipynb\n",
      "drwxr-xr-x@ 5 vidyadharbendre  staff      160 Mar 21 07:42 \u001b[34mcheck_point_folder\u001b[m\u001b[m\n",
      "-rw-r--r--@ 1 vidyadharbendre  staff  2324568 Mar 21 07:50 mnist_functional_template_v1.h5\n",
      "-rw-r--r--@ 1 vidyadharbendre  staff  2325560 Mar 21 06:04 mnist_leaky_relu_v1.h5\n",
      "drwxr-xr-x@ 6 vidyadharbendre  staff      192 Mar 21 07:43 \u001b[34msave_mode_folder\u001b[m\u001b[m\n"
     ]
    }
   ],
   "source": [
    "!ls -l"
   ]
  },
  {
   "cell_type": "code",
   "execution_count": 30,
   "id": "0f7fec43-72e7-4eac-9b4d-b520dc17c09f",
   "metadata": {},
   "outputs": [
    {
     "name": "stdout",
     "output_type": "stream",
     "text": [
      "Model: \"model\"\n",
      "_________________________________________________________________\n",
      " Layer (type)                Output Shape              Param #   \n",
      "=================================================================\n",
      " input_1 (InputLayer)        [(None, 784)]             0         \n",
      "                                                                 \n",
      " first_layer (Dense)         (None, 512)               401920    \n",
      "                                                                 \n",
      " batch_normalization (BatchN  (None, 512)              2048      \n",
      " ormalization)                                                   \n",
      "                                                                 \n",
      " second_layer (Dense)        (None, 256)               131328    \n",
      "                                                                 \n",
      " batch_normalization_1 (Batc  (None, 256)              1024      \n",
      " hNormalization)                                                 \n",
      "                                                                 \n",
      " third_layer (Dense)         (None, 128)               32896     \n",
      "                                                                 \n",
      " batch_normalization_2 (Batc  (None, 128)              512       \n",
      " hNormalization)                                                 \n",
      "                                                                 \n",
      " fourth_layer (Dense)        (None, 64)                8256      \n",
      "                                                                 \n",
      " batch_normalization_3 (Batc  (None, 64)               256       \n",
      " hNormalization)                                                 \n",
      "                                                                 \n",
      " dense (Dense)               (None, 10)                650       \n",
      "                                                                 \n",
      "=================================================================\n",
      "Total params: 578,890\n",
      "Trainable params: 576,970\n",
      "Non-trainable params: 1,920\n",
      "_________________________________________________________________\n",
      "None\n"
     ]
    }
   ],
   "source": [
    "#from tensorflow.keras.models import load_model\n",
    "\n",
    "# Load the previously saved model from the file 'mnist_functional_template_v1.h5'.\n",
    "model = load_model('mnist_functional_template_v1.h5')\n",
    "\n",
    "# Print a summary of the loaded model, which provides information about the model's architecture,\n",
    "# including the type and shape of each layer, as well as the number of parameters in each layer.\n",
    "print(model.summary())"
   ]
  },
  {
   "cell_type": "code",
   "execution_count": 31,
   "id": "f4b768fb-13ff-4c48-9250-fd92713c5de8",
   "metadata": {},
   "outputs": [
    {
     "name": "stdout",
     "output_type": "stream",
     "text": [
      "WARNING:tensorflow:Model was constructed with shape (None, 784) for input KerasTensor(type_spec=TensorSpec(shape=(None, 784), dtype=tf.float32, name='input_1'), name='input_1', description=\"created by layer 'input_1'\"), but it was called on an input with incompatible shape (None,).\n"
     ]
    },
    {
     "ename": "ValueError",
     "evalue": "in user code:\n\n    File \"/Users/vidyadharbendre/miniforge3/lib/python3.9/site-packages/keras/engine/training.py\", line 1845, in predict_function  *\n        return step_function(self, iterator)\n    File \"/Users/vidyadharbendre/miniforge3/lib/python3.9/site-packages/keras/engine/training.py\", line 1834, in step_function  **\n        outputs = model.distribute_strategy.run(run_step, args=(data,))\n    File \"/Users/vidyadharbendre/miniforge3/lib/python3.9/site-packages/keras/engine/training.py\", line 1823, in run_step  **\n        outputs = model.predict_step(data)\n    File \"/Users/vidyadharbendre/miniforge3/lib/python3.9/site-packages/keras/engine/training.py\", line 1791, in predict_step\n        return self(x, training=False)\n    File \"/Users/vidyadharbendre/miniforge3/lib/python3.9/site-packages/keras/utils/traceback_utils.py\", line 67, in error_handler\n        raise e.with_traceback(filtered_tb) from None\n    File \"/Users/vidyadharbendre/miniforge3/lib/python3.9/site-packages/keras/engine/input_spec.py\", line 228, in assert_input_compatibility\n        raise ValueError(f'Input {input_index} of layer \"{layer_name}\" '\n\n    ValueError: Exception encountered when calling layer \"model\" (type Functional).\n    \n    Input 0 of layer \"first_layer\" is incompatible with the layer: expected min_ndim=2, found ndim=1. Full shape received: (None,)\n    \n    Call arguments received by layer \"model\" (type Functional):\n      • inputs=tf.Tensor(shape=(None,), dtype=float32)\n      • training=False\n      • mask=None\n",
     "output_type": "error",
     "traceback": [
      "\u001b[0;31m---------------------------------------------------------------------------\u001b[0m",
      "\u001b[0;31mValueError\u001b[0m                                Traceback (most recent call last)",
      "Cell \u001b[0;32mIn[31], line 1\u001b[0m\n\u001b[0;32m----> 1\u001b[0m \u001b[43mmodel\u001b[49m\u001b[38;5;241;43m.\u001b[39;49m\u001b[43mpredict\u001b[49m\u001b[43m(\u001b[49m\u001b[43mX_test\u001b[49m\u001b[43m[\u001b[49m\u001b[38;5;241;43m0\u001b[39;49m\u001b[43m]\u001b[49m\u001b[43m)\u001b[49m\n",
      "File \u001b[0;32m~/miniforge3/lib/python3.9/site-packages/keras/utils/traceback_utils.py:67\u001b[0m, in \u001b[0;36mfilter_traceback.<locals>.error_handler\u001b[0;34m(*args, **kwargs)\u001b[0m\n\u001b[1;32m     65\u001b[0m \u001b[38;5;28;01mexcept\u001b[39;00m \u001b[38;5;167;01mException\u001b[39;00m \u001b[38;5;28;01mas\u001b[39;00m e:  \u001b[38;5;66;03m# pylint: disable=broad-except\u001b[39;00m\n\u001b[1;32m     66\u001b[0m   filtered_tb \u001b[38;5;241m=\u001b[39m _process_traceback_frames(e\u001b[38;5;241m.\u001b[39m__traceback__)\n\u001b[0;32m---> 67\u001b[0m   \u001b[38;5;28;01mraise\u001b[39;00m e\u001b[38;5;241m.\u001b[39mwith_traceback(filtered_tb) \u001b[38;5;28;01mfrom\u001b[39;00m \u001b[38;5;28;01mNone\u001b[39;00m\n\u001b[1;32m     68\u001b[0m \u001b[38;5;28;01mfinally\u001b[39;00m:\n\u001b[1;32m     69\u001b[0m   \u001b[38;5;28;01mdel\u001b[39;00m filtered_tb\n",
      "File \u001b[0;32m/var/folders/kd/yddgdhm92qxgkw2js4t89ksr0000gn/T/__autograph_generated_filednnp0d6q.py:15\u001b[0m, in \u001b[0;36mouter_factory.<locals>.inner_factory.<locals>.tf__predict_function\u001b[0;34m(iterator)\u001b[0m\n\u001b[1;32m     13\u001b[0m \u001b[38;5;28;01mtry\u001b[39;00m:\n\u001b[1;32m     14\u001b[0m     do_return \u001b[38;5;241m=\u001b[39m \u001b[38;5;28;01mTrue\u001b[39;00m\n\u001b[0;32m---> 15\u001b[0m     retval_ \u001b[38;5;241m=\u001b[39m ag__\u001b[38;5;241m.\u001b[39mconverted_call(ag__\u001b[38;5;241m.\u001b[39mld(step_function), (ag__\u001b[38;5;241m.\u001b[39mld(\u001b[38;5;28mself\u001b[39m), ag__\u001b[38;5;241m.\u001b[39mld(iterator)), \u001b[38;5;28;01mNone\u001b[39;00m, fscope)\n\u001b[1;32m     16\u001b[0m \u001b[38;5;28;01mexcept\u001b[39;00m:\n\u001b[1;32m     17\u001b[0m     do_return \u001b[38;5;241m=\u001b[39m \u001b[38;5;28;01mFalse\u001b[39;00m\n",
      "\u001b[0;31mValueError\u001b[0m: in user code:\n\n    File \"/Users/vidyadharbendre/miniforge3/lib/python3.9/site-packages/keras/engine/training.py\", line 1845, in predict_function  *\n        return step_function(self, iterator)\n    File \"/Users/vidyadharbendre/miniforge3/lib/python3.9/site-packages/keras/engine/training.py\", line 1834, in step_function  **\n        outputs = model.distribute_strategy.run(run_step, args=(data,))\n    File \"/Users/vidyadharbendre/miniforge3/lib/python3.9/site-packages/keras/engine/training.py\", line 1823, in run_step  **\n        outputs = model.predict_step(data)\n    File \"/Users/vidyadharbendre/miniforge3/lib/python3.9/site-packages/keras/engine/training.py\", line 1791, in predict_step\n        return self(x, training=False)\n    File \"/Users/vidyadharbendre/miniforge3/lib/python3.9/site-packages/keras/utils/traceback_utils.py\", line 67, in error_handler\n        raise e.with_traceback(filtered_tb) from None\n    File \"/Users/vidyadharbendre/miniforge3/lib/python3.9/site-packages/keras/engine/input_spec.py\", line 228, in assert_input_compatibility\n        raise ValueError(f'Input {input_index} of layer \"{layer_name}\" '\n\n    ValueError: Exception encountered when calling layer \"model\" (type Functional).\n    \n    Input 0 of layer \"first_layer\" is incompatible with the layer: expected min_ndim=2, found ndim=1. Full shape received: (None,)\n    \n    Call arguments received by layer \"model\" (type Functional):\n      • inputs=tf.Tensor(shape=(None,), dtype=float32)\n      • training=False\n      • mask=None\n"
     ]
    }
   ],
   "source": [
    "model.predict(X_test[0])"
   ]
  },
  {
   "cell_type": "code",
   "execution_count": 32,
   "id": "e80acae3-82a7-4e4a-8407-c94361b246cf",
   "metadata": {},
   "outputs": [
    {
     "data": {
      "text/plain": [
       "(784,)"
      ]
     },
     "execution_count": 32,
     "metadata": {},
     "output_type": "execute_result"
    }
   ],
   "source": [
    "X_test[3707].shape"
   ]
  },
  {
   "cell_type": "code",
   "execution_count": 33,
   "id": "cdef9aaa-fb1f-48b1-917c-9b3d33ac104c",
   "metadata": {},
   "outputs": [
    {
     "data": {
      "text/plain": [
       "(1, 784)"
      ]
     },
     "execution_count": 33,
     "metadata": {},
     "output_type": "execute_result"
    }
   ],
   "source": [
    "input_data = np.expand_dims(X_test[3707], axis=0)\n",
    "input_data.shape"
   ]
  },
  {
   "cell_type": "code",
   "execution_count": 34,
   "id": "16298a86-47bb-424b-a26b-2d1ee0e32c4e",
   "metadata": {},
   "outputs": [
    {
     "name": "stderr",
     "output_type": "stream",
     "text": [
      "2024-03-21 09:58:15.924877: I tensorflow/core/grappler/optimizers/custom_graph_optimizer_registry.cc:113] Plugin optimizer for device_type GPU is enabled.\n"
     ]
    },
    {
     "name": "stdout",
     "output_type": "stream",
     "text": [
      "1/1 [==============================] - 1s 817ms/step\n"
     ]
    },
    {
     "data": {
      "text/plain": [
       "(1, 10)"
      ]
     },
     "execution_count": 34,
     "metadata": {},
     "output_type": "execute_result"
    }
   ],
   "source": [
    "pred = model.predict(input_data)\n",
    "pred.shape"
   ]
  },
  {
   "cell_type": "code",
   "execution_count": 35,
   "id": "24ac315c-1bad-4fb5-a40a-1e4b347b4567",
   "metadata": {},
   "outputs": [
    {
     "data": {
      "text/plain": [
       "array([3.83996048e-05, 4.11282563e-05, 4.11105721e-04, 1.05169171e-03,\n",
       "       9.99283202e-06, 1.02027654e-04, 3.79322264e-05, 4.31012631e-05,\n",
       "       9.97678578e-01, 5.86023787e-04], dtype=float32)"
      ]
     },
     "execution_count": 35,
     "metadata": {},
     "output_type": "execute_result"
    }
   ],
   "source": [
    "pred[0]"
   ]
  },
  {
   "cell_type": "code",
   "execution_count": 36,
   "id": "627d30c7-8644-45b6-875a-f6b6c51c07d1",
   "metadata": {},
   "outputs": [
    {
     "data": {
      "text/plain": [
       "8"
      ]
     },
     "execution_count": 36,
     "metadata": {},
     "output_type": "execute_result"
    }
   ],
   "source": [
    "np.argmax(pred[0])"
   ]
  },
  {
   "cell_type": "code",
   "execution_count": 37,
   "id": "354eecaa-eb72-4819-a823-da311727f02d",
   "metadata": {},
   "outputs": [
    {
     "data": {
      "text/plain": [
       "0.9976786"
      ]
     },
     "execution_count": 37,
     "metadata": {},
     "output_type": "execute_result"
    }
   ],
   "source": [
    "np.max(pred[0])"
   ]
  },
  {
   "cell_type": "code",
   "execution_count": 38,
   "id": "1bd9d166-dfc1-4e29-8e5b-c061a10366ee",
   "metadata": {},
   "outputs": [
    {
     "data": {
      "text/plain": [
       "8"
      ]
     },
     "execution_count": 38,
     "metadata": {},
     "output_type": "execute_result"
    }
   ],
   "source": [
    "np.argmax(y_test[3707])"
   ]
  },
  {
   "cell_type": "code",
   "execution_count": 39,
   "id": "e21e3ec7-995b-4b4d-906e-4995656a0b05",
   "metadata": {},
   "outputs": [
    {
     "data": {
      "image/png": "[encoded data removed]",
      "text/plain": [
       "<Figure size 640x480 with 1 Axes>"
      ]
     },
     "metadata": {},
     "output_type": "display_data"
    }
   ],
   "source": [
    "# Reshape the image data back to its original shape (28x28)\n",
    "image = X_test[3707].reshape(28, 28)\n",
    "\n",
    "# Display the image using plt.imshow()\n",
    "plt.imshow(image, cmap='gray')\n",
    "plt.show()"
   ]
  },
  {
   "cell_type": "code",
   "execution_count": null,
   "id": "592d3ec3-ca18-4c12-a50c-e001cf014bf8",
   "metadata": {},
   "outputs": [],
   "source": []
  },
  {
   "cell_type": "code",
   "execution_count": null,
   "id": "9c6999e5-69a7-4380-860c-30325d776c80",
   "metadata": {},
   "outputs": [],
   "source": []
  }
 ],
 "metadata": {
  "kernelspec": {
   "display_name": "Python 3 (ipykernel)",
   "language": "python",
   "name": "python3"
  },
  "language_info": {
   "codemirror_mode": {
    "name": "ipython",
    "version": 3
   },
   "file_extension": ".py",
   "mimetype": "text/x-python",
   "name": "python",
   "nbconvert_exporter": "python",
   "pygments_lexer": "ipython3",
   "version": "3.9.13"
  }
 },
 "nbformat": 4,
 "nbformat_minor": 5
}
